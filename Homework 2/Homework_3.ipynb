{
  "cells": [
    {
      "cell_type": "markdown",
      "metadata": {
        "id": "6z_8cJUWIsRG"
      },
      "source": [
        "This file is produced by Hengyi Li and Jingbo Wang\n",
        "\n",
        "2023.3.10"
      ]
    },
    {
      "cell_type": "markdown",
      "metadata": {
        "id": "vk1l4Dxlfh2g"
      },
      "source": [
        "# Fundamentals of machine learning"
      ]
    },
    {
      "cell_type": "markdown",
      "metadata": {
        "id": "ztpi_d6Sfh2g"
      },
      "source": [
        "## Generalization: The goal of machine learning"
      ]
    },
    {
      "cell_type": "markdown",
      "metadata": {
        "id": "uhvABr4dXX8K"
      },
      "source": [
        "We can setup our envrinment by importing those libraries "
      ]
    },
    {
      "cell_type": "code",
      "execution_count": 1,
      "metadata": {
        "id": "WeTjeWz1Xd8Q"
      },
      "outputs": [
        {
          "name": "stderr",
          "output_type": "stream",
          "text": [
            "2023-03-10 11:26:45.010431: I tensorflow/core/platform/cpu_feature_guard.cc:182] This TensorFlow binary is optimized to use available CPU instructions in performance-critical operations.\n",
            "To enable the following instructions: AVX2 FMA, in other operations, rebuild TensorFlow with the appropriate compiler flags.\n"
          ]
        }
      ],
      "source": [
        "import numpy as np\n",
        "import tensorflow as tf\n",
        "from tensorflow import keras\n",
        "from tensorflow.keras import layers, regularizers\n",
        "from tensorflow.keras.datasets import imdb"
      ]
    },
    {
      "cell_type": "markdown",
      "metadata": {
        "id": "LuA9TByqI68K"
      },
      "source": [
        "Before start, we can check our running environment by running those code"
      ]
    },
    {
      "cell_type": "code",
      "execution_count": 2,
      "metadata": {
        "colab": {
          "base_uri": "https://localhost:8080/"
        },
        "id": "PnJ7W2ktJCrS",
        "outputId": "15df8fb3-0f81-4269-fac0-18d790c76384"
      },
      "outputs": [
        {
          "name": "stdout",
          "output_type": "stream",
          "text": [
            "[]\n",
            "[PhysicalDevice(name='/physical_device:CPU:0', device_type='CPU')]\n"
          ]
        }
      ],
      "source": [
        "print(tf.config.list_physical_devices('GPU'))\n",
        "print(tf.config.list_physical_devices('CPU'))"
      ]
    },
    {
      "cell_type": "markdown",
      "metadata": {
        "id": "OzGgWuMXfh2m"
      },
      "source": [
        "## Improving generalization"
      ]
    },
    {
      "cell_type": "markdown",
      "metadata": {
        "id": "XV6r9QncSvpa"
      },
      "source": [
        "To improve the generalization, we have several ways to do it. \n",
        "\n",
        "* Dataset curation\n",
        "\n",
        "* Feature engineering\n",
        "\n",
        "* Using early stopping\n",
        "\n",
        "* Reducing the network's size\n",
        "\n",
        "  * Reducing the network's size\n",
        "  * Adding L2 weight regularization to the model\n",
        "  * Adding dropout to the IMDB model"
      ]
    },
    {
      "cell_type": "markdown",
      "metadata": {
        "id": "CEGGTUpIfh2m"
      },
      "source": [
        "### Dataset curation"
      ]
    },
    {
      "cell_type": "markdown",
      "metadata": {
        "id": "ZpDidvccWS1v"
      },
      "source": [
        "* Make sure you have enough data. Remember that you need a _**dense sampling**_ of the input-cross-output space. More data will yield a better model. Sometimes, problems that seem impossible at first become solvable with a larger dataset.\n",
        "* Make sure you have enough data. Remember that you need a dense sampling of the input-cross-output space. More data will yield a better model. Sometimes, problems that seem impossible at first become solvable with a larger dataset.\n",
        "* Clean your data and deal with missing values.\n",
        "* If you have many features and you aren’t sure which ones are actually useful, do feature selection.\n"
      ]
    },
    {
      "cell_type": "markdown",
      "metadata": {
        "id": "sZ_SvYEBzDQG"
      },
      "source": [
        "So the num_words restricted the top 10,000 most frequently occurring words in the training data. Rare words will be discarded. And we can do better than that by increasing the num_words to 25000 \n",
        "\n",
        "**Original Model**"
      ]
    },
    {
      "cell_type": "code",
      "execution_count": 3,
      "metadata": {
        "colab": {
          "base_uri": "https://localhost:8080/"
        },
        "id": "S-AAfSid1Uz9",
        "outputId": "53081d4b-9041-4d4d-c355-b365ac6353e5"
      },
      "outputs": [
        {
          "name": "stdout",
          "output_type": "stream",
          "text": [
            "Epoch 1/20\n",
            "30/30 [==============================] - 5s 114ms/step - loss: 0.5311 - accuracy: 0.7761 - val_loss: 0.4004 - val_accuracy: 0.8680\n",
            "Epoch 2/20\n",
            "30/30 [==============================] - 1s 22ms/step - loss: 0.3317 - accuracy: 0.8913 - val_loss: 0.3254 - val_accuracy: 0.8796\n",
            "Epoch 3/20\n",
            "30/30 [==============================] - 1s 18ms/step - loss: 0.2471 - accuracy: 0.9183 - val_loss: 0.2850 - val_accuracy: 0.8882\n",
            "Epoch 4/20\n",
            "30/30 [==============================] - 1s 18ms/step - loss: 0.2020 - accuracy: 0.9322 - val_loss: 0.2822 - val_accuracy: 0.8847\n",
            "Epoch 5/20\n",
            "30/30 [==============================] - 1s 20ms/step - loss: 0.1672 - accuracy: 0.9450 - val_loss: 0.2838 - val_accuracy: 0.8860\n",
            "Epoch 6/20\n",
            "30/30 [==============================] - 1s 18ms/step - loss: 0.1402 - accuracy: 0.9557 - val_loss: 0.2840 - val_accuracy: 0.8892\n",
            "Epoch 7/20\n",
            "30/30 [==============================] - 0s 16ms/step - loss: 0.1222 - accuracy: 0.9609 - val_loss: 0.2960 - val_accuracy: 0.8854\n",
            "Epoch 8/20\n",
            "30/30 [==============================] - 0s 16ms/step - loss: 0.1059 - accuracy: 0.9672 - val_loss: 0.3183 - val_accuracy: 0.8822\n",
            "Epoch 9/20\n",
            "30/30 [==============================] - 1s 19ms/step - loss: 0.0937 - accuracy: 0.9737 - val_loss: 0.3394 - val_accuracy: 0.8780\n",
            "Epoch 10/20\n",
            "30/30 [==============================] - 1s 21ms/step - loss: 0.0802 - accuracy: 0.9768 - val_loss: 0.3581 - val_accuracy: 0.8771\n",
            "Epoch 11/20\n",
            "30/30 [==============================] - 0s 15ms/step - loss: 0.0714 - accuracy: 0.9809 - val_loss: 0.3704 - val_accuracy: 0.8773\n",
            "Epoch 12/20\n",
            "30/30 [==============================] - 0s 15ms/step - loss: 0.0586 - accuracy: 0.9856 - val_loss: 0.4242 - val_accuracy: 0.8668\n",
            "Epoch 13/20\n",
            "30/30 [==============================] - 1s 17ms/step - loss: 0.0531 - accuracy: 0.9863 - val_loss: 0.4437 - val_accuracy: 0.8675\n",
            "Epoch 14/20\n",
            "30/30 [==============================] - 1s 23ms/step - loss: 0.0451 - accuracy: 0.9893 - val_loss: 0.4521 - val_accuracy: 0.8686\n",
            "Epoch 15/20\n",
            "30/30 [==============================] - 1s 24ms/step - loss: 0.0404 - accuracy: 0.9908 - val_loss: 0.4530 - val_accuracy: 0.8724\n",
            "Epoch 16/20\n",
            "30/30 [==============================] - 1s 18ms/step - loss: 0.0328 - accuracy: 0.9938 - val_loss: 0.4703 - val_accuracy: 0.8723\n",
            "Epoch 17/20\n",
            "30/30 [==============================] - 1s 18ms/step - loss: 0.0293 - accuracy: 0.9948 - val_loss: 0.4936 - val_accuracy: 0.8731\n",
            "Epoch 18/20\n",
            "30/30 [==============================] - 1s 28ms/step - loss: 0.0242 - accuracy: 0.9954 - val_loss: 0.6026 - val_accuracy: 0.8608\n",
            "Epoch 19/20\n",
            "30/30 [==============================] - 1s 20ms/step - loss: 0.0236 - accuracy: 0.9949 - val_loss: 0.5440 - val_accuracy: 0.8706\n",
            "Epoch 20/20\n",
            "30/30 [==============================] - 1s 17ms/step - loss: 0.0172 - accuracy: 0.9973 - val_loss: 0.5670 - val_accuracy: 0.8705\n"
          ]
        }
      ],
      "source": [
        "(train_data, train_labels), _ = imdb.load_data(num_words=10000)\n",
        "\n",
        "def vectorize_sequences(sequences, dimension=10000):\n",
        "    results = np.zeros((len(sequences), dimension))\n",
        "    for i, sequence in enumerate(sequences):\n",
        "        results[i, sequence] = 1.\n",
        "    return results\n",
        "\n",
        "train_data = vectorize_sequences(train_data)\n",
        "\n",
        "model = keras.Sequential([\n",
        "    layers.Dense(16, activation=\"relu\"),\n",
        "    layers.Dense(16, activation=\"relu\"),\n",
        "    layers.Dense(1, activation=\"sigmoid\")\n",
        "])\n",
        "model.compile(optimizer=\"rmsprop\",\n",
        "              loss=\"binary_crossentropy\",\n",
        "              metrics=[\"accuracy\"])\n",
        "history_original = model.fit(train_data, train_labels,\n",
        "                             epochs=20, batch_size=512, validation_split=0.4)"
      ]
    },
    {
      "cell_type": "markdown",
      "metadata": {
        "id": "JoIDfdR41_GE"
      },
      "source": [
        "**Practice Model**\n",
        "\n",
        "Here, we change the num_words to 25000 "
      ]
    },
    {
      "cell_type": "code",
      "execution_count": 4,
      "metadata": {
        "colab": {
          "base_uri": "https://localhost:8080/"
        },
        "id": "-kNHkq1A2H6q",
        "outputId": "5c1b90f8-8f63-4644-c406-271d363dc5e5"
      },
      "outputs": [
        {
          "name": "stdout",
          "output_type": "stream",
          "text": [
            "Epoch 1/20\n",
            "30/30 [==============================] - 10s 293ms/step - loss: 0.5482 - accuracy: 0.7693 - val_loss: 0.4233 - val_accuracy: 0.8596\n",
            "Epoch 2/20\n",
            "30/30 [==============================] - 3s 110ms/step - loss: 0.3386 - accuracy: 0.9008 - val_loss: 0.3370 - val_accuracy: 0.8749\n",
            "Epoch 3/20\n",
            "30/30 [==============================] - 2s 58ms/step - loss: 0.2389 - accuracy: 0.9309 - val_loss: 0.2837 - val_accuracy: 0.8949\n",
            "Epoch 4/20\n",
            "30/30 [==============================] - 2s 83ms/step - loss: 0.1806 - accuracy: 0.9473 - val_loss: 0.2708 - val_accuracy: 0.8951\n",
            "Epoch 5/20\n",
            "30/30 [==============================] - 2s 70ms/step - loss: 0.1425 - accuracy: 0.9605 - val_loss: 0.2758 - val_accuracy: 0.8905\n",
            "Epoch 6/20\n",
            "30/30 [==============================] - 2s 81ms/step - loss: 0.1133 - accuracy: 0.9697 - val_loss: 0.2874 - val_accuracy: 0.8863\n",
            "Epoch 7/20\n",
            "30/30 [==============================] - 3s 86ms/step - loss: 0.0910 - accuracy: 0.9780 - val_loss: 0.2869 - val_accuracy: 0.8892\n",
            "Epoch 8/20\n",
            "30/30 [==============================] - 3s 95ms/step - loss: 0.0725 - accuracy: 0.9847 - val_loss: 0.3029 - val_accuracy: 0.8877\n",
            "Epoch 9/20\n",
            "30/30 [==============================] - 3s 88ms/step - loss: 0.0612 - accuracy: 0.9872 - val_loss: 0.3609 - val_accuracy: 0.8764\n",
            "Epoch 10/20\n",
            "30/30 [==============================] - 2s 81ms/step - loss: 0.0455 - accuracy: 0.9922 - val_loss: 0.3344 - val_accuracy: 0.8836\n",
            "Epoch 11/20\n",
            "30/30 [==============================] - 2s 68ms/step - loss: 0.0405 - accuracy: 0.9921 - val_loss: 0.3570 - val_accuracy: 0.8817\n",
            "Epoch 12/20\n",
            "30/30 [==============================] - 2s 80ms/step - loss: 0.0294 - accuracy: 0.9962 - val_loss: 0.3954 - val_accuracy: 0.8781\n",
            "Epoch 13/20\n",
            "30/30 [==============================] - 2s 64ms/step - loss: 0.0253 - accuracy: 0.9966 - val_loss: 0.4056 - val_accuracy: 0.8784\n",
            "Epoch 14/20\n",
            "30/30 [==============================] - 2s 51ms/step - loss: 0.0183 - accuracy: 0.9982 - val_loss: 0.4621 - val_accuracy: 0.8727\n",
            "Epoch 15/20\n",
            "30/30 [==============================] - 3s 113ms/step - loss: 0.0184 - accuracy: 0.9973 - val_loss: 0.4425 - val_accuracy: 0.8786\n",
            "Epoch 16/20\n",
            "30/30 [==============================] - 2s 83ms/step - loss: 0.0112 - accuracy: 0.9990 - val_loss: 0.4632 - val_accuracy: 0.8771\n",
            "Epoch 17/20\n",
            "30/30 [==============================] - 3s 94ms/step - loss: 0.0114 - accuracy: 0.9989 - val_loss: 0.4788 - val_accuracy: 0.8782\n",
            "Epoch 18/20\n",
            "30/30 [==============================] - 2s 70ms/step - loss: 0.0073 - accuracy: 0.9995 - val_loss: 0.5080 - val_accuracy: 0.8780\n",
            "Epoch 19/20\n",
            "30/30 [==============================] - 2s 54ms/step - loss: 0.0069 - accuracy: 0.9995 - val_loss: 0.5486 - val_accuracy: 0.8726\n",
            "Epoch 20/20\n",
            "30/30 [==============================] - 1s 40ms/step - loss: 0.0062 - accuracy: 0.9996 - val_loss: 0.5543 - val_accuracy: 0.8762\n"
          ]
        }
      ],
      "source": [
        "(train_data, train_labels), _ = imdb.load_data(num_words=25000)\n",
        "\n",
        "def vectorize_sequences(sequences, dimension=25000):\n",
        "    results = np.zeros((len(sequences), dimension))\n",
        "    for i, sequence in enumerate(sequences):\n",
        "        results[i, sequence] = 1.\n",
        "    return results\n",
        "\n",
        "train_data = vectorize_sequences(train_data)\n",
        "\n",
        "model = keras.Sequential([\n",
        "    layers.Dense(16, activation=\"relu\"),\n",
        "    layers.Dense(16, activation=\"relu\"),\n",
        "    layers.Dense(1, activation=\"sigmoid\")\n",
        "])\n",
        "model.compile(optimizer=\"rmsprop\",\n",
        "              loss=\"binary_crossentropy\",\n",
        "              metrics=[\"accuracy\"])\n",
        "history_original = model.fit(train_data, train_labels,\n",
        "                             epochs=20, batch_size=512, validation_split=0.4)"
      ]
    },
    {
      "cell_type": "markdown",
      "metadata": {
        "id": "uzZmKOTP-MU8"
      },
      "source": [
        "As it shown above, after change the num_words and the batch size, make a bigger dataset and more training on each epoch, the accuracy gets visible improvement"
      ]
    },
    {
      "cell_type": "markdown",
      "metadata": {
        "id": "SGHbbIZ6fh2m"
      },
      "source": [
        "### Feature engineering"
      ]
    },
    {
      "cell_type": "markdown",
      "metadata": {
        "id": "ls3fA9EFGaiP"
      },
      "source": [
        "**Original Model**"
      ]
    },
    {
      "cell_type": "code",
      "execution_count": 17,
      "metadata": {
        "colab": {
          "base_uri": "https://localhost:8080/"
        },
        "id": "hM-i1XlKGZwU",
        "outputId": "ed77de29-3820-4b33-d66a-680b07ee55b0"
      },
      "outputs": [
        {
          "name": "stdout",
          "output_type": "stream",
          "text": [
            "Epoch 1/50\n",
            "30/30 [==============================] - 4s 96ms/step - loss: 0.5205 - accuracy: 0.7763 - val_loss: 0.4033 - val_accuracy: 0.8504\n",
            "Epoch 2/50\n",
            "30/30 [==============================] - 1s 22ms/step - loss: 0.3199 - accuracy: 0.8953 - val_loss: 0.3093 - val_accuracy: 0.8846\n",
            "Epoch 3/50\n",
            "30/30 [==============================] - 1s 18ms/step - loss: 0.2401 - accuracy: 0.9223 - val_loss: 0.2886 - val_accuracy: 0.8835\n",
            "Epoch 4/50\n",
            "30/30 [==============================] - 1s 17ms/step - loss: 0.1958 - accuracy: 0.9355 - val_loss: 0.2817 - val_accuracy: 0.8844\n",
            "Epoch 5/50\n",
            "30/30 [==============================] - 0s 16ms/step - loss: 0.1651 - accuracy: 0.9451 - val_loss: 0.2761 - val_accuracy: 0.8898\n",
            "Epoch 6/50\n",
            "30/30 [==============================] - 0s 16ms/step - loss: 0.1378 - accuracy: 0.9573 - val_loss: 0.2863 - val_accuracy: 0.8864\n",
            "Epoch 7/50\n",
            "30/30 [==============================] - 1s 19ms/step - loss: 0.1176 - accuracy: 0.9639 - val_loss: 0.3380 - val_accuracy: 0.8733\n",
            "Epoch 8/50\n",
            "30/30 [==============================] - 1s 17ms/step - loss: 0.1030 - accuracy: 0.9689 - val_loss: 0.3481 - val_accuracy: 0.8743\n",
            "Epoch 9/50\n",
            "30/30 [==============================] - 1s 22ms/step - loss: 0.0928 - accuracy: 0.9737 - val_loss: 0.3283 - val_accuracy: 0.8809\n",
            "Epoch 10/50\n",
            "30/30 [==============================] - 1s 17ms/step - loss: 0.0817 - accuracy: 0.9767 - val_loss: 0.3423 - val_accuracy: 0.8803\n",
            "Epoch 11/50\n",
            "30/30 [==============================] - 0s 16ms/step - loss: 0.0673 - accuracy: 0.9829 - val_loss: 0.3814 - val_accuracy: 0.8740\n",
            "Epoch 12/50\n",
            "30/30 [==============================] - 0s 17ms/step - loss: 0.0610 - accuracy: 0.9845 - val_loss: 0.3810 - val_accuracy: 0.8768\n",
            "Epoch 13/50\n",
            "30/30 [==============================] - 1s 17ms/step - loss: 0.0535 - accuracy: 0.9861 - val_loss: 0.4006 - val_accuracy: 0.8760\n",
            "Epoch 14/50\n",
            "30/30 [==============================] - 0s 16ms/step - loss: 0.0439 - accuracy: 0.9906 - val_loss: 0.4231 - val_accuracy: 0.8746\n",
            "Epoch 15/50\n",
            "30/30 [==============================] - 0s 16ms/step - loss: 0.0394 - accuracy: 0.9917 - val_loss: 0.4446 - val_accuracy: 0.8716\n",
            "Epoch 16/50\n",
            "30/30 [==============================] - 0s 16ms/step - loss: 0.0351 - accuracy: 0.9923 - val_loss: 0.4692 - val_accuracy: 0.8719\n",
            "Epoch 17/50\n",
            "30/30 [==============================] - 0s 16ms/step - loss: 0.0313 - accuracy: 0.9933 - val_loss: 0.4934 - val_accuracy: 0.8703\n",
            "Epoch 18/50\n",
            "30/30 [==============================] - 0s 17ms/step - loss: 0.0255 - accuracy: 0.9955 - val_loss: 0.5136 - val_accuracy: 0.8692\n",
            "Epoch 19/50\n",
            "30/30 [==============================] - 0s 16ms/step - loss: 0.0237 - accuracy: 0.9957 - val_loss: 0.5340 - val_accuracy: 0.8693\n",
            "Epoch 20/50\n",
            "30/30 [==============================] - 0s 16ms/step - loss: 0.0213 - accuracy: 0.9962 - val_loss: 0.5536 - val_accuracy: 0.8685\n",
            "Epoch 21/50\n",
            "30/30 [==============================] - 0s 16ms/step - loss: 0.0146 - accuracy: 0.9985 - val_loss: 0.6035 - val_accuracy: 0.8677\n",
            "Epoch 22/50\n",
            "30/30 [==============================] - 1s 17ms/step - loss: 0.0140 - accuracy: 0.9987 - val_loss: 0.6136 - val_accuracy: 0.8663\n",
            "Epoch 23/50\n",
            "30/30 [==============================] - 0s 16ms/step - loss: 0.0152 - accuracy: 0.9974 - val_loss: 0.6213 - val_accuracy: 0.8676\n",
            "Epoch 24/50\n",
            "30/30 [==============================] - 0s 17ms/step - loss: 0.0135 - accuracy: 0.9975 - val_loss: 0.6427 - val_accuracy: 0.8671\n",
            "Epoch 25/50\n",
            "30/30 [==============================] - 0s 16ms/step - loss: 0.0069 - accuracy: 0.9996 - val_loss: 0.6926 - val_accuracy: 0.8654\n",
            "Epoch 26/50\n",
            "30/30 [==============================] - 0s 16ms/step - loss: 0.0119 - accuracy: 0.9974 - val_loss: 0.6892 - val_accuracy: 0.8668\n",
            "Epoch 27/50\n",
            "30/30 [==============================] - 0s 16ms/step - loss: 0.0051 - accuracy: 0.9997 - val_loss: 0.7173 - val_accuracy: 0.8669\n",
            "Epoch 28/50\n",
            "30/30 [==============================] - 1s 18ms/step - loss: 0.0110 - accuracy: 0.9976 - val_loss: 0.7294 - val_accuracy: 0.8662\n",
            "Epoch 29/50\n",
            "30/30 [==============================] - 1s 18ms/step - loss: 0.0038 - accuracy: 0.9998 - val_loss: 0.7466 - val_accuracy: 0.8665\n",
            "Epoch 30/50\n",
            "30/30 [==============================] - 1s 19ms/step - loss: 0.0065 - accuracy: 0.9991 - val_loss: 0.7710 - val_accuracy: 0.8653\n",
            "Epoch 31/50\n",
            "30/30 [==============================] - 0s 16ms/step - loss: 0.0030 - accuracy: 0.9999 - val_loss: 0.8265 - val_accuracy: 0.8604\n",
            "Epoch 32/50\n",
            "30/30 [==============================] - 1s 33ms/step - loss: 0.0052 - accuracy: 0.9994 - val_loss: 0.8053 - val_accuracy: 0.8642\n",
            "Epoch 33/50\n",
            "30/30 [==============================] - 1s 19ms/step - loss: 0.0025 - accuracy: 0.9999 - val_loss: 1.0304 - val_accuracy: 0.8485\n",
            "Epoch 34/50\n",
            "30/30 [==============================] - 0s 17ms/step - loss: 0.0040 - accuracy: 0.9993 - val_loss: 0.8442 - val_accuracy: 0.8666\n",
            "Epoch 35/50\n",
            "30/30 [==============================] - 0s 16ms/step - loss: 0.0024 - accuracy: 0.9996 - val_loss: 1.0075 - val_accuracy: 0.8564\n",
            "Epoch 36/50\n",
            "30/30 [==============================] - 0s 17ms/step - loss: 0.0023 - accuracy: 0.9996 - val_loss: 0.8785 - val_accuracy: 0.8636\n",
            "Epoch 37/50\n",
            "30/30 [==============================] - 0s 16ms/step - loss: 0.0013 - accuracy: 1.0000 - val_loss: 0.9238 - val_accuracy: 0.8640\n",
            "Epoch 38/50\n",
            "30/30 [==============================] - 0s 16ms/step - loss: 0.0063 - accuracy: 0.9983 - val_loss: 0.9142 - val_accuracy: 0.8651\n",
            "Epoch 39/50\n",
            "30/30 [==============================] - 0s 17ms/step - loss: 0.0010 - accuracy: 1.0000 - val_loss: 0.9262 - val_accuracy: 0.8632\n",
            "Epoch 40/50\n",
            "30/30 [==============================] - 0s 16ms/step - loss: 0.0062 - accuracy: 0.9983 - val_loss: 0.9491 - val_accuracy: 0.8670\n",
            "Epoch 41/50\n",
            "30/30 [==============================] - 1s 18ms/step - loss: 8.7027e-04 - accuracy: 1.0000 - val_loss: 0.9537 - val_accuracy: 0.8660\n",
            "Epoch 42/50\n",
            "30/30 [==============================] - 0s 17ms/step - loss: 7.8934e-04 - accuracy: 1.0000 - val_loss: 0.9746 - val_accuracy: 0.8653\n",
            "Epoch 43/50\n",
            "30/30 [==============================] - 1s 17ms/step - loss: 0.0035 - accuracy: 0.9991 - val_loss: 1.0010 - val_accuracy: 0.8639\n",
            "Epoch 44/50\n",
            "30/30 [==============================] - 0s 16ms/step - loss: 6.3081e-04 - accuracy: 1.0000 - val_loss: 1.0088 - val_accuracy: 0.8632\n",
            "Epoch 45/50\n",
            "30/30 [==============================] - 1s 18ms/step - loss: 5.6234e-04 - accuracy: 1.0000 - val_loss: 1.0294 - val_accuracy: 0.8631\n",
            "Epoch 46/50\n",
            "30/30 [==============================] - 0s 16ms/step - loss: 0.0045 - accuracy: 0.9987 - val_loss: 1.0453 - val_accuracy: 0.8632\n",
            "Epoch 47/50\n",
            "30/30 [==============================] - 0s 16ms/step - loss: 4.8228e-04 - accuracy: 1.0000 - val_loss: 1.0540 - val_accuracy: 0.8632\n",
            "Epoch 48/50\n",
            "30/30 [==============================] - 1s 17ms/step - loss: 4.4390e-04 - accuracy: 1.0000 - val_loss: 1.0715 - val_accuracy: 0.8635\n",
            "Epoch 49/50\n",
            "30/30 [==============================] - 1s 17ms/step - loss: 9.6683e-04 - accuracy: 1.0000 - val_loss: 1.0964 - val_accuracy: 0.8632\n",
            "Epoch 50/50\n",
            "30/30 [==============================] - 0s 16ms/step - loss: 3.4805e-04 - accuracy: 1.0000 - val_loss: 1.1075 - val_accuracy: 0.8631\n"
          ]
        }
      ],
      "source": [
        "(train_data, train_labels), _ = imdb.load_data(num_words=10000)\n",
        "\n",
        "def vectorize_sequences(sequences, dimension=10000):\n",
        "    results = np.zeros((len(sequences), dimension))\n",
        "    for i, sequence in enumerate(sequences):\n",
        "        results[i, sequence] = 1.\n",
        "    return results\n",
        "\n",
        "train_data = vectorize_sequences(train_data)\n",
        "\n",
        "model = keras.Sequential([\n",
        "    layers.Dense(16, activation=\"relu\"),\n",
        "    layers.Dense(16, activation=\"relu\"),\n",
        "    layers.Dense(1, activation=\"sigmoid\")\n",
        "])\n",
        "model.compile(optimizer=\"rmsprop\",\n",
        "              loss=\"binary_crossentropy\",\n",
        "              metrics=[\"accuracy\"])\n",
        "history_original = model.fit(train_data, train_labels,\n",
        "                             epochs=50, batch_size=512, validation_split=0.4)"
      ]
    },
    {
      "cell_type": "markdown",
      "metadata": {
        "id": "RBd-DQpjOdjT"
      },
      "source": [
        "**Practice Model**\n",
        "\n",
        "We can enhance by deleting the most common words"
      ]
    },
    {
      "cell_type": "code",
      "execution_count": 18,
      "metadata": {
        "colab": {
          "base_uri": "https://localhost:8080/"
        },
        "id": "ZQxMQ5PHhCPc",
        "outputId": "663a6985-6b6d-4a0f-f2fb-2ea343c89952"
      },
      "outputs": [
        {
          "name": "stdout",
          "output_type": "stream",
          "text": [
            "Epoch 1/50\n",
            "30/30 [==============================] - 4s 89ms/step - loss: 0.5674 - accuracy: 0.7741 - val_loss: 0.4500 - val_accuracy: 0.8478\n",
            "Epoch 2/50\n",
            "30/30 [==============================] - 1s 25ms/step - loss: 0.3725 - accuracy: 0.8817 - val_loss: 0.3425 - val_accuracy: 0.8779\n",
            "Epoch 3/50\n",
            "30/30 [==============================] - 0s 16ms/step - loss: 0.2766 - accuracy: 0.9097 - val_loss: 0.3019 - val_accuracy: 0.8851\n",
            "Epoch 4/50\n",
            "30/30 [==============================] - 0s 16ms/step - loss: 0.2214 - accuracy: 0.9248 - val_loss: 0.2793 - val_accuracy: 0.8894\n",
            "Epoch 5/50\n",
            "30/30 [==============================] - 0s 16ms/step - loss: 0.1861 - accuracy: 0.9372 - val_loss: 0.2756 - val_accuracy: 0.8894\n",
            "Epoch 6/50\n",
            "30/30 [==============================] - 0s 16ms/step - loss: 0.1570 - accuracy: 0.9496 - val_loss: 0.3016 - val_accuracy: 0.8791\n",
            "Epoch 7/50\n",
            "30/30 [==============================] - 1s 18ms/step - loss: 0.1366 - accuracy: 0.9563 - val_loss: 0.2865 - val_accuracy: 0.8895\n",
            "Epoch 8/50\n",
            "30/30 [==============================] - 1s 27ms/step - loss: 0.1177 - accuracy: 0.9639 - val_loss: 0.3046 - val_accuracy: 0.8852\n",
            "Epoch 9/50\n",
            "30/30 [==============================] - 1s 22ms/step - loss: 0.1029 - accuracy: 0.9677 - val_loss: 0.3195 - val_accuracy: 0.8832\n",
            "Epoch 10/50\n",
            "30/30 [==============================] - 0s 16ms/step - loss: 0.0895 - accuracy: 0.9747 - val_loss: 0.3455 - val_accuracy: 0.8785\n",
            "Epoch 11/50\n",
            "30/30 [==============================] - 1s 21ms/step - loss: 0.0771 - accuracy: 0.9793 - val_loss: 0.3520 - val_accuracy: 0.8814\n",
            "Epoch 12/50\n",
            "30/30 [==============================] - 0s 16ms/step - loss: 0.0667 - accuracy: 0.9826 - val_loss: 0.3685 - val_accuracy: 0.8795\n",
            "Epoch 13/50\n",
            "30/30 [==============================] - 1s 17ms/step - loss: 0.0563 - accuracy: 0.9872 - val_loss: 0.3989 - val_accuracy: 0.8754\n",
            "Epoch 14/50\n",
            "30/30 [==============================] - 1s 20ms/step - loss: 0.0488 - accuracy: 0.9890 - val_loss: 0.4390 - val_accuracy: 0.8709\n",
            "Epoch 15/50\n",
            "30/30 [==============================] - 1s 19ms/step - loss: 0.0434 - accuracy: 0.9910 - val_loss: 0.4431 - val_accuracy: 0.8747\n",
            "Epoch 16/50\n",
            "30/30 [==============================] - 0s 17ms/step - loss: 0.0346 - accuracy: 0.9935 - val_loss: 0.4697 - val_accuracy: 0.8714\n",
            "Epoch 17/50\n",
            "30/30 [==============================] - 0s 17ms/step - loss: 0.0307 - accuracy: 0.9938 - val_loss: 0.5077 - val_accuracy: 0.8698\n",
            "Epoch 18/50\n",
            "30/30 [==============================] - 0s 16ms/step - loss: 0.0268 - accuracy: 0.9951 - val_loss: 0.5116 - val_accuracy: 0.8726\n",
            "Epoch 19/50\n",
            "30/30 [==============================] - 0s 17ms/step - loss: 0.0225 - accuracy: 0.9963 - val_loss: 0.5376 - val_accuracy: 0.8710\n",
            "Epoch 20/50\n",
            "30/30 [==============================] - 1s 17ms/step - loss: 0.0167 - accuracy: 0.9983 - val_loss: 0.5893 - val_accuracy: 0.8669\n",
            "Epoch 21/50\n",
            "30/30 [==============================] - 0s 17ms/step - loss: 0.0135 - accuracy: 0.9989 - val_loss: 0.6733 - val_accuracy: 0.8589\n",
            "Epoch 22/50\n",
            "30/30 [==============================] - 0s 16ms/step - loss: 0.0134 - accuracy: 0.9986 - val_loss: 0.6334 - val_accuracy: 0.8669\n",
            "Epoch 23/50\n",
            "30/30 [==============================] - 0s 16ms/step - loss: 0.0087 - accuracy: 0.9995 - val_loss: 0.6442 - val_accuracy: 0.8691\n",
            "Epoch 24/50\n",
            "30/30 [==============================] - 1s 18ms/step - loss: 0.0092 - accuracy: 0.9994 - val_loss: 0.6832 - val_accuracy: 0.8677\n",
            "Epoch 25/50\n",
            "30/30 [==============================] - 0s 16ms/step - loss: 0.0063 - accuracy: 0.9997 - val_loss: 0.8121 - val_accuracy: 0.8565\n",
            "Epoch 26/50\n",
            "30/30 [==============================] - 0s 17ms/step - loss: 0.0064 - accuracy: 0.9993 - val_loss: 0.7224 - val_accuracy: 0.8672\n",
            "Epoch 27/50\n",
            "30/30 [==============================] - 0s 16ms/step - loss: 0.0075 - accuracy: 0.9987 - val_loss: 0.7455 - val_accuracy: 0.8665\n",
            "Epoch 28/50\n",
            "30/30 [==============================] - 0s 17ms/step - loss: 0.0033 - accuracy: 0.9999 - val_loss: 0.7779 - val_accuracy: 0.8646\n",
            "Epoch 29/50\n",
            "30/30 [==============================] - 0s 16ms/step - loss: 0.0091 - accuracy: 0.9976 - val_loss: 0.7838 - val_accuracy: 0.8680\n",
            "Epoch 30/50\n",
            "30/30 [==============================] - 0s 17ms/step - loss: 0.0025 - accuracy: 0.9999 - val_loss: 0.7985 - val_accuracy: 0.8682\n",
            "Epoch 31/50\n",
            "30/30 [==============================] - 1s 17ms/step - loss: 0.0022 - accuracy: 0.9999 - val_loss: 0.8684 - val_accuracy: 0.8640\n",
            "Epoch 32/50\n",
            "30/30 [==============================] - 0s 16ms/step - loss: 0.0048 - accuracy: 0.9992 - val_loss: 0.8539 - val_accuracy: 0.8675\n",
            "Epoch 33/50\n",
            "30/30 [==============================] - 0s 17ms/step - loss: 0.0015 - accuracy: 1.0000 - val_loss: 0.8688 - val_accuracy: 0.8659\n",
            "Epoch 34/50\n",
            "30/30 [==============================] - 0s 16ms/step - loss: 0.0046 - accuracy: 0.9989 - val_loss: 0.8966 - val_accuracy: 0.8666\n",
            "Epoch 35/50\n",
            "30/30 [==============================] - 0s 16ms/step - loss: 0.0011 - accuracy: 1.0000 - val_loss: 0.9048 - val_accuracy: 0.8662\n",
            "Epoch 36/50\n",
            "30/30 [==============================] - 0s 16ms/step - loss: 0.0010 - accuracy: 1.0000 - val_loss: 0.9289 - val_accuracy: 0.8665\n",
            "Epoch 37/50\n",
            "30/30 [==============================] - 0s 16ms/step - loss: 0.0018 - accuracy: 0.9999 - val_loss: 0.9485 - val_accuracy: 0.8654\n",
            "Epoch 38/50\n",
            "30/30 [==============================] - 0s 17ms/step - loss: 7.7063e-04 - accuracy: 1.0000 - val_loss: 0.9731 - val_accuracy: 0.8653\n",
            "Epoch 39/50\n",
            "30/30 [==============================] - 0s 16ms/step - loss: 0.0024 - accuracy: 0.9995 - val_loss: 1.0025 - val_accuracy: 0.8659\n",
            "Epoch 40/50\n",
            "30/30 [==============================] - 0s 17ms/step - loss: 5.9754e-04 - accuracy: 1.0000 - val_loss: 1.0137 - val_accuracy: 0.8654\n",
            "Epoch 41/50\n",
            "30/30 [==============================] - 1s 19ms/step - loss: 5.3141e-04 - accuracy: 1.0000 - val_loss: 1.0373 - val_accuracy: 0.8655\n",
            "Epoch 42/50\n",
            "30/30 [==============================] - 0s 17ms/step - loss: 4.2889e-04 - accuracy: 1.0000 - val_loss: 1.0756 - val_accuracy: 0.8651\n",
            "Epoch 43/50\n",
            "30/30 [==============================] - 0s 16ms/step - loss: 3.4784e-04 - accuracy: 1.0000 - val_loss: 1.1076 - val_accuracy: 0.8665\n",
            "Epoch 44/50\n",
            "30/30 [==============================] - 0s 17ms/step - loss: 2.7293e-04 - accuracy: 1.0000 - val_loss: 1.1407 - val_accuracy: 0.8660\n",
            "Epoch 45/50\n",
            "30/30 [==============================] - 0s 17ms/step - loss: 2.2312e-04 - accuracy: 1.0000 - val_loss: 1.1667 - val_accuracy: 0.8651\n",
            "Epoch 46/50\n",
            "30/30 [==============================] - 0s 16ms/step - loss: 1.8831e-04 - accuracy: 1.0000 - val_loss: 1.1939 - val_accuracy: 0.8658\n",
            "Epoch 47/50\n",
            "30/30 [==============================] - 0s 16ms/step - loss: 1.6291e-04 - accuracy: 1.0000 - val_loss: 1.2148 - val_accuracy: 0.8663\n",
            "Epoch 48/50\n",
            "30/30 [==============================] - 0s 17ms/step - loss: 1.4224e-04 - accuracy: 1.0000 - val_loss: 1.2358 - val_accuracy: 0.8667\n",
            "Epoch 49/50\n",
            "30/30 [==============================] - 0s 17ms/step - loss: 1.2703e-04 - accuracy: 1.0000 - val_loss: 1.2525 - val_accuracy: 0.8668\n",
            "Epoch 50/50\n",
            "30/30 [==============================] - 0s 16ms/step - loss: 1.1280e-04 - accuracy: 1.0000 - val_loss: 1.2708 - val_accuracy: 0.8667\n"
          ]
        }
      ],
      "source": [
        "(train_data, train_labels), _ = imdb.load_data(num_words=10000)\n",
        "common_stop_words=[\"a\",\"an\",\"and\",\"the\",\"in\",\"of\",\"to\",\"that\",\"this\",\"for\"]\n",
        "\n",
        "\n",
        "def delete_common_stop_words(train_data, common_stop_words):\n",
        "    word_index = imdb.get_word_index()\n",
        "    for i in range(len(common_stop_words)):\n",
        "      if word_index[common_stop_words[i]]:\n",
        "         common_stop_word_index = word_index[common_stop_words[i]]\n",
        "         for i in range(len(train_data)):\n",
        "           train_data[i] = list(\n",
        "               filter((common_stop_word_index).__ne__, train_data[i]))\n",
        "    return train_data\n",
        "\n",
        "def vectorize_sequences(sequences, dimension=10000):\n",
        "    results = np.zeros((len(sequences), dimension))\n",
        "    for i, sequence in enumerate(sequences):\n",
        "        results[i, sequence] = 1.\n",
        "    return results\n",
        "\n",
        "train_data = delete_common_stop_words(train_data, common_stop_words)\n",
        "train_data = vectorize_sequences(train_data)\n",
        "\n",
        "model = keras.Sequential([\n",
        "    layers.Dense(16, activation=\"relu\"),\n",
        "    layers.Dense(16, activation=\"relu\"),\n",
        "    layers.Dense(1, activation=\"sigmoid\")\n",
        "])\n",
        "model.compile(optimizer=\"rmsprop\",\n",
        "              loss=\"binary_crossentropy\",\n",
        "              metrics=[\"accuracy\"])\n",
        "Practice_Run  = model.fit(train_data, train_labels,\n",
        "                             epochs=50, batch_size=512, validation_split=0.4)"
      ]
    },
    {
      "cell_type": "markdown",
      "metadata": {
        "id": "nGgHQ6Uefh2m"
      },
      "source": [
        "### Using early stopping"
      ]
    },
    {
      "cell_type": "markdown",
      "metadata": {
        "id": "BXXNudUkb1qb"
      },
      "source": [
        "We could using early stopping class in the Keras library to accomplish this step\n",
        "\n",
        "**Original model**"
      ]
    },
    {
      "cell_type": "code",
      "execution_count": 7,
      "metadata": {
        "colab": {
          "base_uri": "https://localhost:8080/"
        },
        "id": "JshHGpZ8dS4s",
        "outputId": "d5fd4159-3b1c-4a36-ce7e-e5e54061e634"
      },
      "outputs": [
        {
          "name": "stdout",
          "output_type": "stream",
          "text": [
            "Epoch 1/50\n",
            "30/30 [==============================] - 4s 107ms/step - loss: 0.5482 - accuracy: 0.7753 - val_loss: 0.4280 - val_accuracy: 0.8564\n",
            "Epoch 2/50\n",
            "30/30 [==============================] - 1s 20ms/step - loss: 0.3526 - accuracy: 0.8903 - val_loss: 0.3417 - val_accuracy: 0.8721\n",
            "Epoch 3/50\n",
            "30/30 [==============================] - 1s 17ms/step - loss: 0.2660 - accuracy: 0.9113 - val_loss: 0.2912 - val_accuracy: 0.8885\n",
            "Epoch 4/50\n",
            "30/30 [==============================] - 0s 16ms/step - loss: 0.2124 - accuracy: 0.9295 - val_loss: 0.2768 - val_accuracy: 0.8905\n",
            "Epoch 5/50\n",
            "30/30 [==============================] - 1s 20ms/step - loss: 0.1787 - accuracy: 0.9400 - val_loss: 0.2749 - val_accuracy: 0.8915\n",
            "Epoch 6/50\n",
            "30/30 [==============================] - 1s 18ms/step - loss: 0.1535 - accuracy: 0.9489 - val_loss: 0.2807 - val_accuracy: 0.8889\n",
            "Epoch 7/50\n",
            "30/30 [==============================] - 1s 17ms/step - loss: 0.1322 - accuracy: 0.9582 - val_loss: 0.2899 - val_accuracy: 0.8857\n",
            "Epoch 8/50\n",
            "30/30 [==============================] - 0s 16ms/step - loss: 0.1154 - accuracy: 0.9651 - val_loss: 0.3039 - val_accuracy: 0.8830\n",
            "Epoch 9/50\n",
            "30/30 [==============================] - 0s 15ms/step - loss: 0.0971 - accuracy: 0.9716 - val_loss: 0.3565 - val_accuracy: 0.8740\n",
            "Epoch 10/50\n",
            "30/30 [==============================] - 0s 16ms/step - loss: 0.0878 - accuracy: 0.9749 - val_loss: 0.3695 - val_accuracy: 0.8727\n",
            "Epoch 11/50\n",
            "30/30 [==============================] - 0s 15ms/step - loss: 0.0755 - accuracy: 0.9800 - val_loss: 0.3781 - val_accuracy: 0.8718\n",
            "Epoch 12/50\n",
            "30/30 [==============================] - 0s 15ms/step - loss: 0.0682 - accuracy: 0.9819 - val_loss: 0.3787 - val_accuracy: 0.8752\n",
            "Epoch 13/50\n",
            "30/30 [==============================] - 0s 16ms/step - loss: 0.0565 - accuracy: 0.9857 - val_loss: 0.3904 - val_accuracy: 0.8752\n",
            "Epoch 14/50\n",
            "30/30 [==============================] - 1s 18ms/step - loss: 0.0493 - accuracy: 0.9891 - val_loss: 0.4110 - val_accuracy: 0.8755\n",
            "Epoch 15/50\n",
            "30/30 [==============================] - 1s 21ms/step - loss: 0.0435 - accuracy: 0.9903 - val_loss: 0.4413 - val_accuracy: 0.8728\n",
            "Epoch 16/50\n",
            "30/30 [==============================] - 1s 21ms/step - loss: 0.0363 - accuracy: 0.9929 - val_loss: 0.4563 - val_accuracy: 0.8721\n",
            "Epoch 17/50\n",
            "30/30 [==============================] - 1s 26ms/step - loss: 0.0328 - accuracy: 0.9923 - val_loss: 0.4787 - val_accuracy: 0.8722\n",
            "Epoch 18/50\n",
            "30/30 [==============================] - 1s 22ms/step - loss: 0.0267 - accuracy: 0.9957 - val_loss: 0.5118 - val_accuracy: 0.8711\n",
            "Epoch 19/50\n",
            "30/30 [==============================] - 1s 19ms/step - loss: 0.0217 - accuracy: 0.9969 - val_loss: 0.5275 - val_accuracy: 0.8689\n",
            "Epoch 20/50\n",
            "30/30 [==============================] - 1s 18ms/step - loss: 0.0188 - accuracy: 0.9973 - val_loss: 0.5487 - val_accuracy: 0.8699\n",
            "Epoch 21/50\n",
            "30/30 [==============================] - 1s 18ms/step - loss: 0.0169 - accuracy: 0.9979 - val_loss: 0.5707 - val_accuracy: 0.8685\n",
            "Epoch 22/50\n",
            "30/30 [==============================] - 1s 17ms/step - loss: 0.0161 - accuracy: 0.9973 - val_loss: 0.5963 - val_accuracy: 0.8698\n",
            "Epoch 23/50\n",
            "30/30 [==============================] - 0s 16ms/step - loss: 0.0092 - accuracy: 0.9991 - val_loss: 0.6674 - val_accuracy: 0.8613\n",
            "Epoch 24/50\n",
            "30/30 [==============================] - 1s 20ms/step - loss: 0.0136 - accuracy: 0.9976 - val_loss: 0.6404 - val_accuracy: 0.8690\n",
            "Epoch 25/50\n",
            "30/30 [==============================] - 1s 17ms/step - loss: 0.0065 - accuracy: 0.9995 - val_loss: 0.6606 - val_accuracy: 0.8678\n",
            "Epoch 26/50\n",
            "30/30 [==============================] - 1s 18ms/step - loss: 0.0108 - accuracy: 0.9979 - val_loss: 0.6813 - val_accuracy: 0.8693\n",
            "Epoch 27/50\n",
            "30/30 [==============================] - 0s 17ms/step - loss: 0.0048 - accuracy: 0.9996 - val_loss: 0.7087 - val_accuracy: 0.8666\n",
            "Epoch 28/50\n",
            "30/30 [==============================] - 0s 16ms/step - loss: 0.0079 - accuracy: 0.9983 - val_loss: 0.7241 - val_accuracy: 0.8677\n",
            "Epoch 29/50\n",
            "30/30 [==============================] - 0s 17ms/step - loss: 0.0034 - accuracy: 0.9998 - val_loss: 0.7524 - val_accuracy: 0.8647\n",
            "Epoch 30/50\n",
            "30/30 [==============================] - 0s 17ms/step - loss: 0.0054 - accuracy: 0.9994 - val_loss: 0.7654 - val_accuracy: 0.8675\n",
            "Epoch 31/50\n",
            "30/30 [==============================] - 0s 16ms/step - loss: 0.0028 - accuracy: 0.9998 - val_loss: 0.8101 - val_accuracy: 0.8670\n",
            "Epoch 32/50\n",
            "30/30 [==============================] - 0s 17ms/step - loss: 0.0074 - accuracy: 0.9980 - val_loss: 0.8154 - val_accuracy: 0.8667\n",
            "Epoch 33/50\n",
            "30/30 [==============================] - 1s 17ms/step - loss: 0.0018 - accuracy: 0.9999 - val_loss: 0.8289 - val_accuracy: 0.8665\n",
            "Epoch 34/50\n",
            "30/30 [==============================] - 0s 17ms/step - loss: 0.0036 - accuracy: 0.9993 - val_loss: 0.8520 - val_accuracy: 0.8665\n",
            "Epoch 35/50\n",
            "30/30 [==============================] - 0s 17ms/step - loss: 0.0013 - accuracy: 1.0000 - val_loss: 0.8641 - val_accuracy: 0.8659\n",
            "Epoch 36/50\n",
            "30/30 [==============================] - 1s 18ms/step - loss: 0.0035 - accuracy: 0.9993 - val_loss: 0.8876 - val_accuracy: 0.8668\n",
            "Epoch 37/50\n",
            "30/30 [==============================] - 0s 16ms/step - loss: 0.0011 - accuracy: 1.0000 - val_loss: 0.8972 - val_accuracy: 0.8665\n",
            "Epoch 38/50\n",
            "30/30 [==============================] - 0s 16ms/step - loss: 9.4043e-04 - accuracy: 1.0000 - val_loss: 0.9250 - val_accuracy: 0.8652\n",
            "Epoch 39/50\n",
            "30/30 [==============================] - 0s 17ms/step - loss: 0.0025 - accuracy: 0.9995 - val_loss: 0.9359 - val_accuracy: 0.8658\n",
            "Epoch 40/50\n",
            "30/30 [==============================] - 1s 17ms/step - loss: 7.0119e-04 - accuracy: 1.0000 - val_loss: 0.9544 - val_accuracy: 0.8665\n",
            "Epoch 41/50\n",
            "30/30 [==============================] - 0s 17ms/step - loss: 0.0019 - accuracy: 0.9995 - val_loss: 0.9773 - val_accuracy: 0.8663\n",
            "Epoch 42/50\n",
            "30/30 [==============================] - 0s 16ms/step - loss: 5.6881e-04 - accuracy: 1.0000 - val_loss: 0.9896 - val_accuracy: 0.8660\n",
            "Epoch 43/50\n",
            "30/30 [==============================] - 1s 17ms/step - loss: 5.0141e-04 - accuracy: 1.0000 - val_loss: 1.0147 - val_accuracy: 0.8665\n",
            "Epoch 44/50\n",
            "30/30 [==============================] - 1s 23ms/step - loss: 4.0915e-04 - accuracy: 1.0000 - val_loss: 1.0509 - val_accuracy: 0.8669\n",
            "Epoch 45/50\n",
            "30/30 [==============================] - 1s 23ms/step - loss: 0.0011 - accuracy: 0.9999 - val_loss: 1.0648 - val_accuracy: 0.8664\n",
            "Epoch 46/50\n",
            "30/30 [==============================] - 0s 17ms/step - loss: 3.1675e-04 - accuracy: 1.0000 - val_loss: 1.0806 - val_accuracy: 0.8663\n",
            "Epoch 47/50\n",
            "30/30 [==============================] - 0s 17ms/step - loss: 2.7541e-04 - accuracy: 1.0000 - val_loss: 1.1032 - val_accuracy: 0.8665\n",
            "Epoch 48/50\n",
            "30/30 [==============================] - 1s 17ms/step - loss: 2.3217e-04 - accuracy: 1.0000 - val_loss: 1.1318 - val_accuracy: 0.8655\n",
            "Epoch 49/50\n",
            "30/30 [==============================] - 1s 19ms/step - loss: 2.0373e-04 - accuracy: 1.0000 - val_loss: 1.1551 - val_accuracy: 0.8674\n",
            "Epoch 50/50\n",
            "30/30 [==============================] - 1s 17ms/step - loss: 1.6461e-04 - accuracy: 1.0000 - val_loss: 1.1766 - val_accuracy: 0.8673\n"
          ]
        }
      ],
      "source": [
        "(train_data, train_labels), _ = imdb.load_data(num_words=10000)\n",
        "\n",
        "def vectorize_sequences(sequences, dimension=10000):\n",
        "    results = np.zeros((len(sequences), dimension))\n",
        "    for i, sequence in enumerate(sequences):\n",
        "        results[i, sequence] = 1.\n",
        "    return results\n",
        "\n",
        "train_data = vectorize_sequences(train_data)\n",
        "\n",
        "model = keras.Sequential([\n",
        "    layers.Dense(16, activation=\"relu\"),\n",
        "    layers.Dense(16, activation=\"relu\"),\n",
        "    layers.Dense(1, activation=\"sigmoid\")\n",
        "])\n",
        "model.compile(optimizer=\"rmsprop\",\n",
        "              loss=\"binary_crossentropy\",\n",
        "              metrics=[\"accuracy\"])\n",
        "history_original = model.fit(train_data, train_labels,\n",
        "                             epochs=50, batch_size=512, validation_split=0.4)"
      ]
    },
    {
      "cell_type": "markdown",
      "metadata": {
        "id": "TaYugD7Ai2RY"
      },
      "source": [
        "So we could apply the early stopping method as shown below"
      ]
    },
    {
      "cell_type": "markdown",
      "metadata": {
        "id": "-tCmlMFCdePV"
      },
      "source": [
        "**Practice**"
      ]
    },
    {
      "cell_type": "code",
      "execution_count": 8,
      "metadata": {
        "colab": {
          "base_uri": "https://localhost:8080/"
        },
        "id": "pYlyv-qKdhjL",
        "outputId": "3bf65d89-2a17-45bf-c0fe-bb7487823d61"
      },
      "outputs": [
        {
          "name": "stdout",
          "output_type": "stream",
          "text": [
            "Epoch 1/50\n",
            "30/30 [==============================] - 4s 98ms/step - loss: 0.5318 - accuracy: 0.7745 - val_loss: 0.4031 - val_accuracy: 0.8708\n",
            "Epoch 2/50\n",
            "30/30 [==============================] - 1s 24ms/step - loss: 0.3321 - accuracy: 0.8949 - val_loss: 0.3148 - val_accuracy: 0.8853\n",
            "Epoch 3/50\n",
            "30/30 [==============================] - 1s 19ms/step - loss: 0.2491 - accuracy: 0.9191 - val_loss: 0.2881 - val_accuracy: 0.8892\n",
            "Epoch 4/50\n",
            "30/30 [==============================] - 1s 24ms/step - loss: 0.2014 - accuracy: 0.9333 - val_loss: 0.2794 - val_accuracy: 0.8861\n",
            "Epoch 5/50\n",
            "30/30 [==============================] - 1s 40ms/step - loss: 0.1718 - accuracy: 0.9417 - val_loss: 0.2826 - val_accuracy: 0.8880\n",
            "Epoch 6/50\n",
            "30/30 [==============================] - 1s 30ms/step - loss: 0.1458 - accuracy: 0.9534 - val_loss: 0.2972 - val_accuracy: 0.8818\n",
            "Epoch 7/50\n",
            "30/30 [==============================] - 1s 25ms/step - loss: 0.1280 - accuracy: 0.9597 - val_loss: 0.2926 - val_accuracy: 0.8866\n",
            "Epoch 8/50\n",
            "30/30 [==============================] - 1s 23ms/step - loss: 0.1093 - accuracy: 0.9659 - val_loss: 0.3371 - val_accuracy: 0.8746\n",
            "Epoch 9/50\n",
            "30/30 [==============================] - 1s 20ms/step - loss: 0.0967 - accuracy: 0.9713 - val_loss: 0.3373 - val_accuracy: 0.8781\n",
            "Epoch 10/50\n",
            "30/30 [==============================] - 1s 17ms/step - loss: 0.0848 - accuracy: 0.9752 - val_loss: 0.3360 - val_accuracy: 0.8795\n",
            "Epoch 11/50\n",
            "30/30 [==============================] - 1s 17ms/step - loss: 0.0751 - accuracy: 0.9799 - val_loss: 0.3680 - val_accuracy: 0.8758\n",
            "Epoch 12/50\n",
            "30/30 [==============================] - 1s 17ms/step - loss: 0.0636 - accuracy: 0.9841 - val_loss: 0.3703 - val_accuracy: 0.8788\n",
            "Epoch 13/50\n",
            "30/30 [==============================] - 1s 24ms/step - loss: 0.0561 - accuracy: 0.9866 - val_loss: 0.4008 - val_accuracy: 0.8774\n",
            "Epoch 14/50\n",
            "30/30 [==============================] - 1s 17ms/step - loss: 0.0486 - accuracy: 0.9894 - val_loss: 0.4141 - val_accuracy: 0.8721\n",
            "Epoch 15/50\n",
            "30/30 [==============================] - 1s 17ms/step - loss: 0.0422 - accuracy: 0.9906 - val_loss: 0.4393 - val_accuracy: 0.8754\n",
            "Epoch 16/50\n",
            "30/30 [==============================] - 1s 18ms/step - loss: 0.0360 - accuracy: 0.9926 - val_loss: 0.4605 - val_accuracy: 0.8700\n",
            "Epoch 17/50\n",
            "30/30 [==============================] - 1s 19ms/step - loss: 0.0295 - accuracy: 0.9955 - val_loss: 0.5111 - val_accuracy: 0.8693\n",
            "Epoch 18/50\n",
            "30/30 [==============================] - 1s 17ms/step - loss: 0.0264 - accuracy: 0.9957 - val_loss: 0.5050 - val_accuracy: 0.8711\n",
            "Epoch 19/50\n",
            "30/30 [==============================] - 1s 17ms/step - loss: 0.0221 - accuracy: 0.9968 - val_loss: 0.5289 - val_accuracy: 0.8703\n",
            "Epoch 20/50\n",
            "30/30 [==============================] - 0s 17ms/step - loss: 0.0213 - accuracy: 0.9954 - val_loss: 0.5497 - val_accuracy: 0.8700\n",
            "Epoch 21/50\n",
            "30/30 [==============================] - 0s 16ms/step - loss: 0.0150 - accuracy: 0.9983 - val_loss: 0.6313 - val_accuracy: 0.8616\n",
            "Epoch 22/50\n",
            "30/30 [==============================] - 1s 17ms/step - loss: 0.0155 - accuracy: 0.9972 - val_loss: 0.6176 - val_accuracy: 0.8672\n",
            "Epoch 23/50\n",
            "30/30 [==============================] - 0s 17ms/step - loss: 0.0093 - accuracy: 0.9994 - val_loss: 0.6194 - val_accuracy: 0.8676\n",
            "Epoch 24/50\n",
            "30/30 [==============================] - 1s 18ms/step - loss: 0.0113 - accuracy: 0.9988 - val_loss: 0.6414 - val_accuracy: 0.8669\n",
            "Epoch 25/50\n",
            "30/30 [==============================] - 0s 17ms/step - loss: 0.0113 - accuracy: 0.9979 - val_loss: 0.6617 - val_accuracy: 0.8670\n",
            "Epoch 26/50\n",
            "30/30 [==============================] - 1s 19ms/step - loss: 0.0053 - accuracy: 0.9997 - val_loss: 0.6816 - val_accuracy: 0.8676\n",
            "Epoch 27/50\n",
            "30/30 [==============================] - 0s 17ms/step - loss: 0.0091 - accuracy: 0.9983 - val_loss: 0.7016 - val_accuracy: 0.8684\n",
            "Epoch 28/50\n",
            "30/30 [==============================] - 0s 17ms/step - loss: 0.0042 - accuracy: 0.9998 - val_loss: 0.8251 - val_accuracy: 0.8583\n",
            "Epoch 29/50\n",
            "30/30 [==============================] - 1s 17ms/step - loss: 0.0063 - accuracy: 0.9993 - val_loss: 0.7449 - val_accuracy: 0.8671\n",
            "Epoch 30/50\n",
            "30/30 [==============================] - 0s 16ms/step - loss: 0.0051 - accuracy: 0.9995 - val_loss: 0.7664 - val_accuracy: 0.8662\n",
            "Epoch 31/50\n",
            "30/30 [==============================] - 0s 16ms/step - loss: 0.0025 - accuracy: 1.0000 - val_loss: 0.8286 - val_accuracy: 0.8614\n",
            "Epoch 32/50\n",
            "30/30 [==============================] - 0s 16ms/step - loss: 0.0058 - accuracy: 0.9989 - val_loss: 0.8049 - val_accuracy: 0.8660\n",
            "Epoch 33/50\n",
            "30/30 [==============================] - 0s 16ms/step - loss: 0.0023 - accuracy: 1.0000 - val_loss: 0.9714 - val_accuracy: 0.8524\n",
            "Epoch 34/50\n",
            "30/30 [==============================] - 0s 16ms/step - loss: 0.0044 - accuracy: 0.9991 - val_loss: 0.8380 - val_accuracy: 0.8671\n",
            "Epoch 35/50\n",
            "30/30 [==============================] - 0s 17ms/step - loss: 0.0028 - accuracy: 0.9999 - val_loss: 0.8576 - val_accuracy: 0.8657\n",
            "Epoch 36/50\n",
            "25/30 [========================>.....] - ETA: 0s - loss: 0.0014 - accuracy: 0.9999Restoring model weights from the end of the best epoch: 31.\n",
            "30/30 [==============================] - 1s 18ms/step - loss: 0.0014 - accuracy: 0.9999 - val_loss: 0.8792 - val_accuracy: 0.8651\n",
            "Epoch 36: early stopping\n"
          ]
        }
      ],
      "source": [
        "callback = tf.keras.callbacks.EarlyStopping(\n",
        "    monitor=\"accuracy\",\n",
        "    min_delta=0,\n",
        "    patience=5,\n",
        "    verbose=1,\n",
        "    mode=\"auto\",\n",
        "    baseline=0.9,\n",
        "    restore_best_weights=True,\n",
        "    start_from_epoch=0,\n",
        ")\n",
        "model = keras.Sequential([\n",
        "    layers.Dense(16, activation=\"relu\"),\n",
        "    layers.Dense(16, activation=\"relu\"),\n",
        "    layers.Dense(1, activation=\"sigmoid\")\n",
        "])\n",
        "\n",
        "\n",
        "model.compile(optimizer=\"rmsprop\",\n",
        "              loss=\"binary_crossentropy\",\n",
        "              metrics=[\"accuracy\"])\n",
        "history_practice = model.fit(train_data, train_labels,\n",
        "                             epochs=50, batch_size=512, validation_split=0.4, callbacks=[callback])"
      ]
    },
    {
      "cell_type": "code",
      "execution_count": 9,
      "metadata": {
        "colab": {
          "base_uri": "https://localhost:8080/"
        },
        "id": "uiJ2fBxElPfH",
        "outputId": "009b207f-93c8-4907-b6a2-16eb9d6d511f"
      },
      "outputs": [
        {
          "data": {
            "text/plain": [
              "36"
            ]
          },
          "execution_count": 9,
          "metadata": {},
          "output_type": "execute_result"
        }
      ],
      "source": [
        "len(history_practice.history['loss'])"
      ]
    },
    {
      "attachments": {},
      "cell_type": "markdown",
      "metadata": {
        "id": "fqOOWtKfiKKb"
      },
      "source": [
        "From the experiments above we could saw that the early stopping take action in the epoch 36 with the accuracy of 0.9999. This is our best results so far and it does save a lot of computing resources"
      ]
    },
    {
      "cell_type": "markdown",
      "metadata": {
        "id": "PBgGIbcIfh2m"
      },
      "source": [
        "### Regularizing your model"
      ]
    },
    {
      "cell_type": "markdown",
      "metadata": {
        "id": "taFSCdtDfh2m"
      },
      "source": [
        "#### Reducing the network's size"
      ]
    },
    {
      "cell_type": "markdown",
      "metadata": {
        "id": "7LAdXfPKfh2m"
      },
      "source": [
        "**Original model**"
      ]
    },
    {
      "cell_type": "code",
      "execution_count": 10,
      "metadata": {
        "colab": {
          "base_uri": "https://localhost:8080/"
        },
        "id": "q4yxnPpLfh2n",
        "outputId": "8565047b-6a5b-4618-a32e-2c3fab0a8c37"
      },
      "outputs": [
        {
          "name": "stdout",
          "output_type": "stream",
          "text": [
            "Epoch 1/20\n",
            "30/30 [==============================] - 5s 129ms/step - loss: 0.5029 - accuracy: 0.7909 - val_loss: 0.3745 - val_accuracy: 0.8713\n",
            "Epoch 2/20\n",
            "30/30 [==============================] - 1s 21ms/step - loss: 0.3081 - accuracy: 0.8973 - val_loss: 0.3498 - val_accuracy: 0.8563\n",
            "Epoch 3/20\n",
            "30/30 [==============================] - 1s 17ms/step - loss: 0.2362 - accuracy: 0.9197 - val_loss: 0.3088 - val_accuracy: 0.8731\n",
            "Epoch 4/20\n",
            "30/30 [==============================] - 1s 19ms/step - loss: 0.1896 - accuracy: 0.9372 - val_loss: 0.2731 - val_accuracy: 0.8925\n",
            "Epoch 5/20\n",
            "30/30 [==============================] - 1s 17ms/step - loss: 0.1582 - accuracy: 0.9483 - val_loss: 0.2909 - val_accuracy: 0.8843\n",
            "Epoch 6/20\n",
            "30/30 [==============================] - 1s 17ms/step - loss: 0.1283 - accuracy: 0.9607 - val_loss: 0.2891 - val_accuracy: 0.8878\n",
            "Epoch 7/20\n",
            "30/30 [==============================] - 1s 22ms/step - loss: 0.1120 - accuracy: 0.9662 - val_loss: 0.3810 - val_accuracy: 0.8616\n",
            "Epoch 8/20\n",
            "30/30 [==============================] - 1s 23ms/step - loss: 0.0945 - accuracy: 0.9723 - val_loss: 0.3149 - val_accuracy: 0.8827\n",
            "Epoch 9/20\n",
            "30/30 [==============================] - 0s 17ms/step - loss: 0.0831 - accuracy: 0.9769 - val_loss: 0.3313 - val_accuracy: 0.8811\n",
            "Epoch 10/20\n",
            "30/30 [==============================] - 0s 17ms/step - loss: 0.0703 - accuracy: 0.9811 - val_loss: 0.3603 - val_accuracy: 0.8777\n",
            "Epoch 11/20\n",
            "30/30 [==============================] - 1s 21ms/step - loss: 0.0579 - accuracy: 0.9866 - val_loss: 0.3737 - val_accuracy: 0.8773\n",
            "Epoch 12/20\n",
            "30/30 [==============================] - 0s 16ms/step - loss: 0.0546 - accuracy: 0.9857 - val_loss: 0.3916 - val_accuracy: 0.8766\n",
            "Epoch 13/20\n",
            "30/30 [==============================] - 1s 18ms/step - loss: 0.0391 - accuracy: 0.9925 - val_loss: 0.4136 - val_accuracy: 0.8756\n",
            "Epoch 14/20\n",
            "30/30 [==============================] - 1s 17ms/step - loss: 0.0376 - accuracy: 0.9919 - val_loss: 0.4362 - val_accuracy: 0.8752\n",
            "Epoch 15/20\n",
            "30/30 [==============================] - 1s 17ms/step - loss: 0.0323 - accuracy: 0.9922 - val_loss: 0.4607 - val_accuracy: 0.8724\n",
            "Epoch 16/20\n",
            "30/30 [==============================] - 1s 18ms/step - loss: 0.0238 - accuracy: 0.9966 - val_loss: 0.4841 - val_accuracy: 0.8714\n",
            "Epoch 17/20\n",
            "30/30 [==============================] - 0s 17ms/step - loss: 0.0218 - accuracy: 0.9961 - val_loss: 0.5185 - val_accuracy: 0.8704\n",
            "Epoch 18/20\n",
            "30/30 [==============================] - 0s 17ms/step - loss: 0.0216 - accuracy: 0.9951 - val_loss: 0.5337 - val_accuracy: 0.8698\n",
            "Epoch 19/20\n",
            "30/30 [==============================] - 1s 18ms/step - loss: 0.0179 - accuracy: 0.9966 - val_loss: 0.5463 - val_accuracy: 0.8694\n",
            "Epoch 20/20\n",
            "30/30 [==============================] - 1s 18ms/step - loss: 0.0102 - accuracy: 0.9993 - val_loss: 0.6212 - val_accuracy: 0.8620\n"
          ]
        }
      ],
      "source": [
        "(train_data, train_labels), _ = imdb.load_data(num_words=10000)\n",
        "\n",
        "def vectorize_sequences(sequences, dimension=10000):\n",
        "    results = np.zeros((len(sequences), dimension))\n",
        "    for i, sequence in enumerate(sequences):\n",
        "        results[i, sequence] = 1.\n",
        "    return results\n",
        "\n",
        "train_data = vectorize_sequences(train_data)\n",
        "\n",
        "model = keras.Sequential([\n",
        "    layers.Dense(16, activation=\"relu\"),\n",
        "    layers.Dense(16, activation=\"relu\"),\n",
        "    layers.Dense(1, activation=\"sigmoid\")\n",
        "])\n",
        "model.compile(optimizer=\"rmsprop\",\n",
        "              loss=\"binary_crossentropy\",\n",
        "              metrics=[\"accuracy\"])\n",
        "history_original = model.fit(train_data, train_labels,\n",
        "                             epochs=20, batch_size=512, validation_split=0.4)"
      ]
    },
    {
      "cell_type": "markdown",
      "metadata": {
        "id": "DY5E806Mfh2n"
      },
      "source": [
        "**Version of the model with lower capacity**"
      ]
    },
    {
      "cell_type": "code",
      "execution_count": 11,
      "metadata": {
        "colab": {
          "base_uri": "https://localhost:8080/"
        },
        "id": "T-egiCtbfh2n",
        "outputId": "0a68e8dc-8938-4589-c302-00daf5899b1d"
      },
      "outputs": [
        {
          "name": "stdout",
          "output_type": "stream",
          "text": [
            "Epoch 1/20\n",
            "30/30 [==============================] - 5s 106ms/step - loss: 0.6189 - accuracy: 0.6869 - val_loss: 0.5715 - val_accuracy: 0.8308\n",
            "Epoch 2/20\n",
            "30/30 [==============================] - 1s 19ms/step - loss: 0.5222 - accuracy: 0.8052 - val_loss: 0.5194 - val_accuracy: 0.7895\n",
            "Epoch 3/20\n",
            "30/30 [==============================] - 1s 17ms/step - loss: 0.4732 - accuracy: 0.8582 - val_loss: 0.4981 - val_accuracy: 0.8174\n",
            "Epoch 4/20\n",
            "30/30 [==============================] - 0s 16ms/step - loss: 0.4401 - accuracy: 0.8899 - val_loss: 0.4872 - val_accuracy: 0.8344\n",
            "Epoch 5/20\n",
            "30/30 [==============================] - 0s 16ms/step - loss: 0.4155 - accuracy: 0.9095 - val_loss: 0.4675 - val_accuracy: 0.8732\n",
            "Epoch 6/20\n",
            "30/30 [==============================] - 0s 16ms/step - loss: 0.3950 - accuracy: 0.9256 - val_loss: 0.4748 - val_accuracy: 0.8543\n",
            "Epoch 7/20\n",
            "30/30 [==============================] - 0s 15ms/step - loss: 0.3775 - accuracy: 0.9365 - val_loss: 0.4548 - val_accuracy: 0.8822\n",
            "Epoch 8/20\n",
            "30/30 [==============================] - 0s 16ms/step - loss: 0.3609 - accuracy: 0.9479 - val_loss: 0.4564 - val_accuracy: 0.8757\n",
            "Epoch 9/20\n",
            "30/30 [==============================] - 0s 16ms/step - loss: 0.3474 - accuracy: 0.9548 - val_loss: 0.4524 - val_accuracy: 0.8756\n",
            "Epoch 10/20\n",
            "30/30 [==============================] - 0s 16ms/step - loss: 0.3340 - accuracy: 0.9604 - val_loss: 0.4792 - val_accuracy: 0.8608\n",
            "Epoch 11/20\n",
            "30/30 [==============================] - 0s 16ms/step - loss: 0.3223 - accuracy: 0.9646 - val_loss: 0.4646 - val_accuracy: 0.8698\n",
            "Epoch 12/20\n",
            "30/30 [==============================] - 1s 20ms/step - loss: 0.3113 - accuracy: 0.9698 - val_loss: 0.4827 - val_accuracy: 0.8631\n",
            "Epoch 13/20\n",
            "30/30 [==============================] - 1s 18ms/step - loss: 0.3004 - accuracy: 0.9744 - val_loss: 0.4758 - val_accuracy: 0.8681\n",
            "Epoch 14/20\n",
            "30/30 [==============================] - 0s 15ms/step - loss: 0.2907 - accuracy: 0.9769 - val_loss: 0.4549 - val_accuracy: 0.8769\n",
            "Epoch 15/20\n",
            "30/30 [==============================] - 0s 15ms/step - loss: 0.2812 - accuracy: 0.9804 - val_loss: 0.4547 - val_accuracy: 0.8757\n",
            "Epoch 16/20\n",
            "30/30 [==============================] - 0s 15ms/step - loss: 0.2731 - accuracy: 0.9809 - val_loss: 0.4852 - val_accuracy: 0.8689\n",
            "Epoch 17/20\n",
            "30/30 [==============================] - 0s 15ms/step - loss: 0.2649 - accuracy: 0.9835 - val_loss: 0.4514 - val_accuracy: 0.8727\n",
            "Epoch 18/20\n",
            "30/30 [==============================] - 0s 15ms/step - loss: 0.2575 - accuracy: 0.9842 - val_loss: 0.4925 - val_accuracy: 0.8698\n",
            "Epoch 19/20\n",
            "30/30 [==============================] - 0s 16ms/step - loss: 0.2495 - accuracy: 0.9855 - val_loss: 0.5040 - val_accuracy: 0.8679\n",
            "Epoch 20/20\n",
            "30/30 [==============================] - 0s 15ms/step - loss: 0.2426 - accuracy: 0.9879 - val_loss: 0.5290 - val_accuracy: 0.8641\n"
          ]
        }
      ],
      "source": [
        "model = keras.Sequential([\n",
        "    layers.Dense(4, activation=\"relu\"),\n",
        "    layers.Dense(4, activation=\"relu\"),\n",
        "    layers.Dense(1, activation=\"sigmoid\")\n",
        "])\n",
        "model.compile(optimizer=\"rmsprop\",\n",
        "              loss=\"binary_crossentropy\",\n",
        "              metrics=[\"accuracy\"])\n",
        "history_smaller_model = model.fit(\n",
        "    train_data, train_labels,\n",
        "    epochs=20, batch_size=512, validation_split=0.4)"
      ]
    },
    {
      "cell_type": "markdown",
      "metadata": {
        "id": "uVD6-KfSfh2n"
      },
      "source": [
        "**Version of the model with higher capacity**"
      ]
    },
    {
      "cell_type": "code",
      "execution_count": 12,
      "metadata": {
        "colab": {
          "base_uri": "https://localhost:8080/"
        },
        "id": "7QmF24wMfh2n",
        "outputId": "5900042e-5ae2-4518-dfd8-82be65360ed0"
      },
      "outputs": [
        {
          "name": "stdout",
          "output_type": "stream",
          "text": [
            "Epoch 1/20\n",
            "30/30 [==============================] - 7s 189ms/step - loss: 0.5576 - accuracy: 0.7157 - val_loss: 0.3372 - val_accuracy: 0.8601\n",
            "Epoch 2/20\n",
            "30/30 [==============================] - 4s 120ms/step - loss: 0.3475 - accuracy: 0.8525 - val_loss: 0.2842 - val_accuracy: 0.8827\n",
            "Epoch 3/20\n",
            "30/30 [==============================] - 3s 115ms/step - loss: 0.2331 - accuracy: 0.9107 - val_loss: 0.2703 - val_accuracy: 0.8890\n",
            "Epoch 4/20\n",
            "30/30 [==============================] - 3s 101ms/step - loss: 0.1917 - accuracy: 0.9269 - val_loss: 0.2931 - val_accuracy: 0.8824\n",
            "Epoch 5/20\n",
            "30/30 [==============================] - 3s 102ms/step - loss: 0.1480 - accuracy: 0.9417 - val_loss: 0.3265 - val_accuracy: 0.8841\n",
            "Epoch 6/20\n",
            "30/30 [==============================] - 3s 105ms/step - loss: 0.1173 - accuracy: 0.9556 - val_loss: 0.2855 - val_accuracy: 0.8841\n",
            "Epoch 7/20\n",
            "30/30 [==============================] - 3s 102ms/step - loss: 0.0781 - accuracy: 0.9747 - val_loss: 0.3480 - val_accuracy: 0.8861\n",
            "Epoch 8/20\n",
            "30/30 [==============================] - 3s 101ms/step - loss: 0.0378 - accuracy: 0.9902 - val_loss: 0.7107 - val_accuracy: 0.8047\n",
            "Epoch 9/20\n",
            "30/30 [==============================] - 4s 120ms/step - loss: 0.0241 - accuracy: 0.9940 - val_loss: 0.4403 - val_accuracy: 0.8819\n",
            "Epoch 10/20\n",
            "30/30 [==============================] - 3s 115ms/step - loss: 0.0979 - accuracy: 0.9786 - val_loss: 0.3612 - val_accuracy: 0.8818\n",
            "Epoch 11/20\n",
            "30/30 [==============================] - 3s 110ms/step - loss: 0.0075 - accuracy: 0.9997 - val_loss: 0.4794 - val_accuracy: 0.8837\n",
            "Epoch 12/20\n",
            "30/30 [==============================] - 3s 111ms/step - loss: 0.0031 - accuracy: 0.9999 - val_loss: 0.5621 - val_accuracy: 0.8839\n",
            "Epoch 13/20\n",
            "30/30 [==============================] - 3s 101ms/step - loss: 0.1133 - accuracy: 0.9788 - val_loss: 0.4129 - val_accuracy: 0.8814\n",
            "Epoch 14/20\n",
            "30/30 [==============================] - 4s 120ms/step - loss: 0.0037 - accuracy: 1.0000 - val_loss: 0.4936 - val_accuracy: 0.8822\n",
            "Epoch 15/20\n",
            "30/30 [==============================] - 3s 108ms/step - loss: 0.0014 - accuracy: 1.0000 - val_loss: 0.5804 - val_accuracy: 0.8819\n",
            "Epoch 16/20\n",
            "30/30 [==============================] - 3s 102ms/step - loss: 8.0076e-04 - accuracy: 1.0000 - val_loss: 0.6353 - val_accuracy: 0.8820\n",
            "Epoch 17/20\n",
            "30/30 [==============================] - 3s 108ms/step - loss: 7.0111e-04 - accuracy: 1.0000 - val_loss: 1.0113 - val_accuracy: 0.8325\n",
            "Epoch 18/20\n",
            "30/30 [==============================] - 4s 127ms/step - loss: 0.0952 - accuracy: 0.9833 - val_loss: 0.5237 - val_accuracy: 0.8814\n",
            "Epoch 19/20\n",
            "30/30 [==============================] - 3s 110ms/step - loss: 0.0010 - accuracy: 1.0000 - val_loss: 0.5984 - val_accuracy: 0.8820\n",
            "Epoch 20/20\n",
            "30/30 [==============================] - 3s 109ms/step - loss: 4.9373e-04 - accuracy: 1.0000 - val_loss: 0.6641 - val_accuracy: 0.8814\n"
          ]
        }
      ],
      "source": [
        "model = keras.Sequential([\n",
        "    layers.Dense(512, activation=\"relu\"),\n",
        "    layers.Dense(512, activation=\"relu\"),\n",
        "    layers.Dense(1, activation=\"sigmoid\")\n",
        "])\n",
        "model.compile(optimizer=\"rmsprop\",\n",
        "              loss=\"binary_crossentropy\",\n",
        "              metrics=[\"accuracy\"])\n",
        "history_larger_model = model.fit(\n",
        "    train_data, train_labels,\n",
        "    epochs=20, batch_size=512, validation_split=0.4)"
      ]
    },
    {
      "cell_type": "markdown",
      "metadata": {
        "id": "3ceEGm92fh2n"
      },
      "source": [
        "#### Adding weight regularization"
      ]
    },
    {
      "cell_type": "markdown",
      "metadata": {
        "id": "gQuk4Cj5fh2n"
      },
      "source": [
        "**Adding L2 weight regularization to the model**"
      ]
    },
    {
      "cell_type": "code",
      "execution_count": 13,
      "metadata": {
        "colab": {
          "base_uri": "https://localhost:8080/"
        },
        "id": "qaEnnCDNfh2n",
        "outputId": "51d0a6ba-eb6b-415d-a729-f9b7f27b588b"
      },
      "outputs": [
        {
          "name": "stdout",
          "output_type": "stream",
          "text": [
            "Epoch 1/20\n",
            "30/30 [==============================] - 4s 103ms/step - loss: 0.6129 - accuracy: 0.7816 - val_loss: 0.4863 - val_accuracy: 0.8632\n",
            "Epoch 2/20\n",
            "30/30 [==============================] - 1s 21ms/step - loss: 0.4162 - accuracy: 0.8891 - val_loss: 0.4059 - val_accuracy: 0.8768\n",
            "Epoch 3/20\n",
            "30/30 [==============================] - 1s 19ms/step - loss: 0.3380 - accuracy: 0.9101 - val_loss: 0.3739 - val_accuracy: 0.8804\n",
            "Epoch 4/20\n",
            "30/30 [==============================] - 1s 18ms/step - loss: 0.2973 - accuracy: 0.9261 - val_loss: 0.3842 - val_accuracy: 0.8720\n",
            "Epoch 5/20\n",
            "30/30 [==============================] - 1s 19ms/step - loss: 0.2737 - accuracy: 0.9321 - val_loss: 0.3572 - val_accuracy: 0.8860\n",
            "Epoch 6/20\n",
            "30/30 [==============================] - 1s 18ms/step - loss: 0.2562 - accuracy: 0.9388 - val_loss: 0.3548 - val_accuracy: 0.8861\n",
            "Epoch 7/20\n",
            "30/30 [==============================] - 1s 17ms/step - loss: 0.2460 - accuracy: 0.9419 - val_loss: 0.3700 - val_accuracy: 0.8812\n",
            "Epoch 8/20\n",
            "30/30 [==============================] - 0s 16ms/step - loss: 0.2359 - accuracy: 0.9474 - val_loss: 0.3609 - val_accuracy: 0.8837\n",
            "Epoch 9/20\n",
            "30/30 [==============================] - 1s 17ms/step - loss: 0.2296 - accuracy: 0.9497 - val_loss: 0.3712 - val_accuracy: 0.8794\n",
            "Epoch 10/20\n",
            "30/30 [==============================] - 0s 17ms/step - loss: 0.2219 - accuracy: 0.9537 - val_loss: 0.3982 - val_accuracy: 0.8737\n",
            "Epoch 11/20\n",
            "30/30 [==============================] - 1s 17ms/step - loss: 0.2202 - accuracy: 0.9530 - val_loss: 0.3933 - val_accuracy: 0.8755\n",
            "Epoch 12/20\n",
            "30/30 [==============================] - 1s 17ms/step - loss: 0.2123 - accuracy: 0.9586 - val_loss: 0.3988 - val_accuracy: 0.8754\n",
            "Epoch 13/20\n",
            "30/30 [==============================] - 1s 32ms/step - loss: 0.2087 - accuracy: 0.9570 - val_loss: 0.3847 - val_accuracy: 0.8786\n",
            "Epoch 14/20\n",
            "30/30 [==============================] - 1s 32ms/step - loss: 0.2067 - accuracy: 0.9579 - val_loss: 0.3895 - val_accuracy: 0.8770\n",
            "Epoch 15/20\n",
            "30/30 [==============================] - 1s 23ms/step - loss: 0.2015 - accuracy: 0.9617 - val_loss: 0.3995 - val_accuracy: 0.8775\n",
            "Epoch 16/20\n",
            "30/30 [==============================] - 1s 22ms/step - loss: 0.2036 - accuracy: 0.9574 - val_loss: 0.4192 - val_accuracy: 0.8716\n",
            "Epoch 17/20\n",
            "30/30 [==============================] - 1s 22ms/step - loss: 0.1978 - accuracy: 0.9615 - val_loss: 0.3985 - val_accuracy: 0.8781\n",
            "Epoch 18/20\n",
            "30/30 [==============================] - 1s 26ms/step - loss: 0.1905 - accuracy: 0.9659 - val_loss: 0.5335 - val_accuracy: 0.8367\n",
            "Epoch 19/20\n",
            "30/30 [==============================] - 1s 18ms/step - loss: 0.1899 - accuracy: 0.9650 - val_loss: 0.4112 - val_accuracy: 0.8753\n",
            "Epoch 20/20\n",
            "30/30 [==============================] - 1s 18ms/step - loss: 0.1929 - accuracy: 0.9642 - val_loss: 0.4243 - val_accuracy: 0.8738\n"
          ]
        }
      ],
      "source": [
        "model = keras.Sequential([\n",
        "    layers.Dense(16,\n",
        "                 kernel_regularizer=regularizers.l2(0.002),\n",
        "                 activation=\"relu\"),\n",
        "    layers.Dense(16,\n",
        "                 kernel_regularizer=regularizers.l2(0.002),\n",
        "                 activation=\"relu\"),\n",
        "    layers.Dense(1, activation=\"sigmoid\")\n",
        "])\n",
        "model.compile(optimizer=\"rmsprop\",\n",
        "              loss=\"binary_crossentropy\",\n",
        "              metrics=[\"accuracy\"])\n",
        "history_l2_reg = model.fit(\n",
        "    train_data, train_labels,\n",
        "    epochs=20, batch_size=512, validation_split=0.4)"
      ]
    },
    {
      "cell_type": "markdown",
      "metadata": {
        "id": "EbdbYjJxfh2o"
      },
      "source": [
        "**Different weight regularizers available in Keras**"
      ]
    },
    {
      "cell_type": "code",
      "execution_count": 14,
      "metadata": {
        "colab": {
          "base_uri": "https://localhost:8080/"
        },
        "id": "TQkoTQKufh2o",
        "outputId": "a8bd7449-4b5b-4e1d-f424-303c87c6ecd6"
      },
      "outputs": [
        {
          "data": {
            "text/plain": [
              "<keras.regularizers.L1L2 at 0x149835bd0>"
            ]
          },
          "execution_count": 14,
          "metadata": {},
          "output_type": "execute_result"
        }
      ],
      "source": [
        "\n",
        "regularizers.l1(0.001)\n",
        "regularizers.l1_l2(l1=0.001, l2=0.001)"
      ]
    },
    {
      "cell_type": "markdown",
      "metadata": {
        "id": "WzHSwfvffh2o"
      },
      "source": [
        "#### Adding dropout"
      ]
    },
    {
      "cell_type": "markdown",
      "metadata": {
        "id": "Uoo_Gjqafh2o"
      },
      "source": [
        "**Adding dropout to the IMDB model**"
      ]
    },
    {
      "cell_type": "code",
      "execution_count": 15,
      "metadata": {
        "colab": {
          "base_uri": "https://localhost:8080/"
        },
        "id": "PYwhzhPJfh2o",
        "outputId": "b5ff4a3a-f2a7-4808-87e8-ada9bf4975be"
      },
      "outputs": [
        {
          "name": "stdout",
          "output_type": "stream",
          "text": [
            "Epoch 1/20\n",
            "30/30 [==============================] - 4s 96ms/step - loss: 0.6421 - accuracy: 0.6239 - val_loss: 0.5276 - val_accuracy: 0.8383\n",
            "Epoch 2/20\n",
            "30/30 [==============================] - 1s 21ms/step - loss: 0.5221 - accuracy: 0.7589 - val_loss: 0.4350 - val_accuracy: 0.8562\n",
            "Epoch 3/20\n",
            "30/30 [==============================] - 1s 18ms/step - loss: 0.4385 - accuracy: 0.8156 - val_loss: 0.3325 - val_accuracy: 0.8810\n",
            "Epoch 4/20\n",
            "30/30 [==============================] - 1s 17ms/step - loss: 0.3725 - accuracy: 0.8556 - val_loss: 0.3051 - val_accuracy: 0.8863\n",
            "Epoch 5/20\n",
            "30/30 [==============================] - 1s 17ms/step - loss: 0.3152 - accuracy: 0.8835 - val_loss: 0.2801 - val_accuracy: 0.8894\n",
            "Epoch 6/20\n",
            "30/30 [==============================] - 1s 17ms/step - loss: 0.2779 - accuracy: 0.9026 - val_loss: 0.2760 - val_accuracy: 0.8919\n",
            "Epoch 7/20\n",
            "30/30 [==============================] - 1s 17ms/step - loss: 0.2451 - accuracy: 0.9155 - val_loss: 0.2757 - val_accuracy: 0.8894\n",
            "Epoch 8/20\n",
            "30/30 [==============================] - 1s 17ms/step - loss: 0.2169 - accuracy: 0.9282 - val_loss: 0.2832 - val_accuracy: 0.8897\n",
            "Epoch 9/20\n",
            "30/30 [==============================] - 1s 24ms/step - loss: 0.1948 - accuracy: 0.9373 - val_loss: 0.3066 - val_accuracy: 0.8859\n",
            "Epoch 10/20\n",
            "30/30 [==============================] - 1s 18ms/step - loss: 0.1703 - accuracy: 0.9420 - val_loss: 0.3113 - val_accuracy: 0.8889\n",
            "Epoch 11/20\n",
            "30/30 [==============================] - 1s 17ms/step - loss: 0.1533 - accuracy: 0.9511 - val_loss: 0.3386 - val_accuracy: 0.8833\n",
            "Epoch 12/20\n",
            "30/30 [==============================] - 0s 17ms/step - loss: 0.1363 - accuracy: 0.9562 - val_loss: 0.3446 - val_accuracy: 0.8863\n",
            "Epoch 13/20\n",
            "30/30 [==============================] - 0s 17ms/step - loss: 0.1236 - accuracy: 0.9615 - val_loss: 0.3763 - val_accuracy: 0.8884\n",
            "Epoch 14/20\n",
            "30/30 [==============================] - 0s 16ms/step - loss: 0.1168 - accuracy: 0.9615 - val_loss: 0.3995 - val_accuracy: 0.8854\n",
            "Epoch 15/20\n",
            "30/30 [==============================] - 0s 17ms/step - loss: 0.1056 - accuracy: 0.9681 - val_loss: 0.4031 - val_accuracy: 0.8867\n",
            "Epoch 16/20\n",
            "30/30 [==============================] - 1s 17ms/step - loss: 0.0987 - accuracy: 0.9689 - val_loss: 0.4264 - val_accuracy: 0.8853\n",
            "Epoch 17/20\n",
            "30/30 [==============================] - 0s 17ms/step - loss: 0.0917 - accuracy: 0.9697 - val_loss: 0.4553 - val_accuracy: 0.8849\n",
            "Epoch 18/20\n",
            "30/30 [==============================] - 0s 17ms/step - loss: 0.0876 - accuracy: 0.9725 - val_loss: 0.4902 - val_accuracy: 0.8843\n",
            "Epoch 19/20\n",
            "30/30 [==============================] - 1s 17ms/step - loss: 0.0779 - accuracy: 0.9748 - val_loss: 0.5185 - val_accuracy: 0.8839\n",
            "Epoch 20/20\n",
            "30/30 [==============================] - 0s 17ms/step - loss: 0.0774 - accuracy: 0.9760 - val_loss: 0.5227 - val_accuracy: 0.8835\n"
          ]
        }
      ],
      "source": [
        "model = keras.Sequential([\n",
        "    layers.Dense(16, activation=\"relu\"),\n",
        "    layers.Dropout(0.5),\n",
        "    layers.Dense(16, activation=\"relu\"),\n",
        "    layers.Dropout(0.5),\n",
        "    layers.Dense(1, activation=\"sigmoid\")\n",
        "])\n",
        "model.compile(optimizer=\"rmsprop\",\n",
        "              loss=\"binary_crossentropy\",\n",
        "              metrics=[\"accuracy\"])\n",
        "history_dropout = model.fit(\n",
        "    train_data, train_labels,\n",
        "    epochs=20, batch_size=512, validation_split=0.4)"
      ]
    },
    {
      "cell_type": "markdown",
      "metadata": {
        "id": "HyuwBO10fh2o"
      },
      "source": [
        "## Summary"
      ]
    }
  ],
  "metadata": {
    "colab": {
      "provenance": [],
      "toc_visible": true
    },
    "kernelspec": {
      "display_name": "Python 3",
      "language": "python",
      "name": "python3"
    },
    "language_info": {
      "codemirror_mode": {
        "name": "ipython",
        "version": 3
      },
      "file_extension": ".py",
      "mimetype": "text/x-python",
      "name": "python",
      "nbconvert_exporter": "python",
      "pygments_lexer": "ipython3",
      "version": "3.11.2"
    },
    "vscode": {
      "interpreter": {
        "hash": "082e9a3bcad0a290d0001e938aa60b99250c6c2ef33a923c00b70f9826caf4b7"
      }
    }
  },
  "nbformat": 4,
  "nbformat_minor": 0
}
