{
  "cells": [
    {
      "cell_type": "markdown",
      "metadata": {
        "id": "6z_8cJUWIsRG"
      },
      "source": [
        "This file is produced by Hengyi Li and Jingbo Wang\n",
        "\n",
        "2023.3.10"
      ]
    },
    {
      "cell_type": "markdown",
      "metadata": {
        "id": "vk1l4Dxlfh2g"
      },
      "source": [
        "# Fundamentals of machine learning"
      ]
    },
    {
      "cell_type": "markdown",
      "metadata": {
        "id": "ztpi_d6Sfh2g"
      },
      "source": [
        "## Generalization: The goal of machine learning"
      ]
    },
    {
      "cell_type": "markdown",
      "metadata": {
        "id": "uhvABr4dXX8K"
      },
      "source": [
        "We can setup our envrinment by importing those libraries "
      ]
    },
    {
      "cell_type": "code",
      "execution_count": 1,
      "metadata": {
        "id": "WeTjeWz1Xd8Q"
      },
      "outputs": [
        {
          "name": "stderr",
          "output_type": "stream",
          "text": [
            "2023-03-10 10:38:23.696959: I tensorflow/core/platform/cpu_feature_guard.cc:182] This TensorFlow binary is optimized to use available CPU instructions in performance-critical operations.\n",
            "To enable the following instructions: AVX2 FMA, in other operations, rebuild TensorFlow with the appropriate compiler flags.\n"
          ]
        }
      ],
      "source": [
        "import numpy as np\n",
        "import tensorflow as tf\n",
        "from tensorflow import keras\n",
        "from tensorflow.keras import layers, regularizers\n",
        "from tensorflow.keras.datasets import imdb"
      ]
    },
    {
      "cell_type": "markdown",
      "metadata": {
        "id": "LuA9TByqI68K"
      },
      "source": [
        "Before start, we can check our running environment by running those code"
      ]
    },
    {
      "cell_type": "code",
      "execution_count": 2,
      "metadata": {
        "colab": {
          "base_uri": "https://localhost:8080/"
        },
        "id": "PnJ7W2ktJCrS",
        "outputId": "15df8fb3-0f81-4269-fac0-18d790c76384"
      },
      "outputs": [
        {
          "name": "stdout",
          "output_type": "stream",
          "text": [
            "[]\n",
            "[PhysicalDevice(name='/physical_device:CPU:0', device_type='CPU')]\n"
          ]
        }
      ],
      "source": [
        "print(tf.config.list_physical_devices('GPU'))\n",
        "print(tf.config.list_physical_devices('CPU'))"
      ]
    },
    {
      "cell_type": "markdown",
      "metadata": {
        "id": "OzGgWuMXfh2m"
      },
      "source": [
        "## Improving generalization"
      ]
    },
    {
      "cell_type": "markdown",
      "metadata": {
        "id": "XV6r9QncSvpa"
      },
      "source": [
        "To improve the generalization, we have several ways to do it. \n",
        "\n",
        "* Dataset curation\n",
        "\n",
        "* Feature engineering\n",
        "\n",
        "* Using early stopping\n",
        "\n",
        "* Reducing the network's size\n",
        "\n",
        "  * Reducing the network's size\n",
        "  * Adding L2 weight regularization to the model\n",
        "  * Adding dropout to the IMDB model"
      ]
    },
    {
      "cell_type": "markdown",
      "metadata": {
        "id": "CEGGTUpIfh2m"
      },
      "source": [
        "### Dataset curation"
      ]
    },
    {
      "cell_type": "markdown",
      "metadata": {
        "id": "ZpDidvccWS1v"
      },
      "source": [
        "* Make sure you have enough data. Remember that you need a _**dense sampling**_ of the input-cross-output space. More data will yield a better model. Sometimes, problems that seem impossible at first become solvable with a larger dataset.\n",
        "* Make sure you have enough data. Remember that you need a dense sampling of the input-cross-output space. More data will yield a better model. Sometimes, problems that seem impossible at first become solvable with a larger dataset.\n",
        "* Clean your data and deal with missing values.\n",
        "* If you have many features and you aren’t sure which ones are actually useful, do feature selection.\n"
      ]
    },
    {
      "cell_type": "markdown",
      "metadata": {
        "id": "sZ_SvYEBzDQG"
      },
      "source": [
        "So the num_words restricted the top 10,000 most frequently occurring words in the training data. Rare words will be discarded. And we can do better than that by increasing the num_words to 25000 \n",
        "\n",
        "**Original Model**"
      ]
    },
    {
      "cell_type": "code",
      "execution_count": 3,
      "metadata": {
        "colab": {
          "base_uri": "https://localhost:8080/"
        },
        "id": "S-AAfSid1Uz9",
        "outputId": "53081d4b-9041-4d4d-c355-b365ac6353e5"
      },
      "outputs": [
        {
          "name": "stdout",
          "output_type": "stream",
          "text": [
            "Epoch 1/20\n",
            "30/30 [==============================] - 4s 91ms/step - loss: 0.5671 - accuracy: 0.7546 - val_loss: 0.4352 - val_accuracy: 0.8585\n",
            "Epoch 2/20\n",
            "30/30 [==============================] - 1s 18ms/step - loss: 0.3557 - accuracy: 0.8850 - val_loss: 0.3264 - val_accuracy: 0.8840\n",
            "Epoch 3/20\n",
            "30/30 [==============================] - 0s 16ms/step - loss: 0.2627 - accuracy: 0.9141 - val_loss: 0.2884 - val_accuracy: 0.8898\n",
            "Epoch 4/20\n",
            "30/30 [==============================] - 0s 16ms/step - loss: 0.2079 - accuracy: 0.9299 - val_loss: 0.2751 - val_accuracy: 0.8900\n",
            "Epoch 5/20\n",
            "30/30 [==============================] - 0s 17ms/step - loss: 0.1716 - accuracy: 0.9439 - val_loss: 0.2790 - val_accuracy: 0.8882\n",
            "Epoch 6/20\n",
            "30/30 [==============================] - 0s 16ms/step - loss: 0.1469 - accuracy: 0.9536 - val_loss: 0.2948 - val_accuracy: 0.8833\n",
            "Epoch 7/20\n",
            "30/30 [==============================] - 0s 16ms/step - loss: 0.1273 - accuracy: 0.9607 - val_loss: 0.2927 - val_accuracy: 0.8870\n",
            "Epoch 8/20\n",
            "30/30 [==============================] - 1s 18ms/step - loss: 0.1071 - accuracy: 0.9679 - val_loss: 0.3419 - val_accuracy: 0.8749\n",
            "Epoch 9/20\n",
            "30/30 [==============================] - 1s 19ms/step - loss: 0.0935 - accuracy: 0.9728 - val_loss: 0.3198 - val_accuracy: 0.8825\n",
            "Epoch 10/20\n",
            "30/30 [==============================] - 0s 16ms/step - loss: 0.0783 - accuracy: 0.9791 - val_loss: 0.3386 - val_accuracy: 0.8811\n",
            "Epoch 11/20\n",
            "30/30 [==============================] - 0s 16ms/step - loss: 0.0661 - accuracy: 0.9827 - val_loss: 0.3706 - val_accuracy: 0.8768\n",
            "Epoch 12/20\n",
            "30/30 [==============================] - 0s 16ms/step - loss: 0.0560 - accuracy: 0.9861 - val_loss: 0.3963 - val_accuracy: 0.8744\n",
            "Epoch 13/20\n",
            "30/30 [==============================] - 1s 18ms/step - loss: 0.0486 - accuracy: 0.9896 - val_loss: 0.3970 - val_accuracy: 0.8788\n",
            "Epoch 14/20\n",
            "30/30 [==============================] - 1s 18ms/step - loss: 0.0406 - accuracy: 0.9912 - val_loss: 0.4133 - val_accuracy: 0.8780\n",
            "Epoch 15/20\n",
            "30/30 [==============================] - 1s 17ms/step - loss: 0.0317 - accuracy: 0.9943 - val_loss: 0.4440 - val_accuracy: 0.8741\n",
            "Epoch 16/20\n",
            "30/30 [==============================] - 0s 16ms/step - loss: 0.0270 - accuracy: 0.9957 - val_loss: 0.4601 - val_accuracy: 0.8755\n",
            "Epoch 17/20\n",
            "30/30 [==============================] - 0s 16ms/step - loss: 0.0232 - accuracy: 0.9963 - val_loss: 0.4813 - val_accuracy: 0.8749\n",
            "Epoch 18/20\n",
            "30/30 [==============================] - 0s 17ms/step - loss: 0.0179 - accuracy: 0.9979 - val_loss: 0.5033 - val_accuracy: 0.8744\n",
            "Epoch 19/20\n",
            "30/30 [==============================] - 0s 17ms/step - loss: 0.0156 - accuracy: 0.9980 - val_loss: 0.5311 - val_accuracy: 0.8734\n",
            "Epoch 20/20\n",
            "30/30 [==============================] - 1s 17ms/step - loss: 0.0116 - accuracy: 0.9989 - val_loss: 0.5602 - val_accuracy: 0.8723\n"
          ]
        }
      ],
      "source": [
        "(train_data, train_labels), _ = imdb.load_data(num_words=10000)\n",
        "\n",
        "def vectorize_sequences(sequences, dimension=10000):\n",
        "    results = np.zeros((len(sequences), dimension))\n",
        "    for i, sequence in enumerate(sequences):\n",
        "        results[i, sequence] = 1.\n",
        "    return results\n",
        "\n",
        "train_data = vectorize_sequences(train_data)\n",
        "\n",
        "model = keras.Sequential([\n",
        "    layers.Dense(16, activation=\"relu\"),\n",
        "    layers.Dense(16, activation=\"relu\"),\n",
        "    layers.Dense(1, activation=\"sigmoid\")\n",
        "])\n",
        "model.compile(optimizer=\"rmsprop\",\n",
        "              loss=\"binary_crossentropy\",\n",
        "              metrics=[\"accuracy\"])\n",
        "history_original = model.fit(train_data, train_labels,\n",
        "                             epochs=20, batch_size=512, validation_split=0.4)"
      ]
    },
    {
      "cell_type": "markdown",
      "metadata": {
        "id": "JoIDfdR41_GE"
      },
      "source": [
        "**Practice Model**\n",
        "\n",
        "Here, we change the num_words to 25000 "
      ]
    },
    {
      "cell_type": "code",
      "execution_count": 4,
      "metadata": {
        "colab": {
          "base_uri": "https://localhost:8080/"
        },
        "id": "-kNHkq1A2H6q",
        "outputId": "5c1b90f8-8f63-4644-c406-271d363dc5e5"
      },
      "outputs": [
        {
          "name": "stdout",
          "output_type": "stream",
          "text": [
            "Epoch 1/20\n",
            "30/30 [==============================] - 8s 227ms/step - loss: 0.5399 - accuracy: 0.7689 - val_loss: 0.4050 - val_accuracy: 0.8743\n",
            "Epoch 2/20\n",
            "30/30 [==============================] - 2s 61ms/step - loss: 0.3186 - accuracy: 0.9041 - val_loss: 0.3058 - val_accuracy: 0.8922\n",
            "Epoch 3/20\n",
            "30/30 [==============================] - 1s 47ms/step - loss: 0.2228 - accuracy: 0.9326 - val_loss: 0.2987 - val_accuracy: 0.8797\n",
            "Epoch 4/20\n",
            "30/30 [==============================] - 1s 33ms/step - loss: 0.1670 - accuracy: 0.9489 - val_loss: 0.2822 - val_accuracy: 0.8868\n",
            "Epoch 5/20\n",
            "30/30 [==============================] - 1s 32ms/step - loss: 0.1286 - accuracy: 0.9638 - val_loss: 0.3127 - val_accuracy: 0.8777\n",
            "Epoch 6/20\n",
            "30/30 [==============================] - 1s 33ms/step - loss: 0.1038 - accuracy: 0.9722 - val_loss: 0.2835 - val_accuracy: 0.8898\n",
            "Epoch 7/20\n",
            "30/30 [==============================] - 1s 34ms/step - loss: 0.0801 - accuracy: 0.9813 - val_loss: 0.3051 - val_accuracy: 0.8877\n",
            "Epoch 8/20\n",
            "30/30 [==============================] - 1s 41ms/step - loss: 0.0670 - accuracy: 0.9841 - val_loss: 0.3175 - val_accuracy: 0.8863\n",
            "Epoch 9/20\n",
            "30/30 [==============================] - 1s 38ms/step - loss: 0.0521 - accuracy: 0.9891 - val_loss: 0.3646 - val_accuracy: 0.8760\n",
            "Epoch 10/20\n",
            "30/30 [==============================] - 1s 42ms/step - loss: 0.0408 - accuracy: 0.9927 - val_loss: 0.3602 - val_accuracy: 0.8796\n",
            "Epoch 11/20\n",
            "30/30 [==============================] - 1s 37ms/step - loss: 0.0330 - accuracy: 0.9939 - val_loss: 0.3802 - val_accuracy: 0.8823\n",
            "Epoch 12/20\n",
            "30/30 [==============================] - 1s 33ms/step - loss: 0.0244 - accuracy: 0.9969 - val_loss: 0.4004 - val_accuracy: 0.8786\n",
            "Epoch 13/20\n",
            "30/30 [==============================] - 1s 34ms/step - loss: 0.0214 - accuracy: 0.9969 - val_loss: 0.4301 - val_accuracy: 0.8800\n",
            "Epoch 14/20\n",
            "30/30 [==============================] - 1s 34ms/step - loss: 0.0192 - accuracy: 0.9964 - val_loss: 0.4476 - val_accuracy: 0.8780\n",
            "Epoch 15/20\n",
            "30/30 [==============================] - 1s 34ms/step - loss: 0.0106 - accuracy: 0.9991 - val_loss: 0.4651 - val_accuracy: 0.8765\n",
            "Epoch 16/20\n",
            "30/30 [==============================] - 1s 34ms/step - loss: 0.0118 - accuracy: 0.9984 - val_loss: 0.4966 - val_accuracy: 0.8779\n",
            "Epoch 17/20\n",
            "30/30 [==============================] - 1s 33ms/step - loss: 0.0070 - accuracy: 0.9995 - val_loss: 0.5165 - val_accuracy: 0.8765\n",
            "Epoch 18/20\n",
            "30/30 [==============================] - 1s 33ms/step - loss: 0.0095 - accuracy: 0.9986 - val_loss: 0.5384 - val_accuracy: 0.8773\n",
            "Epoch 19/20\n",
            "30/30 [==============================] - 1s 33ms/step - loss: 0.0046 - accuracy: 0.9997 - val_loss: 0.6064 - val_accuracy: 0.8741\n",
            "Epoch 20/20\n",
            "30/30 [==============================] - 1s 36ms/step - loss: 0.0079 - accuracy: 0.9986 - val_loss: 0.5736 - val_accuracy: 0.8764\n"
          ]
        }
      ],
      "source": [
        "(train_data, train_labels), _ = imdb.load_data(num_words=25000)\n",
        "\n",
        "def vectorize_sequences(sequences, dimension=25000):\n",
        "    results = np.zeros((len(sequences), dimension))\n",
        "    for i, sequence in enumerate(sequences):\n",
        "        results[i, sequence] = 1.\n",
        "    return results\n",
        "\n",
        "train_data = vectorize_sequences(train_data)\n",
        "\n",
        "model = keras.Sequential([\n",
        "    layers.Dense(16, activation=\"relu\"),\n",
        "    layers.Dense(16, activation=\"relu\"),\n",
        "    layers.Dense(1, activation=\"sigmoid\")\n",
        "])\n",
        "model.compile(optimizer=\"rmsprop\",\n",
        "              loss=\"binary_crossentropy\",\n",
        "              metrics=[\"accuracy\"])\n",
        "history_original = model.fit(train_data, train_labels,\n",
        "                             epochs=20, batch_size=512, validation_split=0.4)"
      ]
    },
    {
      "cell_type": "markdown",
      "metadata": {
        "id": "uzZmKOTP-MU8"
      },
      "source": [
        "As it shown above, after change the num_words and the batch size, make a bigger dataset and more training on each epoch, the accuracy gets visible improvement"
      ]
    },
    {
      "cell_type": "markdown",
      "metadata": {
        "id": "SGHbbIZ6fh2m"
      },
      "source": [
        "### Feature engineering"
      ]
    },
    {
      "cell_type": "markdown",
      "metadata": {
        "id": "ls3fA9EFGaiP"
      },
      "source": [
        "**Original Model**"
      ]
    },
    {
      "cell_type": "code",
      "execution_count": 5,
      "metadata": {
        "colab": {
          "base_uri": "https://localhost:8080/"
        },
        "id": "hM-i1XlKGZwU",
        "outputId": "ed77de29-3820-4b33-d66a-680b07ee55b0"
      },
      "outputs": [
        {
          "name": "stdout",
          "output_type": "stream",
          "text": [
            "Epoch 1/20\n",
            "30/30 [==============================] - 3s 64ms/step - loss: 0.5585 - accuracy: 0.7769 - val_loss: 0.4398 - val_accuracy: 0.8597\n",
            "Epoch 2/20\n",
            "30/30 [==============================] - 1s 26ms/step - loss: 0.3663 - accuracy: 0.8832 - val_loss: 0.3372 - val_accuracy: 0.8805\n",
            "Epoch 3/20\n",
            "30/30 [==============================] - 1s 19ms/step - loss: 0.2752 - accuracy: 0.9077 - val_loss: 0.2982 - val_accuracy: 0.8838\n",
            "Epoch 4/20\n",
            "30/30 [==============================] - 0s 16ms/step - loss: 0.2194 - accuracy: 0.9234 - val_loss: 0.2903 - val_accuracy: 0.8836\n",
            "Epoch 5/20\n",
            "30/30 [==============================] - 0s 15ms/step - loss: 0.1836 - accuracy: 0.9386 - val_loss: 0.2919 - val_accuracy: 0.8841\n",
            "Epoch 6/20\n",
            "30/30 [==============================] - 0s 15ms/step - loss: 0.1596 - accuracy: 0.9462 - val_loss: 0.2787 - val_accuracy: 0.8882\n",
            "Epoch 7/20\n",
            "30/30 [==============================] - 0s 15ms/step - loss: 0.1374 - accuracy: 0.9551 - val_loss: 0.2937 - val_accuracy: 0.8841\n",
            "Epoch 8/20\n",
            "30/30 [==============================] - 1s 20ms/step - loss: 0.1206 - accuracy: 0.9630 - val_loss: 0.3112 - val_accuracy: 0.8809\n",
            "Epoch 9/20\n",
            "30/30 [==============================] - 0s 15ms/step - loss: 0.1056 - accuracy: 0.9681 - val_loss: 0.3181 - val_accuracy: 0.8804\n",
            "Epoch 10/20\n",
            "30/30 [==============================] - 0s 16ms/step - loss: 0.0946 - accuracy: 0.9733 - val_loss: 0.3244 - val_accuracy: 0.8847\n",
            "Epoch 11/20\n",
            "30/30 [==============================] - 0s 15ms/step - loss: 0.0834 - accuracy: 0.9771 - val_loss: 0.3633 - val_accuracy: 0.8747\n",
            "Epoch 12/20\n",
            "30/30 [==============================] - 1s 17ms/step - loss: 0.0730 - accuracy: 0.9802 - val_loss: 0.3997 - val_accuracy: 0.8680\n",
            "Epoch 13/20\n",
            "30/30 [==============================] - 0s 15ms/step - loss: 0.0639 - accuracy: 0.9842 - val_loss: 0.3740 - val_accuracy: 0.8797\n",
            "Epoch 14/20\n",
            "30/30 [==============================] - 0s 15ms/step - loss: 0.0577 - accuracy: 0.9869 - val_loss: 0.3957 - val_accuracy: 0.8789\n",
            "Epoch 15/20\n",
            "30/30 [==============================] - 0s 15ms/step - loss: 0.0492 - accuracy: 0.9895 - val_loss: 0.4131 - val_accuracy: 0.8766\n",
            "Epoch 16/20\n",
            "30/30 [==============================] - 0s 16ms/step - loss: 0.0455 - accuracy: 0.9900 - val_loss: 0.4437 - val_accuracy: 0.8712\n",
            "Epoch 17/20\n",
            "30/30 [==============================] - 0s 16ms/step - loss: 0.0391 - accuracy: 0.9921 - val_loss: 0.4544 - val_accuracy: 0.8750\n",
            "Epoch 18/20\n",
            "30/30 [==============================] - 0s 16ms/step - loss: 0.0350 - accuracy: 0.9930 - val_loss: 0.4916 - val_accuracy: 0.8702\n",
            "Epoch 19/20\n",
            "30/30 [==============================] - 0s 16ms/step - loss: 0.0302 - accuracy: 0.9945 - val_loss: 0.5002 - val_accuracy: 0.8697\n",
            "Epoch 20/20\n",
            "30/30 [==============================] - 0s 16ms/step - loss: 0.0258 - accuracy: 0.9963 - val_loss: 0.5155 - val_accuracy: 0.8699\n"
          ]
        }
      ],
      "source": [
        "(train_data, train_labels), _ = imdb.load_data(num_words=10000)\n",
        "\n",
        "def vectorize_sequences(sequences, dimension=10000):\n",
        "    results = np.zeros((len(sequences), dimension))\n",
        "    for i, sequence in enumerate(sequences):\n",
        "        results[i, sequence] = 1.\n",
        "    return results\n",
        "\n",
        "train_data = vectorize_sequences(train_data)\n",
        "\n",
        "model = keras.Sequential([\n",
        "    layers.Dense(16, activation=\"relu\"),\n",
        "    layers.Dense(16, activation=\"relu\"),\n",
        "    layers.Dense(1, activation=\"sigmoid\")\n",
        "])\n",
        "model.compile(optimizer=\"rmsprop\",\n",
        "              loss=\"binary_crossentropy\",\n",
        "              metrics=[\"accuracy\"])\n",
        "history_original = model.fit(train_data, train_labels,\n",
        "                             epochs=20, batch_size=512, validation_split=0.4)"
      ]
    },
    {
      "cell_type": "markdown",
      "metadata": {
        "id": "RBd-DQpjOdjT"
      },
      "source": [
        "**Practice Model**\n",
        "\n",
        "We can enhance by deleting the most common words"
      ]
    },
    {
      "cell_type": "code",
      "execution_count": 6,
      "metadata": {
        "colab": {
          "base_uri": "https://localhost:8080/"
        },
        "id": "ZQxMQ5PHhCPc",
        "outputId": "663a6985-6b6d-4a0f-f2fb-2ea343c89952"
      },
      "outputs": [
        {
          "name": "stdout",
          "output_type": "stream",
          "text": [
            "Epoch 1/20\n",
            "30/30 [==============================] - 3s 71ms/step - loss: 0.5501 - accuracy: 0.7731 - val_loss: 0.4208 - val_accuracy: 0.8678\n",
            "Epoch 2/20\n",
            "30/30 [==============================] - 1s 20ms/step - loss: 0.3467 - accuracy: 0.8894 - val_loss: 0.3318 - val_accuracy: 0.8782\n",
            "Epoch 3/20\n",
            "30/30 [==============================] - 0s 17ms/step - loss: 0.2566 - accuracy: 0.9146 - val_loss: 0.2856 - val_accuracy: 0.8898\n",
            "Epoch 4/20\n",
            "30/30 [==============================] - 0s 17ms/step - loss: 0.2063 - accuracy: 0.9326 - val_loss: 0.2844 - val_accuracy: 0.8842\n",
            "Epoch 5/20\n",
            "30/30 [==============================] - 0s 16ms/step - loss: 0.1697 - accuracy: 0.9437 - val_loss: 0.2764 - val_accuracy: 0.8902\n",
            "Epoch 6/20\n",
            "30/30 [==============================] - 0s 16ms/step - loss: 0.1430 - accuracy: 0.9539 - val_loss: 0.2837 - val_accuracy: 0.8883\n",
            "Epoch 7/20\n",
            "30/30 [==============================] - 0s 16ms/step - loss: 0.1212 - accuracy: 0.9621 - val_loss: 0.2956 - val_accuracy: 0.8859\n",
            "Epoch 8/20\n",
            "30/30 [==============================] - 0s 16ms/step - loss: 0.1029 - accuracy: 0.9697 - val_loss: 0.3194 - val_accuracy: 0.8820\n",
            "Epoch 9/20\n",
            "30/30 [==============================] - 1s 18ms/step - loss: 0.0889 - accuracy: 0.9748 - val_loss: 0.3345 - val_accuracy: 0.8806\n",
            "Epoch 10/20\n",
            "30/30 [==============================] - 0s 16ms/step - loss: 0.0768 - accuracy: 0.9789 - val_loss: 0.3884 - val_accuracy: 0.8706\n",
            "Epoch 11/20\n",
            "30/30 [==============================] - 0s 16ms/step - loss: 0.0654 - accuracy: 0.9838 - val_loss: 0.3654 - val_accuracy: 0.8782\n",
            "Epoch 12/20\n",
            "30/30 [==============================] - 0s 16ms/step - loss: 0.0563 - accuracy: 0.9861 - val_loss: 0.4335 - val_accuracy: 0.8665\n",
            "Epoch 13/20\n",
            "30/30 [==============================] - 0s 16ms/step - loss: 0.0471 - accuracy: 0.9889 - val_loss: 0.4057 - val_accuracy: 0.8759\n",
            "Epoch 14/20\n",
            "30/30 [==============================] - 1s 22ms/step - loss: 0.0386 - accuracy: 0.9926 - val_loss: 0.4302 - val_accuracy: 0.8757\n",
            "Epoch 15/20\n",
            "30/30 [==============================] - 1s 21ms/step - loss: 0.0338 - accuracy: 0.9939 - val_loss: 0.4577 - val_accuracy: 0.8751\n",
            "Epoch 16/20\n",
            "30/30 [==============================] - 0s 16ms/step - loss: 0.0267 - accuracy: 0.9956 - val_loss: 0.4850 - val_accuracy: 0.8719\n",
            "Epoch 17/20\n",
            "30/30 [==============================] - 0s 16ms/step - loss: 0.0214 - accuracy: 0.9971 - val_loss: 0.5281 - val_accuracy: 0.8714\n",
            "Epoch 18/20\n",
            "30/30 [==============================] - 0s 16ms/step - loss: 0.0200 - accuracy: 0.9967 - val_loss: 0.5351 - val_accuracy: 0.8713\n",
            "Epoch 19/20\n",
            "30/30 [==============================] - 0s 16ms/step - loss: 0.0163 - accuracy: 0.9969 - val_loss: 0.5582 - val_accuracy: 0.8705\n",
            "Epoch 20/20\n",
            "30/30 [==============================] - 0s 16ms/step - loss: 0.0103 - accuracy: 0.9991 - val_loss: 0.5845 - val_accuracy: 0.8708\n"
          ]
        }
      ],
      "source": [
        "(train_data, train_labels), _ = imdb.load_data(num_words=10000)\n",
        "common_stop_words=[\"a\",\"an\",\"and\",\"the\",\"in\",\"of\",\"to\",\"that\",\"this\",\"for\"]\n",
        "\n",
        "def delete_common_stop_words(train_data, common_stop_words):\n",
        "    word_index = imdb.get_word_index()\n",
        "    for i in range(len(common_stop_words)):\n",
        "      if word_index[common_stop_words[i]]:\n",
        "         common_stop_word_index = word_index[common_stop_words[i]]\n",
        "         for i in range(len(train_data)):\n",
        "            for j in range(len(train_data[i])):\n",
        "              if common_stop_word_index in train_data[i]:\n",
        "                train_data[i].remove(common_stop_word_index)\n",
        "    return train_data\n",
        "\n",
        "def vectorize_sequences(sequences, dimension=10000):\n",
        "    results = np.zeros((len(sequences), dimension))\n",
        "    for i, sequence in enumerate(sequences):\n",
        "        results[i, sequence] = 1.\n",
        "    return results\n",
        "\n",
        "train_data = delete_common_stop_words(train_data, common_stop_words)\n",
        "train_data = vectorize_sequences(train_data)\n",
        "\n",
        "model = keras.Sequential([\n",
        "    layers.Dense(16, activation=\"relu\"),\n",
        "    layers.Dense(16, activation=\"relu\"),\n",
        "    layers.Dense(1, activation=\"sigmoid\")\n",
        "])\n",
        "model.compile(optimizer=\"rmsprop\",\n",
        "              loss=\"binary_crossentropy\",\n",
        "              metrics=[\"accuracy\"])\n",
        "Practice_Run  = model.fit(train_data, train_labels,\n",
        "                             epochs=20, batch_size=512, validation_split=0.4)"
      ]
    },
    {
      "cell_type": "markdown",
      "metadata": {
        "id": "nGgHQ6Uefh2m"
      },
      "source": [
        "### Using early stopping"
      ]
    },
    {
      "cell_type": "markdown",
      "metadata": {
        "id": "BXXNudUkb1qb"
      },
      "source": [
        "We could using early stopping class in the Keras library to accomplish this step\n",
        "\n",
        "**Original model**"
      ]
    },
    {
      "cell_type": "code",
      "execution_count": 7,
      "metadata": {
        "colab": {
          "base_uri": "https://localhost:8080/"
        },
        "id": "JshHGpZ8dS4s",
        "outputId": "d5fd4159-3b1c-4a36-ce7e-e5e54061e634"
      },
      "outputs": [
        {
          "name": "stdout",
          "output_type": "stream",
          "text": [
            "Epoch 1/50\n",
            "30/30 [==============================] - 3s 65ms/step - loss: 0.5333 - accuracy: 0.7663 - val_loss: 0.4068 - val_accuracy: 0.8519\n",
            "Epoch 2/50\n",
            "30/30 [==============================] - 1s 25ms/step - loss: 0.3274 - accuracy: 0.8913 - val_loss: 0.3289 - val_accuracy: 0.8764\n",
            "Epoch 3/50\n",
            "30/30 [==============================] - 0s 16ms/step - loss: 0.2402 - accuracy: 0.9219 - val_loss: 0.2977 - val_accuracy: 0.8827\n",
            "Epoch 4/50\n",
            "30/30 [==============================] - 0s 16ms/step - loss: 0.1995 - accuracy: 0.9343 - val_loss: 0.2856 - val_accuracy: 0.8840\n",
            "Epoch 5/50\n",
            "30/30 [==============================] - 0s 16ms/step - loss: 0.1654 - accuracy: 0.9459 - val_loss: 0.2982 - val_accuracy: 0.8798\n",
            "Epoch 6/50\n",
            "30/30 [==============================] - 1s 23ms/step - loss: 0.1427 - accuracy: 0.9538 - val_loss: 0.2853 - val_accuracy: 0.8880\n",
            "Epoch 7/50\n",
            "30/30 [==============================] - 0s 16ms/step - loss: 0.1234 - accuracy: 0.9621 - val_loss: 0.2949 - val_accuracy: 0.8854\n",
            "Epoch 8/50\n",
            "30/30 [==============================] - 0s 16ms/step - loss: 0.1070 - accuracy: 0.9673 - val_loss: 0.3108 - val_accuracy: 0.8842\n",
            "Epoch 9/50\n",
            "30/30 [==============================] - 0s 16ms/step - loss: 0.0946 - accuracy: 0.9719 - val_loss: 0.3426 - val_accuracy: 0.8776\n",
            "Epoch 10/50\n",
            "30/30 [==============================] - 0s 16ms/step - loss: 0.0814 - accuracy: 0.9785 - val_loss: 0.3426 - val_accuracy: 0.8805\n",
            "Epoch 11/50\n",
            "30/30 [==============================] - 1s 19ms/step - loss: 0.0719 - accuracy: 0.9811 - val_loss: 0.3581 - val_accuracy: 0.8798\n",
            "Epoch 12/50\n",
            "30/30 [==============================] - 0s 16ms/step - loss: 0.0589 - accuracy: 0.9859 - val_loss: 0.3786 - val_accuracy: 0.8774\n",
            "Epoch 13/50\n",
            "30/30 [==============================] - 0s 16ms/step - loss: 0.0568 - accuracy: 0.9849 - val_loss: 0.4155 - val_accuracy: 0.8725\n",
            "Epoch 14/50\n",
            "30/30 [==============================] - 0s 16ms/step - loss: 0.0471 - accuracy: 0.9889 - val_loss: 0.4208 - val_accuracy: 0.8753\n",
            "Epoch 15/50\n",
            "30/30 [==============================] - 0s 16ms/step - loss: 0.0390 - accuracy: 0.9915 - val_loss: 0.4589 - val_accuracy: 0.8711\n",
            "Epoch 16/50\n",
            "30/30 [==============================] - 0s 16ms/step - loss: 0.0369 - accuracy: 0.9921 - val_loss: 0.4650 - val_accuracy: 0.8715\n",
            "Epoch 17/50\n",
            "30/30 [==============================] - 0s 16ms/step - loss: 0.0341 - accuracy: 0.9925 - val_loss: 0.4826 - val_accuracy: 0.8723\n",
            "Epoch 18/50\n",
            "30/30 [==============================] - 0s 16ms/step - loss: 0.0246 - accuracy: 0.9965 - val_loss: 0.5096 - val_accuracy: 0.8691\n",
            "Epoch 19/50\n",
            "30/30 [==============================] - 0s 16ms/step - loss: 0.0255 - accuracy: 0.9945 - val_loss: 0.5294 - val_accuracy: 0.8708\n",
            "Epoch 20/50\n",
            "30/30 [==============================] - 0s 16ms/step - loss: 0.0169 - accuracy: 0.9984 - val_loss: 0.6894 - val_accuracy: 0.8508\n",
            "Epoch 21/50\n",
            "30/30 [==============================] - 0s 16ms/step - loss: 0.0179 - accuracy: 0.9975 - val_loss: 0.6797 - val_accuracy: 0.8561\n",
            "Epoch 22/50\n",
            "30/30 [==============================] - 0s 16ms/step - loss: 0.0146 - accuracy: 0.9983 - val_loss: 0.6399 - val_accuracy: 0.8625\n",
            "Epoch 23/50\n",
            "30/30 [==============================] - 0s 16ms/step - loss: 0.0139 - accuracy: 0.9987 - val_loss: 0.6525 - val_accuracy: 0.8635\n",
            "Epoch 24/50\n",
            "30/30 [==============================] - 0s 16ms/step - loss: 0.0123 - accuracy: 0.9987 - val_loss: 0.6365 - val_accuracy: 0.8666\n",
            "Epoch 25/50\n",
            "30/30 [==============================] - 0s 15ms/step - loss: 0.0115 - accuracy: 0.9980 - val_loss: 0.6699 - val_accuracy: 0.8646\n",
            "Epoch 26/50\n",
            "30/30 [==============================] - 0s 16ms/step - loss: 0.0096 - accuracy: 0.9983 - val_loss: 0.6831 - val_accuracy: 0.8668\n",
            "Epoch 27/50\n",
            "30/30 [==============================] - 0s 16ms/step - loss: 0.0072 - accuracy: 0.9990 - val_loss: 0.7166 - val_accuracy: 0.8646\n",
            "Epoch 28/50\n",
            "30/30 [==============================] - 0s 16ms/step - loss: 0.0048 - accuracy: 0.9996 - val_loss: 0.7338 - val_accuracy: 0.8656\n",
            "Epoch 29/50\n",
            "30/30 [==============================] - 0s 16ms/step - loss: 0.0099 - accuracy: 0.9971 - val_loss: 0.7469 - val_accuracy: 0.8653\n",
            "Epoch 30/50\n",
            "30/30 [==============================] - 1s 18ms/step - loss: 0.0035 - accuracy: 0.9997 - val_loss: 0.7694 - val_accuracy: 0.8657\n",
            "Epoch 31/50\n",
            "30/30 [==============================] - 0s 16ms/step - loss: 0.0115 - accuracy: 0.9965 - val_loss: 0.7844 - val_accuracy: 0.8664\n",
            "Epoch 32/50\n",
            "30/30 [==============================] - 0s 16ms/step - loss: 0.0026 - accuracy: 0.9998 - val_loss: 0.7952 - val_accuracy: 0.8663\n",
            "Epoch 33/50\n",
            "30/30 [==============================] - 0s 16ms/step - loss: 0.0085 - accuracy: 0.9977 - val_loss: 0.8179 - val_accuracy: 0.8664\n",
            "Epoch 34/50\n",
            "30/30 [==============================] - 0s 16ms/step - loss: 0.0021 - accuracy: 0.9999 - val_loss: 0.8274 - val_accuracy: 0.8659\n",
            "Epoch 35/50\n",
            "30/30 [==============================] - 0s 16ms/step - loss: 0.0019 - accuracy: 0.9999 - val_loss: 0.8723 - val_accuracy: 0.8627\n",
            "Epoch 36/50\n",
            "30/30 [==============================] - 0s 16ms/step - loss: 0.0063 - accuracy: 0.9987 - val_loss: 0.8612 - val_accuracy: 0.8660\n",
            "Epoch 37/50\n",
            "30/30 [==============================] - 0s 16ms/step - loss: 0.0016 - accuracy: 1.0000 - val_loss: 0.8862 - val_accuracy: 0.8650\n",
            "Epoch 38/50\n",
            "30/30 [==============================] - 0s 16ms/step - loss: 0.0067 - accuracy: 0.9983 - val_loss: 0.9081 - val_accuracy: 0.8655\n",
            "Epoch 39/50\n",
            "30/30 [==============================] - 0s 16ms/step - loss: 0.0012 - accuracy: 1.0000 - val_loss: 0.9138 - val_accuracy: 0.8648\n",
            "Epoch 40/50\n",
            "30/30 [==============================] - 0s 16ms/step - loss: 0.0059 - accuracy: 0.9985 - val_loss: 0.9363 - val_accuracy: 0.8648\n",
            "Epoch 41/50\n",
            "30/30 [==============================] - 0s 16ms/step - loss: 0.0010 - accuracy: 1.0000 - val_loss: 0.9436 - val_accuracy: 0.8648\n",
            "Epoch 42/50\n",
            "30/30 [==============================] - 0s 16ms/step - loss: 8.8434e-04 - accuracy: 1.0000 - val_loss: 0.9618 - val_accuracy: 0.8650\n",
            "Epoch 43/50\n",
            "30/30 [==============================] - 1s 17ms/step - loss: 0.0054 - accuracy: 0.9985 - val_loss: 0.9879 - val_accuracy: 0.8654\n",
            "Epoch 44/50\n",
            "30/30 [==============================] - 1s 17ms/step - loss: 7.0358e-04 - accuracy: 1.0000 - val_loss: 0.9962 - val_accuracy: 0.8650\n",
            "Epoch 45/50\n",
            "30/30 [==============================] - 1s 18ms/step - loss: 6.4326e-04 - accuracy: 1.0000 - val_loss: 1.0153 - val_accuracy: 0.8650\n",
            "Epoch 46/50\n",
            "30/30 [==============================] - 1s 23ms/step - loss: 0.0052 - accuracy: 0.9983 - val_loss: 1.0320 - val_accuracy: 0.8645\n",
            "Epoch 47/50\n",
            "30/30 [==============================] - 1s 22ms/step - loss: 5.5316e-04 - accuracy: 1.0000 - val_loss: 1.0393 - val_accuracy: 0.8649\n",
            "Epoch 48/50\n",
            "30/30 [==============================] - 1s 17ms/step - loss: 5.0702e-04 - accuracy: 1.0000 - val_loss: 1.0518 - val_accuracy: 0.8650\n",
            "Epoch 49/50\n",
            "30/30 [==============================] - 1s 17ms/step - loss: 5.3414e-04 - accuracy: 1.0000 - val_loss: 1.2231 - val_accuracy: 0.8581\n",
            "Epoch 50/50\n",
            "30/30 [==============================] - 0s 17ms/step - loss: 6.3233e-04 - accuracy: 1.0000 - val_loss: 1.1006 - val_accuracy: 0.8646\n"
          ]
        }
      ],
      "source": [
        "(train_data, train_labels), _ = imdb.load_data(num_words=10000)\n",
        "\n",
        "def vectorize_sequences(sequences, dimension=10000):\n",
        "    results = np.zeros((len(sequences), dimension))\n",
        "    for i, sequence in enumerate(sequences):\n",
        "        results[i, sequence] = 1.\n",
        "    return results\n",
        "\n",
        "train_data = vectorize_sequences(train_data)\n",
        "\n",
        "model = keras.Sequential([\n",
        "    layers.Dense(16, activation=\"relu\"),\n",
        "    layers.Dense(16, activation=\"relu\"),\n",
        "    layers.Dense(1, activation=\"sigmoid\")\n",
        "])\n",
        "model.compile(optimizer=\"rmsprop\",\n",
        "              loss=\"binary_crossentropy\",\n",
        "              metrics=[\"accuracy\"])\n",
        "history_original = model.fit(train_data, train_labels,\n",
        "                             epochs=50, batch_size=512, validation_split=0.4)"
      ]
    },
    {
      "cell_type": "markdown",
      "metadata": {
        "id": "TaYugD7Ai2RY"
      },
      "source": [
        "So we could apply the early stopping method as shown below"
      ]
    },
    {
      "cell_type": "markdown",
      "metadata": {
        "id": "-tCmlMFCdePV"
      },
      "source": [
        "**Practice**"
      ]
    },
    {
      "cell_type": "code",
      "execution_count": 8,
      "metadata": {
        "colab": {
          "base_uri": "https://localhost:8080/"
        },
        "id": "pYlyv-qKdhjL",
        "outputId": "3bf65d89-2a17-45bf-c0fe-bb7487823d61"
      },
      "outputs": [
        {
          "name": "stdout",
          "output_type": "stream",
          "text": [
            "Epoch 1/50\n",
            "30/30 [==============================] - 4s 99ms/step - loss: 0.5711 - accuracy: 0.7455 - val_loss: 0.4388 - val_accuracy: 0.8673\n",
            "Epoch 2/50\n",
            "30/30 [==============================] - 1s 36ms/step - loss: 0.3578 - accuracy: 0.8913 - val_loss: 0.3280 - val_accuracy: 0.8849\n",
            "Epoch 3/50\n",
            "30/30 [==============================] - 1s 19ms/step - loss: 0.2604 - accuracy: 0.9191 - val_loss: 0.3262 - val_accuracy: 0.8675\n",
            "Epoch 4/50\n",
            "30/30 [==============================] - 1s 17ms/step - loss: 0.2067 - accuracy: 0.9341 - val_loss: 0.3007 - val_accuracy: 0.8794\n",
            "Epoch 5/50\n",
            "30/30 [==============================] - 1s 18ms/step - loss: 0.1736 - accuracy: 0.9443 - val_loss: 0.2805 - val_accuracy: 0.8887\n",
            "Epoch 6/50\n",
            "30/30 [==============================] - 0s 17ms/step - loss: 0.1451 - accuracy: 0.9554 - val_loss: 0.2861 - val_accuracy: 0.8883\n",
            "Epoch 7/50\n",
            "30/30 [==============================] - 0s 16ms/step - loss: 0.1261 - accuracy: 0.9615 - val_loss: 0.2946 - val_accuracy: 0.8867\n",
            "Epoch 8/50\n",
            "30/30 [==============================] - 0s 16ms/step - loss: 0.1084 - accuracy: 0.9680 - val_loss: 0.3163 - val_accuracy: 0.8845\n",
            "Epoch 9/50\n",
            "30/30 [==============================] - 1s 17ms/step - loss: 0.0918 - accuracy: 0.9743 - val_loss: 0.3269 - val_accuracy: 0.8804\n",
            "Epoch 10/50\n",
            "30/30 [==============================] - 0s 17ms/step - loss: 0.0783 - accuracy: 0.9789 - val_loss: 0.3588 - val_accuracy: 0.8774\n",
            "Epoch 11/50\n",
            "30/30 [==============================] - 1s 17ms/step - loss: 0.0681 - accuracy: 0.9835 - val_loss: 0.3666 - val_accuracy: 0.8794\n",
            "Epoch 12/50\n",
            "30/30 [==============================] - 1s 17ms/step - loss: 0.0598 - accuracy: 0.9850 - val_loss: 0.4028 - val_accuracy: 0.8737\n",
            "Epoch 13/50\n",
            "30/30 [==============================] - 1s 17ms/step - loss: 0.0505 - accuracy: 0.9877 - val_loss: 0.4026 - val_accuracy: 0.8765\n",
            "Epoch 14/50\n",
            "30/30 [==============================] - 0s 16ms/step - loss: 0.0435 - accuracy: 0.9907 - val_loss: 0.4234 - val_accuracy: 0.8753\n",
            "Epoch 15/50\n",
            "30/30 [==============================] - 0s 16ms/step - loss: 0.0355 - accuracy: 0.9927 - val_loss: 0.4491 - val_accuracy: 0.8732\n",
            "Epoch 16/50\n",
            "30/30 [==============================] - 1s 17ms/step - loss: 0.0314 - accuracy: 0.9943 - val_loss: 0.4730 - val_accuracy: 0.8725\n",
            "Epoch 17/50\n",
            "30/30 [==============================] - 0s 16ms/step - loss: 0.0260 - accuracy: 0.9959 - val_loss: 0.5073 - val_accuracy: 0.8712\n",
            "Epoch 18/50\n",
            "30/30 [==============================] - 0s 16ms/step - loss: 0.0263 - accuracy: 0.9947 - val_loss: 0.5219 - val_accuracy: 0.8709\n",
            "Epoch 19/50\n",
            "30/30 [==============================] - 0s 16ms/step - loss: 0.0224 - accuracy: 0.9954 - val_loss: 0.5401 - val_accuracy: 0.8688\n",
            "Epoch 20/50\n",
            "30/30 [==============================] - 0s 16ms/step - loss: 0.0141 - accuracy: 0.9988 - val_loss: 0.5729 - val_accuracy: 0.8701\n",
            "Epoch 21/50\n",
            "30/30 [==============================] - 1s 18ms/step - loss: 0.0199 - accuracy: 0.9961 - val_loss: 0.5841 - val_accuracy: 0.8686\n",
            "Epoch 22/50\n",
            "30/30 [==============================] - 0s 17ms/step - loss: 0.0112 - accuracy: 0.9986 - val_loss: 0.6114 - val_accuracy: 0.8683\n",
            "Epoch 23/50\n",
            "30/30 [==============================] - 0s 16ms/step - loss: 0.0164 - accuracy: 0.9959 - val_loss: 0.6262 - val_accuracy: 0.8687\n",
            "Epoch 24/50\n",
            "30/30 [==============================] - 0s 16ms/step - loss: 0.0073 - accuracy: 0.9991 - val_loss: 0.6429 - val_accuracy: 0.8678\n",
            "Epoch 25/50\n",
            "30/30 [==============================] - 0s 16ms/step - loss: 0.0103 - accuracy: 0.9979 - val_loss: 0.6626 - val_accuracy: 0.8688\n",
            "Epoch 26/50\n",
            "30/30 [==============================] - 0s 16ms/step - loss: 0.0060 - accuracy: 0.9995 - val_loss: 0.7302 - val_accuracy: 0.8660\n",
            "Epoch 27/50\n",
            "30/30 [==============================] - 0s 16ms/step - loss: 0.0108 - accuracy: 0.9972 - val_loss: 0.7082 - val_accuracy: 0.8677\n",
            "Epoch 28/50\n",
            "30/30 [==============================] - 0s 16ms/step - loss: 0.0040 - accuracy: 0.9995 - val_loss: 0.7270 - val_accuracy: 0.8675\n",
            "Epoch 29/50\n",
            "30/30 [==============================] - 0s 17ms/step - loss: 0.0078 - accuracy: 0.9982 - val_loss: 0.7431 - val_accuracy: 0.8677\n",
            "Epoch 30/50\n",
            "30/30 [==============================] - 0s 17ms/step - loss: 0.0030 - accuracy: 0.9997 - val_loss: 0.7648 - val_accuracy: 0.8669\n",
            "Epoch 31/50\n",
            "30/30 [==============================] - 0s 16ms/step - loss: 0.0070 - accuracy: 0.9982 - val_loss: 0.7898 - val_accuracy: 0.8666\n",
            "Epoch 32/50\n",
            "30/30 [==============================] - 0s 16ms/step - loss: 0.0022 - accuracy: 0.9999 - val_loss: 0.8049 - val_accuracy: 0.8670\n",
            "Epoch 33/50\n",
            "30/30 [==============================] - 0s 16ms/step - loss: 0.0104 - accuracy: 0.9965 - val_loss: 0.8575 - val_accuracy: 0.8638\n",
            "Epoch 34/50\n",
            "30/30 [==============================] - 0s 16ms/step - loss: 0.0019 - accuracy: 0.9999 - val_loss: 0.8359 - val_accuracy: 0.8664\n",
            "Epoch 35/50\n",
            "30/30 [==============================] - 0s 16ms/step - loss: 0.0016 - accuracy: 0.9999 - val_loss: 0.8516 - val_accuracy: 0.8666\n",
            "Epoch 36/50\n",
            "30/30 [==============================] - 0s 16ms/step - loss: 0.0053 - accuracy: 0.9984 - val_loss: 0.8747 - val_accuracy: 0.8673\n",
            "Epoch 37/50\n",
            "28/30 [===========================>..] - ETA: 0s - loss: 0.0013 - accuracy: 0.9999Restoring model weights from the end of the best epoch: 32.\n",
            "30/30 [==============================] - 0s 16ms/step - loss: 0.0012 - accuracy: 0.9999 - val_loss: 0.8823 - val_accuracy: 0.8679\n",
            "Epoch 37: early stopping\n"
          ]
        }
      ],
      "source": [
        "callback = tf.keras.callbacks.EarlyStopping(\n",
        "    monitor=\"accuracy\",\n",
        "    min_delta=0,\n",
        "    patience=5,\n",
        "    verbose=1,\n",
        "    mode=\"auto\",\n",
        "    baseline=0.9,\n",
        "    restore_best_weights=True,\n",
        "    start_from_epoch=0,\n",
        ")\n",
        "model = keras.Sequential([\n",
        "    layers.Dense(16, activation=\"relu\"),\n",
        "    layers.Dense(16, activation=\"relu\"),\n",
        "    layers.Dense(1, activation=\"sigmoid\")\n",
        "])\n",
        "\n",
        "\n",
        "model.compile(optimizer=\"rmsprop\",\n",
        "              loss=\"binary_crossentropy\",\n",
        "              metrics=[\"accuracy\"])\n",
        "history_practice = model.fit(train_data, train_labels,\n",
        "                             epochs=50, batch_size=512, validation_split=0.4, callbacks=[callback])"
      ]
    },
    {
      "cell_type": "code",
      "execution_count": 9,
      "metadata": {
        "colab": {
          "base_uri": "https://localhost:8080/"
        },
        "id": "uiJ2fBxElPfH",
        "outputId": "009b207f-93c8-4907-b6a2-16eb9d6d511f"
      },
      "outputs": [
        {
          "data": {
            "text/plain": [
              "37"
            ]
          },
          "execution_count": 9,
          "metadata": {},
          "output_type": "execute_result"
        }
      ],
      "source": [
        "len(history_practice.history['loss'])"
      ]
    },
    {
      "attachments": {},
      "cell_type": "markdown",
      "metadata": {
        "id": "fqOOWtKfiKKb"
      },
      "source": [
        "From the experiments above we could saw that the early stopping take action in the epoch 37 with the accuracy of 0.9999. This is our best results so far and it does save a lot of computing resources"
      ]
    },
    {
      "cell_type": "markdown",
      "metadata": {
        "id": "PBgGIbcIfh2m"
      },
      "source": [
        "### Regularizing your model"
      ]
    },
    {
      "cell_type": "markdown",
      "metadata": {
        "id": "taFSCdtDfh2m"
      },
      "source": [
        "#### Reducing the network's size"
      ]
    },
    {
      "cell_type": "markdown",
      "metadata": {
        "id": "7LAdXfPKfh2m"
      },
      "source": [
        "**Original model**"
      ]
    },
    {
      "cell_type": "code",
      "execution_count": 10,
      "metadata": {
        "colab": {
          "base_uri": "https://localhost:8080/"
        },
        "id": "q4yxnPpLfh2n",
        "outputId": "8565047b-6a5b-4618-a32e-2c3fab0a8c37"
      },
      "outputs": [
        {
          "name": "stdout",
          "output_type": "stream",
          "text": [
            "Epoch 1/20\n",
            "30/30 [==============================] - 3s 72ms/step - loss: 0.5575 - accuracy: 0.7585 - val_loss: 0.4352 - val_accuracy: 0.8604\n",
            "Epoch 2/20\n",
            "30/30 [==============================] - 1s 20ms/step - loss: 0.3561 - accuracy: 0.8901 - val_loss: 0.3314 - val_accuracy: 0.8809\n",
            "Epoch 3/20\n",
            "30/30 [==============================] - 1s 19ms/step - loss: 0.2671 - accuracy: 0.9127 - val_loss: 0.2924 - val_accuracy: 0.8892\n",
            "Epoch 4/20\n",
            "30/30 [==============================] - 0s 16ms/step - loss: 0.2160 - accuracy: 0.9282 - val_loss: 0.2783 - val_accuracy: 0.8888\n",
            "Epoch 5/20\n",
            "30/30 [==============================] - 1s 19ms/step - loss: 0.1821 - accuracy: 0.9386 - val_loss: 0.2744 - val_accuracy: 0.8915\n",
            "Epoch 6/20\n",
            "30/30 [==============================] - 0s 16ms/step - loss: 0.1555 - accuracy: 0.9503 - val_loss: 0.2766 - val_accuracy: 0.8895\n",
            "Epoch 7/20\n",
            "30/30 [==============================] - 0s 17ms/step - loss: 0.1359 - accuracy: 0.9563 - val_loss: 0.2931 - val_accuracy: 0.8850\n",
            "Epoch 8/20\n",
            "30/30 [==============================] - 1s 17ms/step - loss: 0.1147 - accuracy: 0.9659 - val_loss: 0.3206 - val_accuracy: 0.8797\n",
            "Epoch 9/20\n",
            "30/30 [==============================] - 0s 15ms/step - loss: 0.0999 - accuracy: 0.9713 - val_loss: 0.3124 - val_accuracy: 0.8838\n",
            "Epoch 10/20\n",
            "30/30 [==============================] - 0s 16ms/step - loss: 0.0872 - accuracy: 0.9764 - val_loss: 0.3377 - val_accuracy: 0.8795\n",
            "Epoch 11/20\n",
            "30/30 [==============================] - 0s 16ms/step - loss: 0.0749 - accuracy: 0.9807 - val_loss: 0.3391 - val_accuracy: 0.8808\n",
            "Epoch 12/20\n",
            "30/30 [==============================] - 0s 16ms/step - loss: 0.0651 - accuracy: 0.9843 - val_loss: 0.3532 - val_accuracy: 0.8801\n",
            "Epoch 13/20\n",
            "30/30 [==============================] - 0s 16ms/step - loss: 0.0560 - accuracy: 0.9869 - val_loss: 0.3720 - val_accuracy: 0.8785\n",
            "Epoch 14/20\n",
            "30/30 [==============================] - 0s 16ms/step - loss: 0.0465 - accuracy: 0.9904 - val_loss: 0.3921 - val_accuracy: 0.8779\n",
            "Epoch 15/20\n",
            "30/30 [==============================] - 1s 18ms/step - loss: 0.0404 - accuracy: 0.9924 - val_loss: 0.4101 - val_accuracy: 0.8760\n",
            "Epoch 16/20\n",
            "30/30 [==============================] - 0s 16ms/step - loss: 0.0346 - accuracy: 0.9925 - val_loss: 0.4412 - val_accuracy: 0.8731\n",
            "Epoch 17/20\n",
            "30/30 [==============================] - 0s 16ms/step - loss: 0.0265 - accuracy: 0.9961 - val_loss: 0.4704 - val_accuracy: 0.8708\n",
            "Epoch 18/20\n",
            "30/30 [==============================] - 0s 16ms/step - loss: 0.0229 - accuracy: 0.9964 - val_loss: 0.4841 - val_accuracy: 0.8730\n",
            "Epoch 19/20\n",
            "30/30 [==============================] - 0s 16ms/step - loss: 0.0209 - accuracy: 0.9968 - val_loss: 0.5006 - val_accuracy: 0.8729\n",
            "Epoch 20/20\n",
            "30/30 [==============================] - 0s 15ms/step - loss: 0.0160 - accuracy: 0.9977 - val_loss: 0.5199 - val_accuracy: 0.8732\n"
          ]
        }
      ],
      "source": [
        "(train_data, train_labels), _ = imdb.load_data(num_words=10000)\n",
        "\n",
        "def vectorize_sequences(sequences, dimension=10000):\n",
        "    results = np.zeros((len(sequences), dimension))\n",
        "    for i, sequence in enumerate(sequences):\n",
        "        results[i, sequence] = 1.\n",
        "    return results\n",
        "\n",
        "train_data = vectorize_sequences(train_data)\n",
        "\n",
        "model = keras.Sequential([\n",
        "    layers.Dense(16, activation=\"relu\"),\n",
        "    layers.Dense(16, activation=\"relu\"),\n",
        "    layers.Dense(1, activation=\"sigmoid\")\n",
        "])\n",
        "model.compile(optimizer=\"rmsprop\",\n",
        "              loss=\"binary_crossentropy\",\n",
        "              metrics=[\"accuracy\"])\n",
        "history_original = model.fit(train_data, train_labels,\n",
        "                             epochs=20, batch_size=512, validation_split=0.4)"
      ]
    },
    {
      "cell_type": "markdown",
      "metadata": {
        "id": "DY5E806Mfh2n"
      },
      "source": [
        "**Version of the model with lower capacity**"
      ]
    },
    {
      "cell_type": "code",
      "execution_count": 11,
      "metadata": {
        "colab": {
          "base_uri": "https://localhost:8080/"
        },
        "id": "T-egiCtbfh2n",
        "outputId": "0a68e8dc-8938-4589-c302-00daf5899b1d"
      },
      "outputs": [
        {
          "name": "stdout",
          "output_type": "stream",
          "text": [
            "Epoch 1/20\n",
            "30/30 [==============================] - 3s 63ms/step - loss: 0.6216 - accuracy: 0.6574 - val_loss: 0.5721 - val_accuracy: 0.8186\n",
            "Epoch 2/20\n",
            "30/30 [==============================] - 1s 26ms/step - loss: 0.5160 - accuracy: 0.8071 - val_loss: 0.4987 - val_accuracy: 0.8224\n",
            "Epoch 3/20\n",
            "30/30 [==============================] - 1s 20ms/step - loss: 0.4293 - accuracy: 0.8846 - val_loss: 0.4207 - val_accuracy: 0.8720\n",
            "Epoch 4/20\n",
            "30/30 [==============================] - 1s 20ms/step - loss: 0.3395 - accuracy: 0.9163 - val_loss: 0.3594 - val_accuracy: 0.8738\n",
            "Epoch 5/20\n",
            "30/30 [==============================] - 0s 16ms/step - loss: 0.2692 - accuracy: 0.9321 - val_loss: 0.3183 - val_accuracy: 0.8869\n",
            "Epoch 6/20\n",
            "30/30 [==============================] - 0s 16ms/step - loss: 0.2222 - accuracy: 0.9418 - val_loss: 0.2983 - val_accuracy: 0.8874\n",
            "Epoch 7/20\n",
            "30/30 [==============================] - 1s 19ms/step - loss: 0.1896 - accuracy: 0.9494 - val_loss: 0.2854 - val_accuracy: 0.8887\n",
            "Epoch 8/20\n",
            "30/30 [==============================] - 1s 20ms/step - loss: 0.1655 - accuracy: 0.9557 - val_loss: 0.2817 - val_accuracy: 0.8892\n",
            "Epoch 9/20\n",
            "30/30 [==============================] - 1s 17ms/step - loss: 0.1472 - accuracy: 0.9603 - val_loss: 0.2817 - val_accuracy: 0.8887\n",
            "Epoch 10/20\n",
            "30/30 [==============================] - 1s 17ms/step - loss: 0.1320 - accuracy: 0.9647 - val_loss: 0.2863 - val_accuracy: 0.8873\n",
            "Epoch 11/20\n",
            "30/30 [==============================] - 1s 21ms/step - loss: 0.1181 - accuracy: 0.9697 - val_loss: 0.2903 - val_accuracy: 0.8864\n",
            "Epoch 12/20\n",
            "30/30 [==============================] - 0s 15ms/step - loss: 0.1079 - accuracy: 0.9719 - val_loss: 0.2977 - val_accuracy: 0.8852\n",
            "Epoch 13/20\n",
            "30/30 [==============================] - 1s 18ms/step - loss: 0.0967 - accuracy: 0.9763 - val_loss: 0.3106 - val_accuracy: 0.8848\n",
            "Epoch 14/20\n",
            "30/30 [==============================] - 1s 19ms/step - loss: 0.0882 - accuracy: 0.9789 - val_loss: 0.3209 - val_accuracy: 0.8812\n",
            "Epoch 15/20\n",
            "30/30 [==============================] - 0s 16ms/step - loss: 0.0799 - accuracy: 0.9811 - val_loss: 0.3271 - val_accuracy: 0.8818\n",
            "Epoch 16/20\n",
            "30/30 [==============================] - 0s 15ms/step - loss: 0.0727 - accuracy: 0.9845 - val_loss: 0.3514 - val_accuracy: 0.8782\n",
            "Epoch 17/20\n",
            "30/30 [==============================] - 0s 15ms/step - loss: 0.0657 - accuracy: 0.9863 - val_loss: 0.3493 - val_accuracy: 0.8792\n",
            "Epoch 18/20\n",
            "30/30 [==============================] - 0s 15ms/step - loss: 0.0600 - accuracy: 0.9869 - val_loss: 0.3644 - val_accuracy: 0.8776\n",
            "Epoch 19/20\n",
            "30/30 [==============================] - 0s 16ms/step - loss: 0.0531 - accuracy: 0.9894 - val_loss: 0.3778 - val_accuracy: 0.8783\n",
            "Epoch 20/20\n",
            "30/30 [==============================] - 0s 15ms/step - loss: 0.0489 - accuracy: 0.9905 - val_loss: 0.4019 - val_accuracy: 0.8747\n"
          ]
        }
      ],
      "source": [
        "model = keras.Sequential([\n",
        "    layers.Dense(4, activation=\"relu\"),\n",
        "    layers.Dense(4, activation=\"relu\"),\n",
        "    layers.Dense(1, activation=\"sigmoid\")\n",
        "])\n",
        "model.compile(optimizer=\"rmsprop\",\n",
        "              loss=\"binary_crossentropy\",\n",
        "              metrics=[\"accuracy\"])\n",
        "history_smaller_model = model.fit(\n",
        "    train_data, train_labels,\n",
        "    epochs=20, batch_size=512, validation_split=0.4)"
      ]
    },
    {
      "cell_type": "markdown",
      "metadata": {
        "id": "uVD6-KfSfh2n"
      },
      "source": [
        "**Version of the model with higher capacity**"
      ]
    },
    {
      "cell_type": "code",
      "execution_count": 12,
      "metadata": {
        "colab": {
          "base_uri": "https://localhost:8080/"
        },
        "id": "7QmF24wMfh2n",
        "outputId": "5900042e-5ae2-4518-dfd8-82be65360ed0"
      },
      "outputs": [
        {
          "name": "stdout",
          "output_type": "stream",
          "text": [
            "Epoch 1/20\n",
            "30/30 [==============================] - 7s 204ms/step - loss: 0.5583 - accuracy: 0.7172 - val_loss: 0.3391 - val_accuracy: 0.8692\n",
            "Epoch 2/20\n",
            "30/30 [==============================] - 3s 104ms/step - loss: 0.3138 - accuracy: 0.8699 - val_loss: 0.2842 - val_accuracy: 0.8840\n",
            "Epoch 3/20\n",
            "30/30 [==============================] - 3s 101ms/step - loss: 0.2295 - accuracy: 0.9081 - val_loss: 0.3785 - val_accuracy: 0.8491\n",
            "Epoch 4/20\n",
            "30/30 [==============================] - 3s 100ms/step - loss: 0.1730 - accuracy: 0.9326 - val_loss: 0.2905 - val_accuracy: 0.8905\n",
            "Epoch 5/20\n",
            "30/30 [==============================] - 3s 99ms/step - loss: 0.1452 - accuracy: 0.9464 - val_loss: 0.3415 - val_accuracy: 0.8593\n",
            "Epoch 6/20\n",
            "30/30 [==============================] - 3s 102ms/step - loss: 0.0997 - accuracy: 0.9663 - val_loss: 0.3279 - val_accuracy: 0.8878\n",
            "Epoch 7/20\n",
            "30/30 [==============================] - 3s 105ms/step - loss: 0.0861 - accuracy: 0.9742 - val_loss: 0.3429 - val_accuracy: 0.8862\n",
            "Epoch 8/20\n",
            "30/30 [==============================] - 3s 100ms/step - loss: 0.0735 - accuracy: 0.9813 - val_loss: 0.3080 - val_accuracy: 0.8855\n",
            "Epoch 9/20\n",
            "30/30 [==============================] - 3s 99ms/step - loss: 0.0161 - accuracy: 0.9987 - val_loss: 0.4334 - val_accuracy: 0.8855\n",
            "Epoch 10/20\n",
            "30/30 [==============================] - 3s 100ms/step - loss: 0.0908 - accuracy: 0.9779 - val_loss: 0.3886 - val_accuracy: 0.8855\n",
            "Epoch 11/20\n",
            "30/30 [==============================] - 3s 107ms/step - loss: 0.0066 - accuracy: 0.9995 - val_loss: 0.4825 - val_accuracy: 0.8858\n",
            "Epoch 12/20\n",
            "30/30 [==============================] - 3s 98ms/step - loss: 0.0840 - accuracy: 0.9809 - val_loss: 0.3862 - val_accuracy: 0.8861\n",
            "Epoch 13/20\n",
            "30/30 [==============================] - 3s 100ms/step - loss: 0.0048 - accuracy: 0.9999 - val_loss: 0.4912 - val_accuracy: 0.8863\n",
            "Epoch 14/20\n",
            "30/30 [==============================] - 3s 99ms/step - loss: 0.0019 - accuracy: 0.9999 - val_loss: 0.5652 - val_accuracy: 0.8867\n",
            "Epoch 15/20\n",
            "30/30 [==============================] - 3s 107ms/step - loss: 0.0916 - accuracy: 0.9818 - val_loss: 0.4535 - val_accuracy: 0.8848\n",
            "Epoch 16/20\n",
            "30/30 [==============================] - 3s 100ms/step - loss: 0.0027 - accuracy: 1.0000 - val_loss: 0.5207 - val_accuracy: 0.8864\n",
            "Epoch 17/20\n",
            "30/30 [==============================] - 3s 100ms/step - loss: 0.0012 - accuracy: 1.0000 - val_loss: 0.5917 - val_accuracy: 0.8864\n",
            "Epoch 18/20\n",
            "30/30 [==============================] - 3s 103ms/step - loss: 6.8593e-04 - accuracy: 1.0000 - val_loss: 0.6391 - val_accuracy: 0.8864\n",
            "Epoch 19/20\n",
            "30/30 [==============================] - 3s 100ms/step - loss: 0.0972 - accuracy: 0.9810 - val_loss: 0.5067 - val_accuracy: 0.8851\n",
            "Epoch 20/20\n",
            "30/30 [==============================] - 3s 102ms/step - loss: 0.0014 - accuracy: 1.0000 - val_loss: 0.5495 - val_accuracy: 0.8866\n"
          ]
        }
      ],
      "source": [
        "model = keras.Sequential([\n",
        "    layers.Dense(512, activation=\"relu\"),\n",
        "    layers.Dense(512, activation=\"relu\"),\n",
        "    layers.Dense(1, activation=\"sigmoid\")\n",
        "])\n",
        "model.compile(optimizer=\"rmsprop\",\n",
        "              loss=\"binary_crossentropy\",\n",
        "              metrics=[\"accuracy\"])\n",
        "history_larger_model = model.fit(\n",
        "    train_data, train_labels,\n",
        "    epochs=20, batch_size=512, validation_split=0.4)"
      ]
    },
    {
      "cell_type": "markdown",
      "metadata": {
        "id": "3ceEGm92fh2n"
      },
      "source": [
        "#### Adding weight regularization"
      ]
    },
    {
      "cell_type": "markdown",
      "metadata": {
        "id": "gQuk4Cj5fh2n"
      },
      "source": [
        "**Adding L2 weight regularization to the model**"
      ]
    },
    {
      "cell_type": "code",
      "execution_count": 13,
      "metadata": {
        "colab": {
          "base_uri": "https://localhost:8080/"
        },
        "id": "qaEnnCDNfh2n",
        "outputId": "51d0a6ba-eb6b-415d-a729-f9b7f27b588b"
      },
      "outputs": [
        {
          "name": "stdout",
          "output_type": "stream",
          "text": [
            "Epoch 1/20\n",
            "30/30 [==============================] - 4s 97ms/step - loss: 0.6544 - accuracy: 0.7656 - val_loss: 0.5184 - val_accuracy: 0.8583\n",
            "Epoch 2/20\n",
            "30/30 [==============================] - 1s 23ms/step - loss: 0.4437 - accuracy: 0.8843 - val_loss: 0.4404 - val_accuracy: 0.8578\n",
            "Epoch 3/20\n",
            "30/30 [==============================] - 1s 18ms/step - loss: 0.3593 - accuracy: 0.9027 - val_loss: 0.3767 - val_accuracy: 0.8852\n",
            "Epoch 4/20\n",
            "30/30 [==============================] - 1s 18ms/step - loss: 0.3145 - accuracy: 0.9181 - val_loss: 0.3582 - val_accuracy: 0.8888\n",
            "Epoch 5/20\n",
            "30/30 [==============================] - 0s 17ms/step - loss: 0.2865 - accuracy: 0.9263 - val_loss: 0.3549 - val_accuracy: 0.8877\n",
            "Epoch 6/20\n",
            "30/30 [==============================] - 1s 21ms/step - loss: 0.2704 - accuracy: 0.9339 - val_loss: 0.3828 - val_accuracy: 0.8735\n",
            "Epoch 7/20\n",
            "30/30 [==============================] - 0s 17ms/step - loss: 0.2548 - accuracy: 0.9401 - val_loss: 0.3562 - val_accuracy: 0.8852\n",
            "Epoch 8/20\n",
            "30/30 [==============================] - 1s 18ms/step - loss: 0.2471 - accuracy: 0.9432 - val_loss: 0.3600 - val_accuracy: 0.8853\n",
            "Epoch 9/20\n",
            "30/30 [==============================] - 0s 16ms/step - loss: 0.2363 - accuracy: 0.9474 - val_loss: 0.3626 - val_accuracy: 0.8839\n",
            "Epoch 10/20\n",
            "30/30 [==============================] - 0s 16ms/step - loss: 0.2291 - accuracy: 0.9509 - val_loss: 0.3784 - val_accuracy: 0.8787\n",
            "Epoch 11/20\n",
            "30/30 [==============================] - 0s 16ms/step - loss: 0.2237 - accuracy: 0.9519 - val_loss: 0.3756 - val_accuracy: 0.8804\n",
            "Epoch 12/20\n",
            "30/30 [==============================] - 1s 17ms/step - loss: 0.2213 - accuracy: 0.9519 - val_loss: 0.3786 - val_accuracy: 0.8791\n",
            "Epoch 13/20\n",
            "30/30 [==============================] - 0s 16ms/step - loss: 0.2163 - accuracy: 0.9529 - val_loss: 0.3861 - val_accuracy: 0.8776\n",
            "Epoch 14/20\n",
            "30/30 [==============================] - 0s 17ms/step - loss: 0.2119 - accuracy: 0.9553 - val_loss: 0.3855 - val_accuracy: 0.8763\n",
            "Epoch 15/20\n",
            "30/30 [==============================] - 0s 16ms/step - loss: 0.2087 - accuracy: 0.9581 - val_loss: 0.3883 - val_accuracy: 0.8777\n",
            "Epoch 16/20\n",
            "30/30 [==============================] - 0s 17ms/step - loss: 0.2028 - accuracy: 0.9605 - val_loss: 0.3941 - val_accuracy: 0.8768\n",
            "Epoch 17/20\n",
            "30/30 [==============================] - 1s 21ms/step - loss: 0.2077 - accuracy: 0.9571 - val_loss: 0.4015 - val_accuracy: 0.8757\n",
            "Epoch 18/20\n",
            "30/30 [==============================] - 0s 17ms/step - loss: 0.2005 - accuracy: 0.9622 - val_loss: 0.4268 - val_accuracy: 0.8728\n",
            "Epoch 19/20\n",
            "30/30 [==============================] - 0s 17ms/step - loss: 0.1917 - accuracy: 0.9672 - val_loss: 0.4823 - val_accuracy: 0.8577\n",
            "Epoch 20/20\n",
            "30/30 [==============================] - 0s 16ms/step - loss: 0.1960 - accuracy: 0.9618 - val_loss: 0.4125 - val_accuracy: 0.8761\n"
          ]
        }
      ],
      "source": [
        "model = keras.Sequential([\n",
        "    layers.Dense(16,\n",
        "                 kernel_regularizer=regularizers.l2(0.002),\n",
        "                 activation=\"relu\"),\n",
        "    layers.Dense(16,\n",
        "                 kernel_regularizer=regularizers.l2(0.002),\n",
        "                 activation=\"relu\"),\n",
        "    layers.Dense(1, activation=\"sigmoid\")\n",
        "])\n",
        "model.compile(optimizer=\"rmsprop\",\n",
        "              loss=\"binary_crossentropy\",\n",
        "              metrics=[\"accuracy\"])\n",
        "history_l2_reg = model.fit(\n",
        "    train_data, train_labels,\n",
        "    epochs=20, batch_size=512, validation_split=0.4)"
      ]
    },
    {
      "cell_type": "markdown",
      "metadata": {
        "id": "EbdbYjJxfh2o"
      },
      "source": [
        "**Different weight regularizers available in Keras**"
      ]
    },
    {
      "cell_type": "code",
      "execution_count": 14,
      "metadata": {
        "colab": {
          "base_uri": "https://localhost:8080/"
        },
        "id": "TQkoTQKufh2o",
        "outputId": "a8bd7449-4b5b-4e1d-f424-303c87c6ecd6"
      },
      "outputs": [
        {
          "data": {
            "text/plain": [
              "<keras.regularizers.L1L2 at 0x144cf6f50>"
            ]
          },
          "execution_count": 14,
          "metadata": {},
          "output_type": "execute_result"
        }
      ],
      "source": [
        "\n",
        "regularizers.l1(0.001)\n",
        "regularizers.l1_l2(l1=0.001, l2=0.001)"
      ]
    },
    {
      "cell_type": "markdown",
      "metadata": {
        "id": "WzHSwfvffh2o"
      },
      "source": [
        "#### Adding dropout"
      ]
    },
    {
      "cell_type": "markdown",
      "metadata": {
        "id": "Uoo_Gjqafh2o"
      },
      "source": [
        "**Adding dropout to the IMDB model**"
      ]
    },
    {
      "cell_type": "code",
      "execution_count": 15,
      "metadata": {
        "colab": {
          "base_uri": "https://localhost:8080/"
        },
        "id": "PYwhzhPJfh2o",
        "outputId": "b5ff4a3a-f2a7-4808-87e8-ada9bf4975be"
      },
      "outputs": [
        {
          "name": "stdout",
          "output_type": "stream",
          "text": [
            "Epoch 1/20\n",
            "30/30 [==============================] - 3s 52ms/step - loss: 0.6148 - accuracy: 0.6718 - val_loss: 0.4932 - val_accuracy: 0.8439\n",
            "Epoch 2/20\n",
            "30/30 [==============================] - 1s 21ms/step - loss: 0.4808 - accuracy: 0.7973 - val_loss: 0.3767 - val_accuracy: 0.8791\n",
            "Epoch 3/20\n",
            "30/30 [==============================] - 1s 17ms/step - loss: 0.3998 - accuracy: 0.8442 - val_loss: 0.3246 - val_accuracy: 0.8815\n",
            "Epoch 4/20\n",
            "30/30 [==============================] - 1s 18ms/step - loss: 0.3397 - accuracy: 0.8810 - val_loss: 0.2944 - val_accuracy: 0.8875\n",
            "Epoch 5/20\n",
            "30/30 [==============================] - 1s 22ms/step - loss: 0.2965 - accuracy: 0.8998 - val_loss: 0.2787 - val_accuracy: 0.8897\n",
            "Epoch 6/20\n",
            "30/30 [==============================] - 1s 20ms/step - loss: 0.2629 - accuracy: 0.9143 - val_loss: 0.2718 - val_accuracy: 0.8922\n",
            "Epoch 7/20\n",
            "30/30 [==============================] - 1s 17ms/step - loss: 0.2282 - accuracy: 0.9248 - val_loss: 0.3010 - val_accuracy: 0.8812\n",
            "Epoch 8/20\n",
            "30/30 [==============================] - 1s 17ms/step - loss: 0.2017 - accuracy: 0.9350 - val_loss: 0.2852 - val_accuracy: 0.8925\n",
            "Epoch 9/20\n",
            "30/30 [==============================] - 1s 19ms/step - loss: 0.1833 - accuracy: 0.9409 - val_loss: 0.2991 - val_accuracy: 0.8919\n",
            "Epoch 10/20\n",
            "30/30 [==============================] - 0s 16ms/step - loss: 0.1627 - accuracy: 0.9497 - val_loss: 0.3100 - val_accuracy: 0.8904\n",
            "Epoch 11/20\n",
            "30/30 [==============================] - 1s 19ms/step - loss: 0.1422 - accuracy: 0.9553 - val_loss: 0.3445 - val_accuracy: 0.8903\n",
            "Epoch 12/20\n",
            "30/30 [==============================] - 1s 17ms/step - loss: 0.1303 - accuracy: 0.9608 - val_loss: 0.3526 - val_accuracy: 0.8872\n",
            "Epoch 13/20\n",
            "30/30 [==============================] - 1s 17ms/step - loss: 0.1250 - accuracy: 0.9605 - val_loss: 0.3537 - val_accuracy: 0.8866\n",
            "Epoch 14/20\n",
            "30/30 [==============================] - 0s 17ms/step - loss: 0.1095 - accuracy: 0.9667 - val_loss: 0.3895 - val_accuracy: 0.8870\n",
            "Epoch 15/20\n",
            "30/30 [==============================] - 0s 16ms/step - loss: 0.0981 - accuracy: 0.9717 - val_loss: 0.4056 - val_accuracy: 0.8874\n",
            "Epoch 16/20\n",
            "30/30 [==============================] - 0s 16ms/step - loss: 0.0882 - accuracy: 0.9724 - val_loss: 0.4459 - val_accuracy: 0.8861\n",
            "Epoch 17/20\n",
            "30/30 [==============================] - 0s 17ms/step - loss: 0.0843 - accuracy: 0.9737 - val_loss: 0.4760 - val_accuracy: 0.8864\n",
            "Epoch 18/20\n",
            "30/30 [==============================] - 1s 17ms/step - loss: 0.0782 - accuracy: 0.9744 - val_loss: 0.5076 - val_accuracy: 0.8854\n",
            "Epoch 19/20\n",
            "30/30 [==============================] - 0s 16ms/step - loss: 0.0721 - accuracy: 0.9766 - val_loss: 0.5328 - val_accuracy: 0.8844\n",
            "Epoch 20/20\n",
            "30/30 [==============================] - 0s 16ms/step - loss: 0.0723 - accuracy: 0.9775 - val_loss: 0.5319 - val_accuracy: 0.8842\n"
          ]
        }
      ],
      "source": [
        "model = keras.Sequential([\n",
        "    layers.Dense(16, activation=\"relu\"),\n",
        "    layers.Dropout(0.5),\n",
        "    layers.Dense(16, activation=\"relu\"),\n",
        "    layers.Dropout(0.5),\n",
        "    layers.Dense(1, activation=\"sigmoid\")\n",
        "])\n",
        "model.compile(optimizer=\"rmsprop\",\n",
        "              loss=\"binary_crossentropy\",\n",
        "              metrics=[\"accuracy\"])\n",
        "history_dropout = model.fit(\n",
        "    train_data, train_labels,\n",
        "    epochs=20, batch_size=512, validation_split=0.4)"
      ]
    },
    {
      "cell_type": "markdown",
      "metadata": {
        "id": "HyuwBO10fh2o"
      },
      "source": [
        "## Summary"
      ]
    }
  ],
  "metadata": {
    "colab": {
      "provenance": [],
      "toc_visible": true
    },
    "kernelspec": {
      "display_name": "Python 3",
      "language": "python",
      "name": "python3"
    },
    "language_info": {
      "codemirror_mode": {
        "name": "ipython",
        "version": 3
      },
      "file_extension": ".py",
      "mimetype": "text/x-python",
      "name": "python",
      "nbconvert_exporter": "python",
      "pygments_lexer": "ipython3",
      "version": "3.11.2"
    },
    "vscode": {
      "interpreter": {
        "hash": "082e9a3bcad0a290d0001e938aa60b99250c6c2ef33a923c00b70f9826caf4b7"
      }
    }
  },
  "nbformat": 4,
  "nbformat_minor": 0
}
