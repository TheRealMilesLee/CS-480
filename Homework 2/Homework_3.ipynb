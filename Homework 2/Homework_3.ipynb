{
  "cells": [
    {
      "cell_type": "markdown",
      "metadata": {
        "id": "6z_8cJUWIsRG"
      },
      "source": [
        "This file is produced by Hengyi Li and Jingbo Wang\n",
        "\n",
        "2023.3.10"
      ]
    },
    {
      "cell_type": "markdown",
      "metadata": {
        "id": "vk1l4Dxlfh2g"
      },
      "source": [
        "# Fundamentals of machine learning"
      ]
    },
    {
      "cell_type": "markdown",
      "metadata": {
        "id": "ztpi_d6Sfh2g"
      },
      "source": [
        "## Generalization: The goal of machine learning"
      ]
    },
    {
      "cell_type": "markdown",
      "metadata": {
        "id": "uhvABr4dXX8K"
      },
      "source": [
        "We can setup our envrinment by importing those libraries "
      ]
    },
    {
      "cell_type": "code",
      "execution_count": 1,
      "metadata": {
        "id": "WeTjeWz1Xd8Q"
      },
      "outputs": [],
      "source": [
        "import numpy as np\n",
        "import tensorflow as tf\n",
        "from tensorflow import keras\n",
        "from tensorflow.keras import layers, regularizers\n",
        "from tensorflow.keras.datasets import imdb"
      ]
    },
    {
      "cell_type": "markdown",
      "metadata": {
        "id": "LuA9TByqI68K"
      },
      "source": [
        "Before start, we can check our running environment by running those code"
      ]
    },
    {
      "cell_type": "code",
      "execution_count": 2,
      "metadata": {
        "colab": {
          "base_uri": "https://localhost:8080/"
        },
        "id": "PnJ7W2ktJCrS",
        "outputId": "15df8fb3-0f81-4269-fac0-18d790c76384"
      },
      "outputs": [
        {
          "name": "stdout",
          "output_type": "stream",
          "text": [
            "[PhysicalDevice(name='/physical_device:GPU:0', device_type='GPU')]\n",
            "[PhysicalDevice(name='/physical_device:CPU:0', device_type='CPU')]\n"
          ]
        }
      ],
      "source": [
        "print(tf.config.list_physical_devices('GPU'))\n",
        "print(tf.config.list_physical_devices('CPU'))"
      ]
    },
    {
      "cell_type": "markdown",
      "metadata": {
        "id": "OzGgWuMXfh2m"
      },
      "source": [
        "## Improving generalization"
      ]
    },
    {
      "cell_type": "markdown",
      "metadata": {
        "id": "XV6r9QncSvpa"
      },
      "source": [
        "To improve the generalization, we have several ways to do it. \n",
        "\n",
        "* Dataset curation\n",
        "\n",
        "* Feature engineering\n",
        "\n",
        "* Using early stopping\n",
        "\n",
        "* Reducing the network's size\n",
        "\n",
        "  * Reducing the network's size\n",
        "  * Adding L2 weight regularization to the model\n",
        "  * Adding dropout to the IMDB model"
      ]
    },
    {
      "cell_type": "markdown",
      "metadata": {
        "id": "CEGGTUpIfh2m"
      },
      "source": [
        "### Dataset curation"
      ]
    },
    {
      "cell_type": "markdown",
      "metadata": {
        "id": "ZpDidvccWS1v"
      },
      "source": [
        "* Make sure you have enough data. Remember that you need a _**dense sampling**_ of the input-cross-output space. More data will yield a better model. Sometimes, problems that seem impossible at first become solvable with a larger dataset.\n",
        "* Make sure you have enough data. Remember that you need a dense sampling of the input-cross-output space. More data will yield a better model. Sometimes, problems that seem impossible at first become solvable with a larger dataset.\n",
        "* Clean your data and deal with missing values.\n",
        "* If you have many features and you aren’t sure which ones are actually useful, do feature selection.\n"
      ]
    },
    {
      "cell_type": "markdown",
      "metadata": {
        "id": "sZ_SvYEBzDQG"
      },
      "source": [
        "So the num_words restricted the top 10,000 most frequently occurring words in the training data. Rare words will be discarded. And we can do better than that by increasing the num_words to 25000 \n",
        "\n",
        "**Original Model**"
      ]
    },
    {
      "cell_type": "code",
      "execution_count": 3,
      "metadata": {
        "colab": {
          "base_uri": "https://localhost:8080/"
        },
        "id": "S-AAfSid1Uz9",
        "outputId": "53081d4b-9041-4d4d-c355-b365ac6353e5"
      },
      "outputs": [
        {
          "name": "stdout",
          "output_type": "stream",
          "text": [
            "Epoch 1/20\n",
            "30/30 [==============================] - 3s 29ms/step - loss: 0.5265 - accuracy: 0.7837 - val_loss: 0.4011 - val_accuracy: 0.8645\n",
            "Epoch 2/20\n",
            "30/30 [==============================] - 0s 15ms/step - loss: 0.3131 - accuracy: 0.8997 - val_loss: 0.3119 - val_accuracy: 0.8836\n",
            "Epoch 3/20\n",
            "30/30 [==============================] - 0s 14ms/step - loss: 0.2292 - accuracy: 0.9274 - val_loss: 0.2902 - val_accuracy: 0.8845\n",
            "Epoch 4/20\n",
            "30/30 [==============================] - 0s 16ms/step - loss: 0.1754 - accuracy: 0.9450 - val_loss: 0.2747 - val_accuracy: 0.8903\n",
            "Epoch 5/20\n",
            "30/30 [==============================] - 1s 20ms/step - loss: 0.1413 - accuracy: 0.9567 - val_loss: 0.2981 - val_accuracy: 0.8828\n",
            "Epoch 6/20\n",
            "30/30 [==============================] - 1s 20ms/step - loss: 0.1178 - accuracy: 0.9658 - val_loss: 0.2987 - val_accuracy: 0.8844\n",
            "Epoch 7/20\n",
            "30/30 [==============================] - 1s 20ms/step - loss: 0.0951 - accuracy: 0.9733 - val_loss: 0.3121 - val_accuracy: 0.8847\n",
            "Epoch 8/20\n",
            "30/30 [==============================] - 1s 20ms/step - loss: 0.0778 - accuracy: 0.9783 - val_loss: 0.3325 - val_accuracy: 0.8831\n",
            "Epoch 9/20\n",
            "30/30 [==============================] - 1s 20ms/step - loss: 0.0631 - accuracy: 0.9838 - val_loss: 0.3665 - val_accuracy: 0.8776\n",
            "Epoch 10/20\n",
            "30/30 [==============================] - 1s 20ms/step - loss: 0.0500 - accuracy: 0.9887 - val_loss: 0.3819 - val_accuracy: 0.8806\n",
            "Epoch 11/20\n",
            "30/30 [==============================] - 1s 20ms/step - loss: 0.0432 - accuracy: 0.9899 - val_loss: 0.4089 - val_accuracy: 0.8774\n",
            "Epoch 12/20\n",
            "30/30 [==============================] - 1s 20ms/step - loss: 0.0321 - accuracy: 0.9934 - val_loss: 0.4375 - val_accuracy: 0.8753\n",
            "Epoch 13/20\n",
            "30/30 [==============================] - 1s 20ms/step - loss: 0.0255 - accuracy: 0.9957 - val_loss: 0.4726 - val_accuracy: 0.8722\n",
            "Epoch 14/20\n",
            "30/30 [==============================] - 1s 20ms/step - loss: 0.0197 - accuracy: 0.9968 - val_loss: 0.5018 - val_accuracy: 0.8737\n",
            "Epoch 15/20\n",
            "30/30 [==============================] - 1s 20ms/step - loss: 0.0185 - accuracy: 0.9962 - val_loss: 0.5369 - val_accuracy: 0.8705\n",
            "Epoch 16/20\n",
            "30/30 [==============================] - 1s 20ms/step - loss: 0.0113 - accuracy: 0.9986 - val_loss: 0.5636 - val_accuracy: 0.8691\n",
            "Epoch 17/20\n",
            "30/30 [==============================] - 1s 20ms/step - loss: 0.0084 - accuracy: 0.9989 - val_loss: 0.6459 - val_accuracy: 0.8619\n",
            "Epoch 18/20\n",
            "30/30 [==============================] - 1s 20ms/step - loss: 0.0060 - accuracy: 0.9994 - val_loss: 0.6378 - val_accuracy: 0.8680\n",
            "Epoch 19/20\n",
            "30/30 [==============================] - 1s 20ms/step - loss: 0.0060 - accuracy: 0.9991 - val_loss: 0.6718 - val_accuracy: 0.8672\n",
            "Epoch 20/20\n",
            "30/30 [==============================] - 1s 19ms/step - loss: 0.0063 - accuracy: 0.9983 - val_loss: 0.7282 - val_accuracy: 0.8649\n"
          ]
        }
      ],
      "source": [
        "(train_data, train_labels), _ = imdb.load_data(num_words=10000)\n",
        "\n",
        "def vectorize_sequences(sequences, dimension=10000):\n",
        "    results = np.zeros((len(sequences), dimension))\n",
        "    for i, sequence in enumerate(sequences):\n",
        "        results[i, sequence] = 1.\n",
        "    return results\n",
        "\n",
        "train_data = vectorize_sequences(train_data)\n",
        "\n",
        "model = keras.Sequential([\n",
        "    layers.Dense(16, activation=\"relu\"),\n",
        "    layers.Dense(16, activation=\"relu\"),\n",
        "    layers.Dense(1, activation=\"sigmoid\")\n",
        "])\n",
        "model.compile(optimizer=\"rmsprop\",\n",
        "              loss=\"binary_crossentropy\",\n",
        "              metrics=[\"accuracy\"])\n",
        "history_original = model.fit(train_data, train_labels,\n",
        "                             epochs=20, batch_size=512, validation_split=0.4)"
      ]
    },
    {
      "cell_type": "markdown",
      "metadata": {
        "id": "JoIDfdR41_GE"
      },
      "source": [
        "**Practice Model**\n",
        "\n",
        "Here, we change the num_words to 25000 "
      ]
    },
    {
      "cell_type": "code",
      "execution_count": 4,
      "metadata": {
        "colab": {
          "base_uri": "https://localhost:8080/"
        },
        "id": "-kNHkq1A2H6q",
        "outputId": "5c1b90f8-8f63-4644-c406-271d363dc5e5"
      },
      "outputs": [
        {
          "name": "stdout",
          "output_type": "stream",
          "text": [
            "Epoch 1/20\n",
            "30/30 [==============================] - 2s 62ms/step - loss: 0.5086 - accuracy: 0.7943 - val_loss: 0.3851 - val_accuracy: 0.8608\n",
            "Epoch 2/20\n",
            "30/30 [==============================] - 1s 30ms/step - loss: 0.2780 - accuracy: 0.9150 - val_loss: 0.2918 - val_accuracy: 0.8919\n",
            "Epoch 3/20\n",
            "30/30 [==============================] - 1s 29ms/step - loss: 0.1857 - accuracy: 0.9467 - val_loss: 0.2684 - val_accuracy: 0.8941\n",
            "Epoch 4/20\n",
            "30/30 [==============================] - 1s 40ms/step - loss: 0.1321 - accuracy: 0.9631 - val_loss: 0.2723 - val_accuracy: 0.8935\n",
            "Epoch 5/20\n",
            "30/30 [==============================] - 1s 29ms/step - loss: 0.0958 - accuracy: 0.9745 - val_loss: 0.2822 - val_accuracy: 0.8924\n",
            "Epoch 6/20\n",
            "30/30 [==============================] - 1s 41ms/step - loss: 0.0704 - accuracy: 0.9837 - val_loss: 0.2953 - val_accuracy: 0.8890\n",
            "Epoch 7/20\n",
            "30/30 [==============================] - 1s 32ms/step - loss: 0.0520 - accuracy: 0.9888 - val_loss: 0.3191 - val_accuracy: 0.8842\n",
            "Epoch 8/20\n",
            "30/30 [==============================] - 1s 41ms/step - loss: 0.0371 - accuracy: 0.9931 - val_loss: 0.3521 - val_accuracy: 0.8843\n",
            "Epoch 9/20\n",
            "30/30 [==============================] - 1s 34ms/step - loss: 0.0267 - accuracy: 0.9953 - val_loss: 0.3870 - val_accuracy: 0.8813\n",
            "Epoch 10/20\n",
            "30/30 [==============================] - 1s 29ms/step - loss: 0.0191 - accuracy: 0.9973 - val_loss: 0.4163 - val_accuracy: 0.8790\n",
            "Epoch 11/20\n",
            "30/30 [==============================] - 1s 29ms/step - loss: 0.0134 - accuracy: 0.9981 - val_loss: 0.4710 - val_accuracy: 0.8742\n",
            "Epoch 12/20\n",
            "30/30 [==============================] - 1s 31ms/step - loss: 0.0080 - accuracy: 0.9991 - val_loss: 0.4879 - val_accuracy: 0.8761\n",
            "Epoch 13/20\n",
            "30/30 [==============================] - 1s 42ms/step - loss: 0.0059 - accuracy: 0.9993 - val_loss: 0.5475 - val_accuracy: 0.8730\n",
            "Epoch 14/20\n",
            "30/30 [==============================] - 1s 39ms/step - loss: 0.0032 - accuracy: 0.9997 - val_loss: 0.5951 - val_accuracy: 0.8716\n",
            "Epoch 15/20\n",
            "30/30 [==============================] - 1s 29ms/step - loss: 0.0021 - accuracy: 0.9999 - val_loss: 0.6577 - val_accuracy: 0.8701\n",
            "Epoch 16/20\n",
            "30/30 [==============================] - 1s 30ms/step - loss: 0.0014 - accuracy: 0.9999 - val_loss: 0.7004 - val_accuracy: 0.8695\n",
            "Epoch 17/20\n",
            "30/30 [==============================] - 1s 40ms/step - loss: 0.0010 - accuracy: 0.9999 - val_loss: 0.7485 - val_accuracy: 0.8682\n",
            "Epoch 18/20\n",
            "30/30 [==============================] - 1s 29ms/step - loss: 4.0647e-04 - accuracy: 1.0000 - val_loss: 0.7914 - val_accuracy: 0.8682\n",
            "Epoch 19/20\n",
            "30/30 [==============================] - 1s 29ms/step - loss: 0.0013 - accuracy: 0.9997 - val_loss: 0.9074 - val_accuracy: 0.8643\n",
            "Epoch 20/20\n",
            "30/30 [==============================] - 1s 28ms/step - loss: 1.9108e-04 - accuracy: 1.0000 - val_loss: 0.8634 - val_accuracy: 0.8653\n"
          ]
        }
      ],
      "source": [
        "(train_data, train_labels), _ = imdb.load_data(num_words=25000)\n",
        "\n",
        "def vectorize_sequences(sequences, dimension=25000):\n",
        "    results = np.zeros((len(sequences), dimension))\n",
        "    for i, sequence in enumerate(sequences):\n",
        "        results[i, sequence] = 1.\n",
        "    return results\n",
        "\n",
        "train_data = vectorize_sequences(train_data)\n",
        "\n",
        "model = keras.Sequential([\n",
        "    layers.Dense(16, activation=\"relu\"),\n",
        "    layers.Dense(16, activation=\"relu\"),\n",
        "    layers.Dense(1, activation=\"sigmoid\")\n",
        "])\n",
        "model.compile(optimizer=\"rmsprop\",\n",
        "              loss=\"binary_crossentropy\",\n",
        "              metrics=[\"accuracy\"])\n",
        "history_original = model.fit(train_data, train_labels,\n",
        "                             epochs=20, batch_size=512, validation_split=0.4)"
      ]
    },
    {
      "cell_type": "markdown",
      "metadata": {
        "id": "uzZmKOTP-MU8"
      },
      "source": [
        "As it shown above, after change the num_words and the batch size, make a bigger dataset and more training on each epoch, the accuracy gets visible improvement"
      ]
    },
    {
      "cell_type": "markdown",
      "metadata": {
        "id": "SGHbbIZ6fh2m"
      },
      "source": [
        "### Feature engineering"
      ]
    },
    {
      "cell_type": "markdown",
      "metadata": {
        "id": "ls3fA9EFGaiP"
      },
      "source": [
        "**Original Model**"
      ]
    },
    {
      "cell_type": "code",
      "execution_count": 5,
      "metadata": {
        "colab": {
          "base_uri": "https://localhost:8080/"
        },
        "id": "hM-i1XlKGZwU",
        "outputId": "ed77de29-3820-4b33-d66a-680b07ee55b0"
      },
      "outputs": [
        {
          "name": "stdout",
          "output_type": "stream",
          "text": [
            "Epoch 1/50\n",
            "30/30 [==============================] - 1s 28ms/step - loss: 0.5055 - accuracy: 0.7927 - val_loss: 0.3907 - val_accuracy: 0.8634\n",
            "Epoch 2/50\n",
            "30/30 [==============================] - 0s 15ms/step - loss: 0.3009 - accuracy: 0.9007 - val_loss: 0.3228 - val_accuracy: 0.8722\n",
            "Epoch 3/50\n",
            "30/30 [==============================] - 0s 14ms/step - loss: 0.2186 - accuracy: 0.9285 - val_loss: 0.2763 - val_accuracy: 0.8939\n",
            "Epoch 4/50\n",
            "30/30 [==============================] - 0s 15ms/step - loss: 0.1750 - accuracy: 0.9427 - val_loss: 0.2739 - val_accuracy: 0.8917\n",
            "Epoch 5/50\n",
            "30/30 [==============================] - 1s 20ms/step - loss: 0.1427 - accuracy: 0.9550 - val_loss: 0.2814 - val_accuracy: 0.8886\n",
            "Epoch 6/50\n",
            "30/30 [==============================] - 1s 21ms/step - loss: 0.1171 - accuracy: 0.9627 - val_loss: 0.3132 - val_accuracy: 0.8823\n",
            "Epoch 7/50\n",
            "30/30 [==============================] - 1s 20ms/step - loss: 0.0972 - accuracy: 0.9714 - val_loss: 0.3557 - val_accuracy: 0.8752\n",
            "Epoch 8/50\n",
            "30/30 [==============================] - 1s 20ms/step - loss: 0.0798 - accuracy: 0.9777 - val_loss: 0.3936 - val_accuracy: 0.8665\n",
            "Epoch 9/50\n",
            "30/30 [==============================] - 1s 20ms/step - loss: 0.0682 - accuracy: 0.9819 - val_loss: 0.3658 - val_accuracy: 0.8795\n",
            "Epoch 10/50\n",
            "30/30 [==============================] - 1s 20ms/step - loss: 0.0579 - accuracy: 0.9853 - val_loss: 0.3862 - val_accuracy: 0.8776\n",
            "Epoch 11/50\n",
            "30/30 [==============================] - 1s 20ms/step - loss: 0.0464 - accuracy: 0.9888 - val_loss: 0.4125 - val_accuracy: 0.8764\n",
            "Epoch 12/50\n",
            "30/30 [==============================] - 1s 21ms/step - loss: 0.0380 - accuracy: 0.9914 - val_loss: 0.4708 - val_accuracy: 0.8691\n",
            "Epoch 13/50\n",
            "30/30 [==============================] - 1s 19ms/step - loss: 0.0320 - accuracy: 0.9935 - val_loss: 0.4802 - val_accuracy: 0.8734\n",
            "Epoch 14/50\n",
            "30/30 [==============================] - 1s 20ms/step - loss: 0.0236 - accuracy: 0.9955 - val_loss: 0.5486 - val_accuracy: 0.8661\n",
            "Epoch 15/50\n",
            "30/30 [==============================] - 1s 20ms/step - loss: 0.0209 - accuracy: 0.9960 - val_loss: 0.5670 - val_accuracy: 0.8672\n",
            "Epoch 16/50\n",
            "30/30 [==============================] - 1s 20ms/step - loss: 0.0183 - accuracy: 0.9961 - val_loss: 0.5881 - val_accuracy: 0.8696\n",
            "Epoch 17/50\n",
            "30/30 [==============================] - 1s 20ms/step - loss: 0.0095 - accuracy: 0.9989 - val_loss: 0.6203 - val_accuracy: 0.8658\n",
            "Epoch 18/50\n",
            "30/30 [==============================] - 1s 20ms/step - loss: 0.0117 - accuracy: 0.9979 - val_loss: 0.6557 - val_accuracy: 0.8661\n",
            "Epoch 19/50\n",
            "30/30 [==============================] - 1s 20ms/step - loss: 0.0094 - accuracy: 0.9983 - val_loss: 0.6826 - val_accuracy: 0.8662\n",
            "Epoch 20/50\n",
            "30/30 [==============================] - 1s 19ms/step - loss: 0.0048 - accuracy: 0.9996 - val_loss: 0.7207 - val_accuracy: 0.8637\n",
            "Epoch 21/50\n",
            "30/30 [==============================] - 1s 20ms/step - loss: 0.0079 - accuracy: 0.9981 - val_loss: 0.7538 - val_accuracy: 0.8638\n",
            "Epoch 22/50\n",
            "30/30 [==============================] - 1s 20ms/step - loss: 0.0027 - accuracy: 0.9998 - val_loss: 0.7825 - val_accuracy: 0.8635\n",
            "Epoch 23/50\n",
            "30/30 [==============================] - 1s 20ms/step - loss: 0.0073 - accuracy: 0.9981 - val_loss: 0.8220 - val_accuracy: 0.8606\n",
            "Epoch 24/50\n",
            "30/30 [==============================] - 1s 20ms/step - loss: 0.0016 - accuracy: 0.9999 - val_loss: 0.8468 - val_accuracy: 0.8598\n",
            "Epoch 25/50\n",
            "30/30 [==============================] - 1s 19ms/step - loss: 0.0056 - accuracy: 0.9986 - val_loss: 0.8843 - val_accuracy: 0.8610\n",
            "Epoch 26/50\n",
            "30/30 [==============================] - 1s 20ms/step - loss: 0.0010 - accuracy: 1.0000 - val_loss: 0.9048 - val_accuracy: 0.8596\n",
            "Epoch 27/50\n",
            "30/30 [==============================] - 1s 20ms/step - loss: 0.0013 - accuracy: 0.9999 - val_loss: 1.1325 - val_accuracy: 0.8468\n",
            "Epoch 28/50\n",
            "30/30 [==============================] - 1s 20ms/step - loss: 9.0259e-04 - accuracy: 1.0000 - val_loss: 0.9722 - val_accuracy: 0.8585\n",
            "Epoch 29/50\n",
            "30/30 [==============================] - 1s 20ms/step - loss: 5.1413e-04 - accuracy: 1.0000 - val_loss: 1.0247 - val_accuracy: 0.8582\n",
            "Epoch 30/50\n",
            "30/30 [==============================] - 1s 20ms/step - loss: 0.0031 - accuracy: 0.9991 - val_loss: 1.0622 - val_accuracy: 0.8570\n",
            "Epoch 31/50\n",
            "30/30 [==============================] - 1s 20ms/step - loss: 2.8729e-04 - accuracy: 1.0000 - val_loss: 1.0823 - val_accuracy: 0.8566\n",
            "Epoch 32/50\n",
            "30/30 [==============================] - 1s 19ms/step - loss: 2.4076e-04 - accuracy: 1.0000 - val_loss: 1.1270 - val_accuracy: 0.8571\n",
            "Epoch 33/50\n",
            "30/30 [==============================] - 1s 20ms/step - loss: 0.0022 - accuracy: 0.9993 - val_loss: 1.1786 - val_accuracy: 0.8580\n",
            "Epoch 34/50\n",
            "30/30 [==============================] - 1s 20ms/step - loss: 1.4715e-04 - accuracy: 1.0000 - val_loss: 1.1876 - val_accuracy: 0.8564\n",
            "Epoch 35/50\n",
            "30/30 [==============================] - 1s 20ms/step - loss: 1.2091e-04 - accuracy: 1.0000 - val_loss: 1.2169 - val_accuracy: 0.8566\n",
            "Epoch 36/50\n",
            "30/30 [==============================] - 1s 20ms/step - loss: 9.9963e-05 - accuracy: 1.0000 - val_loss: 1.3401 - val_accuracy: 0.8511\n",
            "Epoch 37/50\n",
            "30/30 [==============================] - 1s 20ms/step - loss: 0.0023 - accuracy: 0.9994 - val_loss: 1.2929 - val_accuracy: 0.8563\n",
            "Epoch 38/50\n",
            "30/30 [==============================] - 1s 21ms/step - loss: 6.6581e-05 - accuracy: 1.0000 - val_loss: 1.3035 - val_accuracy: 0.8571\n",
            "Epoch 39/50\n",
            "30/30 [==============================] - 1s 20ms/step - loss: 5.5115e-05 - accuracy: 1.0000 - val_loss: 1.3304 - val_accuracy: 0.8565\n",
            "Epoch 40/50\n",
            "30/30 [==============================] - 1s 20ms/step - loss: 5.7752e-05 - accuracy: 1.0000 - val_loss: 1.4429 - val_accuracy: 0.8497\n",
            "Epoch 41/50\n",
            "30/30 [==============================] - 1s 20ms/step - loss: 3.9285e-05 - accuracy: 1.0000 - val_loss: 1.4334 - val_accuracy: 0.8545\n",
            "Epoch 42/50\n",
            "30/30 [==============================] - 1s 20ms/step - loss: 0.0037 - accuracy: 0.9989 - val_loss: 1.4837 - val_accuracy: 0.8527\n",
            "Epoch 43/50\n",
            "30/30 [==============================] - 1s 21ms/step - loss: 2.7805e-05 - accuracy: 1.0000 - val_loss: 1.4844 - val_accuracy: 0.8534\n",
            "Epoch 44/50\n",
            "30/30 [==============================] - 1s 21ms/step - loss: 1.6496e-05 - accuracy: 1.0000 - val_loss: 1.4962 - val_accuracy: 0.8533\n",
            "Epoch 45/50\n",
            "30/30 [==============================] - 1s 20ms/step - loss: 1.4611e-05 - accuracy: 1.0000 - val_loss: 1.5142 - val_accuracy: 0.8537\n",
            "Epoch 46/50\n",
            "30/30 [==============================] - 1s 20ms/step - loss: 1.2450e-05 - accuracy: 1.0000 - val_loss: 1.5454 - val_accuracy: 0.8529\n",
            "Epoch 47/50\n",
            "30/30 [==============================] - 1s 20ms/step - loss: 9.3264e-06 - accuracy: 1.0000 - val_loss: 1.6253 - val_accuracy: 0.8534\n",
            "Epoch 48/50\n",
            "30/30 [==============================] - 1s 21ms/step - loss: 0.0015 - accuracy: 0.9995 - val_loss: 1.6682 - val_accuracy: 0.8519\n",
            "Epoch 49/50\n",
            "30/30 [==============================] - 1s 20ms/step - loss: 7.9070e-06 - accuracy: 1.0000 - val_loss: 1.6775 - val_accuracy: 0.8525\n",
            "Epoch 50/50\n",
            "30/30 [==============================] - 1s 19ms/step - loss: 5.7490e-06 - accuracy: 1.0000 - val_loss: 1.6870 - val_accuracy: 0.8518\n"
          ]
        }
      ],
      "source": [
        "(train_data, train_labels), _ = imdb.load_data(num_words=10000)\n",
        "\n",
        "def vectorize_sequences(sequences, dimension=10000):\n",
        "    results = np.zeros((len(sequences), dimension))\n",
        "    for i, sequence in enumerate(sequences):\n",
        "        results[i, sequence] = 1.\n",
        "    return results\n",
        "\n",
        "train_data = vectorize_sequences(train_data)\n",
        "\n",
        "model = keras.Sequential([\n",
        "    layers.Dense(16, activation=\"relu\"),\n",
        "    layers.Dense(16, activation=\"relu\"),\n",
        "    layers.Dense(1, activation=\"sigmoid\")\n",
        "])\n",
        "model.compile(optimizer=\"rmsprop\",\n",
        "              loss=\"binary_crossentropy\",\n",
        "              metrics=[\"accuracy\"])\n",
        "history_original = model.fit(train_data, train_labels,\n",
        "                             epochs=50, batch_size=512, validation_split=0.4)"
      ]
    },
    {
      "cell_type": "markdown",
      "metadata": {
        "id": "RBd-DQpjOdjT"
      },
      "source": [
        "**Practice Model**\n",
        "\n",
        "We can enhance by deleting the most common words"
      ]
    },
    {
      "cell_type": "code",
      "execution_count": 6,
      "metadata": {
        "colab": {
          "base_uri": "https://localhost:8080/"
        },
        "id": "ZQxMQ5PHhCPc",
        "outputId": "663a6985-6b6d-4a0f-f2fb-2ea343c89952"
      },
      "outputs": [
        {
          "name": "stdout",
          "output_type": "stream",
          "text": [
            "Epoch 1/50\n",
            "30/30 [==============================] - 1s 27ms/step - loss: 0.5487 - accuracy: 0.7731 - val_loss: 0.4254 - val_accuracy: 0.8621\n",
            "Epoch 2/50\n",
            "30/30 [==============================] - 0s 14ms/step - loss: 0.3449 - accuracy: 0.9000 - val_loss: 0.3309 - val_accuracy: 0.8815\n",
            "Epoch 3/50\n",
            "30/30 [==============================] - 0s 15ms/step - loss: 0.2494 - accuracy: 0.9250 - val_loss: 0.2986 - val_accuracy: 0.8841\n",
            "Epoch 4/50\n",
            "30/30 [==============================] - 0s 14ms/step - loss: 0.1926 - accuracy: 0.9402 - val_loss: 0.2800 - val_accuracy: 0.8918\n",
            "Epoch 5/50\n",
            "30/30 [==============================] - 0s 15ms/step - loss: 0.1528 - accuracy: 0.9551 - val_loss: 0.3094 - val_accuracy: 0.8785\n",
            "Epoch 6/50\n",
            "30/30 [==============================] - 0s 15ms/step - loss: 0.1265 - accuracy: 0.9618 - val_loss: 0.2876 - val_accuracy: 0.8895\n",
            "Epoch 7/50\n",
            "30/30 [==============================] - 1s 21ms/step - loss: 0.1040 - accuracy: 0.9718 - val_loss: 0.3038 - val_accuracy: 0.8857\n",
            "Epoch 8/50\n",
            "30/30 [==============================] - 1s 19ms/step - loss: 0.0868 - accuracy: 0.9755 - val_loss: 0.3233 - val_accuracy: 0.8844\n",
            "Epoch 9/50\n",
            "30/30 [==============================] - 1s 21ms/step - loss: 0.0705 - accuracy: 0.9810 - val_loss: 0.3497 - val_accuracy: 0.8805\n",
            "Epoch 10/50\n",
            "30/30 [==============================] - 0s 16ms/step - loss: 0.0569 - accuracy: 0.9867 - val_loss: 0.3672 - val_accuracy: 0.8798\n",
            "Epoch 11/50\n",
            "30/30 [==============================] - 0s 16ms/step - loss: 0.0449 - accuracy: 0.9905 - val_loss: 0.3973 - val_accuracy: 0.8789\n",
            "Epoch 12/50\n",
            "30/30 [==============================] - 0s 15ms/step - loss: 0.0380 - accuracy: 0.9921 - val_loss: 0.4274 - val_accuracy: 0.8763\n",
            "Epoch 13/50\n",
            "30/30 [==============================] - 0s 16ms/step - loss: 0.0287 - accuracy: 0.9952 - val_loss: 0.4569 - val_accuracy: 0.8765\n",
            "Epoch 14/50\n",
            "30/30 [==============================] - 0s 14ms/step - loss: 0.0247 - accuracy: 0.9954 - val_loss: 0.4858 - val_accuracy: 0.8737\n",
            "Epoch 15/50\n",
            "30/30 [==============================] - 0s 15ms/step - loss: 0.0184 - accuracy: 0.9977 - val_loss: 0.5428 - val_accuracy: 0.8700\n",
            "Epoch 16/50\n",
            "30/30 [==============================] - 0s 14ms/step - loss: 0.0168 - accuracy: 0.9969 - val_loss: 0.5525 - val_accuracy: 0.8717\n",
            "Epoch 17/50\n",
            "30/30 [==============================] - 0s 16ms/step - loss: 0.0124 - accuracy: 0.9984 - val_loss: 0.5771 - val_accuracy: 0.8715\n",
            "Epoch 18/50\n",
            "30/30 [==============================] - 1s 20ms/step - loss: 0.0083 - accuracy: 0.9990 - val_loss: 0.6401 - val_accuracy: 0.8695\n",
            "Epoch 19/50\n",
            "30/30 [==============================] - 1s 20ms/step - loss: 0.0083 - accuracy: 0.9989 - val_loss: 0.6462 - val_accuracy: 0.8694\n",
            "Epoch 20/50\n",
            "30/30 [==============================] - 1s 19ms/step - loss: 0.0052 - accuracy: 0.9993 - val_loss: 0.6870 - val_accuracy: 0.8679\n",
            "Epoch 21/50\n",
            "30/30 [==============================] - 1s 20ms/step - loss: 0.0052 - accuracy: 0.9989 - val_loss: 0.7421 - val_accuracy: 0.8673\n",
            "Epoch 22/50\n",
            "30/30 [==============================] - 1s 19ms/step - loss: 0.0026 - accuracy: 0.9995 - val_loss: 0.7691 - val_accuracy: 0.8660\n",
            "Epoch 23/50\n",
            "30/30 [==============================] - 1s 20ms/step - loss: 0.0021 - accuracy: 0.9996 - val_loss: 0.8283 - val_accuracy: 0.8661\n",
            "Epoch 24/50\n",
            "30/30 [==============================] - 1s 21ms/step - loss: 0.0024 - accuracy: 0.9995 - val_loss: 0.8637 - val_accuracy: 0.8659\n",
            "Epoch 25/50\n",
            "30/30 [==============================] - 1s 19ms/step - loss: 0.0010 - accuracy: 0.9999 - val_loss: 0.8966 - val_accuracy: 0.8656\n",
            "Epoch 26/50\n",
            "30/30 [==============================] - 1s 20ms/step - loss: 8.1414e-04 - accuracy: 0.9999 - val_loss: 1.0919 - val_accuracy: 0.8544\n",
            "Epoch 27/50\n",
            "30/30 [==============================] - 1s 19ms/step - loss: 0.0013 - accuracy: 0.9997 - val_loss: 0.9727 - val_accuracy: 0.8649\n",
            "Epoch 28/50\n",
            "30/30 [==============================] - 1s 21ms/step - loss: 5.3420e-04 - accuracy: 0.9999 - val_loss: 1.0107 - val_accuracy: 0.8632\n",
            "Epoch 29/50\n",
            "30/30 [==============================] - 1s 20ms/step - loss: 0.0019 - accuracy: 0.9995 - val_loss: 1.0919 - val_accuracy: 0.8614\n",
            "Epoch 30/50\n",
            "30/30 [==============================] - 1s 20ms/step - loss: 3.6651e-04 - accuracy: 0.9999 - val_loss: 1.0865 - val_accuracy: 0.8615\n",
            "Epoch 31/50\n",
            "30/30 [==============================] - 1s 21ms/step - loss: 3.1961e-04 - accuracy: 0.9999 - val_loss: 1.1090 - val_accuracy: 0.8616\n",
            "Epoch 32/50\n",
            "30/30 [==============================] - 1s 24ms/step - loss: 2.5296e-04 - accuracy: 0.9999 - val_loss: 1.1515 - val_accuracy: 0.8616\n",
            "Epoch 33/50\n",
            "30/30 [==============================] - 1s 22ms/step - loss: 0.0020 - accuracy: 0.9995 - val_loss: 1.1980 - val_accuracy: 0.8599\n",
            "Epoch 34/50\n",
            "30/30 [==============================] - 1s 21ms/step - loss: 1.3677e-04 - accuracy: 0.9999 - val_loss: 1.2120 - val_accuracy: 0.8597\n",
            "Epoch 35/50\n",
            "30/30 [==============================] - 1s 20ms/step - loss: 1.1186e-04 - accuracy: 0.9999 - val_loss: 1.2297 - val_accuracy: 0.8606\n",
            "Epoch 36/50\n",
            "30/30 [==============================] - 1s 20ms/step - loss: 8.7126e-05 - accuracy: 1.0000 - val_loss: 1.2599 - val_accuracy: 0.8599\n",
            "Epoch 37/50\n",
            "30/30 [==============================] - 1s 20ms/step - loss: 6.0184e-05 - accuracy: 1.0000 - val_loss: 1.3175 - val_accuracy: 0.8592\n",
            "Epoch 38/50\n",
            "30/30 [==============================] - 1s 21ms/step - loss: 0.0015 - accuracy: 0.9996 - val_loss: 1.3801 - val_accuracy: 0.8582\n",
            "Epoch 39/50\n",
            "30/30 [==============================] - 1s 25ms/step - loss: 3.3811e-05 - accuracy: 1.0000 - val_loss: 1.3805 - val_accuracy: 0.8591\n",
            "Epoch 40/50\n",
            "30/30 [==============================] - 1s 22ms/step - loss: 2.3760e-05 - accuracy: 1.0000 - val_loss: 1.3952 - val_accuracy: 0.8604\n",
            "Epoch 41/50\n",
            "30/30 [==============================] - 1s 20ms/step - loss: 1.9579e-05 - accuracy: 1.0000 - val_loss: 1.4133 - val_accuracy: 0.8603\n",
            "Epoch 42/50\n",
            "30/30 [==============================] - 1s 20ms/step - loss: 1.4917e-05 - accuracy: 1.0000 - val_loss: 1.4534 - val_accuracy: 0.8609\n",
            "Epoch 43/50\n",
            "30/30 [==============================] - 1s 20ms/step - loss: 9.7940e-04 - accuracy: 0.9998 - val_loss: 1.5535 - val_accuracy: 0.8555\n",
            "Epoch 44/50\n",
            "30/30 [==============================] - 1s 20ms/step - loss: 1.2945e-05 - accuracy: 1.0000 - val_loss: 1.5214 - val_accuracy: 0.8590\n",
            "Epoch 45/50\n",
            "30/30 [==============================] - 1s 21ms/step - loss: 7.4004e-06 - accuracy: 1.0000 - val_loss: 1.5323 - val_accuracy: 0.8594\n",
            "Epoch 46/50\n",
            "30/30 [==============================] - 1s 20ms/step - loss: 6.0174e-06 - accuracy: 1.0000 - val_loss: 1.5431 - val_accuracy: 0.8595\n",
            "Epoch 47/50\n",
            "30/30 [==============================] - 1s 20ms/step - loss: 4.9626e-06 - accuracy: 1.0000 - val_loss: 1.5622 - val_accuracy: 0.8600\n",
            "Epoch 48/50\n",
            "30/30 [==============================] - 1s 20ms/step - loss: 3.7267e-06 - accuracy: 1.0000 - val_loss: 1.6092 - val_accuracy: 0.8590\n",
            "Epoch 49/50\n",
            "30/30 [==============================] - 1s 20ms/step - loss: 2.8099e-06 - accuracy: 1.0000 - val_loss: 1.8215 - val_accuracy: 0.8545\n",
            "Epoch 50/50\n",
            "30/30 [==============================] - 1s 20ms/step - loss: 1.0883e-04 - accuracy: 1.0000 - val_loss: 1.6736 - val_accuracy: 0.8609\n"
          ]
        }
      ],
      "source": [
        "(train_data, train_labels), _ = imdb.load_data(num_words=10000)\n",
        "common_stop_words=[\"a\",\"an\",\"and\",\"the\",\"in\",\"of\",\"to\",\"that\",\"this\",\"for\"]\n",
        "\n",
        "\n",
        "def delete_common_stop_words(train_data, common_stop_words):\n",
        "    word_index = imdb.get_word_index()\n",
        "    for i in range(len(common_stop_words)):\n",
        "      if word_index[common_stop_words[i]]:\n",
        "         common_stop_word_index = word_index[common_stop_words[i]]\n",
        "         for i in range(len(train_data)):\n",
        "           train_data[i] = list(\n",
        "               filter((common_stop_word_index).__ne__, train_data[i]))\n",
        "    return train_data\n",
        "\n",
        "def vectorize_sequences(sequences, dimension=10000):\n",
        "    results = np.zeros((len(sequences), dimension))\n",
        "    for i, sequence in enumerate(sequences):\n",
        "        results[i, sequence] = 1.\n",
        "    return results\n",
        "\n",
        "train_data = delete_common_stop_words(train_data, common_stop_words)\n",
        "train_data = vectorize_sequences(train_data)\n",
        "\n",
        "model = keras.Sequential([\n",
        "    layers.Dense(16, activation=\"relu\"),\n",
        "    layers.Dense(16, activation=\"relu\"),\n",
        "    layers.Dense(1, activation=\"sigmoid\")\n",
        "])\n",
        "model.compile(optimizer=\"rmsprop\",\n",
        "              loss=\"binary_crossentropy\",\n",
        "              metrics=[\"accuracy\"])\n",
        "Practice_Run  = model.fit(train_data, train_labels,\n",
        "                             epochs=50, batch_size=512, validation_split=0.4)"
      ]
    },
    {
      "cell_type": "markdown",
      "metadata": {
        "id": "nGgHQ6Uefh2m"
      },
      "source": [
        "### Using early stopping"
      ]
    },
    {
      "cell_type": "markdown",
      "metadata": {
        "id": "BXXNudUkb1qb"
      },
      "source": [
        "We could using early stopping class in the Keras library to accomplish this step\n",
        "\n",
        "**Original model**"
      ]
    },
    {
      "cell_type": "code",
      "execution_count": 7,
      "metadata": {
        "colab": {
          "base_uri": "https://localhost:8080/"
        },
        "id": "JshHGpZ8dS4s",
        "outputId": "d5fd4159-3b1c-4a36-ce7e-e5e54061e634"
      },
      "outputs": [
        {
          "name": "stdout",
          "output_type": "stream",
          "text": [
            "Epoch 1/50\n",
            "30/30 [==============================] - 1s 27ms/step - loss: 0.5407 - accuracy: 0.7674 - val_loss: 0.4167 - val_accuracy: 0.8500\n",
            "Epoch 2/50\n",
            "30/30 [==============================] - 0s 15ms/step - loss: 0.3312 - accuracy: 0.8999 - val_loss: 0.3160 - val_accuracy: 0.8893\n",
            "Epoch 3/50\n",
            "30/30 [==============================] - 0s 15ms/step - loss: 0.2390 - accuracy: 0.9277 - val_loss: 0.2983 - val_accuracy: 0.8814\n",
            "Epoch 4/50\n",
            "30/30 [==============================] - 0s 17ms/step - loss: 0.1858 - accuracy: 0.9438 - val_loss: 0.2772 - val_accuracy: 0.8930\n",
            "Epoch 5/50\n",
            "30/30 [==============================] - 1s 20ms/step - loss: 0.1474 - accuracy: 0.9569 - val_loss: 0.2875 - val_accuracy: 0.8887\n",
            "Epoch 6/50\n",
            "30/30 [==============================] - 1s 20ms/step - loss: 0.1234 - accuracy: 0.9635 - val_loss: 0.2999 - val_accuracy: 0.8865\n",
            "Epoch 7/50\n",
            "30/30 [==============================] - 1s 20ms/step - loss: 0.1008 - accuracy: 0.9704 - val_loss: 0.3118 - val_accuracy: 0.8858\n",
            "Epoch 8/50\n",
            "30/30 [==============================] - 1s 20ms/step - loss: 0.0826 - accuracy: 0.9781 - val_loss: 0.3612 - val_accuracy: 0.8774\n",
            "Epoch 9/50\n",
            "30/30 [==============================] - 1s 20ms/step - loss: 0.0710 - accuracy: 0.9807 - val_loss: 0.3548 - val_accuracy: 0.8808\n",
            "Epoch 10/50\n",
            "30/30 [==============================] - 1s 20ms/step - loss: 0.0559 - accuracy: 0.9864 - val_loss: 0.3803 - val_accuracy: 0.8798\n",
            "Epoch 11/50\n",
            "30/30 [==============================] - 1s 21ms/step - loss: 0.0467 - accuracy: 0.9881 - val_loss: 0.4072 - val_accuracy: 0.8779\n",
            "Epoch 12/50\n",
            "30/30 [==============================] - 1s 20ms/step - loss: 0.0389 - accuracy: 0.9913 - val_loss: 0.4439 - val_accuracy: 0.8748\n",
            "Epoch 13/50\n",
            "30/30 [==============================] - 1s 20ms/step - loss: 0.0316 - accuracy: 0.9929 - val_loss: 0.4735 - val_accuracy: 0.8739\n",
            "Epoch 14/50\n",
            "30/30 [==============================] - 1s 20ms/step - loss: 0.0229 - accuracy: 0.9959 - val_loss: 0.5037 - val_accuracy: 0.8721\n",
            "Epoch 15/50\n",
            "30/30 [==============================] - 1s 19ms/step - loss: 0.0226 - accuracy: 0.9949 - val_loss: 0.5406 - val_accuracy: 0.8704\n",
            "Epoch 16/50\n",
            "30/30 [==============================] - 1s 20ms/step - loss: 0.0137 - accuracy: 0.9985 - val_loss: 0.5684 - val_accuracy: 0.8689\n",
            "Epoch 17/50\n",
            "30/30 [==============================] - 1s 21ms/step - loss: 0.0143 - accuracy: 0.9978 - val_loss: 0.6090 - val_accuracy: 0.8669\n",
            "Epoch 18/50\n",
            "30/30 [==============================] - 1s 19ms/step - loss: 0.0095 - accuracy: 0.9988 - val_loss: 0.6690 - val_accuracy: 0.8663\n",
            "Epoch 19/50\n",
            "30/30 [==============================] - 1s 20ms/step - loss: 0.0108 - accuracy: 0.9977 - val_loss: 0.6785 - val_accuracy: 0.8667\n",
            "Epoch 20/50\n",
            "30/30 [==============================] - 1s 20ms/step - loss: 0.0053 - accuracy: 0.9993 - val_loss: 0.7226 - val_accuracy: 0.8653\n",
            "Epoch 21/50\n",
            "30/30 [==============================] - 1s 20ms/step - loss: 0.0103 - accuracy: 0.9975 - val_loss: 0.7474 - val_accuracy: 0.8663\n",
            "Epoch 22/50\n",
            "30/30 [==============================] - 1s 20ms/step - loss: 0.0036 - accuracy: 0.9994 - val_loss: 0.7669 - val_accuracy: 0.8659\n",
            "Epoch 23/50\n",
            "30/30 [==============================] - 1s 20ms/step - loss: 0.0064 - accuracy: 0.9986 - val_loss: 0.8327 - val_accuracy: 0.8640\n",
            "Epoch 24/50\n",
            "30/30 [==============================] - 1s 20ms/step - loss: 0.0024 - accuracy: 0.9995 - val_loss: 0.8311 - val_accuracy: 0.8637\n",
            "Epoch 25/50\n",
            "30/30 [==============================] - 1s 20ms/step - loss: 0.0021 - accuracy: 0.9996 - val_loss: 0.9781 - val_accuracy: 0.8456\n",
            "Epoch 26/50\n",
            "30/30 [==============================] - 1s 20ms/step - loss: 0.0025 - accuracy: 0.9995 - val_loss: 0.8986 - val_accuracy: 0.8621\n",
            "Epoch 27/50\n",
            "30/30 [==============================] - 1s 21ms/step - loss: 0.0021 - accuracy: 0.9994 - val_loss: 0.9645 - val_accuracy: 0.8583\n",
            "Epoch 28/50\n",
            "30/30 [==============================] - 1s 19ms/step - loss: 0.0012 - accuracy: 0.9997 - val_loss: 0.9798 - val_accuracy: 0.8603\n",
            "Epoch 29/50\n",
            "30/30 [==============================] - 1s 21ms/step - loss: 9.2210e-04 - accuracy: 0.9999 - val_loss: 1.0150 - val_accuracy: 0.8592\n",
            "Epoch 30/50\n",
            "30/30 [==============================] - 1s 19ms/step - loss: 0.0038 - accuracy: 0.9989 - val_loss: 1.0718 - val_accuracy: 0.8582\n",
            "Epoch 31/50\n",
            "30/30 [==============================] - 1s 20ms/step - loss: 6.1490e-04 - accuracy: 0.9999 - val_loss: 1.0795 - val_accuracy: 0.8586\n",
            "Epoch 32/50\n",
            "30/30 [==============================] - 1s 21ms/step - loss: 5.6167e-04 - accuracy: 0.9999 - val_loss: 1.1111 - val_accuracy: 0.8580\n",
            "Epoch 33/50\n",
            "30/30 [==============================] - 1s 20ms/step - loss: 4.7890e-04 - accuracy: 0.9999 - val_loss: 1.2328 - val_accuracy: 0.8574\n",
            "Epoch 34/50\n",
            "30/30 [==============================] - 1s 20ms/step - loss: 0.0046 - accuracy: 0.9989 - val_loss: 1.2413 - val_accuracy: 0.8585\n",
            "Epoch 35/50\n",
            "30/30 [==============================] - 1s 19ms/step - loss: 3.6653e-04 - accuracy: 0.9999 - val_loss: 1.2449 - val_accuracy: 0.8567\n",
            "Epoch 36/50\n",
            "30/30 [==============================] - 1s 20ms/step - loss: 3.3930e-04 - accuracy: 0.9999 - val_loss: 1.2597 - val_accuracy: 0.8574\n",
            "Epoch 37/50\n",
            "30/30 [==============================] - 1s 20ms/step - loss: 3.0990e-04 - accuracy: 0.9999 - val_loss: 1.2958 - val_accuracy: 0.8572\n",
            "Epoch 38/50\n",
            "30/30 [==============================] - 1s 20ms/step - loss: 0.0013 - accuracy: 0.9995 - val_loss: 1.3494 - val_accuracy: 0.8582\n",
            "Epoch 39/50\n",
            "30/30 [==============================] - 1s 20ms/step - loss: 2.1292e-04 - accuracy: 0.9999 - val_loss: 1.3652 - val_accuracy: 0.8584\n",
            "Epoch 40/50\n",
            "30/30 [==============================] - 1s 20ms/step - loss: 1.9238e-04 - accuracy: 0.9999 - val_loss: 1.3816 - val_accuracy: 0.8588\n",
            "Epoch 41/50\n",
            "30/30 [==============================] - 1s 20ms/step - loss: 1.5730e-04 - accuracy: 0.9999 - val_loss: 1.4133 - val_accuracy: 0.8579\n",
            "Epoch 42/50\n",
            "30/30 [==============================] - 1s 20ms/step - loss: 1.3770e-04 - accuracy: 0.9999 - val_loss: 1.5012 - val_accuracy: 0.8580\n",
            "Epoch 43/50\n",
            "30/30 [==============================] - 1s 20ms/step - loss: 0.0025 - accuracy: 0.9991 - val_loss: 1.5275 - val_accuracy: 0.8547\n",
            "Epoch 44/50\n",
            "30/30 [==============================] - 1s 20ms/step - loss: 5.6503e-05 - accuracy: 1.0000 - val_loss: 1.5398 - val_accuracy: 0.8568\n",
            "Epoch 45/50\n",
            "30/30 [==============================] - 1s 20ms/step - loss: 4.2468e-05 - accuracy: 1.0000 - val_loss: 1.5466 - val_accuracy: 0.8568\n",
            "Epoch 46/50\n",
            "30/30 [==============================] - 1s 20ms/step - loss: 3.3983e-05 - accuracy: 1.0000 - val_loss: 1.5615 - val_accuracy: 0.8578\n",
            "Epoch 47/50\n",
            "30/30 [==============================] - 1s 20ms/step - loss: 2.4025e-05 - accuracy: 1.0000 - val_loss: 1.5945 - val_accuracy: 0.8577\n",
            "Epoch 48/50\n",
            "30/30 [==============================] - 1s 20ms/step - loss: 1.4625e-05 - accuracy: 1.0000 - val_loss: 1.6836 - val_accuracy: 0.8559\n",
            "Epoch 49/50\n",
            "30/30 [==============================] - 1s 20ms/step - loss: 0.0025 - accuracy: 0.9994 - val_loss: 1.6842 - val_accuracy: 0.8583\n",
            "Epoch 50/50\n",
            "30/30 [==============================] - 1s 19ms/step - loss: 8.5708e-06 - accuracy: 1.0000 - val_loss: 1.6887 - val_accuracy: 0.8581\n"
          ]
        }
      ],
      "source": [
        "(train_data, train_labels), _ = imdb.load_data(num_words=10000)\n",
        "\n",
        "def vectorize_sequences(sequences, dimension=10000):\n",
        "    results = np.zeros((len(sequences), dimension))\n",
        "    for i, sequence in enumerate(sequences):\n",
        "        results[i, sequence] = 1.\n",
        "    return results\n",
        "\n",
        "train_data = vectorize_sequences(train_data)\n",
        "\n",
        "model = keras.Sequential([\n",
        "    layers.Dense(16, activation=\"relu\"),\n",
        "    layers.Dense(16, activation=\"relu\"),\n",
        "    layers.Dense(1, activation=\"sigmoid\")\n",
        "])\n",
        "model.compile(optimizer=\"rmsprop\",\n",
        "              loss=\"binary_crossentropy\",\n",
        "              metrics=[\"accuracy\"])\n",
        "history_original = model.fit(train_data, train_labels,\n",
        "                             epochs=50, batch_size=512, validation_split=0.4)"
      ]
    },
    {
      "cell_type": "markdown",
      "metadata": {
        "id": "TaYugD7Ai2RY"
      },
      "source": [
        "So we could apply the early stopping method as shown below"
      ]
    },
    {
      "cell_type": "markdown",
      "metadata": {
        "id": "-tCmlMFCdePV"
      },
      "source": [
        "**Practice**"
      ]
    },
    {
      "cell_type": "code",
      "execution_count": 8,
      "metadata": {
        "colab": {
          "base_uri": "https://localhost:8080/"
        },
        "id": "pYlyv-qKdhjL",
        "outputId": "3bf65d89-2a17-45bf-c0fe-bb7487823d61"
      },
      "outputs": [
        {
          "ename": "TypeError",
          "evalue": "EarlyStopping.__init__() got an unexpected keyword argument 'start_from_epoch'",
          "output_type": "error",
          "traceback": [
            "\u001b[1;31m---------------------------------------------------------------------------\u001b[0m",
            "\u001b[1;31mTypeError\u001b[0m                                 Traceback (most recent call last)",
            "Cell \u001b[1;32mIn[8], line 1\u001b[0m\n\u001b[1;32m----> 1\u001b[0m callback \u001b[39m=\u001b[39m tf\u001b[39m.\u001b[39;49mkeras\u001b[39m.\u001b[39;49mcallbacks\u001b[39m.\u001b[39;49mEarlyStopping(\n\u001b[0;32m      2\u001b[0m     monitor\u001b[39m=\u001b[39;49m\u001b[39m\"\u001b[39;49m\u001b[39maccuracy\u001b[39;49m\u001b[39m\"\u001b[39;49m,\n\u001b[0;32m      3\u001b[0m     min_delta\u001b[39m=\u001b[39;49m\u001b[39m0\u001b[39;49m,\n\u001b[0;32m      4\u001b[0m     patience\u001b[39m=\u001b[39;49m\u001b[39m5\u001b[39;49m,\n\u001b[0;32m      5\u001b[0m     verbose\u001b[39m=\u001b[39;49m\u001b[39m1\u001b[39;49m,\n\u001b[0;32m      6\u001b[0m     mode\u001b[39m=\u001b[39;49m\u001b[39m\"\u001b[39;49m\u001b[39mauto\u001b[39;49m\u001b[39m\"\u001b[39;49m,\n\u001b[0;32m      7\u001b[0m     baseline\u001b[39m=\u001b[39;49m\u001b[39m0.9\u001b[39;49m,\n\u001b[0;32m      8\u001b[0m     restore_best_weights\u001b[39m=\u001b[39;49m\u001b[39mTrue\u001b[39;49;00m,\n\u001b[0;32m      9\u001b[0m     start_from_epoch\u001b[39m=\u001b[39;49m\u001b[39m0\u001b[39;49m,\n\u001b[0;32m     10\u001b[0m )\n\u001b[0;32m     11\u001b[0m model \u001b[39m=\u001b[39m keras\u001b[39m.\u001b[39mSequential([\n\u001b[0;32m     12\u001b[0m     layers\u001b[39m.\u001b[39mDense(\u001b[39m16\u001b[39m, activation\u001b[39m=\u001b[39m\u001b[39m\"\u001b[39m\u001b[39mrelu\u001b[39m\u001b[39m\"\u001b[39m),\n\u001b[0;32m     13\u001b[0m     layers\u001b[39m.\u001b[39mDense(\u001b[39m16\u001b[39m, activation\u001b[39m=\u001b[39m\u001b[39m\"\u001b[39m\u001b[39mrelu\u001b[39m\u001b[39m\"\u001b[39m),\n\u001b[0;32m     14\u001b[0m     layers\u001b[39m.\u001b[39mDense(\u001b[39m1\u001b[39m, activation\u001b[39m=\u001b[39m\u001b[39m\"\u001b[39m\u001b[39msigmoid\u001b[39m\u001b[39m\"\u001b[39m)\n\u001b[0;32m     15\u001b[0m ])\n\u001b[0;32m     18\u001b[0m model\u001b[39m.\u001b[39mcompile(optimizer\u001b[39m=\u001b[39m\u001b[39m\"\u001b[39m\u001b[39mrmsprop\u001b[39m\u001b[39m\"\u001b[39m,\n\u001b[0;32m     19\u001b[0m               loss\u001b[39m=\u001b[39m\u001b[39m\"\u001b[39m\u001b[39mbinary_crossentropy\u001b[39m\u001b[39m\"\u001b[39m,\n\u001b[0;32m     20\u001b[0m               metrics\u001b[39m=\u001b[39m[\u001b[39m\"\u001b[39m\u001b[39maccuracy\u001b[39m\u001b[39m\"\u001b[39m])\n",
            "\u001b[1;31mTypeError\u001b[0m: EarlyStopping.__init__() got an unexpected keyword argument 'start_from_epoch'"
          ]
        }
      ],
      "source": [
        "callback = tf.keras.callbacks.EarlyStopping(\n",
        "    monitor=\"accuracy\",\n",
        "    min_delta=0,\n",
        "    patience=5,\n",
        "    verbose=1,\n",
        "    mode=\"auto\",\n",
        "    baseline=0.9,\n",
        "    restore_best_weights=True,\n",
        "    start_from_epoch=0,\n",
        ")\n",
        "model = keras.Sequential([\n",
        "    layers.Dense(16, activation=\"relu\"),\n",
        "    layers.Dense(16, activation=\"relu\"),\n",
        "    layers.Dense(1, activation=\"sigmoid\")\n",
        "])\n",
        "\n",
        "\n",
        "model.compile(optimizer=\"rmsprop\",\n",
        "              loss=\"binary_crossentropy\",\n",
        "              metrics=[\"accuracy\"])\n",
        "history_practice = model.fit(train_data, train_labels,\n",
        "                             epochs=50, batch_size=512, validation_split=0.4, callbacks=[callback])"
      ]
    },
    {
      "cell_type": "code",
      "execution_count": null,
      "metadata": {
        "colab": {
          "base_uri": "https://localhost:8080/"
        },
        "id": "uiJ2fBxElPfH",
        "outputId": "009b207f-93c8-4907-b6a2-16eb9d6d511f"
      },
      "outputs": [],
      "source": [
        "len(history_practice.history['loss'])"
      ]
    },
    {
      "attachments": {},
      "cell_type": "markdown",
      "metadata": {
        "id": "fqOOWtKfiKKb"
      },
      "source": [
        "From the experiments above we could saw that the early stopping take action in the epoch 36 with the accuracy of 0.9999. This is our best results so far and it does save a lot of computing resources"
      ]
    },
    {
      "cell_type": "markdown",
      "metadata": {
        "id": "PBgGIbcIfh2m"
      },
      "source": [
        "### Regularizing your model"
      ]
    },
    {
      "cell_type": "markdown",
      "metadata": {
        "id": "taFSCdtDfh2m"
      },
      "source": [
        "#### Reducing the network's size"
      ]
    },
    {
      "cell_type": "markdown",
      "metadata": {
        "id": "7LAdXfPKfh2m"
      },
      "source": [
        "**Original model**"
      ]
    },
    {
      "cell_type": "code",
      "execution_count": null,
      "metadata": {
        "colab": {
          "base_uri": "https://localhost:8080/"
        },
        "id": "q4yxnPpLfh2n",
        "outputId": "8565047b-6a5b-4618-a32e-2c3fab0a8c37"
      },
      "outputs": [
        {
          "name": "stdout",
          "output_type": "stream",
          "text": [
            "Epoch 1/20\n",
            "30/30 [==============================] - 2s 34ms/step - loss: 0.5073 - accuracy: 0.7855 - val_loss: 0.4065 - val_accuracy: 0.8364\n",
            "Epoch 2/20\n",
            "30/30 [==============================] - 1s 21ms/step - loss: 0.3010 - accuracy: 0.9025 - val_loss: 0.2998 - val_accuracy: 0.8901\n",
            "Epoch 3/20\n",
            "30/30 [==============================] - 1s 24ms/step - loss: 0.2237 - accuracy: 0.9269 - val_loss: 0.2797 - val_accuracy: 0.8927\n",
            "Epoch 4/20\n",
            "30/30 [==============================] - 1s 23ms/step - loss: 0.1768 - accuracy: 0.9438 - val_loss: 0.2996 - val_accuracy: 0.8799\n",
            "Epoch 5/20\n",
            "30/30 [==============================] - 1s 23ms/step - loss: 0.1432 - accuracy: 0.9551 - val_loss: 0.2827 - val_accuracy: 0.8876\n",
            "Epoch 6/20\n",
            "30/30 [==============================] - 1s 20ms/step - loss: 0.1184 - accuracy: 0.9635 - val_loss: 0.3276 - val_accuracy: 0.8769\n",
            "Epoch 7/20\n",
            "30/30 [==============================] - 1s 22ms/step - loss: 0.1014 - accuracy: 0.9691 - val_loss: 0.3167 - val_accuracy: 0.8807\n",
            "Epoch 8/20\n",
            "30/30 [==============================] - 1s 22ms/step - loss: 0.0860 - accuracy: 0.9753 - val_loss: 0.3427 - val_accuracy: 0.8789\n",
            "Epoch 9/20\n",
            "30/30 [==============================] - 1s 23ms/step - loss: 0.0723 - accuracy: 0.9799 - val_loss: 0.3645 - val_accuracy: 0.8779\n",
            "Epoch 10/20\n",
            "30/30 [==============================] - 1s 25ms/step - loss: 0.0605 - accuracy: 0.9837 - val_loss: 0.3843 - val_accuracy: 0.8759\n",
            "Epoch 11/20\n",
            "30/30 [==============================] - 1s 21ms/step - loss: 0.0509 - accuracy: 0.9873 - val_loss: 0.4350 - val_accuracy: 0.8702\n",
            "Epoch 12/20\n",
            "30/30 [==============================] - 1s 20ms/step - loss: 0.0443 - accuracy: 0.9890 - val_loss: 0.4681 - val_accuracy: 0.8658\n",
            "Epoch 13/20\n",
            "30/30 [==============================] - 1s 25ms/step - loss: 0.0364 - accuracy: 0.9908 - val_loss: 0.4592 - val_accuracy: 0.8741\n",
            "Epoch 14/20\n",
            "30/30 [==============================] - 1s 23ms/step - loss: 0.0309 - accuracy: 0.9930 - val_loss: 0.4885 - val_accuracy: 0.8701\n",
            "Epoch 15/20\n",
            "30/30 [==============================] - 1s 19ms/step - loss: 0.0251 - accuracy: 0.9943 - val_loss: 0.5187 - val_accuracy: 0.8694\n",
            "Epoch 16/20\n",
            "30/30 [==============================] - 1s 20ms/step - loss: 0.0197 - accuracy: 0.9965 - val_loss: 0.5511 - val_accuracy: 0.8694\n",
            "Epoch 17/20\n",
            "30/30 [==============================] - 1s 21ms/step - loss: 0.0162 - accuracy: 0.9976 - val_loss: 0.5840 - val_accuracy: 0.8698\n",
            "Epoch 18/20\n",
            "30/30 [==============================] - 1s 22ms/step - loss: 0.0146 - accuracy: 0.9975 - val_loss: 0.6203 - val_accuracy: 0.8676\n",
            "Epoch 19/20\n",
            "30/30 [==============================] - 1s 22ms/step - loss: 0.0094 - accuracy: 0.9991 - val_loss: 0.7047 - val_accuracy: 0.8613\n",
            "Epoch 20/20\n",
            "30/30 [==============================] - 1s 23ms/step - loss: 0.0089 - accuracy: 0.9993 - val_loss: 0.6939 - val_accuracy: 0.8652\n"
          ]
        }
      ],
      "source": [
        "(train_data, train_labels), _ = imdb.load_data(num_words=10000)\n",
        "\n",
        "def vectorize_sequences(sequences, dimension=10000):\n",
        "    results = np.zeros((len(sequences), dimension))\n",
        "    for i, sequence in enumerate(sequences):\n",
        "        results[i, sequence] = 1.\n",
        "    return results\n",
        "\n",
        "train_data = vectorize_sequences(train_data)\n",
        "\n",
        "model = keras.Sequential([\n",
        "    layers.Dense(16, activation=\"relu\"),\n",
        "    layers.Dense(16, activation=\"relu\"),\n",
        "    layers.Dense(1, activation=\"sigmoid\")\n",
        "])\n",
        "model.compile(optimizer=\"rmsprop\",\n",
        "              loss=\"binary_crossentropy\",\n",
        "              metrics=[\"accuracy\"])\n",
        "history_original = model.fit(train_data, train_labels,\n",
        "                             epochs=20, batch_size=512, validation_split=0.4)"
      ]
    },
    {
      "cell_type": "markdown",
      "metadata": {
        "id": "DY5E806Mfh2n"
      },
      "source": [
        "**Version of the model with lower capacity**"
      ]
    },
    {
      "cell_type": "code",
      "execution_count": null,
      "metadata": {
        "colab": {
          "base_uri": "https://localhost:8080/"
        },
        "id": "T-egiCtbfh2n",
        "outputId": "0a68e8dc-8938-4589-c302-00daf5899b1d"
      },
      "outputs": [
        {
          "name": "stdout",
          "output_type": "stream",
          "text": [
            "Epoch 1/20\n",
            "30/30 [==============================] - 1s 31ms/step - loss: 0.5736 - accuracy: 0.7828 - val_loss: 0.4837 - val_accuracy: 0.8560\n",
            "Epoch 2/20\n",
            "30/30 [==============================] - 1s 18ms/step - loss: 0.4201 - accuracy: 0.8835 - val_loss: 0.4035 - val_accuracy: 0.8594\n",
            "Epoch 3/20\n",
            "30/30 [==============================] - 1s 20ms/step - loss: 0.3347 - accuracy: 0.9034 - val_loss: 0.3402 - val_accuracy: 0.8813\n",
            "Epoch 4/20\n",
            "30/30 [==============================] - 1s 23ms/step - loss: 0.2773 - accuracy: 0.9184 - val_loss: 0.3085 - val_accuracy: 0.8886\n",
            "Epoch 5/20\n",
            "30/30 [==============================] - 1s 23ms/step - loss: 0.2372 - accuracy: 0.9284 - val_loss: 0.2893 - val_accuracy: 0.8912\n",
            "Epoch 6/20\n",
            "30/30 [==============================] - 1s 23ms/step - loss: 0.2068 - accuracy: 0.9375 - val_loss: 0.2788 - val_accuracy: 0.8900\n",
            "Epoch 7/20\n",
            "30/30 [==============================] - 1s 23ms/step - loss: 0.1827 - accuracy: 0.9442 - val_loss: 0.2754 - val_accuracy: 0.8910\n",
            "Epoch 8/20\n",
            "30/30 [==============================] - 1s 24ms/step - loss: 0.1629 - accuracy: 0.9507 - val_loss: 0.2805 - val_accuracy: 0.8869\n",
            "Epoch 9/20\n",
            "30/30 [==============================] - 1s 20ms/step - loss: 0.1465 - accuracy: 0.9561 - val_loss: 0.2728 - val_accuracy: 0.8913\n",
            "Epoch 10/20\n",
            "30/30 [==============================] - 1s 22ms/step - loss: 0.1325 - accuracy: 0.9617 - val_loss: 0.2753 - val_accuracy: 0.8906\n",
            "Epoch 11/20\n",
            "30/30 [==============================] - 1s 24ms/step - loss: 0.1202 - accuracy: 0.9658 - val_loss: 0.2826 - val_accuracy: 0.8885\n",
            "Epoch 12/20\n",
            "30/30 [==============================] - 1s 27ms/step - loss: 0.1086 - accuracy: 0.9702 - val_loss: 0.2872 - val_accuracy: 0.8880\n",
            "Epoch 13/20\n",
            "30/30 [==============================] - 1s 24ms/step - loss: 0.0990 - accuracy: 0.9725 - val_loss: 0.2955 - val_accuracy: 0.8867\n",
            "Epoch 14/20\n",
            "30/30 [==============================] - 1s 23ms/step - loss: 0.0894 - accuracy: 0.9758 - val_loss: 0.3171 - val_accuracy: 0.8805\n",
            "Epoch 15/20\n",
            "30/30 [==============================] - 1s 33ms/step - loss: 0.0814 - accuracy: 0.9783 - val_loss: 0.3149 - val_accuracy: 0.8852\n",
            "Epoch 16/20\n",
            "30/30 [==============================] - 1s 20ms/step - loss: 0.0738 - accuracy: 0.9816 - val_loss: 0.3311 - val_accuracy: 0.8819\n",
            "Epoch 17/20\n",
            "30/30 [==============================] - 1s 24ms/step - loss: 0.0674 - accuracy: 0.9835 - val_loss: 0.3416 - val_accuracy: 0.8805\n",
            "Epoch 18/20\n",
            "30/30 [==============================] - 1s 24ms/step - loss: 0.0614 - accuracy: 0.9853 - val_loss: 0.3506 - val_accuracy: 0.8805\n",
            "Epoch 19/20\n",
            "30/30 [==============================] - 1s 24ms/step - loss: 0.0559 - accuracy: 0.9871 - val_loss: 0.3646 - val_accuracy: 0.8791\n",
            "Epoch 20/20\n",
            "30/30 [==============================] - 1s 21ms/step - loss: 0.0504 - accuracy: 0.9889 - val_loss: 0.3815 - val_accuracy: 0.8767\n"
          ]
        }
      ],
      "source": [
        "model = keras.Sequential([\n",
        "    layers.Dense(4, activation=\"relu\"),\n",
        "    layers.Dense(4, activation=\"relu\"),\n",
        "    layers.Dense(1, activation=\"sigmoid\")\n",
        "])\n",
        "model.compile(optimizer=\"rmsprop\",\n",
        "              loss=\"binary_crossentropy\",\n",
        "              metrics=[\"accuracy\"])\n",
        "history_smaller_model = model.fit(\n",
        "    train_data, train_labels,\n",
        "    epochs=20, batch_size=512, validation_split=0.4)"
      ]
    },
    {
      "cell_type": "markdown",
      "metadata": {
        "id": "uVD6-KfSfh2n"
      },
      "source": [
        "**Version of the model with higher capacity**"
      ]
    },
    {
      "cell_type": "code",
      "execution_count": null,
      "metadata": {
        "colab": {
          "base_uri": "https://localhost:8080/"
        },
        "id": "7QmF24wMfh2n",
        "outputId": "5900042e-5ae2-4518-dfd8-82be65360ed0"
      },
      "outputs": [
        {
          "name": "stdout",
          "output_type": "stream",
          "text": [
            "Epoch 1/20\n",
            "30/30 [==============================] - 2s 42ms/step - loss: 0.5490 - accuracy: 0.7599 - val_loss: 0.4879 - val_accuracy: 0.7657\n",
            "Epoch 2/20\n",
            "30/30 [==============================] - 1s 19ms/step - loss: 0.2621 - accuracy: 0.8955 - val_loss: 0.3183 - val_accuracy: 0.8639\n",
            "Epoch 3/20\n",
            "30/30 [==============================] - 1s 19ms/step - loss: 0.1517 - accuracy: 0.9401 - val_loss: 0.3103 - val_accuracy: 0.8682\n",
            "Epoch 4/20\n",
            "30/30 [==============================] - 1s 18ms/step - loss: 0.0810 - accuracy: 0.9745 - val_loss: 0.3729 - val_accuracy: 0.8851\n",
            "Epoch 5/20\n",
            "30/30 [==============================] - 1s 19ms/step - loss: 0.0846 - accuracy: 0.9813 - val_loss: 0.3016 - val_accuracy: 0.8816\n",
            "Epoch 6/20\n",
            "30/30 [==============================] - 1s 20ms/step - loss: 0.0087 - accuracy: 0.9997 - val_loss: 0.4964 - val_accuracy: 0.8865\n",
            "Epoch 7/20\n",
            "30/30 [==============================] - 1s 19ms/step - loss: 9.1925e-04 - accuracy: 0.9999 - val_loss: 0.6059 - val_accuracy: 0.8830\n",
            "Epoch 8/20\n",
            "30/30 [==============================] - 1s 20ms/step - loss: 0.0956 - accuracy: 0.9932 - val_loss: 0.6216 - val_accuracy: 0.8815\n",
            "Epoch 9/20\n",
            "30/30 [==============================] - 1s 20ms/step - loss: 3.2597e-04 - accuracy: 0.9999 - val_loss: 0.6363 - val_accuracy: 0.8851\n",
            "Epoch 10/20\n",
            "30/30 [==============================] - 1s 20ms/step - loss: 7.8881e-05 - accuracy: 1.0000 - val_loss: 0.7121 - val_accuracy: 0.8848\n",
            "Epoch 11/20\n",
            "30/30 [==============================] - 1s 20ms/step - loss: 2.9202e-05 - accuracy: 1.0000 - val_loss: 0.7935 - val_accuracy: 0.8850\n",
            "Epoch 12/20\n",
            "30/30 [==============================] - 1s 19ms/step - loss: 1.0883e-05 - accuracy: 1.0000 - val_loss: 0.8607 - val_accuracy: 0.8843\n",
            "Epoch 13/20\n",
            "30/30 [==============================] - 1s 19ms/step - loss: 3.9617e-06 - accuracy: 1.0000 - val_loss: 0.9906 - val_accuracy: 0.8825\n",
            "Epoch 14/20\n",
            "30/30 [==============================] - 1s 18ms/step - loss: 1.3758e-06 - accuracy: 1.0000 - val_loss: 1.0314 - val_accuracy: 0.8829\n",
            "Epoch 15/20\n",
            "30/30 [==============================] - 1s 19ms/step - loss: 4.9594e-07 - accuracy: 1.0000 - val_loss: 1.1092 - val_accuracy: 0.8836\n",
            "Epoch 16/20\n",
            "30/30 [==============================] - 1s 19ms/step - loss: 1.8770e-07 - accuracy: 1.0000 - val_loss: 1.1634 - val_accuracy: 0.8833\n",
            "Epoch 17/20\n",
            "30/30 [==============================] - 1s 20ms/step - loss: 7.8904e-08 - accuracy: 1.0000 - val_loss: 1.2276 - val_accuracy: 0.8841\n",
            "Epoch 18/20\n",
            "30/30 [==============================] - 1s 23ms/step - loss: 3.8808e-08 - accuracy: 1.0000 - val_loss: 1.2703 - val_accuracy: 0.8838\n",
            "Epoch 19/20\n",
            "30/30 [==============================] - 0s 17ms/step - loss: 2.2934e-08 - accuracy: 1.0000 - val_loss: 1.2982 - val_accuracy: 0.8837\n",
            "Epoch 20/20\n",
            "30/30 [==============================] - 1s 17ms/step - loss: 1.6119e-08 - accuracy: 1.0000 - val_loss: 1.3178 - val_accuracy: 0.8839\n"
          ]
        }
      ],
      "source": [
        "model = keras.Sequential([\n",
        "    layers.Dense(512, activation=\"relu\"),\n",
        "    layers.Dense(512, activation=\"relu\"),\n",
        "    layers.Dense(1, activation=\"sigmoid\")\n",
        "])\n",
        "model.compile(optimizer=\"rmsprop\",\n",
        "              loss=\"binary_crossentropy\",\n",
        "              metrics=[\"accuracy\"])\n",
        "history_larger_model = model.fit(\n",
        "    train_data, train_labels,\n",
        "    epochs=20, batch_size=512, validation_split=0.4)"
      ]
    },
    {
      "cell_type": "markdown",
      "metadata": {
        "id": "3ceEGm92fh2n"
      },
      "source": [
        "#### Adding weight regularization"
      ]
    },
    {
      "cell_type": "markdown",
      "metadata": {
        "id": "gQuk4Cj5fh2n"
      },
      "source": [
        "**Adding L2 weight regularization to the model**"
      ]
    },
    {
      "cell_type": "code",
      "execution_count": null,
      "metadata": {
        "colab": {
          "base_uri": "https://localhost:8080/"
        },
        "id": "qaEnnCDNfh2n",
        "outputId": "51d0a6ba-eb6b-415d-a729-f9b7f27b588b"
      },
      "outputs": [
        {
          "name": "stdout",
          "output_type": "stream",
          "text": [
            "Epoch 1/20\n",
            "30/30 [==============================] - 2s 33ms/step - loss: 0.5821 - accuracy: 0.7895 - val_loss: 0.4463 - val_accuracy: 0.8726\n",
            "Epoch 2/20\n",
            "30/30 [==============================] - 1s 19ms/step - loss: 0.3845 - accuracy: 0.8975 - val_loss: 0.3786 - val_accuracy: 0.8881\n",
            "Epoch 3/20\n",
            "30/30 [==============================] - 1s 19ms/step - loss: 0.3255 - accuracy: 0.9151 - val_loss: 0.3844 - val_accuracy: 0.8763\n",
            "Epoch 4/20\n",
            "30/30 [==============================] - 1s 24ms/step - loss: 0.2904 - accuracy: 0.9283 - val_loss: 0.3720 - val_accuracy: 0.8801\n",
            "Epoch 5/20\n",
            "30/30 [==============================] - 1s 24ms/step - loss: 0.2752 - accuracy: 0.9320 - val_loss: 0.3735 - val_accuracy: 0.8794\n",
            "Epoch 6/20\n",
            "30/30 [==============================] - 1s 19ms/step - loss: 0.2601 - accuracy: 0.9403 - val_loss: 0.3626 - val_accuracy: 0.8869\n",
            "Epoch 7/20\n",
            "30/30 [==============================] - 1s 22ms/step - loss: 0.2537 - accuracy: 0.9415 - val_loss: 0.3738 - val_accuracy: 0.8827\n",
            "Epoch 8/20\n",
            "30/30 [==============================] - 1s 24ms/step - loss: 0.2453 - accuracy: 0.9438 - val_loss: 0.3744 - val_accuracy: 0.8838\n",
            "Epoch 9/20\n",
            "30/30 [==============================] - 1s 23ms/step - loss: 0.2395 - accuracy: 0.9485 - val_loss: 0.3791 - val_accuracy: 0.8828\n",
            "Epoch 10/20\n",
            "30/30 [==============================] - 1s 21ms/step - loss: 0.2320 - accuracy: 0.9495 - val_loss: 0.3815 - val_accuracy: 0.8812\n",
            "Epoch 11/20\n",
            "30/30 [==============================] - 1s 18ms/step - loss: 0.2265 - accuracy: 0.9513 - val_loss: 0.3971 - val_accuracy: 0.8781\n",
            "Epoch 12/20\n",
            "30/30 [==============================] - 1s 24ms/step - loss: 0.2280 - accuracy: 0.9493 - val_loss: 0.3906 - val_accuracy: 0.8799\n",
            "Epoch 13/20\n",
            "30/30 [==============================] - 1s 22ms/step - loss: 0.2230 - accuracy: 0.9511 - val_loss: 0.4160 - val_accuracy: 0.8759\n",
            "Epoch 14/20\n",
            "30/30 [==============================] - 1s 18ms/step - loss: 0.2127 - accuracy: 0.9579 - val_loss: 0.4766 - val_accuracy: 0.8597\n",
            "Epoch 15/20\n",
            "30/30 [==============================] - 1s 23ms/step - loss: 0.2168 - accuracy: 0.9544 - val_loss: 0.4088 - val_accuracy: 0.8768\n",
            "Epoch 16/20\n",
            "30/30 [==============================] - 1s 23ms/step - loss: 0.2121 - accuracy: 0.9567 - val_loss: 0.4083 - val_accuracy: 0.8780\n",
            "Epoch 17/20\n",
            "30/30 [==============================] - 1s 20ms/step - loss: 0.2035 - accuracy: 0.9602 - val_loss: 0.4187 - val_accuracy: 0.8757\n",
            "Epoch 18/20\n",
            "30/30 [==============================] - 1s 23ms/step - loss: 0.2165 - accuracy: 0.9521 - val_loss: 0.4136 - val_accuracy: 0.8780\n",
            "Epoch 19/20\n",
            "30/30 [==============================] - 1s 23ms/step - loss: 0.2008 - accuracy: 0.9618 - val_loss: 0.4327 - val_accuracy: 0.8741\n",
            "Epoch 20/20\n",
            "30/30 [==============================] - 1s 23ms/step - loss: 0.2033 - accuracy: 0.9591 - val_loss: 0.4595 - val_accuracy: 0.8677\n"
          ]
        }
      ],
      "source": [
        "model = keras.Sequential([\n",
        "    layers.Dense(16,\n",
        "                 kernel_regularizer=regularizers.l2(0.002),\n",
        "                 activation=\"relu\"),\n",
        "    layers.Dense(16,\n",
        "                 kernel_regularizer=regularizers.l2(0.002),\n",
        "                 activation=\"relu\"),\n",
        "    layers.Dense(1, activation=\"sigmoid\")\n",
        "])\n",
        "model.compile(optimizer=\"rmsprop\",\n",
        "              loss=\"binary_crossentropy\",\n",
        "              metrics=[\"accuracy\"])\n",
        "history_l2_reg = model.fit(\n",
        "    train_data, train_labels,\n",
        "    epochs=20, batch_size=512, validation_split=0.4)"
      ]
    },
    {
      "cell_type": "markdown",
      "metadata": {
        "id": "EbdbYjJxfh2o"
      },
      "source": [
        "**Different weight regularizers available in Keras**"
      ]
    },
    {
      "cell_type": "code",
      "execution_count": null,
      "metadata": {
        "colab": {
          "base_uri": "https://localhost:8080/"
        },
        "id": "TQkoTQKufh2o",
        "outputId": "a8bd7449-4b5b-4e1d-f424-303c87c6ecd6"
      },
      "outputs": [
        {
          "data": {
            "text/plain": [
              "<keras.regularizers.L1L2 at 0x1a601d2fc10>"
            ]
          },
          "execution_count": 13,
          "metadata": {},
          "output_type": "execute_result"
        }
      ],
      "source": [
        "\n",
        "regularizers.l1(0.001)\n",
        "regularizers.l1_l2(l1=0.001, l2=0.001)"
      ]
    },
    {
      "cell_type": "markdown",
      "metadata": {
        "id": "WzHSwfvffh2o"
      },
      "source": [
        "#### Adding dropout"
      ]
    },
    {
      "cell_type": "markdown",
      "metadata": {
        "id": "Uoo_Gjqafh2o"
      },
      "source": [
        "**Adding dropout to the IMDB model**"
      ]
    },
    {
      "cell_type": "code",
      "execution_count": null,
      "metadata": {
        "colab": {
          "base_uri": "https://localhost:8080/"
        },
        "id": "PYwhzhPJfh2o",
        "outputId": "b5ff4a3a-f2a7-4808-87e8-ada9bf4975be"
      },
      "outputs": [
        {
          "name": "stdout",
          "output_type": "stream",
          "text": [
            "Epoch 1/20\n",
            "30/30 [==============================] - 2s 38ms/step - loss: 0.6334 - accuracy: 0.6313 - val_loss: 0.5263 - val_accuracy: 0.8450\n",
            "Epoch 2/20\n",
            "30/30 [==============================] - 1s 20ms/step - loss: 0.4957 - accuracy: 0.7790 - val_loss: 0.3942 - val_accuracy: 0.8697\n",
            "Epoch 3/20\n",
            "30/30 [==============================] - 1s 20ms/step - loss: 0.4059 - accuracy: 0.8381 - val_loss: 0.3238 - val_accuracy: 0.8837\n",
            "Epoch 4/20\n",
            "30/30 [==============================] - 1s 21ms/step - loss: 0.3348 - accuracy: 0.8758 - val_loss: 0.2905 - val_accuracy: 0.8889\n",
            "Epoch 5/20\n",
            "30/30 [==============================] - 1s 24ms/step - loss: 0.2883 - accuracy: 0.8965 - val_loss: 0.2742 - val_accuracy: 0.8920\n",
            "Epoch 6/20\n",
            "30/30 [==============================] - 1s 25ms/step - loss: 0.2492 - accuracy: 0.9133 - val_loss: 0.2875 - val_accuracy: 0.8846\n",
            "Epoch 7/20\n",
            "30/30 [==============================] - 1s 24ms/step - loss: 0.2153 - accuracy: 0.9266 - val_loss: 0.2786 - val_accuracy: 0.8900\n",
            "Epoch 8/20\n",
            "30/30 [==============================] - 1s 24ms/step - loss: 0.1929 - accuracy: 0.9348 - val_loss: 0.3098 - val_accuracy: 0.8868\n",
            "Epoch 9/20\n",
            "30/30 [==============================] - 1s 22ms/step - loss: 0.1693 - accuracy: 0.9429 - val_loss: 0.3100 - val_accuracy: 0.8890\n",
            "Epoch 10/20\n",
            "30/30 [==============================] - 1s 21ms/step - loss: 0.1517 - accuracy: 0.9503 - val_loss: 0.3287 - val_accuracy: 0.8902\n",
            "Epoch 11/20\n",
            "30/30 [==============================] - 1s 24ms/step - loss: 0.1322 - accuracy: 0.9557 - val_loss: 0.3680 - val_accuracy: 0.8884\n",
            "Epoch 12/20\n",
            "30/30 [==============================] - 1s 24ms/step - loss: 0.1263 - accuracy: 0.9581 - val_loss: 0.3848 - val_accuracy: 0.8881\n",
            "Epoch 13/20\n",
            "30/30 [==============================] - 1s 26ms/step - loss: 0.1146 - accuracy: 0.9611 - val_loss: 0.4123 - val_accuracy: 0.8889\n",
            "Epoch 14/20\n",
            "30/30 [==============================] - 1s 21ms/step - loss: 0.1023 - accuracy: 0.9657 - val_loss: 0.4421 - val_accuracy: 0.8852\n",
            "Epoch 15/20\n",
            "30/30 [==============================] - 1s 21ms/step - loss: 0.0970 - accuracy: 0.9660 - val_loss: 0.4646 - val_accuracy: 0.8879\n",
            "Epoch 16/20\n",
            "30/30 [==============================] - 1s 22ms/step - loss: 0.0889 - accuracy: 0.9683 - val_loss: 0.5183 - val_accuracy: 0.8858\n",
            "Epoch 17/20\n",
            "30/30 [==============================] - 1s 22ms/step - loss: 0.0826 - accuracy: 0.9716 - val_loss: 0.5244 - val_accuracy: 0.8865\n",
            "Epoch 18/20\n",
            "30/30 [==============================] - 1s 22ms/step - loss: 0.0801 - accuracy: 0.9712 - val_loss: 0.5417 - val_accuracy: 0.8852\n",
            "Epoch 19/20\n",
            "30/30 [==============================] - 1s 23ms/step - loss: 0.0771 - accuracy: 0.9725 - val_loss: 0.5693 - val_accuracy: 0.8865\n",
            "Epoch 20/20\n",
            "30/30 [==============================] - 1s 20ms/step - loss: 0.0728 - accuracy: 0.9735 - val_loss: 0.6178 - val_accuracy: 0.8842\n"
          ]
        }
      ],
      "source": [
        "model = keras.Sequential([\n",
        "    layers.Dense(16, activation=\"relu\"),\n",
        "    layers.Dropout(0.5),\n",
        "    layers.Dense(16, activation=\"relu\"),\n",
        "    layers.Dropout(0.5),\n",
        "    layers.Dense(1, activation=\"sigmoid\")\n",
        "])\n",
        "model.compile(optimizer=\"rmsprop\",\n",
        "              loss=\"binary_crossentropy\",\n",
        "              metrics=[\"accuracy\"])\n",
        "history_dropout = model.fit(\n",
        "    train_data, train_labels,\n",
        "    epochs=20, batch_size=512, validation_split=0.4)"
      ]
    },
    {
      "cell_type": "markdown",
      "metadata": {
        "id": "HyuwBO10fh2o"
      },
      "source": [
        "## Summary"
      ]
    }
  ],
  "metadata": {
    "colab": {
      "provenance": [],
      "toc_visible": true
    },
    "kernelspec": {
      "display_name": "Python 3",
      "language": "python",
      "name": "python3"
    },
    "language_info": {
      "codemirror_mode": {
        "name": "ipython",
        "version": 3
      },
      "file_extension": ".py",
      "mimetype": "text/x-python",
      "name": "python",
      "nbconvert_exporter": "python",
      "pygments_lexer": "ipython3",
      "version": "3.10.9"
    },
    "vscode": {
      "interpreter": {
        "hash": "082e9a3bcad0a290d0001e938aa60b99250c6c2ef33a923c00b70f9826caf4b7"
      }
    }
  },
  "nbformat": 4,
  "nbformat_minor": 0
}
