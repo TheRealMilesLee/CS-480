{
  "cells": [
    {
      "cell_type": "markdown",
      "metadata": {
        "id": "6z_8cJUWIsRG"
      },
      "source": [
        "This file is produced by Hengyi Li and Jingbo Wang\n",
        "\n",
        "2023.3.10"
      ]
    },
    {
      "cell_type": "markdown",
      "metadata": {
        "id": "vk1l4Dxlfh2g"
      },
      "source": [
        "# Fundamentals of machine learning"
      ]
    },
    {
      "cell_type": "markdown",
      "metadata": {
        "id": "ztpi_d6Sfh2g"
      },
      "source": [
        "## Generalization: The goal of machine learning"
      ]
    },
    {
      "cell_type": "markdown",
      "metadata": {
        "id": "uhvABr4dXX8K"
      },
      "source": [
        "We can setup our envrinment by importing those libraries "
      ]
    },
    {
      "cell_type": "code",
      "execution_count": 11,
      "metadata": {
        "id": "WeTjeWz1Xd8Q"
      },
      "outputs": [],
      "source": [
        "import numpy as np\n",
        "import tensorflow as tf\n",
        "from tensorflow import keras\n",
        "from tensorflow.keras import layers, regularizers\n",
        "from tensorflow.keras.datasets import imdb"
      ]
    },
    {
      "cell_type": "markdown",
      "metadata": {
        "id": "LuA9TByqI68K"
      },
      "source": [
        "Before start, we can check our running environment by running those code"
      ]
    },
    {
      "cell_type": "code",
      "execution_count": 12,
      "metadata": {
        "colab": {
          "base_uri": "https://localhost:8080/"
        },
        "id": "PnJ7W2ktJCrS",
        "outputId": "15df8fb3-0f81-4269-fac0-18d790c76384"
      },
      "outputs": [
        {
          "name": "stdout",
          "output_type": "stream",
          "text": [
            "[]\n",
            "[PhysicalDevice(name='/physical_device:CPU:0', device_type='CPU')]\n"
          ]
        }
      ],
      "source": [
        "print(tf.config.list_physical_devices('GPU'))\n",
        "print(tf.config.list_physical_devices('CPU'))"
      ]
    },
    {
      "cell_type": "markdown",
      "metadata": {
        "id": "OzGgWuMXfh2m"
      },
      "source": [
        "## Improving generalization"
      ]
    },
    {
      "cell_type": "markdown",
      "metadata": {
        "id": "XV6r9QncSvpa"
      },
      "source": [
        "To improve the generalization, we have several ways to do it. \n",
        "\n",
        "* Dataset curation\n",
        "\n",
        "* Feature engineering\n",
        "\n",
        "* Using early stopping\n",
        "\n",
        "* Reducing the network's size\n",
        "\n",
        "  * Reducing the network's size\n",
        "  * Adding L2 weight regularization to the model\n",
        "  * Adding dropout to the IMDB model"
      ]
    },
    {
      "cell_type": "markdown",
      "metadata": {
        "id": "CEGGTUpIfh2m"
      },
      "source": [
        "### Dataset curation"
      ]
    },
    {
      "cell_type": "markdown",
      "metadata": {
        "id": "ZpDidvccWS1v"
      },
      "source": [
        "* Make sure you have enough data. Remember that you need a _**dense sampling**_ of the input-cross-output space. More data will yield a better model. Sometimes, problems that seem impossible at first become solvable with a larger dataset.\n",
        "* Make sure you have enough data. Remember that you need a dense sampling of the input-cross-output space. More data will yield a better model. Sometimes, problems that seem impossible at first become solvable with a larger dataset.\n",
        "* Clean your data and deal with missing values.\n",
        "* If you have many features and you aren’t sure which ones are actually useful, do feature selection.\n"
      ]
    },
    {
      "cell_type": "markdown",
      "metadata": {
        "id": "sZ_SvYEBzDQG"
      },
      "source": [
        "So the num_words restricted the top 10,000 most frequently occurring words in the training data. Rare words will be discarded. And we can do better than that by increasing the num_words to 25000 \n",
        "\n",
        "**Original Model**"
      ]
    },
    {
      "cell_type": "code",
      "execution_count": 13,
      "metadata": {
        "colab": {
          "base_uri": "https://localhost:8080/"
        },
        "id": "S-AAfSid1Uz9",
        "outputId": "53081d4b-9041-4d4d-c355-b365ac6353e5"
      },
      "outputs": [
        {
          "name": "stdout",
          "output_type": "stream",
          "text": [
            "Epoch 1/20\n",
            "30/30 [==============================] - 1s 20ms/step - loss: 0.5656 - accuracy: 0.7586 - val_loss: 0.4421 - val_accuracy: 0.8590\n",
            "Epoch 2/20\n",
            "30/30 [==============================] - 0s 11ms/step - loss: 0.3646 - accuracy: 0.8884 - val_loss: 0.3380 - val_accuracy: 0.8854\n",
            "Epoch 3/20\n",
            "30/30 [==============================] - 0s 11ms/step - loss: 0.2689 - accuracy: 0.9153 - val_loss: 0.3165 - val_accuracy: 0.8726\n",
            "Epoch 4/20\n",
            "30/30 [==============================] - 0s 11ms/step - loss: 0.2161 - accuracy: 0.9311 - val_loss: 0.2798 - val_accuracy: 0.8917\n",
            "Epoch 5/20\n",
            "30/30 [==============================] - 0s 11ms/step - loss: 0.1801 - accuracy: 0.9419 - val_loss: 0.2911 - val_accuracy: 0.8810\n",
            "Epoch 6/20\n",
            "30/30 [==============================] - 0s 12ms/step - loss: 0.1547 - accuracy: 0.9494 - val_loss: 0.3013 - val_accuracy: 0.8801\n",
            "Epoch 7/20\n",
            "30/30 [==============================] - 0s 10ms/step - loss: 0.1315 - accuracy: 0.9601 - val_loss: 0.2868 - val_accuracy: 0.8870\n",
            "Epoch 8/20\n",
            "30/30 [==============================] - 0s 10ms/step - loss: 0.1151 - accuracy: 0.9654 - val_loss: 0.3289 - val_accuracy: 0.8755\n",
            "Epoch 9/20\n",
            "30/30 [==============================] - 0s 12ms/step - loss: 0.1018 - accuracy: 0.9705 - val_loss: 0.3118 - val_accuracy: 0.8836\n",
            "Epoch 10/20\n",
            "30/30 [==============================] - 0s 11ms/step - loss: 0.0871 - accuracy: 0.9764 - val_loss: 0.3312 - val_accuracy: 0.8812\n",
            "Epoch 11/20\n",
            "30/30 [==============================] - 0s 10ms/step - loss: 0.0764 - accuracy: 0.9807 - val_loss: 0.3452 - val_accuracy: 0.8808\n",
            "Epoch 12/20\n",
            "30/30 [==============================] - 0s 12ms/step - loss: 0.0679 - accuracy: 0.9829 - val_loss: 0.3621 - val_accuracy: 0.8782\n",
            "Epoch 13/20\n",
            "30/30 [==============================] - 0s 11ms/step - loss: 0.0578 - accuracy: 0.9865 - val_loss: 0.3811 - val_accuracy: 0.8788\n",
            "Epoch 14/20\n",
            "30/30 [==============================] - 0s 10ms/step - loss: 0.0502 - accuracy: 0.9893 - val_loss: 0.4091 - val_accuracy: 0.8731\n",
            "Epoch 15/20\n",
            "30/30 [==============================] - 0s 12ms/step - loss: 0.0443 - accuracy: 0.9916 - val_loss: 0.4333 - val_accuracy: 0.8719\n",
            "Epoch 16/20\n",
            "30/30 [==============================] - 0s 11ms/step - loss: 0.0380 - accuracy: 0.9928 - val_loss: 0.4889 - val_accuracy: 0.8633\n",
            "Epoch 17/20\n",
            "30/30 [==============================] - 0s 10ms/step - loss: 0.0329 - accuracy: 0.9943 - val_loss: 0.4608 - val_accuracy: 0.8738\n",
            "Epoch 18/20\n",
            "30/30 [==============================] - 0s 11ms/step - loss: 0.0281 - accuracy: 0.9955 - val_loss: 0.5287 - val_accuracy: 0.8664\n",
            "Epoch 19/20\n",
            "30/30 [==============================] - 0s 10ms/step - loss: 0.0276 - accuracy: 0.9941 - val_loss: 0.5063 - val_accuracy: 0.8713\n",
            "Epoch 20/20\n",
            "30/30 [==============================] - 0s 9ms/step - loss: 0.0191 - accuracy: 0.9976 - val_loss: 0.5350 - val_accuracy: 0.8670\n"
          ]
        }
      ],
      "source": [
        "(train_data, train_labels), _ = imdb.load_data(num_words=10000)\n",
        "\n",
        "def vectorize_sequences(sequences, dimension=10000):\n",
        "    results = np.zeros((len(sequences), dimension))\n",
        "    for i, sequence in enumerate(sequences):\n",
        "        results[i, sequence] = 1.\n",
        "    return results\n",
        "\n",
        "train_data = vectorize_sequences(train_data)\n",
        "\n",
        "model = keras.Sequential([\n",
        "    layers.Dense(16, activation=\"relu\"),\n",
        "    layers.Dense(16, activation=\"relu\"),\n",
        "    layers.Dense(1, activation=\"sigmoid\")\n",
        "])\n",
        "model.compile(optimizer=\"rmsprop\",\n",
        "              loss=\"binary_crossentropy\",\n",
        "              metrics=[\"accuracy\"])\n",
        "history_original = model.fit(train_data, train_labels,\n",
        "                             epochs=20, batch_size=512, validation_split=0.4)"
      ]
    },
    {
      "cell_type": "markdown",
      "metadata": {
        "id": "JoIDfdR41_GE"
      },
      "source": [
        "**Practice Model**\n",
        "\n",
        "Here, we change the num_words to 25000 "
      ]
    },
    {
      "cell_type": "code",
      "execution_count": 14,
      "metadata": {
        "colab": {
          "base_uri": "https://localhost:8080/"
        },
        "id": "-kNHkq1A2H6q",
        "outputId": "5c1b90f8-8f63-4644-c406-271d363dc5e5"
      },
      "outputs": [
        {
          "name": "stdout",
          "output_type": "stream",
          "text": [
            "Epoch 1/20\n",
            "30/30 [==============================] - 2s 43ms/step - loss: 0.5127 - accuracy: 0.7799 - val_loss: 0.3726 - val_accuracy: 0.8796\n",
            "Epoch 2/20\n",
            "30/30 [==============================] - 1s 23ms/step - loss: 0.2925 - accuracy: 0.9111 - val_loss: 0.2962 - val_accuracy: 0.8922\n",
            "Epoch 3/20\n",
            "30/30 [==============================] - 1s 23ms/step - loss: 0.2099 - accuracy: 0.9363 - val_loss: 0.3140 - val_accuracy: 0.8706\n",
            "Epoch 4/20\n",
            "30/30 [==============================] - 1s 23ms/step - loss: 0.1540 - accuracy: 0.9563 - val_loss: 0.2772 - val_accuracy: 0.8901\n",
            "Epoch 5/20\n",
            "30/30 [==============================] - 1s 24ms/step - loss: 0.1210 - accuracy: 0.9655 - val_loss: 0.2875 - val_accuracy: 0.8849\n",
            "Epoch 6/20\n",
            "30/30 [==============================] - 1s 22ms/step - loss: 0.0946 - accuracy: 0.9765 - val_loss: 0.3354 - val_accuracy: 0.8749\n",
            "Epoch 7/20\n",
            "30/30 [==============================] - 1s 22ms/step - loss: 0.0776 - accuracy: 0.9826 - val_loss: 0.2995 - val_accuracy: 0.8890\n",
            "Epoch 8/20\n",
            "30/30 [==============================] - 1s 22ms/step - loss: 0.0608 - accuracy: 0.9863 - val_loss: 0.3271 - val_accuracy: 0.8829\n",
            "Epoch 9/20\n",
            "30/30 [==============================] - 1s 22ms/step - loss: 0.0493 - accuracy: 0.9902 - val_loss: 0.3349 - val_accuracy: 0.8861\n",
            "Epoch 10/20\n",
            "30/30 [==============================] - 1s 22ms/step - loss: 0.0407 - accuracy: 0.9927 - val_loss: 0.3581 - val_accuracy: 0.8830\n",
            "Epoch 11/20\n",
            "30/30 [==============================] - 1s 22ms/step - loss: 0.0300 - accuracy: 0.9953 - val_loss: 0.3780 - val_accuracy: 0.8813\n",
            "Epoch 12/20\n",
            "30/30 [==============================] - 1s 22ms/step - loss: 0.0267 - accuracy: 0.9959 - val_loss: 0.3979 - val_accuracy: 0.8815\n",
            "Epoch 13/20\n",
            "30/30 [==============================] - 1s 22ms/step - loss: 0.0217 - accuracy: 0.9969 - val_loss: 0.4210 - val_accuracy: 0.8808\n",
            "Epoch 14/20\n",
            "30/30 [==============================] - 1s 22ms/step - loss: 0.0148 - accuracy: 0.9985 - val_loss: 0.4587 - val_accuracy: 0.8751\n",
            "Epoch 15/20\n",
            "30/30 [==============================] - 1s 22ms/step - loss: 0.0126 - accuracy: 0.9987 - val_loss: 0.4654 - val_accuracy: 0.8794\n",
            "Epoch 16/20\n",
            "30/30 [==============================] - 1s 21ms/step - loss: 0.0091 - accuracy: 0.9995 - val_loss: 0.4941 - val_accuracy: 0.8772\n",
            "Epoch 17/20\n",
            "30/30 [==============================] - 1s 22ms/step - loss: 0.0098 - accuracy: 0.9989 - val_loss: 0.5126 - val_accuracy: 0.8764\n",
            "Epoch 18/20\n",
            "30/30 [==============================] - 1s 22ms/step - loss: 0.0071 - accuracy: 0.9995 - val_loss: 0.5379 - val_accuracy: 0.8770\n",
            "Epoch 19/20\n",
            "30/30 [==============================] - 1s 22ms/step - loss: 0.0064 - accuracy: 0.9995 - val_loss: 0.5738 - val_accuracy: 0.8729\n",
            "Epoch 20/20\n",
            "30/30 [==============================] - 1s 20ms/step - loss: 0.0035 - accuracy: 0.9998 - val_loss: 0.5727 - val_accuracy: 0.8766\n"
          ]
        }
      ],
      "source": [
        "(train_data, train_labels), _ = imdb.load_data(num_words=25000)\n",
        "\n",
        "def vectorize_sequences(sequences, dimension=25000):\n",
        "    results = np.zeros((len(sequences), dimension))\n",
        "    for i, sequence in enumerate(sequences):\n",
        "        results[i, sequence] = 1.\n",
        "    return results\n",
        "\n",
        "train_data = vectorize_sequences(train_data)\n",
        "\n",
        "model = keras.Sequential([\n",
        "    layers.Dense(16, activation=\"relu\"),\n",
        "    layers.Dense(16, activation=\"relu\"),\n",
        "    layers.Dense(1, activation=\"sigmoid\")\n",
        "])\n",
        "model.compile(optimizer=\"rmsprop\",\n",
        "              loss=\"binary_crossentropy\",\n",
        "              metrics=[\"accuracy\"])\n",
        "history_original = model.fit(train_data, train_labels,\n",
        "                             epochs=20, batch_size=512, validation_split=0.4)"
      ]
    },
    {
      "cell_type": "markdown",
      "metadata": {
        "id": "uzZmKOTP-MU8"
      },
      "source": [
        "As it shown above, after change the num_words and the batch size, make a bigger dataset and more training on each epoch, the accuracy gets visible improvement"
      ]
    },
    {
      "cell_type": "markdown",
      "metadata": {
        "id": "SGHbbIZ6fh2m"
      },
      "source": [
        "### Feature engineering"
      ]
    },
    {
      "cell_type": "markdown",
      "metadata": {
        "id": "ls3fA9EFGaiP"
      },
      "source": [
        "**Original Model**"
      ]
    },
    {
      "cell_type": "code",
      "execution_count": 15,
      "metadata": {
        "colab": {
          "base_uri": "https://localhost:8080/"
        },
        "id": "hM-i1XlKGZwU",
        "outputId": "ed77de29-3820-4b33-d66a-680b07ee55b0"
      },
      "outputs": [
        {
          "name": "stdout",
          "output_type": "stream",
          "text": [
            "Epoch 1/50\n",
            "30/30 [==============================] - 1s 21ms/step - loss: 0.5278 - accuracy: 0.7821 - val_loss: 0.4018 - val_accuracy: 0.8582\n",
            "Epoch 2/50\n",
            "30/30 [==============================] - 0s 12ms/step - loss: 0.3294 - accuracy: 0.8903 - val_loss: 0.3144 - val_accuracy: 0.8833\n",
            "Epoch 3/50\n",
            "30/30 [==============================] - 0s 11ms/step - loss: 0.2449 - accuracy: 0.9177 - val_loss: 0.2955 - val_accuracy: 0.8821\n",
            "Epoch 4/50\n",
            "30/30 [==============================] - 0s 11ms/step - loss: 0.2016 - accuracy: 0.9293 - val_loss: 0.3300 - val_accuracy: 0.8666\n",
            "Epoch 5/50\n",
            "30/30 [==============================] - 0s 12ms/step - loss: 0.1659 - accuracy: 0.9445 - val_loss: 0.2801 - val_accuracy: 0.8873\n",
            "Epoch 6/50\n",
            "30/30 [==============================] - 0s 11ms/step - loss: 0.1462 - accuracy: 0.9510 - val_loss: 0.2860 - val_accuracy: 0.8865\n",
            "Epoch 7/50\n",
            "30/30 [==============================] - 0s 12ms/step - loss: 0.1241 - accuracy: 0.9601 - val_loss: 0.3043 - val_accuracy: 0.8817\n",
            "Epoch 8/50\n",
            "30/30 [==============================] - 0s 12ms/step - loss: 0.1086 - accuracy: 0.9659 - val_loss: 0.3170 - val_accuracy: 0.8812\n",
            "Epoch 9/50\n",
            "30/30 [==============================] - 0s 12ms/step - loss: 0.0933 - accuracy: 0.9720 - val_loss: 0.3342 - val_accuracy: 0.8785\n",
            "Epoch 10/50\n",
            "30/30 [==============================] - 0s 12ms/step - loss: 0.0825 - accuracy: 0.9756 - val_loss: 0.3433 - val_accuracy: 0.8811\n",
            "Epoch 11/50\n",
            "30/30 [==============================] - 0s 11ms/step - loss: 0.0687 - accuracy: 0.9821 - val_loss: 0.3669 - val_accuracy: 0.8780\n",
            "Epoch 12/50\n",
            "30/30 [==============================] - 0s 11ms/step - loss: 0.0615 - accuracy: 0.9845 - val_loss: 0.4554 - val_accuracy: 0.8634\n",
            "Epoch 13/50\n",
            "30/30 [==============================] - 0s 13ms/step - loss: 0.0532 - accuracy: 0.9861 - val_loss: 0.4074 - val_accuracy: 0.8759\n",
            "Epoch 14/50\n",
            "30/30 [==============================] - 0s 12ms/step - loss: 0.0436 - accuracy: 0.9897 - val_loss: 0.4458 - val_accuracy: 0.8725\n",
            "Epoch 15/50\n",
            "30/30 [==============================] - 0s 11ms/step - loss: 0.0419 - accuracy: 0.9897 - val_loss: 0.4531 - val_accuracy: 0.8713\n",
            "Epoch 16/50\n",
            "30/30 [==============================] - 0s 13ms/step - loss: 0.0346 - accuracy: 0.9925 - val_loss: 0.4955 - val_accuracy: 0.8708\n",
            "Epoch 17/50\n",
            "30/30 [==============================] - 0s 11ms/step - loss: 0.0285 - accuracy: 0.9953 - val_loss: 0.5108 - val_accuracy: 0.8703\n",
            "Epoch 18/50\n",
            "30/30 [==============================] - 0s 11ms/step - loss: 0.0249 - accuracy: 0.9958 - val_loss: 0.5337 - val_accuracy: 0.8708\n",
            "Epoch 19/50\n",
            "30/30 [==============================] - 0s 12ms/step - loss: 0.0243 - accuracy: 0.9943 - val_loss: 0.5520 - val_accuracy: 0.8697\n",
            "Epoch 20/50\n",
            "30/30 [==============================] - 0s 11ms/step - loss: 0.0143 - accuracy: 0.9987 - val_loss: 0.5915 - val_accuracy: 0.8682\n",
            "Epoch 21/50\n",
            "30/30 [==============================] - 0s 12ms/step - loss: 0.0190 - accuracy: 0.9967 - val_loss: 0.6255 - val_accuracy: 0.8657\n",
            "Epoch 22/50\n",
            "30/30 [==============================] - 0s 12ms/step - loss: 0.0118 - accuracy: 0.9989 - val_loss: 0.6246 - val_accuracy: 0.8682\n",
            "Epoch 23/50\n",
            "30/30 [==============================] - 0s 11ms/step - loss: 0.0123 - accuracy: 0.9982 - val_loss: 0.6454 - val_accuracy: 0.8671\n",
            "Epoch 24/50\n",
            "30/30 [==============================] - 0s 12ms/step - loss: 0.0128 - accuracy: 0.9976 - val_loss: 0.6703 - val_accuracy: 0.8680\n",
            "Epoch 25/50\n",
            "30/30 [==============================] - 0s 12ms/step - loss: 0.0092 - accuracy: 0.9989 - val_loss: 0.6893 - val_accuracy: 0.8674\n",
            "Epoch 26/50\n",
            "30/30 [==============================] - 0s 12ms/step - loss: 0.0088 - accuracy: 0.9985 - val_loss: 0.7167 - val_accuracy: 0.8675\n",
            "Epoch 27/50\n",
            "30/30 [==============================] - 0s 11ms/step - loss: 0.0046 - accuracy: 0.9997 - val_loss: 0.7450 - val_accuracy: 0.8668\n",
            "Epoch 28/50\n",
            "30/30 [==============================] - 0s 13ms/step - loss: 0.0081 - accuracy: 0.9987 - val_loss: 0.7547 - val_accuracy: 0.8654\n",
            "Epoch 29/50\n",
            "30/30 [==============================] - 0s 11ms/step - loss: 0.0057 - accuracy: 0.9990 - val_loss: 0.8214 - val_accuracy: 0.8603\n",
            "Epoch 30/50\n",
            "30/30 [==============================] - 0s 12ms/step - loss: 0.0032 - accuracy: 0.9999 - val_loss: 0.7969 - val_accuracy: 0.8660\n",
            "Epoch 31/50\n",
            "30/30 [==============================] - 1s 18ms/step - loss: 0.0099 - accuracy: 0.9970 - val_loss: 0.8222 - val_accuracy: 0.8653\n",
            "Epoch 32/50\n",
            "30/30 [==============================] - 0s 11ms/step - loss: 0.0022 - accuracy: 0.9999 - val_loss: 0.8349 - val_accuracy: 0.8644\n",
            "Epoch 33/50\n",
            "30/30 [==============================] - 0s 12ms/step - loss: 0.0020 - accuracy: 0.9999 - val_loss: 0.8828 - val_accuracy: 0.8622\n",
            "Epoch 34/50\n",
            "30/30 [==============================] - 0s 12ms/step - loss: 0.0065 - accuracy: 0.9983 - val_loss: 0.8672 - val_accuracy: 0.8637\n",
            "Epoch 35/50\n",
            "30/30 [==============================] - 0s 11ms/step - loss: 0.0016 - accuracy: 1.0000 - val_loss: 0.8958 - val_accuracy: 0.8655\n",
            "Epoch 36/50\n",
            "30/30 [==============================] - 0s 13ms/step - loss: 0.0065 - accuracy: 0.9981 - val_loss: 0.9018 - val_accuracy: 0.8636\n",
            "Epoch 37/50\n",
            "30/30 [==============================] - 0s 11ms/step - loss: 0.0013 - accuracy: 1.0000 - val_loss: 0.9277 - val_accuracy: 0.8640\n",
            "Epoch 38/50\n",
            "30/30 [==============================] - 0s 11ms/step - loss: 0.0012 - accuracy: 1.0000 - val_loss: 0.9660 - val_accuracy: 0.8627\n",
            "Epoch 39/50\n",
            "30/30 [==============================] - 0s 13ms/step - loss: 0.0065 - accuracy: 0.9979 - val_loss: 0.9644 - val_accuracy: 0.8653\n",
            "Epoch 40/50\n",
            "30/30 [==============================] - 0s 12ms/step - loss: 8.6605e-04 - accuracy: 1.0000 - val_loss: 0.9776 - val_accuracy: 0.8652\n",
            "Epoch 41/50\n",
            "30/30 [==============================] - 0s 11ms/step - loss: 7.9713e-04 - accuracy: 1.0000 - val_loss: 1.0805 - val_accuracy: 0.8598\n",
            "Epoch 42/50\n",
            "30/30 [==============================] - 0s 12ms/step - loss: 0.0064 - accuracy: 0.9980 - val_loss: 1.0192 - val_accuracy: 0.8640\n",
            "Epoch 43/50\n",
            "30/30 [==============================] - 0s 10ms/step - loss: 6.2476e-04 - accuracy: 1.0000 - val_loss: 1.0309 - val_accuracy: 0.8633\n",
            "Epoch 44/50\n",
            "30/30 [==============================] - 0s 11ms/step - loss: 6.2922e-04 - accuracy: 1.0000 - val_loss: 1.1654 - val_accuracy: 0.8569\n",
            "Epoch 45/50\n",
            "30/30 [==============================] - 0s 11ms/step - loss: 0.0032 - accuracy: 0.9989 - val_loss: 1.0626 - val_accuracy: 0.8650\n",
            "Epoch 46/50\n",
            "30/30 [==============================] - 0s 11ms/step - loss: 4.9318e-04 - accuracy: 1.0000 - val_loss: 1.0743 - val_accuracy: 0.8642\n",
            "Epoch 47/50\n",
            "30/30 [==============================] - 0s 12ms/step - loss: 0.0039 - accuracy: 0.9992 - val_loss: 1.1119 - val_accuracy: 0.8648\n",
            "Epoch 48/50\n",
            "30/30 [==============================] - 0s 11ms/step - loss: 4.4998e-04 - accuracy: 1.0000 - val_loss: 1.1134 - val_accuracy: 0.8653\n",
            "Epoch 49/50\n",
            "30/30 [==============================] - 0s 11ms/step - loss: 3.9914e-04 - accuracy: 1.0000 - val_loss: 1.1275 - val_accuracy: 0.8643\n",
            "Epoch 50/50\n",
            "30/30 [==============================] - 0s 12ms/step - loss: 3.5828e-04 - accuracy: 1.0000 - val_loss: 1.1659 - val_accuracy: 0.8601\n"
          ]
        }
      ],
      "source": [
        "(train_data, train_labels), _ = imdb.load_data(num_words=10000)\n",
        "\n",
        "def vectorize_sequences(sequences, dimension=10000):\n",
        "    results = np.zeros((len(sequences), dimension))\n",
        "    for i, sequence in enumerate(sequences):\n",
        "        results[i, sequence] = 1.\n",
        "    return results\n",
        "\n",
        "train_data = vectorize_sequences(train_data)\n",
        "\n",
        "model = keras.Sequential([\n",
        "    layers.Dense(16, activation=\"relu\"),\n",
        "    layers.Dense(16, activation=\"relu\"),\n",
        "    layers.Dense(1, activation=\"sigmoid\")\n",
        "])\n",
        "model.compile(optimizer=\"rmsprop\",\n",
        "              loss=\"binary_crossentropy\",\n",
        "              metrics=[\"accuracy\"])\n",
        "history_original = model.fit(train_data, train_labels,\n",
        "                             epochs=50, batch_size=512, validation_split=0.4)"
      ]
    },
    {
      "cell_type": "markdown",
      "metadata": {
        "id": "RBd-DQpjOdjT"
      },
      "source": [
        "**Practice Model**\n",
        "\n",
        "We can enhance by deleting the most common words"
      ]
    },
    {
      "cell_type": "code",
      "execution_count": 16,
      "metadata": {
        "colab": {
          "base_uri": "https://localhost:8080/"
        },
        "id": "ZQxMQ5PHhCPc",
        "outputId": "663a6985-6b6d-4a0f-f2fb-2ea343c89952"
      },
      "outputs": [
        {
          "name": "stdout",
          "output_type": "stream",
          "text": [
            "Epoch 1/50\n",
            "30/30 [==============================] - 1s 23ms/step - loss: 0.5184 - accuracy: 0.7879 - val_loss: 0.3901 - val_accuracy: 0.8647\n",
            "Epoch 2/50\n",
            "30/30 [==============================] - 0s 11ms/step - loss: 0.3147 - accuracy: 0.8981 - val_loss: 0.3163 - val_accuracy: 0.8770\n",
            "Epoch 3/50\n",
            "30/30 [==============================] - 0s 13ms/step - loss: 0.2378 - accuracy: 0.9177 - val_loss: 0.2808 - val_accuracy: 0.8909\n",
            "Epoch 4/50\n",
            "30/30 [==============================] - 0s 12ms/step - loss: 0.1893 - accuracy: 0.9383 - val_loss: 0.2754 - val_accuracy: 0.8907\n",
            "Epoch 5/50\n",
            "30/30 [==============================] - 0s 13ms/step - loss: 0.1569 - accuracy: 0.9487 - val_loss: 0.3335 - val_accuracy: 0.8702\n",
            "Epoch 6/50\n",
            "30/30 [==============================] - 0s 12ms/step - loss: 0.1316 - accuracy: 0.9581 - val_loss: 0.3000 - val_accuracy: 0.8839\n",
            "Epoch 7/50\n",
            "30/30 [==============================] - 0s 12ms/step - loss: 0.1149 - accuracy: 0.9645 - val_loss: 0.3259 - val_accuracy: 0.8786\n",
            "Epoch 8/50\n",
            "30/30 [==============================] - 0s 13ms/step - loss: 0.0963 - accuracy: 0.9725 - val_loss: 0.3280 - val_accuracy: 0.8818\n",
            "Epoch 9/50\n",
            "30/30 [==============================] - 0s 12ms/step - loss: 0.0821 - accuracy: 0.9765 - val_loss: 0.3651 - val_accuracy: 0.8742\n",
            "Epoch 10/50\n",
            "30/30 [==============================] - 0s 12ms/step - loss: 0.0717 - accuracy: 0.9811 - val_loss: 0.3970 - val_accuracy: 0.8689\n",
            "Epoch 11/50\n",
            "30/30 [==============================] - 0s 14ms/step - loss: 0.0618 - accuracy: 0.9836 - val_loss: 0.3796 - val_accuracy: 0.8765\n",
            "Epoch 12/50\n",
            "30/30 [==============================] - 0s 11ms/step - loss: 0.0531 - accuracy: 0.9875 - val_loss: 0.3992 - val_accuracy: 0.8767\n",
            "Epoch 13/50\n",
            "30/30 [==============================] - 0s 11ms/step - loss: 0.0444 - accuracy: 0.9908 - val_loss: 0.4373 - val_accuracy: 0.8737\n",
            "Epoch 14/50\n",
            "30/30 [==============================] - 0s 12ms/step - loss: 0.0377 - accuracy: 0.9925 - val_loss: 0.4475 - val_accuracy: 0.8746\n",
            "Epoch 15/50\n",
            "30/30 [==============================] - 0s 11ms/step - loss: 0.0313 - accuracy: 0.9945 - val_loss: 0.5139 - val_accuracy: 0.8671\n",
            "Epoch 16/50\n",
            "30/30 [==============================] - 0s 13ms/step - loss: 0.0280 - accuracy: 0.9951 - val_loss: 0.4953 - val_accuracy: 0.8722\n",
            "Epoch 17/50\n",
            "30/30 [==============================] - 0s 12ms/step - loss: 0.0220 - accuracy: 0.9968 - val_loss: 0.5201 - val_accuracy: 0.8710\n",
            "Epoch 18/50\n",
            "30/30 [==============================] - 0s 11ms/step - loss: 0.0192 - accuracy: 0.9977 - val_loss: 0.5450 - val_accuracy: 0.8705\n",
            "Epoch 19/50\n",
            "30/30 [==============================] - 0s 13ms/step - loss: 0.0170 - accuracy: 0.9973 - val_loss: 0.5661 - val_accuracy: 0.8706\n",
            "Epoch 20/50\n",
            "30/30 [==============================] - 0s 11ms/step - loss: 0.0136 - accuracy: 0.9984 - val_loss: 0.5920 - val_accuracy: 0.8693\n",
            "Epoch 21/50\n",
            "30/30 [==============================] - 0s 11ms/step - loss: 0.0097 - accuracy: 0.9993 - val_loss: 0.6931 - val_accuracy: 0.8568\n",
            "Epoch 22/50\n",
            "30/30 [==============================] - 0s 13ms/step - loss: 0.0113 - accuracy: 0.9983 - val_loss: 0.6397 - val_accuracy: 0.8704\n",
            "Epoch 23/50\n",
            "30/30 [==============================] - 0s 12ms/step - loss: 0.0059 - accuracy: 0.9997 - val_loss: 0.6847 - val_accuracy: 0.8684\n",
            "Epoch 24/50\n",
            "30/30 [==============================] - 0s 12ms/step - loss: 0.0074 - accuracy: 0.9992 - val_loss: 0.6956 - val_accuracy: 0.8693\n",
            "Epoch 25/50\n",
            "30/30 [==============================] - 0s 13ms/step - loss: 0.0040 - accuracy: 0.9997 - val_loss: 0.7440 - val_accuracy: 0.8679\n",
            "Epoch 26/50\n",
            "30/30 [==============================] - 0s 12ms/step - loss: 0.0079 - accuracy: 0.9985 - val_loss: 0.7440 - val_accuracy: 0.8703\n",
            "Epoch 27/50\n",
            "30/30 [==============================] - 0s 12ms/step - loss: 0.0026 - accuracy: 0.9999 - val_loss: 0.7563 - val_accuracy: 0.8692\n",
            "Epoch 28/50\n",
            "30/30 [==============================] - 0s 14ms/step - loss: 0.0064 - accuracy: 0.9988 - val_loss: 0.7854 - val_accuracy: 0.8689\n",
            "Epoch 29/50\n",
            "30/30 [==============================] - 0s 11ms/step - loss: 0.0020 - accuracy: 0.9999 - val_loss: 0.7981 - val_accuracy: 0.8691\n",
            "Epoch 30/50\n",
            "30/30 [==============================] - 0s 12ms/step - loss: 0.0017 - accuracy: 0.9999 - val_loss: 0.8546 - val_accuracy: 0.8663\n",
            "Epoch 31/50\n",
            "30/30 [==============================] - 0s 11ms/step - loss: 0.0040 - accuracy: 0.9994 - val_loss: 0.8460 - val_accuracy: 0.8687\n",
            "Epoch 32/50\n",
            "30/30 [==============================] - 0s 11ms/step - loss: 0.0013 - accuracy: 1.0000 - val_loss: 0.8723 - val_accuracy: 0.8668\n",
            "Epoch 33/50\n",
            "30/30 [==============================] - 0s 12ms/step - loss: 0.0011 - accuracy: 1.0000 - val_loss: 0.9919 - val_accuracy: 0.8592\n",
            "Epoch 34/50\n",
            "30/30 [==============================] - 0s 11ms/step - loss: 0.0021 - accuracy: 0.9997 - val_loss: 0.9109 - val_accuracy: 0.8691\n",
            "Epoch 35/50\n",
            "30/30 [==============================] - 0s 11ms/step - loss: 8.1763e-04 - accuracy: 1.0000 - val_loss: 0.9391 - val_accuracy: 0.8691\n",
            "Epoch 36/50\n",
            "30/30 [==============================] - 0s 13ms/step - loss: 7.5335e-04 - accuracy: 1.0000 - val_loss: 0.9773 - val_accuracy: 0.8683\n",
            "Epoch 37/50\n",
            "30/30 [==============================] - 0s 11ms/step - loss: 5.5200e-04 - accuracy: 1.0000 - val_loss: 1.0107 - val_accuracy: 0.8676\n",
            "Epoch 38/50\n",
            "30/30 [==============================] - 0s 11ms/step - loss: 4.0751e-04 - accuracy: 1.0000 - val_loss: 1.0308 - val_accuracy: 0.8679\n",
            "Epoch 39/50\n",
            "30/30 [==============================] - 0s 12ms/step - loss: 3.3955e-04 - accuracy: 1.0000 - val_loss: 1.0772 - val_accuracy: 0.8671\n",
            "Epoch 40/50\n",
            "30/30 [==============================] - 0s 11ms/step - loss: 2.7766e-04 - accuracy: 1.0000 - val_loss: 1.0963 - val_accuracy: 0.8687\n",
            "Epoch 41/50\n",
            "30/30 [==============================] - 0s 11ms/step - loss: 2.2973e-04 - accuracy: 1.0000 - val_loss: 1.1157 - val_accuracy: 0.8681\n",
            "Epoch 42/50\n",
            "30/30 [==============================] - 0s 13ms/step - loss: 1.9780e-04 - accuracy: 1.0000 - val_loss: 1.1389 - val_accuracy: 0.8687\n",
            "Epoch 43/50\n",
            "30/30 [==============================] - 0s 11ms/step - loss: 1.7202e-04 - accuracy: 1.0000 - val_loss: 1.1553 - val_accuracy: 0.8682\n",
            "Epoch 44/50\n",
            "30/30 [==============================] - 0s 11ms/step - loss: 1.5199e-04 - accuracy: 1.0000 - val_loss: 1.1742 - val_accuracy: 0.8678\n",
            "Epoch 45/50\n",
            "30/30 [==============================] - 0s 13ms/step - loss: 1.3616e-04 - accuracy: 1.0000 - val_loss: 1.1899 - val_accuracy: 0.8680\n",
            "Epoch 46/50\n",
            "30/30 [==============================] - 0s 11ms/step - loss: 1.2283e-04 - accuracy: 1.0000 - val_loss: 1.2077 - val_accuracy: 0.8690\n",
            "Epoch 47/50\n",
            "30/30 [==============================] - 0s 11ms/step - loss: 1.1186e-04 - accuracy: 1.0000 - val_loss: 1.2278 - val_accuracy: 0.8678\n",
            "Epoch 48/50\n",
            "30/30 [==============================] - 0s 13ms/step - loss: 1.0268e-04 - accuracy: 1.0000 - val_loss: 1.2322 - val_accuracy: 0.8678\n",
            "Epoch 49/50\n",
            "30/30 [==============================] - 0s 11ms/step - loss: 9.5378e-05 - accuracy: 1.0000 - val_loss: 1.2521 - val_accuracy: 0.8679\n",
            "Epoch 50/50\n",
            "30/30 [==============================] - 0s 11ms/step - loss: 8.8434e-05 - accuracy: 1.0000 - val_loss: 1.2593 - val_accuracy: 0.8688\n"
          ]
        }
      ],
      "source": [
        "(train_data, train_labels), _ = imdb.load_data(num_words=10000)\n",
        "common_stop_words=[\"a\",\"an\",\"and\",\"the\",\"in\",\"of\",\"to\",\"that\",\"this\",\"for\"]\n",
        "\n",
        "\n",
        "def delete_common_stop_words(train_data, common_stop_words):\n",
        "    word_index = imdb.get_word_index()\n",
        "    for i in range(len(common_stop_words)):\n",
        "      if word_index[common_stop_words[i]]:\n",
        "         common_stop_word_index = word_index[common_stop_words[i]]\n",
        "         for i in range(len(train_data)):\n",
        "           train_data[i] = list(\n",
        "               filter((common_stop_word_index).__ne__, train_data[i]))\n",
        "    return train_data\n",
        "\n",
        "def vectorize_sequences(sequences, dimension=10000):\n",
        "    results = np.zeros((len(sequences), dimension))\n",
        "    for i, sequence in enumerate(sequences):\n",
        "        results[i, sequence] = 1.\n",
        "    return results\n",
        "\n",
        "train_data = delete_common_stop_words(train_data, common_stop_words)\n",
        "train_data = vectorize_sequences(train_data)\n",
        "\n",
        "model = keras.Sequential([\n",
        "    layers.Dense(16, activation=\"relu\"),\n",
        "    layers.Dense(16, activation=\"relu\"),\n",
        "    layers.Dense(1, activation=\"sigmoid\")\n",
        "])\n",
        "model.compile(optimizer=\"rmsprop\",\n",
        "              loss=\"binary_crossentropy\",\n",
        "              metrics=[\"accuracy\"])\n",
        "Practice_Run  = model.fit(train_data, train_labels,\n",
        "                             epochs=50, batch_size=512, validation_split=0.4)"
      ]
    },
    {
      "cell_type": "markdown",
      "metadata": {
        "id": "nGgHQ6Uefh2m"
      },
      "source": [
        "### Using early stopping"
      ]
    },
    {
      "cell_type": "markdown",
      "metadata": {
        "id": "BXXNudUkb1qb"
      },
      "source": [
        "We could using early stopping class in the Keras library to accomplish this step\n",
        "\n",
        "**Original model**"
      ]
    },
    {
      "cell_type": "code",
      "execution_count": 17,
      "metadata": {
        "colab": {
          "base_uri": "https://localhost:8080/"
        },
        "id": "JshHGpZ8dS4s",
        "outputId": "d5fd4159-3b1c-4a36-ce7e-e5e54061e634"
      },
      "outputs": [
        {
          "name": "stdout",
          "output_type": "stream",
          "text": [
            "Epoch 1/50\n",
            "30/30 [==============================] - 1s 27ms/step - loss: 0.5245 - accuracy: 0.7747 - val_loss: 0.4068 - val_accuracy: 0.8577\n",
            "Epoch 2/50\n",
            "30/30 [==============================] - 0s 12ms/step - loss: 0.3276 - accuracy: 0.8925 - val_loss: 0.3158 - val_accuracy: 0.8827\n",
            "Epoch 3/50\n",
            "30/30 [==============================] - 0s 11ms/step - loss: 0.2436 - accuracy: 0.9204 - val_loss: 0.2824 - val_accuracy: 0.8912\n",
            "Epoch 4/50\n",
            "30/30 [==============================] - 0s 11ms/step - loss: 0.1952 - accuracy: 0.9363 - val_loss: 0.2759 - val_accuracy: 0.8896\n",
            "Epoch 5/50\n",
            "30/30 [==============================] - 0s 13ms/step - loss: 0.1652 - accuracy: 0.9471 - val_loss: 0.2838 - val_accuracy: 0.8865\n",
            "Epoch 6/50\n",
            "30/30 [==============================] - 0s 11ms/step - loss: 0.1395 - accuracy: 0.9549 - val_loss: 0.2848 - val_accuracy: 0.8877\n",
            "Epoch 7/50\n",
            "30/30 [==============================] - 0s 11ms/step - loss: 0.1194 - accuracy: 0.9631 - val_loss: 0.3062 - val_accuracy: 0.8803\n",
            "Epoch 8/50\n",
            "30/30 [==============================] - 0s 13ms/step - loss: 0.1047 - accuracy: 0.9684 - val_loss: 0.3086 - val_accuracy: 0.8848\n",
            "Epoch 9/50\n",
            "30/30 [==============================] - 0s 11ms/step - loss: 0.0920 - accuracy: 0.9739 - val_loss: 0.3282 - val_accuracy: 0.8813\n",
            "Epoch 10/50\n",
            "30/30 [==============================] - 0s 11ms/step - loss: 0.0768 - accuracy: 0.9801 - val_loss: 0.3433 - val_accuracy: 0.8801\n",
            "Epoch 11/50\n",
            "30/30 [==============================] - 0s 13ms/step - loss: 0.0667 - accuracy: 0.9835 - val_loss: 0.3636 - val_accuracy: 0.8784\n",
            "Epoch 12/50\n",
            "30/30 [==============================] - 0s 11ms/step - loss: 0.0632 - accuracy: 0.9833 - val_loss: 0.3909 - val_accuracy: 0.8741\n",
            "Epoch 13/50\n",
            "30/30 [==============================] - 0s 12ms/step - loss: 0.0487 - accuracy: 0.9894 - val_loss: 0.4131 - val_accuracy: 0.8712\n",
            "Epoch 14/50\n",
            "30/30 [==============================] - 0s 12ms/step - loss: 0.0442 - accuracy: 0.9909 - val_loss: 0.4206 - val_accuracy: 0.8726\n",
            "Epoch 15/50\n",
            "30/30 [==============================] - 0s 12ms/step - loss: 0.0374 - accuracy: 0.9931 - val_loss: 0.4395 - val_accuracy: 0.8726\n",
            "Epoch 16/50\n",
            "30/30 [==============================] - 0s 13ms/step - loss: 0.0335 - accuracy: 0.9935 - val_loss: 0.4629 - val_accuracy: 0.8730\n",
            "Epoch 17/50\n",
            "30/30 [==============================] - 0s 12ms/step - loss: 0.0296 - accuracy: 0.9938 - val_loss: 0.4870 - val_accuracy: 0.8702\n",
            "Epoch 18/50\n",
            "30/30 [==============================] - 0s 11ms/step - loss: 0.0240 - accuracy: 0.9965 - val_loss: 0.5031 - val_accuracy: 0.8704\n",
            "Epoch 19/50\n",
            "30/30 [==============================] - 0s 13ms/step - loss: 0.0226 - accuracy: 0.9953 - val_loss: 0.5261 - val_accuracy: 0.8702\n",
            "Epoch 20/50\n",
            "30/30 [==============================] - 0s 11ms/step - loss: 0.0139 - accuracy: 0.9989 - val_loss: 0.5517 - val_accuracy: 0.8687\n",
            "Epoch 21/50\n",
            "30/30 [==============================] - 0s 11ms/step - loss: 0.0168 - accuracy: 0.9974 - val_loss: 0.5862 - val_accuracy: 0.8681\n",
            "Epoch 22/50\n",
            "30/30 [==============================] - 0s 12ms/step - loss: 0.0145 - accuracy: 0.9973 - val_loss: 0.5898 - val_accuracy: 0.8704\n",
            "Epoch 23/50\n",
            "30/30 [==============================] - 0s 11ms/step - loss: 0.0117 - accuracy: 0.9988 - val_loss: 0.6124 - val_accuracy: 0.8686\n",
            "Epoch 24/50\n",
            "30/30 [==============================] - 0s 11ms/step - loss: 0.0116 - accuracy: 0.9981 - val_loss: 0.6295 - val_accuracy: 0.8666\n",
            "Epoch 25/50\n",
            "30/30 [==============================] - 0s 13ms/step - loss: 0.0059 - accuracy: 0.9997 - val_loss: 0.6939 - val_accuracy: 0.8653\n",
            "Epoch 26/50\n",
            "30/30 [==============================] - 0s 11ms/step - loss: 0.0094 - accuracy: 0.9987 - val_loss: 0.6804 - val_accuracy: 0.8675\n",
            "Epoch 27/50\n",
            "30/30 [==============================] - 0s 11ms/step - loss: 0.0042 - accuracy: 0.9997 - val_loss: 0.7048 - val_accuracy: 0.8675\n",
            "Epoch 28/50\n",
            "30/30 [==============================] - 0s 13ms/step - loss: 0.0062 - accuracy: 0.9989 - val_loss: 0.7186 - val_accuracy: 0.8672\n",
            "Epoch 29/50\n",
            "30/30 [==============================] - 0s 11ms/step - loss: 0.0029 - accuracy: 0.9999 - val_loss: 0.7425 - val_accuracy: 0.8664\n",
            "Epoch 30/50\n",
            "30/30 [==============================] - 0s 11ms/step - loss: 0.0067 - accuracy: 0.9988 - val_loss: 0.7666 - val_accuracy: 0.8662\n",
            "Epoch 31/50\n",
            "30/30 [==============================] - 0s 12ms/step - loss: 0.0021 - accuracy: 1.0000 - val_loss: 0.7847 - val_accuracy: 0.8669\n",
            "Epoch 32/50\n",
            "30/30 [==============================] - 0s 11ms/step - loss: 0.0034 - accuracy: 0.9997 - val_loss: 0.8045 - val_accuracy: 0.8665\n",
            "Epoch 33/50\n",
            "30/30 [==============================] - 0s 11ms/step - loss: 0.0015 - accuracy: 1.0000 - val_loss: 0.8469 - val_accuracy: 0.8660\n",
            "Epoch 34/50\n",
            "30/30 [==============================] - 0s 12ms/step - loss: 0.0049 - accuracy: 0.9988 - val_loss: 0.8401 - val_accuracy: 0.8670\n",
            "Epoch 35/50\n",
            "30/30 [==============================] - 0s 11ms/step - loss: 0.0012 - accuracy: 1.0000 - val_loss: 0.8551 - val_accuracy: 0.8669\n",
            "Epoch 36/50\n",
            "30/30 [==============================] - 0s 12ms/step - loss: 0.0016 - accuracy: 0.9998 - val_loss: 0.9490 - val_accuracy: 0.8592\n",
            "Epoch 37/50\n",
            "30/30 [==============================] - 0s 12ms/step - loss: 0.0013 - accuracy: 0.9999 - val_loss: 0.8906 - val_accuracy: 0.8667\n",
            "Epoch 38/50\n",
            "30/30 [==============================] - 0s 11ms/step - loss: 8.1875e-04 - accuracy: 1.0000 - val_loss: 0.9089 - val_accuracy: 0.8669\n",
            "Epoch 39/50\n",
            "30/30 [==============================] - 0s 13ms/step - loss: 0.0050 - accuracy: 0.9983 - val_loss: 0.9304 - val_accuracy: 0.8665\n",
            "Epoch 40/50\n",
            "30/30 [==============================] - 0s 11ms/step - loss: 6.3494e-04 - accuracy: 1.0000 - val_loss: 0.9373 - val_accuracy: 0.8665\n",
            "Epoch 41/50\n",
            "30/30 [==============================] - 0s 11ms/step - loss: 5.8045e-04 - accuracy: 1.0000 - val_loss: 0.9503 - val_accuracy: 0.8670\n",
            "Epoch 42/50\n",
            "30/30 [==============================] - 0s 12ms/step - loss: 0.0034 - accuracy: 0.9990 - val_loss: 1.0167 - val_accuracy: 0.8649\n",
            "Epoch 43/50\n",
            "30/30 [==============================] - 0s 11ms/step - loss: 5.2212e-04 - accuracy: 1.0000 - val_loss: 0.9822 - val_accuracy: 0.8658\n",
            "Epoch 44/50\n",
            "30/30 [==============================] - 0s 11ms/step - loss: 4.3108e-04 - accuracy: 1.0000 - val_loss: 0.9997 - val_accuracy: 0.8651\n",
            "Epoch 45/50\n",
            "30/30 [==============================] - 0s 12ms/step - loss: 4.1228e-04 - accuracy: 1.0000 - val_loss: 1.0412 - val_accuracy: 0.8651\n",
            "Epoch 46/50\n",
            "30/30 [==============================] - 0s 11ms/step - loss: 0.0017 - accuracy: 0.9996 - val_loss: 1.0755 - val_accuracy: 0.8661\n",
            "Epoch 47/50\n",
            "30/30 [==============================] - 0s 11ms/step - loss: 3.3066e-04 - accuracy: 1.0000 - val_loss: 1.0510 - val_accuracy: 0.8650\n",
            "Epoch 48/50\n",
            "30/30 [==============================] - 0s 13ms/step - loss: 2.8368e-04 - accuracy: 1.0000 - val_loss: 1.0696 - val_accuracy: 0.8656\n",
            "Epoch 49/50\n",
            "30/30 [==============================] - 0s 11ms/step - loss: 2.5311e-04 - accuracy: 1.0000 - val_loss: 1.0815 - val_accuracy: 0.8667\n",
            "Epoch 50/50\n",
            "30/30 [==============================] - 0s 10ms/step - loss: 2.1489e-04 - accuracy: 1.0000 - val_loss: 1.1126 - val_accuracy: 0.8651\n"
          ]
        }
      ],
      "source": [
        "(train_data, train_labels), _ = imdb.load_data(num_words=10000)\n",
        "\n",
        "def vectorize_sequences(sequences, dimension=10000):\n",
        "    results = np.zeros((len(sequences), dimension))\n",
        "    for i, sequence in enumerate(sequences):\n",
        "        results[i, sequence] = 1.\n",
        "    return results\n",
        "\n",
        "train_data = vectorize_sequences(train_data)\n",
        "\n",
        "model = keras.Sequential([\n",
        "    layers.Dense(16, activation=\"relu\"),\n",
        "    layers.Dense(16, activation=\"relu\"),\n",
        "    layers.Dense(1, activation=\"sigmoid\")\n",
        "])\n",
        "model.compile(optimizer=\"rmsprop\",\n",
        "              loss=\"binary_crossentropy\",\n",
        "              metrics=[\"accuracy\"])\n",
        "history_original = model.fit(train_data, train_labels,\n",
        "                             epochs=50, batch_size=512, validation_split=0.4)"
      ]
    },
    {
      "cell_type": "markdown",
      "metadata": {
        "id": "TaYugD7Ai2RY"
      },
      "source": [
        "So we could apply the early stopping method as shown below"
      ]
    },
    {
      "cell_type": "markdown",
      "metadata": {
        "id": "-tCmlMFCdePV"
      },
      "source": [
        "**Practice**"
      ]
    },
    {
      "cell_type": "code",
      "execution_count": 18,
      "metadata": {
        "colab": {
          "base_uri": "https://localhost:8080/"
        },
        "id": "pYlyv-qKdhjL",
        "outputId": "3bf65d89-2a17-45bf-c0fe-bb7487823d61"
      },
      "outputs": [
        {
          "name": "stdout",
          "output_type": "stream",
          "text": [
            "Epoch 1/50\n",
            "30/30 [==============================] - 1s 19ms/step - loss: 0.5136 - accuracy: 0.7876 - val_loss: 0.3814 - val_accuracy: 0.8736\n",
            "Epoch 2/50\n",
            "30/30 [==============================] - 0s 12ms/step - loss: 0.3177 - accuracy: 0.8934 - val_loss: 0.3129 - val_accuracy: 0.8802\n",
            "Epoch 3/50\n",
            "30/30 [==============================] - 0s 11ms/step - loss: 0.2415 - accuracy: 0.9182 - val_loss: 0.2924 - val_accuracy: 0.8864\n",
            "Epoch 4/50\n",
            "30/30 [==============================] - 0s 13ms/step - loss: 0.1947 - accuracy: 0.9345 - val_loss: 0.2749 - val_accuracy: 0.8911\n",
            "Epoch 5/50\n",
            "30/30 [==============================] - 0s 11ms/step - loss: 0.1625 - accuracy: 0.9458 - val_loss: 0.2763 - val_accuracy: 0.8892\n",
            "Epoch 6/50\n",
            "30/30 [==============================] - 0s 11ms/step - loss: 0.1385 - accuracy: 0.9546 - val_loss: 0.3159 - val_accuracy: 0.8773\n",
            "Epoch 7/50\n",
            "30/30 [==============================] - 0s 12ms/step - loss: 0.1194 - accuracy: 0.9627 - val_loss: 0.3018 - val_accuracy: 0.8829\n",
            "Epoch 8/50\n",
            "30/30 [==============================] - 0s 11ms/step - loss: 0.1014 - accuracy: 0.9694 - val_loss: 0.3103 - val_accuracy: 0.8830\n",
            "Epoch 9/50\n",
            "30/30 [==============================] - 0s 11ms/step - loss: 0.0876 - accuracy: 0.9744 - val_loss: 0.3458 - val_accuracy: 0.8789\n",
            "Epoch 10/50\n",
            "30/30 [==============================] - 0s 12ms/step - loss: 0.0743 - accuracy: 0.9804 - val_loss: 0.3612 - val_accuracy: 0.8786\n",
            "Epoch 11/50\n",
            "30/30 [==============================] - 0s 11ms/step - loss: 0.0653 - accuracy: 0.9829 - val_loss: 0.3845 - val_accuracy: 0.8769\n",
            "Epoch 12/50\n",
            "30/30 [==============================] - 0s 11ms/step - loss: 0.0565 - accuracy: 0.9850 - val_loss: 0.3927 - val_accuracy: 0.8769\n",
            "Epoch 13/50\n",
            "30/30 [==============================] - 0s 13ms/step - loss: 0.0471 - accuracy: 0.9894 - val_loss: 0.4131 - val_accuracy: 0.8752\n",
            "Epoch 14/50\n",
            "30/30 [==============================] - 0s 11ms/step - loss: 0.0420 - accuracy: 0.9905 - val_loss: 0.4392 - val_accuracy: 0.8757\n",
            "Epoch 15/50\n",
            "30/30 [==============================] - 0s 11ms/step - loss: 0.0350 - accuracy: 0.9922 - val_loss: 0.4687 - val_accuracy: 0.8735\n",
            "Epoch 16/50\n",
            "30/30 [==============================] - 0s 13ms/step - loss: 0.0303 - accuracy: 0.9936 - val_loss: 0.4778 - val_accuracy: 0.8725\n",
            "Epoch 17/50\n",
            "30/30 [==============================] - 0s 11ms/step - loss: 0.0265 - accuracy: 0.9937 - val_loss: 0.4996 - val_accuracy: 0.8722\n",
            "Epoch 18/50\n",
            "30/30 [==============================] - 0s 11ms/step - loss: 0.0217 - accuracy: 0.9957 - val_loss: 0.5377 - val_accuracy: 0.8702\n",
            "Epoch 19/50\n",
            "30/30 [==============================] - 0s 13ms/step - loss: 0.0137 - accuracy: 0.9990 - val_loss: 0.5484 - val_accuracy: 0.8721\n",
            "Epoch 20/50\n",
            "30/30 [==============================] - 0s 11ms/step - loss: 0.0178 - accuracy: 0.9965 - val_loss: 0.5705 - val_accuracy: 0.8706\n",
            "Epoch 21/50\n",
            "30/30 [==============================] - 0s 11ms/step - loss: 0.0140 - accuracy: 0.9975 - val_loss: 0.5940 - val_accuracy: 0.8705\n",
            "Epoch 22/50\n",
            "30/30 [==============================] - 0s 13ms/step - loss: 0.0085 - accuracy: 0.9996 - val_loss: 0.6167 - val_accuracy: 0.8696\n",
            "Epoch 23/50\n",
            "30/30 [==============================] - 0s 11ms/step - loss: 0.0129 - accuracy: 0.9970 - val_loss: 0.6422 - val_accuracy: 0.8702\n",
            "Epoch 24/50\n",
            "30/30 [==============================] - 0s 12ms/step - loss: 0.0052 - accuracy: 0.9998 - val_loss: 0.6632 - val_accuracy: 0.8692\n",
            "Epoch 25/50\n",
            "30/30 [==============================] - 0s 12ms/step - loss: 0.0110 - accuracy: 0.9970 - val_loss: 0.6805 - val_accuracy: 0.8691\n",
            "Epoch 26/50\n",
            "30/30 [==============================] - 0s 12ms/step - loss: 0.0037 - accuracy: 0.9999 - val_loss: 0.7045 - val_accuracy: 0.8690\n",
            "Epoch 27/50\n",
            "30/30 [==============================] - 0s 12ms/step - loss: 0.0080 - accuracy: 0.9979 - val_loss: 0.7209 - val_accuracy: 0.8684\n",
            "Epoch 28/50\n",
            "30/30 [==============================] - 0s 11ms/step - loss: 0.0027 - accuracy: 0.9999 - val_loss: 0.7473 - val_accuracy: 0.8682\n",
            "Epoch 29/50\n",
            "30/30 [==============================] - 0s 11ms/step - loss: 0.0066 - accuracy: 0.9985 - val_loss: 0.7600 - val_accuracy: 0.8685\n",
            "Epoch 30/50\n",
            "30/30 [==============================] - 0s 13ms/step - loss: 0.0020 - accuracy: 0.9999 - val_loss: 0.7848 - val_accuracy: 0.8668\n",
            "Epoch 31/50\n",
            "29/30 [============================>.] - ETA: 0s - loss: 0.0075 - accuracy: 0.9979Restoring model weights from the end of the best epoch: 26.\n",
            "30/30 [==============================] - 0s 12ms/step - loss: 0.0075 - accuracy: 0.9979 - val_loss: 0.7962 - val_accuracy: 0.8680\n",
            "Epoch 31: early stopping\n"
          ]
        }
      ],
      "source": [
        "callback = tf.keras.callbacks.EarlyStopping(\n",
        "    monitor=\"accuracy\",\n",
        "    min_delta=0,\n",
        "    patience=5,\n",
        "    verbose=1,\n",
        "    mode=\"auto\",\n",
        "    baseline=0.9,\n",
        "    restore_best_weights=True,\n",
        "    start_from_epoch=0,\n",
        ")\n",
        "model = keras.Sequential([\n",
        "    layers.Dense(16, activation=\"relu\"),\n",
        "    layers.Dense(16, activation=\"relu\"),\n",
        "    layers.Dense(1, activation=\"sigmoid\")\n",
        "])\n",
        "\n",
        "\n",
        "model.compile(optimizer=\"rmsprop\",\n",
        "              loss=\"binary_crossentropy\",\n",
        "              metrics=[\"accuracy\"])\n",
        "history_practice = model.fit(train_data, train_labels,\n",
        "                             epochs=50, batch_size=512, validation_split=0.4, callbacks=[callback])"
      ]
    },
    {
      "cell_type": "code",
      "execution_count": 19,
      "metadata": {
        "colab": {
          "base_uri": "https://localhost:8080/"
        },
        "id": "uiJ2fBxElPfH",
        "outputId": "009b207f-93c8-4907-b6a2-16eb9d6d511f"
      },
      "outputs": [
        {
          "data": {
            "text/plain": [
              "31"
            ]
          },
          "execution_count": 19,
          "metadata": {},
          "output_type": "execute_result"
        }
      ],
      "source": [
        "len(history_practice.history['loss'])"
      ]
    },
    {
      "attachments": {},
      "cell_type": "markdown",
      "metadata": {
        "id": "fqOOWtKfiKKb"
      },
      "source": [
        "From the experiments above we could saw that the early stopping take action in the epoch 36 with the accuracy of 0.9999. This is our best results so far and it does save a lot of computing resources"
      ]
    },
    {
      "cell_type": "markdown",
      "metadata": {
        "id": "PBgGIbcIfh2m"
      },
      "source": [
        "### Regularizing your model"
      ]
    },
    {
      "cell_type": "markdown",
      "metadata": {
        "id": "taFSCdtDfh2m"
      },
      "source": [
        "#### Reducing the network's size"
      ]
    },
    {
      "cell_type": "markdown",
      "metadata": {
        "id": "7LAdXfPKfh2m"
      },
      "source": [
        "**Original model**"
      ]
    },
    {
      "cell_type": "code",
      "execution_count": 20,
      "metadata": {
        "colab": {
          "base_uri": "https://localhost:8080/"
        },
        "id": "q4yxnPpLfh2n",
        "outputId": "8565047b-6a5b-4618-a32e-2c3fab0a8c37"
      },
      "outputs": [
        {
          "name": "stdout",
          "output_type": "stream",
          "text": [
            "Epoch 1/20\n",
            "30/30 [==============================] - 1s 20ms/step - loss: 0.5459 - accuracy: 0.7713 - val_loss: 0.4365 - val_accuracy: 0.8474\n",
            "Epoch 2/20\n",
            "30/30 [==============================] - 0s 11ms/step - loss: 0.3489 - accuracy: 0.8904 - val_loss: 0.3260 - val_accuracy: 0.8826\n",
            "Epoch 3/20\n",
            "30/30 [==============================] - 0s 11ms/step - loss: 0.2630 - accuracy: 0.9142 - val_loss: 0.2898 - val_accuracy: 0.8885\n",
            "Epoch 4/20\n",
            "30/30 [==============================] - 0s 13ms/step - loss: 0.2134 - accuracy: 0.9297 - val_loss: 0.2795 - val_accuracy: 0.8871\n",
            "Epoch 5/20\n",
            "30/30 [==============================] - 0s 11ms/step - loss: 0.1780 - accuracy: 0.9425 - val_loss: 0.2798 - val_accuracy: 0.8866\n",
            "Epoch 6/20\n",
            "30/30 [==============================] - 0s 11ms/step - loss: 0.1549 - accuracy: 0.9486 - val_loss: 0.2814 - val_accuracy: 0.8888\n",
            "Epoch 7/20\n",
            "30/30 [==============================] - 0s 13ms/step - loss: 0.1340 - accuracy: 0.9580 - val_loss: 0.2878 - val_accuracy: 0.8867\n",
            "Epoch 8/20\n",
            "30/30 [==============================] - 0s 11ms/step - loss: 0.1162 - accuracy: 0.9643 - val_loss: 0.3284 - val_accuracy: 0.8735\n",
            "Epoch 9/20\n",
            "30/30 [==============================] - 0s 11ms/step - loss: 0.1005 - accuracy: 0.9697 - val_loss: 0.3211 - val_accuracy: 0.8826\n",
            "Epoch 10/20\n",
            "30/30 [==============================] - 0s 13ms/step - loss: 0.0896 - accuracy: 0.9743 - val_loss: 0.3654 - val_accuracy: 0.8718\n",
            "Epoch 11/20\n",
            "30/30 [==============================] - 0s 11ms/step - loss: 0.0801 - accuracy: 0.9788 - val_loss: 0.3461 - val_accuracy: 0.8799\n",
            "Epoch 12/20\n",
            "30/30 [==============================] - 0s 11ms/step - loss: 0.0686 - accuracy: 0.9817 - val_loss: 0.3622 - val_accuracy: 0.8777\n",
            "Epoch 13/20\n",
            "30/30 [==============================] - 0s 13ms/step - loss: 0.0609 - accuracy: 0.9847 - val_loss: 0.3821 - val_accuracy: 0.8777\n",
            "Epoch 14/20\n",
            "30/30 [==============================] - 0s 11ms/step - loss: 0.0543 - accuracy: 0.9869 - val_loss: 0.4202 - val_accuracy: 0.8737\n",
            "Epoch 15/20\n",
            "30/30 [==============================] - 0s 11ms/step - loss: 0.0452 - accuracy: 0.9905 - val_loss: 0.4433 - val_accuracy: 0.8729\n",
            "Epoch 16/20\n",
            "30/30 [==============================] - 0s 14ms/step - loss: 0.0417 - accuracy: 0.9914 - val_loss: 0.4915 - val_accuracy: 0.8620\n",
            "Epoch 17/20\n",
            "30/30 [==============================] - 0s 11ms/step - loss: 0.0342 - accuracy: 0.9936 - val_loss: 0.5163 - val_accuracy: 0.8654\n",
            "Epoch 18/20\n",
            "30/30 [==============================] - 0s 12ms/step - loss: 0.0315 - accuracy: 0.9950 - val_loss: 0.4879 - val_accuracy: 0.8712\n",
            "Epoch 19/20\n",
            "30/30 [==============================] - 0s 12ms/step - loss: 0.0258 - accuracy: 0.9963 - val_loss: 0.5184 - val_accuracy: 0.8691\n",
            "Epoch 20/20\n",
            "30/30 [==============================] - 0s 10ms/step - loss: 0.0259 - accuracy: 0.9950 - val_loss: 0.5416 - val_accuracy: 0.8701\n"
          ]
        }
      ],
      "source": [
        "(train_data, train_labels), _ = imdb.load_data(num_words=10000)\n",
        "\n",
        "def vectorize_sequences(sequences, dimension=10000):\n",
        "    results = np.zeros((len(sequences), dimension))\n",
        "    for i, sequence in enumerate(sequences):\n",
        "        results[i, sequence] = 1.\n",
        "    return results\n",
        "\n",
        "train_data = vectorize_sequences(train_data)\n",
        "\n",
        "model = keras.Sequential([\n",
        "    layers.Dense(16, activation=\"relu\"),\n",
        "    layers.Dense(16, activation=\"relu\"),\n",
        "    layers.Dense(1, activation=\"sigmoid\")\n",
        "])\n",
        "model.compile(optimizer=\"rmsprop\",\n",
        "              loss=\"binary_crossentropy\",\n",
        "              metrics=[\"accuracy\"])\n",
        "history_original = model.fit(train_data, train_labels,\n",
        "                             epochs=20, batch_size=512, validation_split=0.4)"
      ]
    },
    {
      "cell_type": "markdown",
      "metadata": {
        "id": "DY5E806Mfh2n"
      },
      "source": [
        "**Version of the model with lower capacity**"
      ]
    },
    {
      "cell_type": "code",
      "execution_count": 21,
      "metadata": {
        "colab": {
          "base_uri": "https://localhost:8080/"
        },
        "id": "T-egiCtbfh2n",
        "outputId": "0a68e8dc-8938-4589-c302-00daf5899b1d"
      },
      "outputs": [
        {
          "name": "stdout",
          "output_type": "stream",
          "text": [
            "Epoch 1/20\n",
            "30/30 [==============================] - 1s 18ms/step - loss: 0.6561 - accuracy: 0.5231 - val_loss: 0.6077 - val_accuracy: 0.5410\n",
            "Epoch 2/20\n",
            "30/30 [==============================] - 0s 12ms/step - loss: 0.5775 - accuracy: 0.6102 - val_loss: 0.5566 - val_accuracy: 0.7127\n",
            "Epoch 3/20\n",
            "30/30 [==============================] - 0s 10ms/step - loss: 0.5259 - accuracy: 0.7959 - val_loss: 0.5271 - val_accuracy: 0.7646\n",
            "Epoch 4/20\n",
            "30/30 [==============================] - 0s 10ms/step - loss: 0.4864 - accuracy: 0.8578 - val_loss: 0.5007 - val_accuracy: 0.8031\n",
            "Epoch 5/20\n",
            "30/30 [==============================] - 0s 11ms/step - loss: 0.4541 - accuracy: 0.8841 - val_loss: 0.4734 - val_accuracy: 0.8358\n",
            "Epoch 6/20\n",
            "30/30 [==============================] - 0s 10ms/step - loss: 0.4202 - accuracy: 0.9043 - val_loss: 0.4434 - val_accuracy: 0.8710\n",
            "Epoch 7/20\n",
            "30/30 [==============================] - 0s 10ms/step - loss: 0.3806 - accuracy: 0.9230 - val_loss: 0.4184 - val_accuracy: 0.8521\n",
            "Epoch 8/20\n",
            "30/30 [==============================] - 0s 11ms/step - loss: 0.3344 - accuracy: 0.9360 - val_loss: 0.3731 - val_accuracy: 0.8844\n",
            "Epoch 9/20\n",
            "30/30 [==============================] - 0s 10ms/step - loss: 0.2836 - accuracy: 0.9455 - val_loss: 0.3331 - val_accuracy: 0.8896\n",
            "Epoch 10/20\n",
            "30/30 [==============================] - 0s 10ms/step - loss: 0.2410 - accuracy: 0.9503 - val_loss: 0.3078 - val_accuracy: 0.8908\n",
            "Epoch 11/20\n",
            "30/30 [==============================] - 0s 10ms/step - loss: 0.2103 - accuracy: 0.9522 - val_loss: 0.3077 - val_accuracy: 0.8808\n",
            "Epoch 12/20\n",
            "30/30 [==============================] - 0s 12ms/step - loss: 0.1884 - accuracy: 0.9557 - val_loss: 0.2850 - val_accuracy: 0.8908\n",
            "Epoch 13/20\n",
            "30/30 [==============================] - 0s 10ms/step - loss: 0.1701 - accuracy: 0.9585 - val_loss: 0.2839 - val_accuracy: 0.8889\n",
            "Epoch 14/20\n",
            "30/30 [==============================] - 0s 10ms/step - loss: 0.1556 - accuracy: 0.9597 - val_loss: 0.2798 - val_accuracy: 0.8907\n",
            "Epoch 15/20\n",
            "30/30 [==============================] - 0s 12ms/step - loss: 0.1433 - accuracy: 0.9631 - val_loss: 0.2830 - val_accuracy: 0.8884\n",
            "Epoch 16/20\n",
            "30/30 [==============================] - 0s 10ms/step - loss: 0.1328 - accuracy: 0.9655 - val_loss: 0.2837 - val_accuracy: 0.8886\n",
            "Epoch 17/20\n",
            "30/30 [==============================] - 0s 10ms/step - loss: 0.1227 - accuracy: 0.9692 - val_loss: 0.2861 - val_accuracy: 0.8873\n",
            "Epoch 18/20\n",
            "30/30 [==============================] - 0s 12ms/step - loss: 0.1147 - accuracy: 0.9716 - val_loss: 0.2941 - val_accuracy: 0.8854\n",
            "Epoch 19/20\n",
            "30/30 [==============================] - 0s 10ms/step - loss: 0.1059 - accuracy: 0.9747 - val_loss: 0.3009 - val_accuracy: 0.8847\n",
            "Epoch 20/20\n",
            "30/30 [==============================] - 0s 10ms/step - loss: 0.0994 - accuracy: 0.9758 - val_loss: 0.3129 - val_accuracy: 0.8818\n"
          ]
        }
      ],
      "source": [
        "model = keras.Sequential([\n",
        "    layers.Dense(4, activation=\"relu\"),\n",
        "    layers.Dense(4, activation=\"relu\"),\n",
        "    layers.Dense(1, activation=\"sigmoid\")\n",
        "])\n",
        "model.compile(optimizer=\"rmsprop\",\n",
        "              loss=\"binary_crossentropy\",\n",
        "              metrics=[\"accuracy\"])\n",
        "history_smaller_model = model.fit(\n",
        "    train_data, train_labels,\n",
        "    epochs=20, batch_size=512, validation_split=0.4)"
      ]
    },
    {
      "cell_type": "markdown",
      "metadata": {
        "id": "uVD6-KfSfh2n"
      },
      "source": [
        "**Version of the model with higher capacity**"
      ]
    },
    {
      "cell_type": "code",
      "execution_count": 22,
      "metadata": {
        "colab": {
          "base_uri": "https://localhost:8080/"
        },
        "id": "7QmF24wMfh2n",
        "outputId": "5900042e-5ae2-4518-dfd8-82be65360ed0"
      },
      "outputs": [
        {
          "name": "stdout",
          "output_type": "stream",
          "text": [
            "Epoch 1/20\n",
            "30/30 [==============================] - 2s 63ms/step - loss: 0.5601 - accuracy: 0.7267 - val_loss: 0.4032 - val_accuracy: 0.8209\n",
            "Epoch 2/20\n",
            "30/30 [==============================] - 2s 56ms/step - loss: 0.3260 - accuracy: 0.8662 - val_loss: 0.2855 - val_accuracy: 0.8793\n",
            "Epoch 3/20\n",
            "30/30 [==============================] - 2s 56ms/step - loss: 0.2381 - accuracy: 0.9041 - val_loss: 0.2718 - val_accuracy: 0.8866\n",
            "Epoch 4/20\n",
            "30/30 [==============================] - 2s 56ms/step - loss: 0.1975 - accuracy: 0.9232 - val_loss: 0.3159 - val_accuracy: 0.8715\n",
            "Epoch 5/20\n",
            "30/30 [==============================] - 2s 56ms/step - loss: 0.1372 - accuracy: 0.9487 - val_loss: 0.4029 - val_accuracy: 0.8444\n",
            "Epoch 6/20\n",
            "30/30 [==============================] - 2s 55ms/step - loss: 0.1121 - accuracy: 0.9576 - val_loss: 0.3232 - val_accuracy: 0.8833\n",
            "Epoch 7/20\n",
            "30/30 [==============================] - 2s 53ms/step - loss: 0.0900 - accuracy: 0.9706 - val_loss: 0.3426 - val_accuracy: 0.8848\n",
            "Epoch 8/20\n",
            "30/30 [==============================] - 2s 54ms/step - loss: 0.0823 - accuracy: 0.9759 - val_loss: 0.3497 - val_accuracy: 0.8846\n",
            "Epoch 9/20\n",
            "30/30 [==============================] - 2s 54ms/step - loss: 0.0175 - accuracy: 0.9967 - val_loss: 0.5985 - val_accuracy: 0.8547\n",
            "Epoch 10/20\n",
            "30/30 [==============================] - 2s 53ms/step - loss: 0.0663 - accuracy: 0.9817 - val_loss: 0.4388 - val_accuracy: 0.8825\n",
            "Epoch 11/20\n",
            "30/30 [==============================] - 2s 52ms/step - loss: 0.0705 - accuracy: 0.9814 - val_loss: 0.3766 - val_accuracy: 0.8831\n",
            "Epoch 12/20\n",
            "30/30 [==============================] - 2s 56ms/step - loss: 0.0059 - accuracy: 0.9997 - val_loss: 0.4852 - val_accuracy: 0.8800\n",
            "Epoch 13/20\n",
            "30/30 [==============================] - 2s 53ms/step - loss: 0.0802 - accuracy: 0.9821 - val_loss: 0.3878 - val_accuracy: 0.8831\n",
            "Epoch 14/20\n",
            "30/30 [==============================] - 2s 53ms/step - loss: 0.0047 - accuracy: 1.0000 - val_loss: 0.4956 - val_accuracy: 0.8838\n",
            "Epoch 15/20\n",
            "30/30 [==============================] - 2s 54ms/step - loss: 0.0017 - accuracy: 1.0000 - val_loss: 0.5651 - val_accuracy: 0.8838\n",
            "Epoch 16/20\n",
            "30/30 [==============================] - 2s 56ms/step - loss: 0.0010 - accuracy: 1.0000 - val_loss: 0.6708 - val_accuracy: 0.8763\n",
            "Epoch 17/20\n",
            "30/30 [==============================] - 2s 54ms/step - loss: 0.0882 - accuracy: 0.9827 - val_loss: 0.5014 - val_accuracy: 0.8838\n",
            "Epoch 18/20\n",
            "30/30 [==============================] - 2s 54ms/step - loss: 0.0012 - accuracy: 1.0000 - val_loss: 0.5722 - val_accuracy: 0.8841\n",
            "Epoch 19/20\n",
            "30/30 [==============================] - 2s 55ms/step - loss: 6.4263e-04 - accuracy: 1.0000 - val_loss: 0.6317 - val_accuracy: 0.8848\n",
            "Epoch 20/20\n",
            "30/30 [==============================] - 2s 55ms/step - loss: 4.1434e-04 - accuracy: 1.0000 - val_loss: 0.6684 - val_accuracy: 0.8815\n"
          ]
        }
      ],
      "source": [
        "model = keras.Sequential([\n",
        "    layers.Dense(512, activation=\"relu\"),\n",
        "    layers.Dense(512, activation=\"relu\"),\n",
        "    layers.Dense(1, activation=\"sigmoid\")\n",
        "])\n",
        "model.compile(optimizer=\"rmsprop\",\n",
        "              loss=\"binary_crossentropy\",\n",
        "              metrics=[\"accuracy\"])\n",
        "history_larger_model = model.fit(\n",
        "    train_data, train_labels,\n",
        "    epochs=20, batch_size=512, validation_split=0.4)"
      ]
    },
    {
      "cell_type": "markdown",
      "metadata": {
        "id": "3ceEGm92fh2n"
      },
      "source": [
        "#### Adding weight regularization"
      ]
    },
    {
      "cell_type": "markdown",
      "metadata": {
        "id": "gQuk4Cj5fh2n"
      },
      "source": [
        "**Adding L2 weight regularization to the model**"
      ]
    },
    {
      "cell_type": "code",
      "execution_count": 23,
      "metadata": {
        "colab": {
          "base_uri": "https://localhost:8080/"
        },
        "id": "qaEnnCDNfh2n",
        "outputId": "51d0a6ba-eb6b-415d-a729-f9b7f27b588b"
      },
      "outputs": [
        {
          "name": "stdout",
          "output_type": "stream",
          "text": [
            "Epoch 1/20\n",
            "30/30 [==============================] - 1s 18ms/step - loss: 0.6250 - accuracy: 0.7683 - val_loss: 0.4950 - val_accuracy: 0.8570\n",
            "Epoch 2/20\n",
            "30/30 [==============================] - 0s 11ms/step - loss: 0.4196 - accuracy: 0.8891 - val_loss: 0.3989 - val_accuracy: 0.8835\n",
            "Epoch 3/20\n",
            "30/30 [==============================] - 0s 12ms/step - loss: 0.3414 - accuracy: 0.9123 - val_loss: 0.3680 - val_accuracy: 0.8867\n",
            "Epoch 4/20\n",
            "30/30 [==============================] - 0s 11ms/step - loss: 0.3013 - accuracy: 0.9246 - val_loss: 0.3607 - val_accuracy: 0.8835\n",
            "Epoch 5/20\n",
            "30/30 [==============================] - 0s 11ms/step - loss: 0.2810 - accuracy: 0.9301 - val_loss: 0.3641 - val_accuracy: 0.8814\n",
            "Epoch 6/20\n",
            "30/30 [==============================] - 0s 13ms/step - loss: 0.2642 - accuracy: 0.9351 - val_loss: 0.3853 - val_accuracy: 0.8711\n",
            "Epoch 7/20\n",
            "30/30 [==============================] - 0s 11ms/step - loss: 0.2495 - accuracy: 0.9426 - val_loss: 0.3720 - val_accuracy: 0.8795\n",
            "Epoch 8/20\n",
            "30/30 [==============================] - 0s 11ms/step - loss: 0.2456 - accuracy: 0.9442 - val_loss: 0.3623 - val_accuracy: 0.8861\n",
            "Epoch 9/20\n",
            "30/30 [==============================] - 0s 13ms/step - loss: 0.2389 - accuracy: 0.9441 - val_loss: 0.3884 - val_accuracy: 0.8750\n",
            "Epoch 10/20\n",
            "30/30 [==============================] - 0s 11ms/step - loss: 0.2265 - accuracy: 0.9524 - val_loss: 0.3761 - val_accuracy: 0.8818\n",
            "Epoch 11/20\n",
            "30/30 [==============================] - 0s 11ms/step - loss: 0.2278 - accuracy: 0.9490 - val_loss: 0.3742 - val_accuracy: 0.8811\n",
            "Epoch 12/20\n",
            "30/30 [==============================] - 0s 13ms/step - loss: 0.2202 - accuracy: 0.9533 - val_loss: 0.3762 - val_accuracy: 0.8809\n",
            "Epoch 13/20\n",
            "30/30 [==============================] - 0s 11ms/step - loss: 0.2183 - accuracy: 0.9557 - val_loss: 0.3792 - val_accuracy: 0.8817\n",
            "Epoch 14/20\n",
            "30/30 [==============================] - 0s 12ms/step - loss: 0.2141 - accuracy: 0.9559 - val_loss: 0.3945 - val_accuracy: 0.8770\n",
            "Epoch 15/20\n",
            "30/30 [==============================] - 0s 12ms/step - loss: 0.2100 - accuracy: 0.9569 - val_loss: 0.3920 - val_accuracy: 0.8767\n",
            "Epoch 16/20\n",
            "30/30 [==============================] - 0s 11ms/step - loss: 0.2101 - accuracy: 0.9557 - val_loss: 0.4108 - val_accuracy: 0.8735\n",
            "Epoch 17/20\n",
            "30/30 [==============================] - 0s 12ms/step - loss: 0.2035 - accuracy: 0.9597 - val_loss: 0.4318 - val_accuracy: 0.8721\n",
            "Epoch 18/20\n",
            "30/30 [==============================] - 0s 11ms/step - loss: 0.2017 - accuracy: 0.9609 - val_loss: 0.3982 - val_accuracy: 0.8782\n",
            "Epoch 19/20\n",
            "30/30 [==============================] - 0s 11ms/step - loss: 0.2051 - accuracy: 0.9587 - val_loss: 0.3996 - val_accuracy: 0.8791\n",
            "Epoch 20/20\n",
            "30/30 [==============================] - 0s 12ms/step - loss: 0.1987 - accuracy: 0.9623 - val_loss: 0.4095 - val_accuracy: 0.8761\n"
          ]
        }
      ],
      "source": [
        "model = keras.Sequential([\n",
        "    layers.Dense(16,\n",
        "                 kernel_regularizer=regularizers.l2(0.002),\n",
        "                 activation=\"relu\"),\n",
        "    layers.Dense(16,\n",
        "                 kernel_regularizer=regularizers.l2(0.002),\n",
        "                 activation=\"relu\"),\n",
        "    layers.Dense(1, activation=\"sigmoid\")\n",
        "])\n",
        "model.compile(optimizer=\"rmsprop\",\n",
        "              loss=\"binary_crossentropy\",\n",
        "              metrics=[\"accuracy\"])\n",
        "history_l2_reg = model.fit(\n",
        "    train_data, train_labels,\n",
        "    epochs=20, batch_size=512, validation_split=0.4)"
      ]
    },
    {
      "cell_type": "markdown",
      "metadata": {
        "id": "EbdbYjJxfh2o"
      },
      "source": [
        "**Different weight regularizers available in Keras**"
      ]
    },
    {
      "cell_type": "code",
      "execution_count": 24,
      "metadata": {
        "colab": {
          "base_uri": "https://localhost:8080/"
        },
        "id": "TQkoTQKufh2o",
        "outputId": "a8bd7449-4b5b-4e1d-f424-303c87c6ecd6"
      },
      "outputs": [
        {
          "data": {
            "text/plain": [
              "<keras.regularizers.L1L2 at 0x145be01d650>"
            ]
          },
          "execution_count": 24,
          "metadata": {},
          "output_type": "execute_result"
        }
      ],
      "source": [
        "\n",
        "regularizers.l1(0.001)\n",
        "regularizers.l1_l2(l1=0.001, l2=0.001)"
      ]
    },
    {
      "cell_type": "markdown",
      "metadata": {
        "id": "WzHSwfvffh2o"
      },
      "source": [
        "#### Adding dropout"
      ]
    },
    {
      "cell_type": "markdown",
      "metadata": {
        "id": "Uoo_Gjqafh2o"
      },
      "source": [
        "**Adding dropout to the IMDB model**"
      ]
    },
    {
      "cell_type": "code",
      "execution_count": 25,
      "metadata": {
        "colab": {
          "base_uri": "https://localhost:8080/"
        },
        "id": "PYwhzhPJfh2o",
        "outputId": "b5ff4a3a-f2a7-4808-87e8-ada9bf4975be"
      },
      "outputs": [
        {
          "name": "stdout",
          "output_type": "stream",
          "text": [
            "Epoch 1/20\n",
            "30/30 [==============================] - 1s 19ms/step - loss: 0.6535 - accuracy: 0.6089 - val_loss: 0.5649 - val_accuracy: 0.8413\n",
            "Epoch 2/20\n",
            "30/30 [==============================] - 0s 12ms/step - loss: 0.5576 - accuracy: 0.7254 - val_loss: 0.4561 - val_accuracy: 0.8695\n",
            "Epoch 3/20\n",
            "30/30 [==============================] - 0s 12ms/step - loss: 0.4769 - accuracy: 0.8011 - val_loss: 0.3897 - val_accuracy: 0.8784\n",
            "Epoch 4/20\n",
            "30/30 [==============================] - 0s 12ms/step - loss: 0.4091 - accuracy: 0.8400 - val_loss: 0.3342 - val_accuracy: 0.8816\n",
            "Epoch 5/20\n",
            "30/30 [==============================] - 0s 11ms/step - loss: 0.3525 - accuracy: 0.8716 - val_loss: 0.3120 - val_accuracy: 0.8844\n",
            "Epoch 6/20\n",
            "30/30 [==============================] - 0s 13ms/step - loss: 0.3150 - accuracy: 0.8917 - val_loss: 0.2858 - val_accuracy: 0.8907\n",
            "Epoch 7/20\n",
            "30/30 [==============================] - 0s 12ms/step - loss: 0.2679 - accuracy: 0.9129 - val_loss: 0.2780 - val_accuracy: 0.8885\n",
            "Epoch 8/20\n",
            "30/30 [==============================] - 0s 12ms/step - loss: 0.2422 - accuracy: 0.9239 - val_loss: 0.2992 - val_accuracy: 0.8852\n",
            "Epoch 9/20\n",
            "30/30 [==============================] - 0s 13ms/step - loss: 0.2155 - accuracy: 0.9313 - val_loss: 0.2961 - val_accuracy: 0.8889\n",
            "Epoch 10/20\n",
            "30/30 [==============================] - 0s 12ms/step - loss: 0.1948 - accuracy: 0.9382 - val_loss: 0.3002 - val_accuracy: 0.8882\n",
            "Epoch 11/20\n",
            "30/30 [==============================] - 0s 11ms/step - loss: 0.1753 - accuracy: 0.9469 - val_loss: 0.3206 - val_accuracy: 0.8883\n",
            "Epoch 12/20\n",
            "30/30 [==============================] - 0s 13ms/step - loss: 0.1532 - accuracy: 0.9529 - val_loss: 0.3438 - val_accuracy: 0.8808\n",
            "Epoch 13/20\n",
            "30/30 [==============================] - 0s 11ms/step - loss: 0.1394 - accuracy: 0.9579 - val_loss: 0.3657 - val_accuracy: 0.8877\n",
            "Epoch 14/20\n",
            "30/30 [==============================] - 0s 12ms/step - loss: 0.1221 - accuracy: 0.9647 - val_loss: 0.3785 - val_accuracy: 0.8871\n",
            "Epoch 15/20\n",
            "30/30 [==============================] - 0s 12ms/step - loss: 0.1189 - accuracy: 0.9655 - val_loss: 0.4044 - val_accuracy: 0.8848\n",
            "Epoch 16/20\n",
            "30/30 [==============================] - 0s 11ms/step - loss: 0.1054 - accuracy: 0.9691 - val_loss: 0.4205 - val_accuracy: 0.8838\n",
            "Epoch 17/20\n",
            "30/30 [==============================] - 0s 12ms/step - loss: 0.0984 - accuracy: 0.9695 - val_loss: 0.4373 - val_accuracy: 0.8834\n",
            "Epoch 18/20\n",
            "30/30 [==============================] - 0s 12ms/step - loss: 0.0949 - accuracy: 0.9737 - val_loss: 0.4749 - val_accuracy: 0.8831\n",
            "Epoch 19/20\n",
            "30/30 [==============================] - 0s 11ms/step - loss: 0.0859 - accuracy: 0.9747 - val_loss: 0.4909 - val_accuracy: 0.8809\n",
            "Epoch 20/20\n",
            "30/30 [==============================] - 0s 12ms/step - loss: 0.0800 - accuracy: 0.9769 - val_loss: 0.5263 - val_accuracy: 0.8821\n"
          ]
        }
      ],
      "source": [
        "model = keras.Sequential([\n",
        "    layers.Dense(16, activation=\"relu\"),\n",
        "    layers.Dropout(0.5),\n",
        "    layers.Dense(16, activation=\"relu\"),\n",
        "    layers.Dropout(0.5),\n",
        "    layers.Dense(1, activation=\"sigmoid\")\n",
        "])\n",
        "model.compile(optimizer=\"rmsprop\",\n",
        "              loss=\"binary_crossentropy\",\n",
        "              metrics=[\"accuracy\"])\n",
        "history_dropout = model.fit(\n",
        "    train_data, train_labels,\n",
        "    epochs=20, batch_size=512, validation_split=0.4)"
      ]
    },
    {
      "cell_type": "markdown",
      "metadata": {
        "id": "HyuwBO10fh2o"
      },
      "source": [
        "## Summary"
      ]
    }
  ],
  "metadata": {
    "colab": {
      "provenance": [],
      "toc_visible": true
    },
    "kernelspec": {
      "display_name": "Python 3",
      "language": "python",
      "name": "python3"
    },
    "language_info": {
      "codemirror_mode": {
        "name": "ipython",
        "version": 3
      },
      "file_extension": ".py",
      "mimetype": "text/x-python",
      "name": "python",
      "nbconvert_exporter": "python",
      "pygments_lexer": "ipython3",
      "version": "3.11.4"
    },
    "vscode": {
      "interpreter": {
        "hash": "082e9a3bcad0a290d0001e938aa60b99250c6c2ef33a923c00b70f9826caf4b7"
      }
    }
  },
  "nbformat": 4,
  "nbformat_minor": 0
}
