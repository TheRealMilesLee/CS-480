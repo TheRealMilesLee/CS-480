{
 "cells": [
  {
   "cell_type": "markdown",
   "metadata": {
    "colab_type": "text"
   },
   "source": [
    "This is a companion notebook for the book [Deep Learning with Python, Second Edition](https://www.manning.com/books/deep-learning-with-python-second-edition?a_aid=keras&a_bid=76564dff). For readability, it only contains runnable code blocks and section titles, and omits everything else in the book: text paragraphs, figures, and pseudocode.\n",
    "\n",
    "**If you want to be able to follow what's going on, I recommend reading the notebook side by side with your copy of the book.**\n",
    "\n",
    "This notebook was generated for TensorFlow 2.6."
   ]
  },
  {
   "cell_type": "markdown",
   "metadata": {
    "colab_type": "text"
   },
   "source": [
    "# Fundamentals of machine learning"
   ]
  },
  {
   "cell_type": "markdown",
   "metadata": {
    "colab_type": "text"
   },
   "source": [
    "## Generalization: The goal of machine learning"
   ]
  },
  {
   "cell_type": "markdown",
   "metadata": {
    "colab_type": "text"
   },
   "source": [
    "### Underfitting and overfitting"
   ]
  },
  {
   "cell_type": "markdown",
   "metadata": {
    "colab_type": "text"
   },
   "source": [
    "#### Noisy training data"
   ]
  },
  {
   "cell_type": "markdown",
   "metadata": {
    "colab_type": "text"
   },
   "source": [
    "#### Ambiguous features"
   ]
  },
  {
   "cell_type": "markdown",
   "metadata": {
    "colab_type": "text"
   },
   "source": [
    "#### Rare features and spurious correlations"
   ]
  },
  {
   "cell_type": "markdown",
   "metadata": {
    "colab_type": "text"
   },
   "source": [
    "**Adding white-noise channels or all-zeros channels to MNIST**"
   ]
  },
  {
   "cell_type": "code",
   "execution_count": 9,
   "metadata": {
    "colab_type": "code"
   },
   "outputs": [],
   "source": [
    "from tensorflow.keras.datasets import mnist\n",
    "import numpy as np\n",
    "\n",
    "(train_images, train_labels), _ = mnist.load_data()\n",
    "train_images = train_images.reshape((60000, 28 * 28))\n",
    "train_images = train_images.astype(\"float32\") / 255\n",
    "\n",
    "train_images_with_noise_channels = np.concatenate(\n",
    "    [train_images, np.random.random((len(train_images), 784))], axis=1)\n",
    "\n",
    "train_images_with_zeros_channels = np.concatenate(\n",
    "    [train_images, np.zeros((len(train_images), 784))], axis=1)"
   ]
  },
  {
   "cell_type": "markdown",
   "metadata": {
    "colab_type": "text"
   },
   "source": [
    "**Training the same model on MNIST data with noise channels or all-zero channels**"
   ]
  },
  {
   "cell_type": "code",
   "execution_count": 10,
   "metadata": {
    "colab_type": "code"
   },
   "outputs": [
    {
     "name": "stdout",
     "output_type": "stream",
     "text": [
      "Epoch 1/10\n",
      "375/375 [==============================] - 4s 9ms/step - loss: 0.6033 - accuracy: 0.8134 - val_loss: 0.2981 - val_accuracy: 0.9131\n",
      "Epoch 2/10\n",
      "375/375 [==============================] - 3s 8ms/step - loss: 0.2567 - accuracy: 0.9211 - val_loss: 0.2249 - val_accuracy: 0.9323\n",
      "Epoch 3/10\n",
      "375/375 [==============================] - 3s 8ms/step - loss: 0.1697 - accuracy: 0.9469 - val_loss: 0.1917 - val_accuracy: 0.9427\n",
      "Epoch 4/10\n",
      "375/375 [==============================] - 3s 8ms/step - loss: 0.1202 - accuracy: 0.9628 - val_loss: 0.1490 - val_accuracy: 0.9578\n",
      "Epoch 5/10\n",
      "375/375 [==============================] - 3s 8ms/step - loss: 0.0900 - accuracy: 0.9721 - val_loss: 0.1266 - val_accuracy: 0.9638\n",
      "Epoch 6/10\n",
      "375/375 [==============================] - 3s 7ms/step - loss: 0.0666 - accuracy: 0.9792 - val_loss: 0.1151 - val_accuracy: 0.9667\n",
      "Epoch 7/10\n",
      "375/375 [==============================] - 3s 8ms/step - loss: 0.0482 - accuracy: 0.9848 - val_loss: 0.1295 - val_accuracy: 0.9643\n",
      "Epoch 8/10\n",
      "375/375 [==============================] - 3s 8ms/step - loss: 0.0378 - accuracy: 0.9882 - val_loss: 0.1381 - val_accuracy: 0.9628\n",
      "Epoch 9/10\n",
      "375/375 [==============================] - 3s 8ms/step - loss: 0.0278 - accuracy: 0.9911 - val_loss: 0.1232 - val_accuracy: 0.9682\n",
      "Epoch 10/10\n",
      "375/375 [==============================] - 3s 8ms/step - loss: 0.0192 - accuracy: 0.9943 - val_loss: 0.1214 - val_accuracy: 0.9699\n",
      "Epoch 1/10\n",
      "375/375 [==============================] - 4s 8ms/step - loss: 0.2982 - accuracy: 0.9146 - val_loss: 0.1602 - val_accuracy: 0.9548\n",
      "Epoch 2/10\n",
      "375/375 [==============================] - 3s 8ms/step - loss: 0.1233 - accuracy: 0.9640 - val_loss: 0.1076 - val_accuracy: 0.9690\n",
      "Epoch 3/10\n",
      "375/375 [==============================] - 3s 8ms/step - loss: 0.0806 - accuracy: 0.9765 - val_loss: 0.0913 - val_accuracy: 0.9728\n",
      "Epoch 4/10\n",
      "375/375 [==============================] - 3s 8ms/step - loss: 0.0584 - accuracy: 0.9827 - val_loss: 0.0879 - val_accuracy: 0.9737\n",
      "Epoch 5/10\n",
      "375/375 [==============================] - 3s 8ms/step - loss: 0.0435 - accuracy: 0.9872 - val_loss: 0.0851 - val_accuracy: 0.9760\n",
      "Epoch 6/10\n",
      "375/375 [==============================] - 3s 8ms/step - loss: 0.0328 - accuracy: 0.9904 - val_loss: 0.0763 - val_accuracy: 0.9776\n",
      "Epoch 7/10\n",
      "375/375 [==============================] - 3s 8ms/step - loss: 0.0251 - accuracy: 0.9926 - val_loss: 0.0795 - val_accuracy: 0.9754\n",
      "Epoch 8/10\n",
      "375/375 [==============================] - 3s 8ms/step - loss: 0.0186 - accuracy: 0.9948 - val_loss: 0.0757 - val_accuracy: 0.9794\n",
      "Epoch 9/10\n",
      "375/375 [==============================] - 3s 8ms/step - loss: 0.0145 - accuracy: 0.9962 - val_loss: 0.0779 - val_accuracy: 0.9776\n",
      "Epoch 10/10\n",
      "375/375 [==============================] - 3s 8ms/step - loss: 0.0101 - accuracy: 0.9975 - val_loss: 0.0774 - val_accuracy: 0.9795\n"
     ]
    }
   ],
   "source": [
    "from tensorflow import keras\n",
    "from tensorflow.keras import layers\n",
    "\n",
    "def get_model():\n",
    "    model = keras.Sequential([\n",
    "        layers.Dense(512, activation=\"relu\"),\n",
    "        layers.Dense(10, activation=\"softmax\")\n",
    "    ])\n",
    "    model.compile(optimizer=\"rmsprop\",\n",
    "                  loss=\"sparse_categorical_crossentropy\",\n",
    "                  metrics=[\"accuracy\"])\n",
    "    return model\n",
    "\n",
    "model = get_model()\n",
    "history_noise = model.fit(\n",
    "    train_images_with_noise_channels, train_labels,\n",
    "    epochs=10,\n",
    "    batch_size=128,\n",
    "    validation_split=0.2)\n",
    "\n",
    "model = get_model()\n",
    "history_zeros = model.fit(\n",
    "    train_images_with_zeros_channels, train_labels,\n",
    "    epochs=10,\n",
    "    batch_size=128,\n",
    "    validation_split=0.2)"
   ]
  },
  {
   "cell_type": "markdown",
   "metadata": {
    "colab_type": "text"
   },
   "source": [
    "**Plotting a validation accuracy comparison**"
   ]
  },
  {
   "cell_type": "code",
   "execution_count": 11,
   "metadata": {
    "colab_type": "code"
   },
   "outputs": [
    {
     "data": {
      "text/plain": [
       "<matplotlib.legend.Legend at 0x13cd89e50>"
      ]
     },
     "execution_count": 11,
     "metadata": {},
     "output_type": "execute_result"
    },
    {
     "data": {
      "image/png": "[encoded data removed]",
      "text/plain": [
       "<Figure size 640x480 with 1 Axes>"
      ]
     },
     "metadata": {},
     "output_type": "display_data"
    }
   ],
   "source": [
    "import matplotlib.pyplot as plt\n",
    "val_acc_noise = history_noise.history[\"val_accuracy\"]\n",
    "val_acc_zeros = history_zeros.history[\"val_accuracy\"]\n",
    "epochs = range(1, 11)\n",
    "plt.plot(epochs, val_acc_noise, \"b-\",\n",
    "         label=\"Validation accuracy with noise channels\")\n",
    "plt.plot(epochs, val_acc_zeros, \"b--\",\n",
    "         label=\"Validation accuracy with zeros channels\")\n",
    "plt.title(\"Effect of noise channels on validation accuracy\")\n",
    "plt.xlabel(\"Epochs\")\n",
    "plt.ylabel(\"Accuracy\")\n",
    "plt.legend()"
   ]
  },
  {
   "cell_type": "markdown",
   "metadata": {
    "colab_type": "text"
   },
   "source": [
    "### The nature of generalization in deep learning"
   ]
  },
  {
   "cell_type": "markdown",
   "metadata": {
    "colab_type": "text"
   },
   "source": [
    "**Fitting a MNIST model with randomly shuffled labels**"
   ]
  },
  {
   "cell_type": "code",
   "execution_count": 12,
   "metadata": {
    "colab_type": "code"
   },
   "outputs": [
    {
     "name": "stdout",
     "output_type": "stream",
     "text": [
      "Epoch 1/100\n",
      "375/375 [==============================] - 2s 5ms/step - loss: 2.3164 - accuracy: 0.1026 - val_loss: 2.3039 - val_accuracy: 0.1022\n",
      "Epoch 2/100\n",
      "375/375 [==============================] - 2s 5ms/step - loss: 2.2983 - accuracy: 0.1191 - val_loss: 2.3146 - val_accuracy: 0.1060\n",
      "Epoch 3/100\n",
      "375/375 [==============================] - 2s 6ms/step - loss: 2.2907 - accuracy: 0.1289 - val_loss: 2.3158 - val_accuracy: 0.1009\n",
      "Epoch 4/100\n",
      "375/375 [==============================] - 2s 6ms/step - loss: 2.2782 - accuracy: 0.1400 - val_loss: 2.3226 - val_accuracy: 0.1050\n",
      "Epoch 5/100\n",
      "375/375 [==============================] - 2s 5ms/step - loss: 2.2609 - accuracy: 0.1539 - val_loss: 2.3315 - val_accuracy: 0.1058\n",
      "Epoch 6/100\n",
      "375/375 [==============================] - 2s 6ms/step - loss: 2.2417 - accuracy: 0.1658 - val_loss: 2.3453 - val_accuracy: 0.1064\n",
      "Epoch 7/100\n",
      "375/375 [==============================] - 2s 5ms/step - loss: 2.2177 - accuracy: 0.1811 - val_loss: 2.3602 - val_accuracy: 0.1058\n",
      "Epoch 8/100\n",
      "375/375 [==============================] - 2s 5ms/step - loss: 2.1905 - accuracy: 0.1970 - val_loss: 2.3862 - val_accuracy: 0.1048\n",
      "Epoch 9/100\n",
      "375/375 [==============================] - 2s 6ms/step - loss: 2.1619 - accuracy: 0.2139 - val_loss: 2.3961 - val_accuracy: 0.1042\n",
      "Epoch 10/100\n",
      "375/375 [==============================] - 2s 5ms/step - loss: 2.1300 - accuracy: 0.2302 - val_loss: 2.4189 - val_accuracy: 0.1023\n",
      "Epoch 11/100\n",
      "375/375 [==============================] - 2s 5ms/step - loss: 2.0962 - accuracy: 0.2489 - val_loss: 2.4362 - val_accuracy: 0.1093\n",
      "Epoch 12/100\n",
      "375/375 [==============================] - 2s 5ms/step - loss: 2.0599 - accuracy: 0.2634 - val_loss: 2.4651 - val_accuracy: 0.1021\n",
      "Epoch 13/100\n",
      "375/375 [==============================] - 2s 5ms/step - loss: 2.0235 - accuracy: 0.2798 - val_loss: 2.4950 - val_accuracy: 0.1040\n",
      "Epoch 14/100\n",
      "375/375 [==============================] - 2s 5ms/step - loss: 1.9864 - accuracy: 0.2964 - val_loss: 2.5258 - val_accuracy: 0.0982\n",
      "Epoch 15/100\n",
      "375/375 [==============================] - 2s 5ms/step - loss: 1.9475 - accuracy: 0.3111 - val_loss: 2.5506 - val_accuracy: 0.1066\n",
      "Epoch 16/100\n",
      "375/375 [==============================] - 2s 6ms/step - loss: 1.9075 - accuracy: 0.3286 - val_loss: 2.5737 - val_accuracy: 0.1042\n",
      "Epoch 17/100\n",
      "375/375 [==============================] - 2s 6ms/step - loss: 1.8701 - accuracy: 0.3449 - val_loss: 2.6203 - val_accuracy: 0.1027\n",
      "Epoch 18/100\n",
      "375/375 [==============================] - 2s 5ms/step - loss: 1.8295 - accuracy: 0.3625 - val_loss: 2.6699 - val_accuracy: 0.1004\n",
      "Epoch 19/100\n",
      "375/375 [==============================] - 2s 6ms/step - loss: 1.7902 - accuracy: 0.3755 - val_loss: 2.6988 - val_accuracy: 0.1002\n",
      "Epoch 20/100\n",
      "375/375 [==============================] - 2s 5ms/step - loss: 1.7539 - accuracy: 0.3914 - val_loss: 2.7456 - val_accuracy: 0.0994\n",
      "Epoch 21/100\n",
      "375/375 [==============================] - 2s 5ms/step - loss: 1.7154 - accuracy: 0.4088 - val_loss: 2.7927 - val_accuracy: 0.0988\n",
      "Epoch 22/100\n",
      "375/375 [==============================] - 2s 5ms/step - loss: 1.6777 - accuracy: 0.4214 - val_loss: 2.8329 - val_accuracy: 0.1011\n",
      "Epoch 23/100\n",
      "375/375 [==============================] - 2s 5ms/step - loss: 1.6391 - accuracy: 0.4358 - val_loss: 2.8629 - val_accuracy: 0.1037\n",
      "Epoch 24/100\n",
      "375/375 [==============================] - 2s 5ms/step - loss: 1.6030 - accuracy: 0.4481 - val_loss: 2.9351 - val_accuracy: 0.1019\n",
      "Epoch 25/100\n",
      "375/375 [==============================] - 2s 5ms/step - loss: 1.5707 - accuracy: 0.4611 - val_loss: 2.9600 - val_accuracy: 0.1017\n",
      "Epoch 26/100\n",
      "375/375 [==============================] - 2s 5ms/step - loss: 1.5348 - accuracy: 0.4756 - val_loss: 3.0264 - val_accuracy: 0.1037\n",
      "Epoch 27/100\n",
      "375/375 [==============================] - 2s 5ms/step - loss: 1.5029 - accuracy: 0.4877 - val_loss: 3.0537 - val_accuracy: 0.0990\n",
      "Epoch 28/100\n",
      "375/375 [==============================] - 2s 5ms/step - loss: 1.4695 - accuracy: 0.4975 - val_loss: 3.1086 - val_accuracy: 0.0997\n",
      "Epoch 29/100\n",
      "375/375 [==============================] - 2s 5ms/step - loss: 1.4355 - accuracy: 0.5119 - val_loss: 3.1921 - val_accuracy: 0.1037\n",
      "Epoch 30/100\n",
      "375/375 [==============================] - 2s 5ms/step - loss: 1.4053 - accuracy: 0.5221 - val_loss: 3.2140 - val_accuracy: 0.1004\n",
      "Epoch 31/100\n",
      "375/375 [==============================] - 2s 5ms/step - loss: 1.3760 - accuracy: 0.5343 - val_loss: 3.2746 - val_accuracy: 0.1030\n",
      "Epoch 32/100\n",
      "375/375 [==============================] - 2s 5ms/step - loss: 1.3449 - accuracy: 0.5467 - val_loss: 3.3110 - val_accuracy: 0.1013\n",
      "Epoch 33/100\n",
      "375/375 [==============================] - 2s 5ms/step - loss: 1.3157 - accuracy: 0.5548 - val_loss: 3.3939 - val_accuracy: 0.1050\n",
      "Epoch 34/100\n",
      "375/375 [==============================] - 2s 5ms/step - loss: 1.2879 - accuracy: 0.5654 - val_loss: 3.4162 - val_accuracy: 0.1043\n",
      "Epoch 35/100\n",
      "375/375 [==============================] - 2s 5ms/step - loss: 1.2608 - accuracy: 0.5750 - val_loss: 3.4700 - val_accuracy: 0.0999\n",
      "Epoch 36/100\n",
      "375/375 [==============================] - 2s 5ms/step - loss: 1.2336 - accuracy: 0.5852 - val_loss: 3.5454 - val_accuracy: 0.1028\n",
      "Epoch 37/100\n",
      "375/375 [==============================] - 2s 5ms/step - loss: 1.2075 - accuracy: 0.5965 - val_loss: 3.6248 - val_accuracy: 0.1028\n",
      "Epoch 38/100\n",
      "375/375 [==============================] - 2s 5ms/step - loss: 1.1830 - accuracy: 0.6054 - val_loss: 3.6583 - val_accuracy: 0.0993\n",
      "Epoch 39/100\n",
      "375/375 [==============================] - 2s 6ms/step - loss: 1.1569 - accuracy: 0.6129 - val_loss: 3.7195 - val_accuracy: 0.1006\n",
      "Epoch 40/100\n",
      "375/375 [==============================] - 2s 5ms/step - loss: 1.1317 - accuracy: 0.6222 - val_loss: 3.7797 - val_accuracy: 0.1037\n",
      "Epoch 41/100\n",
      "375/375 [==============================] - 2s 5ms/step - loss: 1.1094 - accuracy: 0.6298 - val_loss: 3.8266 - val_accuracy: 0.1051\n",
      "Epoch 42/100\n",
      "375/375 [==============================] - 2s 5ms/step - loss: 1.0832 - accuracy: 0.6393 - val_loss: 3.8872 - val_accuracy: 0.1039\n",
      "Epoch 43/100\n",
      "375/375 [==============================] - 2s 5ms/step - loss: 1.0638 - accuracy: 0.6476 - val_loss: 3.9382 - val_accuracy: 0.1007\n",
      "Epoch 44/100\n",
      "375/375 [==============================] - 2s 5ms/step - loss: 1.0388 - accuracy: 0.6549 - val_loss: 4.0105 - val_accuracy: 0.1033\n",
      "Epoch 45/100\n",
      "375/375 [==============================] - 2s 5ms/step - loss: 1.0175 - accuracy: 0.6643 - val_loss: 4.0897 - val_accuracy: 0.1058\n",
      "Epoch 46/100\n",
      "375/375 [==============================] - 2s 5ms/step - loss: 0.9967 - accuracy: 0.6705 - val_loss: 4.2040 - val_accuracy: 0.1009\n",
      "Epoch 47/100\n",
      "375/375 [==============================] - 2s 6ms/step - loss: 0.9768 - accuracy: 0.6766 - val_loss: 4.2219 - val_accuracy: 0.1023\n",
      "Epoch 48/100\n",
      "375/375 [==============================] - 2s 5ms/step - loss: 0.9556 - accuracy: 0.6838 - val_loss: 4.2699 - val_accuracy: 0.0994\n",
      "Epoch 49/100\n",
      "375/375 [==============================] - 2s 5ms/step - loss: 0.9353 - accuracy: 0.6908 - val_loss: 4.3145 - val_accuracy: 0.1027\n",
      "Epoch 50/100\n",
      "375/375 [==============================] - 2s 5ms/step - loss: 0.9144 - accuracy: 0.6988 - val_loss: 4.4199 - val_accuracy: 0.1023\n",
      "Epoch 51/100\n",
      "375/375 [==============================] - 2s 5ms/step - loss: 0.8970 - accuracy: 0.7055 - val_loss: 4.4749 - val_accuracy: 0.1007\n",
      "Epoch 52/100\n",
      "375/375 [==============================] - 2s 5ms/step - loss: 0.8791 - accuracy: 0.7107 - val_loss: 4.5197 - val_accuracy: 0.1044\n",
      "Epoch 53/100\n",
      "375/375 [==============================] - 2s 5ms/step - loss: 0.8606 - accuracy: 0.7171 - val_loss: 4.6383 - val_accuracy: 0.1004\n",
      "Epoch 54/100\n",
      "375/375 [==============================] - 2s 5ms/step - loss: 0.8438 - accuracy: 0.7229 - val_loss: 4.6650 - val_accuracy: 0.1013\n",
      "Epoch 55/100\n",
      "375/375 [==============================] - 2s 5ms/step - loss: 0.8248 - accuracy: 0.7305 - val_loss: 4.7410 - val_accuracy: 0.1007\n",
      "Epoch 56/100\n",
      "375/375 [==============================] - 2s 5ms/step - loss: 0.8087 - accuracy: 0.7359 - val_loss: 4.7901 - val_accuracy: 0.1060\n",
      "Epoch 57/100\n",
      "375/375 [==============================] - 3s 8ms/step - loss: 0.7933 - accuracy: 0.7406 - val_loss: 4.8695 - val_accuracy: 0.1032\n",
      "Epoch 58/100\n",
      "375/375 [==============================] - 2s 6ms/step - loss: 0.7749 - accuracy: 0.7487 - val_loss: 4.9054 - val_accuracy: 0.1030\n",
      "Epoch 59/100\n",
      "375/375 [==============================] - 2s 5ms/step - loss: 0.7612 - accuracy: 0.7527 - val_loss: 5.0560 - val_accuracy: 0.1007\n",
      "Epoch 60/100\n",
      "375/375 [==============================] - 2s 5ms/step - loss: 0.7474 - accuracy: 0.7583 - val_loss: 5.0184 - val_accuracy: 0.1037\n",
      "Epoch 61/100\n",
      "375/375 [==============================] - 2s 6ms/step - loss: 0.7286 - accuracy: 0.7644 - val_loss: 5.1733 - val_accuracy: 0.1051\n",
      "Epoch 62/100\n",
      "375/375 [==============================] - 2s 6ms/step - loss: 0.7148 - accuracy: 0.7681 - val_loss: 5.2173 - val_accuracy: 0.1009\n",
      "Epoch 63/100\n",
      "375/375 [==============================] - 2s 6ms/step - loss: 0.7010 - accuracy: 0.7737 - val_loss: 5.2339 - val_accuracy: 0.1048\n",
      "Epoch 64/100\n",
      "375/375 [==============================] - 2s 5ms/step - loss: 0.6865 - accuracy: 0.7806 - val_loss: 5.3286 - val_accuracy: 0.1036\n",
      "Epoch 65/100\n",
      "375/375 [==============================] - 2s 6ms/step - loss: 0.6732 - accuracy: 0.7825 - val_loss: 5.4326 - val_accuracy: 0.1054\n",
      "Epoch 66/100\n",
      "375/375 [==============================] - 2s 6ms/step - loss: 0.6615 - accuracy: 0.7873 - val_loss: 5.4969 - val_accuracy: 0.1007\n",
      "Epoch 67/100\n",
      "375/375 [==============================] - 2s 5ms/step - loss: 0.6467 - accuracy: 0.7922 - val_loss: 5.5667 - val_accuracy: 0.1026\n",
      "Epoch 68/100\n",
      "375/375 [==============================] - 2s 5ms/step - loss: 0.6316 - accuracy: 0.7973 - val_loss: 5.6508 - val_accuracy: 0.1028\n",
      "Epoch 69/100\n",
      "375/375 [==============================] - 2s 5ms/step - loss: 0.6220 - accuracy: 0.8014 - val_loss: 5.7102 - val_accuracy: 0.1042\n",
      "Epoch 70/100\n",
      "375/375 [==============================] - 2s 5ms/step - loss: 0.6086 - accuracy: 0.8057 - val_loss: 5.7658 - val_accuracy: 0.1058\n",
      "Epoch 71/100\n",
      "375/375 [==============================] - 2s 5ms/step - loss: 0.5973 - accuracy: 0.8097 - val_loss: 5.8436 - val_accuracy: 0.1020\n",
      "Epoch 72/100\n",
      "375/375 [==============================] - 2s 6ms/step - loss: 0.5837 - accuracy: 0.8135 - val_loss: 5.9044 - val_accuracy: 0.1054\n",
      "Epoch 73/100\n",
      "375/375 [==============================] - 2s 5ms/step - loss: 0.5753 - accuracy: 0.8147 - val_loss: 5.9864 - val_accuracy: 0.1040\n",
      "Epoch 74/100\n",
      "375/375 [==============================] - 2s 5ms/step - loss: 0.5617 - accuracy: 0.8230 - val_loss: 6.0685 - val_accuracy: 0.1031\n",
      "Epoch 75/100\n",
      "375/375 [==============================] - 2s 5ms/step - loss: 0.5505 - accuracy: 0.8262 - val_loss: 6.1964 - val_accuracy: 0.1066\n",
      "Epoch 76/100\n",
      "375/375 [==============================] - 2s 6ms/step - loss: 0.5373 - accuracy: 0.8303 - val_loss: 6.2418 - val_accuracy: 0.1016\n",
      "Epoch 77/100\n",
      "375/375 [==============================] - 2s 5ms/step - loss: 0.5290 - accuracy: 0.8317 - val_loss: 6.2812 - val_accuracy: 0.1016\n",
      "Epoch 78/100\n",
      "375/375 [==============================] - 2s 5ms/step - loss: 0.5195 - accuracy: 0.8362 - val_loss: 6.4351 - val_accuracy: 0.1017\n",
      "Epoch 79/100\n",
      "375/375 [==============================] - 2s 5ms/step - loss: 0.5082 - accuracy: 0.8402 - val_loss: 6.4521 - val_accuracy: 0.1059\n",
      "Epoch 80/100\n",
      "375/375 [==============================] - 2s 5ms/step - loss: 0.4976 - accuracy: 0.8438 - val_loss: 6.5557 - val_accuracy: 0.1047\n",
      "Epoch 81/100\n",
      "375/375 [==============================] - 2s 6ms/step - loss: 0.4904 - accuracy: 0.8460 - val_loss: 6.5889 - val_accuracy: 0.1037\n",
      "Epoch 82/100\n",
      "375/375 [==============================] - 2s 5ms/step - loss: 0.4799 - accuracy: 0.8489 - val_loss: 6.6968 - val_accuracy: 0.1036\n",
      "Epoch 83/100\n",
      "375/375 [==============================] - 2s 5ms/step - loss: 0.4693 - accuracy: 0.8525 - val_loss: 6.7908 - val_accuracy: 0.1037\n",
      "Epoch 84/100\n",
      "375/375 [==============================] - 2s 5ms/step - loss: 0.4603 - accuracy: 0.8556 - val_loss: 6.8097 - val_accuracy: 0.1069\n",
      "Epoch 85/100\n",
      "375/375 [==============================] - 2s 5ms/step - loss: 0.4518 - accuracy: 0.8584 - val_loss: 6.8714 - val_accuracy: 0.1033\n",
      "Epoch 86/100\n",
      "375/375 [==============================] - 2s 5ms/step - loss: 0.4438 - accuracy: 0.8614 - val_loss: 6.9717 - val_accuracy: 0.1047\n",
      "Epoch 87/100\n",
      "375/375 [==============================] - 2s 5ms/step - loss: 0.4352 - accuracy: 0.8649 - val_loss: 7.0447 - val_accuracy: 0.1058\n",
      "Epoch 88/100\n",
      "375/375 [==============================] - 2s 5ms/step - loss: 0.4287 - accuracy: 0.8660 - val_loss: 7.0686 - val_accuracy: 0.1061\n",
      "Epoch 89/100\n",
      "375/375 [==============================] - 2s 6ms/step - loss: 0.4176 - accuracy: 0.8696 - val_loss: 7.1634 - val_accuracy: 0.1058\n",
      "Epoch 90/100\n",
      "375/375 [==============================] - 2s 5ms/step - loss: 0.4103 - accuracy: 0.8720 - val_loss: 7.2648 - val_accuracy: 0.1067\n",
      "Epoch 91/100\n",
      "375/375 [==============================] - 2s 5ms/step - loss: 0.4024 - accuracy: 0.8754 - val_loss: 7.3300 - val_accuracy: 0.1063\n",
      "Epoch 92/100\n",
      "375/375 [==============================] - 2s 5ms/step - loss: 0.3943 - accuracy: 0.8775 - val_loss: 7.4299 - val_accuracy: 0.1049\n",
      "Epoch 93/100\n",
      "375/375 [==============================] - 2s 5ms/step - loss: 0.3882 - accuracy: 0.8804 - val_loss: 7.4951 - val_accuracy: 0.1057\n",
      "Epoch 94/100\n",
      "375/375 [==============================] - 2s 5ms/step - loss: 0.3795 - accuracy: 0.8834 - val_loss: 7.5517 - val_accuracy: 0.1058\n",
      "Epoch 95/100\n",
      "375/375 [==============================] - 2s 5ms/step - loss: 0.3729 - accuracy: 0.8848 - val_loss: 7.6442 - val_accuracy: 0.1060\n",
      "Epoch 96/100\n",
      "375/375 [==============================] - 2s 5ms/step - loss: 0.3659 - accuracy: 0.8871 - val_loss: 7.7349 - val_accuracy: 0.1036\n",
      "Epoch 97/100\n",
      "375/375 [==============================] - 2s 5ms/step - loss: 0.3607 - accuracy: 0.8890 - val_loss: 7.7790 - val_accuracy: 0.1056\n",
      "Epoch 98/100\n",
      "375/375 [==============================] - 2s 5ms/step - loss: 0.3515 - accuracy: 0.8923 - val_loss: 7.8566 - val_accuracy: 0.1075\n",
      "Epoch 99/100\n",
      "375/375 [==============================] - 2s 6ms/step - loss: 0.3461 - accuracy: 0.8937 - val_loss: 7.9922 - val_accuracy: 0.1016\n",
      "Epoch 100/100\n",
      "375/375 [==============================] - 2s 5ms/step - loss: 0.3405 - accuracy: 0.8954 - val_loss: 7.9936 - val_accuracy: 0.1078\n"
     ]
    },
    {
     "data": {
      "text/plain": [
       "<keras.callbacks.History at 0x13cef16d0>"
      ]
     },
     "execution_count": 12,
     "metadata": {},
     "output_type": "execute_result"
    }
   ],
   "source": [
    "(train_images, train_labels), _ = mnist.load_data()\n",
    "train_images = train_images.reshape((60000, 28 * 28))\n",
    "train_images = train_images.astype(\"float32\") / 255\n",
    "\n",
    "random_train_labels = train_labels[:]\n",
    "np.random.shuffle(random_train_labels)\n",
    "\n",
    "model = keras.Sequential([\n",
    "    layers.Dense(512, activation=\"relu\"),\n",
    "    layers.Dense(10, activation=\"softmax\")\n",
    "])\n",
    "model.compile(optimizer=\"rmsprop\",\n",
    "              loss=\"sparse_categorical_crossentropy\",\n",
    "              metrics=[\"accuracy\"])\n",
    "model.fit(train_images, random_train_labels,\n",
    "          epochs=100,\n",
    "          batch_size=128,\n",
    "          validation_split=0.2)"
   ]
  },
  {
   "cell_type": "markdown",
   "metadata": {
    "colab_type": "text"
   },
   "source": [
    "#### The manifold hypothesis"
   ]
  },
  {
   "cell_type": "markdown",
   "metadata": {
    "colab_type": "text"
   },
   "source": [
    "#### Interpolation as a source of generalization"
   ]
  },
  {
   "cell_type": "markdown",
   "metadata": {
    "colab_type": "text"
   },
   "source": [
    "#### Why deep learning works"
   ]
  },
  {
   "cell_type": "markdown",
   "metadata": {
    "colab_type": "text"
   },
   "source": [
    "#### Training data is paramount"
   ]
  },
  {
   "cell_type": "markdown",
   "metadata": {
    "colab_type": "text"
   },
   "source": [
    "## Evaluating machine-learning models"
   ]
  },
  {
   "cell_type": "markdown",
   "metadata": {
    "colab_type": "text"
   },
   "source": [
    "### Training, validation, and test sets"
   ]
  },
  {
   "cell_type": "markdown",
   "metadata": {
    "colab_type": "text"
   },
   "source": [
    "#### Simple hold-out validation"
   ]
  },
  {
   "cell_type": "markdown",
   "metadata": {
    "colab_type": "text"
   },
   "source": [
    "#### K-fold validation"
   ]
  },
  {
   "cell_type": "markdown",
   "metadata": {
    "colab_type": "text"
   },
   "source": [
    "#### Iterated K-fold validation with shuffling"
   ]
  },
  {
   "cell_type": "markdown",
   "metadata": {
    "colab_type": "text"
   },
   "source": [
    "### Beating a common-sense baseline"
   ]
  },
  {
   "cell_type": "markdown",
   "metadata": {
    "colab_type": "text"
   },
   "source": [
    "### Things to keep in mind about model evaluation"
   ]
  },
  {
   "cell_type": "markdown",
   "metadata": {
    "colab_type": "text"
   },
   "source": [
    "## Improving model fit"
   ]
  },
  {
   "cell_type": "markdown",
   "metadata": {
    "colab_type": "text"
   },
   "source": [
    "### Tuning key gradient descent parameters"
   ]
  },
  {
   "cell_type": "markdown",
   "metadata": {
    "colab_type": "text"
   },
   "source": [
    "**Training a MNIST model with an incorrectly high learning rate**"
   ]
  },
  {
   "cell_type": "code",
   "execution_count": 13,
   "metadata": {
    "colab_type": "code"
   },
   "outputs": [
    {
     "name": "stdout",
     "output_type": "stream",
     "text": [
      "Epoch 1/10\n",
      "375/375 [==============================] - 3s 6ms/step - loss: 666.0981 - accuracy: 0.2511 - val_loss: 2.2751 - val_accuracy: 0.1604\n",
      "Epoch 2/10\n",
      "375/375 [==============================] - 3s 7ms/step - loss: 3.0779 - accuracy: 0.1604 - val_loss: 2.2676 - val_accuracy: 0.1537\n",
      "Epoch 3/10\n",
      "375/375 [==============================] - 2s 5ms/step - loss: 2.3657 - accuracy: 0.1655 - val_loss: 3.8329 - val_accuracy: 0.1987\n",
      "Epoch 4/10\n",
      "375/375 [==============================] - 2s 5ms/step - loss: 2.4880 - accuracy: 0.1743 - val_loss: 2.5449 - val_accuracy: 0.1895\n",
      "Epoch 5/10\n",
      "375/375 [==============================] - 2s 5ms/step - loss: 2.5013 - accuracy: 0.1729 - val_loss: 2.1466 - val_accuracy: 0.1799\n",
      "Epoch 6/10\n",
      "375/375 [==============================] - 2s 5ms/step - loss: 2.4714 - accuracy: 0.1784 - val_loss: 2.2066 - val_accuracy: 0.1903\n",
      "Epoch 7/10\n",
      "375/375 [==============================] - 2s 5ms/step - loss: 2.2713 - accuracy: 0.1891 - val_loss: 2.2440 - val_accuracy: 0.1883\n",
      "Epoch 8/10\n",
      "375/375 [==============================] - 2s 5ms/step - loss: 2.4599 - accuracy: 0.1915 - val_loss: 2.1885 - val_accuracy: 0.1593\n",
      "Epoch 9/10\n",
      "375/375 [==============================] - 2s 5ms/step - loss: 2.2829 - accuracy: 0.1847 - val_loss: 2.2198 - val_accuracy: 0.2007\n",
      "Epoch 10/10\n",
      "375/375 [==============================] - 2s 5ms/step - loss: 2.2534 - accuracy: 0.1864 - val_loss: 2.2129 - val_accuracy: 0.1893\n"
     ]
    },
    {
     "data": {
      "text/plain": [
       "<keras.callbacks.History at 0x13cf071d0>"
      ]
     },
     "execution_count": 13,
     "metadata": {},
     "output_type": "execute_result"
    }
   ],
   "source": [
    "(train_images, train_labels), _ = mnist.load_data()\n",
    "train_images = train_images.reshape((60000, 28 * 28))\n",
    "train_images = train_images.astype(\"float32\") / 255\n",
    "\n",
    "model = keras.Sequential([\n",
    "    layers.Dense(512, activation=\"relu\"),\n",
    "    layers.Dense(10, activation=\"softmax\")\n",
    "])\n",
    "model.compile(optimizer=keras.optimizers.RMSprop(1.),\n",
    "              loss=\"sparse_categorical_crossentropy\",\n",
    "              metrics=[\"accuracy\"])\n",
    "model.fit(train_images, train_labels,\n",
    "          epochs=10,\n",
    "          batch_size=128,\n",
    "          validation_split=0.2)"
   ]
  },
  {
   "cell_type": "markdown",
   "metadata": {
    "colab_type": "text"
   },
   "source": [
    "**The same model with a more appropriate learning rate**"
   ]
  },
  {
   "cell_type": "code",
   "execution_count": 14,
   "metadata": {
    "colab_type": "code"
   },
   "outputs": [
    {
     "name": "stdout",
     "output_type": "stream",
     "text": [
      "Epoch 1/10\n",
      "375/375 [==============================] - 2s 5ms/step - loss: 0.3669 - accuracy: 0.9100 - val_loss: 0.1564 - val_accuracy: 0.9557\n",
      "Epoch 2/10\n",
      "375/375 [==============================] - 2s 6ms/step - loss: 0.1260 - accuracy: 0.9640 - val_loss: 0.1367 - val_accuracy: 0.9647\n",
      "Epoch 3/10\n",
      "375/375 [==============================] - 2s 5ms/step - loss: 0.0971 - accuracy: 0.9733 - val_loss: 0.1562 - val_accuracy: 0.9654\n",
      "Epoch 4/10\n",
      "375/375 [==============================] - 2s 5ms/step - loss: 0.0772 - accuracy: 0.9794 - val_loss: 0.1544 - val_accuracy: 0.9689\n",
      "Epoch 5/10\n",
      "375/375 [==============================] - 2s 5ms/step - loss: 0.0687 - accuracy: 0.9828 - val_loss: 0.1808 - val_accuracy: 0.9665\n",
      "Epoch 6/10\n",
      "375/375 [==============================] - 2s 5ms/step - loss: 0.0584 - accuracy: 0.9855 - val_loss: 0.1637 - val_accuracy: 0.9731\n",
      "Epoch 7/10\n",
      "375/375 [==============================] - 2s 5ms/step - loss: 0.0493 - accuracy: 0.9873 - val_loss: 0.2481 - val_accuracy: 0.9696\n",
      "Epoch 8/10\n",
      "375/375 [==============================] - 2s 5ms/step - loss: 0.0467 - accuracy: 0.9894 - val_loss: 0.2057 - val_accuracy: 0.9729\n",
      "Epoch 9/10\n",
      "375/375 [==============================] - 2s 5ms/step - loss: 0.0425 - accuracy: 0.9905 - val_loss: 0.2074 - val_accuracy: 0.9730\n",
      "Epoch 10/10\n",
      "375/375 [==============================] - 2s 5ms/step - loss: 0.0382 - accuracy: 0.9911 - val_loss: 0.2354 - val_accuracy: 0.9733\n"
     ]
    },
    {
     "data": {
      "text/plain": [
       "<keras.callbacks.History at 0x13d9a6890>"
      ]
     },
     "execution_count": 14,
     "metadata": {},
     "output_type": "execute_result"
    }
   ],
   "source": [
    "model = keras.Sequential([\n",
    "    layers.Dense(512, activation=\"relu\"),\n",
    "    layers.Dense(10, activation=\"softmax\")\n",
    "])\n",
    "model.compile(optimizer=keras.optimizers.RMSprop(1e-2),\n",
    "              loss=\"sparse_categorical_crossentropy\",\n",
    "              metrics=[\"accuracy\"])\n",
    "model.fit(train_images, train_labels,\n",
    "          epochs=10,\n",
    "          batch_size=128,\n",
    "          validation_split=0.2)"
   ]
  },
  {
   "cell_type": "markdown",
   "metadata": {
    "colab_type": "text"
   },
   "source": [
    "### Leveraging better architecture priors"
   ]
  },
  {
   "cell_type": "markdown",
   "metadata": {
    "colab_type": "text"
   },
   "source": [
    "### Increasing model capacity"
   ]
  },
  {
   "cell_type": "markdown",
   "metadata": {
    "colab_type": "text"
   },
   "source": [
    "**A simple logistic regression on MNIST**"
   ]
  },
  {
   "cell_type": "code",
   "execution_count": 15,
   "metadata": {
    "colab_type": "code"
   },
   "outputs": [
    {
     "name": "stdout",
     "output_type": "stream",
     "text": [
      "Epoch 1/20\n",
      "375/375 [==============================] - 1s 3ms/step - loss: 0.6796 - accuracy: 0.8269 - val_loss: 0.3603 - val_accuracy: 0.9040\n",
      "Epoch 2/20\n",
      "375/375 [==============================] - 1s 2ms/step - loss: 0.3533 - accuracy: 0.9030 - val_loss: 0.3118 - val_accuracy: 0.9139\n",
      "Epoch 3/20\n",
      "375/375 [==============================] - 1s 2ms/step - loss: 0.3179 - accuracy: 0.9113 - val_loss: 0.2923 - val_accuracy: 0.9197\n",
      "Epoch 4/20\n",
      "375/375 [==============================] - 1s 2ms/step - loss: 0.3019 - accuracy: 0.9156 - val_loss: 0.2855 - val_accuracy: 0.9215\n",
      "Epoch 5/20\n",
      "375/375 [==============================] - 1s 2ms/step - loss: 0.2922 - accuracy: 0.9182 - val_loss: 0.2791 - val_accuracy: 0.9247\n",
      "Epoch 6/20\n",
      "375/375 [==============================] - 1s 2ms/step - loss: 0.2856 - accuracy: 0.9203 - val_loss: 0.2748 - val_accuracy: 0.9239\n",
      "Epoch 7/20\n",
      "375/375 [==============================] - 1s 2ms/step - loss: 0.2810 - accuracy: 0.9212 - val_loss: 0.2725 - val_accuracy: 0.9252\n",
      "Epoch 8/20\n",
      "375/375 [==============================] - 1s 2ms/step - loss: 0.2770 - accuracy: 0.9225 - val_loss: 0.2702 - val_accuracy: 0.9255\n",
      "Epoch 9/20\n",
      "375/375 [==============================] - 1s 2ms/step - loss: 0.2738 - accuracy: 0.9236 - val_loss: 0.2700 - val_accuracy: 0.9268\n",
      "Epoch 10/20\n",
      "375/375 [==============================] - 1s 2ms/step - loss: 0.2709 - accuracy: 0.9249 - val_loss: 0.2684 - val_accuracy: 0.9271\n",
      "Epoch 11/20\n",
      "375/375 [==============================] - 1s 2ms/step - loss: 0.2689 - accuracy: 0.9255 - val_loss: 0.2672 - val_accuracy: 0.9287\n",
      "Epoch 12/20\n",
      "375/375 [==============================] - 1s 2ms/step - loss: 0.2667 - accuracy: 0.9259 - val_loss: 0.2674 - val_accuracy: 0.9268\n",
      "Epoch 13/20\n",
      "375/375 [==============================] - 1s 3ms/step - loss: 0.2648 - accuracy: 0.9271 - val_loss: 0.2647 - val_accuracy: 0.9287\n",
      "Epoch 14/20\n",
      "375/375 [==============================] - 1s 3ms/step - loss: 0.2635 - accuracy: 0.9276 - val_loss: 0.2661 - val_accuracy: 0.9276\n",
      "Epoch 15/20\n",
      "375/375 [==============================] - 1s 3ms/step - loss: 0.2620 - accuracy: 0.9281 - val_loss: 0.2630 - val_accuracy: 0.9300\n",
      "Epoch 16/20\n",
      "375/375 [==============================] - 1s 2ms/step - loss: 0.2606 - accuracy: 0.9286 - val_loss: 0.2630 - val_accuracy: 0.9295\n",
      "Epoch 17/20\n",
      "375/375 [==============================] - 1s 2ms/step - loss: 0.2593 - accuracy: 0.9287 - val_loss: 0.2632 - val_accuracy: 0.9294\n",
      "Epoch 18/20\n",
      "375/375 [==============================] - 1s 2ms/step - loss: 0.2582 - accuracy: 0.9284 - val_loss: 0.2636 - val_accuracy: 0.9293\n",
      "Epoch 19/20\n",
      "375/375 [==============================] - 1s 2ms/step - loss: 0.2574 - accuracy: 0.9293 - val_loss: 0.2626 - val_accuracy: 0.9292\n",
      "Epoch 20/20\n",
      "375/375 [==============================] - 1s 2ms/step - loss: 0.2563 - accuracy: 0.9295 - val_loss: 0.2630 - val_accuracy: 0.9301\n"
     ]
    }
   ],
   "source": [
    "model = keras.Sequential([layers.Dense(10, activation=\"softmax\")])\n",
    "model.compile(optimizer=\"rmsprop\",\n",
    "              loss=\"sparse_categorical_crossentropy\",\n",
    "              metrics=[\"accuracy\"])\n",
    "history_small_model = model.fit(\n",
    "    train_images, train_labels,\n",
    "    epochs=20,\n",
    "    batch_size=128,\n",
    "    validation_split=0.2)"
   ]
  },
  {
   "cell_type": "code",
   "execution_count": 16,
   "metadata": {
    "colab_type": "code"
   },
   "outputs": [
    {
     "data": {
      "text/plain": [
       "<matplotlib.legend.Legend at 0x13dcd9e50>"
      ]
     },
     "execution_count": 16,
     "metadata": {},
     "output_type": "execute_result"
    },
    {
     "data": {
      "image/png": "[encoded data removed]",
      "text/plain": [
       "<Figure size 640x480 with 1 Axes>"
      ]
     },
     "metadata": {},
     "output_type": "display_data"
    }
   ],
   "source": [
    "import matplotlib.pyplot as plt\n",
    "val_loss = history_small_model.history[\"val_loss\"]\n",
    "epochs = range(1, 21)\n",
    "plt.plot(epochs, val_loss, \"b--\",\n",
    "         label=\"Validation loss\")\n",
    "plt.title(\"Effect of insufficient model capacity on validation loss\")\n",
    "plt.xlabel(\"Epochs\")\n",
    "plt.ylabel(\"Loss\")\n",
    "plt.legend()"
   ]
  },
  {
   "cell_type": "code",
   "execution_count": 17,
   "metadata": {
    "colab_type": "code"
   },
   "outputs": [
    {
     "name": "stdout",
     "output_type": "stream",
     "text": [
      "Epoch 1/20\n",
      "375/375 [==============================] - 2s 3ms/step - loss: 0.3659 - accuracy: 0.8960 - val_loss: 0.1832 - val_accuracy: 0.9478\n",
      "Epoch 2/20\n",
      "375/375 [==============================] - 1s 3ms/step - loss: 0.1634 - accuracy: 0.9517 - val_loss: 0.1299 - val_accuracy: 0.9610\n",
      "Epoch 3/20\n",
      "375/375 [==============================] - 1s 3ms/step - loss: 0.1176 - accuracy: 0.9650 - val_loss: 0.1257 - val_accuracy: 0.9623\n",
      "Epoch 4/20\n",
      "375/375 [==============================] - 1s 3ms/step - loss: 0.0916 - accuracy: 0.9729 - val_loss: 0.1015 - val_accuracy: 0.9693\n",
      "Epoch 5/20\n",
      "375/375 [==============================] - 1s 3ms/step - loss: 0.0722 - accuracy: 0.9776 - val_loss: 0.1097 - val_accuracy: 0.9673\n",
      "Epoch 6/20\n",
      "375/375 [==============================] - 1s 3ms/step - loss: 0.0604 - accuracy: 0.9820 - val_loss: 0.0954 - val_accuracy: 0.9735\n",
      "Epoch 7/20\n",
      "375/375 [==============================] - 1s 3ms/step - loss: 0.0493 - accuracy: 0.9849 - val_loss: 0.0905 - val_accuracy: 0.9742\n",
      "Epoch 8/20\n",
      "375/375 [==============================] - 1s 3ms/step - loss: 0.0418 - accuracy: 0.9875 - val_loss: 0.0919 - val_accuracy: 0.9747\n",
      "Epoch 9/20\n",
      "375/375 [==============================] - 1s 3ms/step - loss: 0.0350 - accuracy: 0.9892 - val_loss: 0.0940 - val_accuracy: 0.9769\n",
      "Epoch 10/20\n",
      "375/375 [==============================] - 1s 3ms/step - loss: 0.0297 - accuracy: 0.9908 - val_loss: 0.1015 - val_accuracy: 0.9736\n",
      "Epoch 11/20\n",
      "375/375 [==============================] - 1s 3ms/step - loss: 0.0248 - accuracy: 0.9927 - val_loss: 0.1060 - val_accuracy: 0.9732\n",
      "Epoch 12/20\n",
      "375/375 [==============================] - 1s 3ms/step - loss: 0.0216 - accuracy: 0.9935 - val_loss: 0.1015 - val_accuracy: 0.9749\n",
      "Epoch 13/20\n",
      "375/375 [==============================] - 1s 3ms/step - loss: 0.0179 - accuracy: 0.9946 - val_loss: 0.1107 - val_accuracy: 0.9743\n",
      "Epoch 14/20\n",
      "375/375 [==============================] - 1s 3ms/step - loss: 0.0146 - accuracy: 0.9954 - val_loss: 0.1037 - val_accuracy: 0.9757\n",
      "Epoch 15/20\n",
      "375/375 [==============================] - 1s 3ms/step - loss: 0.0129 - accuracy: 0.9959 - val_loss: 0.1174 - val_accuracy: 0.9743\n",
      "Epoch 16/20\n",
      "375/375 [==============================] - 2s 4ms/step - loss: 0.0110 - accuracy: 0.9967 - val_loss: 0.1149 - val_accuracy: 0.9763\n",
      "Epoch 17/20\n",
      "375/375 [==============================] - 1s 3ms/step - loss: 0.0091 - accuracy: 0.9975 - val_loss: 0.1185 - val_accuracy: 0.9758\n",
      "Epoch 18/20\n",
      "375/375 [==============================] - 1s 3ms/step - loss: 0.0077 - accuracy: 0.9976 - val_loss: 0.1317 - val_accuracy: 0.9728\n",
      "Epoch 19/20\n",
      "375/375 [==============================] - 1s 4ms/step - loss: 0.0072 - accuracy: 0.9980 - val_loss: 0.1351 - val_accuracy: 0.9734\n",
      "Epoch 20/20\n",
      "375/375 [==============================] - 1s 3ms/step - loss: 0.0058 - accuracy: 0.9982 - val_loss: 0.1382 - val_accuracy: 0.9750\n"
     ]
    }
   ],
   "source": [
    "model = keras.Sequential([\n",
    "    layers.Dense(96, activation=\"relu\"),\n",
    "    layers.Dense(96, activation=\"relu\"),\n",
    "    layers.Dense(10, activation=\"softmax\"),\n",
    "])\n",
    "model.compile(optimizer=\"rmsprop\",\n",
    "              loss=\"sparse_categorical_crossentropy\",\n",
    "              metrics=[\"accuracy\"])\n",
    "history_large_model = model.fit(\n",
    "    train_images, train_labels,\n",
    "    epochs=20,\n",
    "    batch_size=128,\n",
    "    validation_split=0.2)"
   ]
  },
  {
   "cell_type": "markdown",
   "metadata": {
    "colab_type": "text"
   },
   "source": [
    "## Improving generalization"
   ]
  },
  {
   "cell_type": "markdown",
   "metadata": {
    "colab_type": "text"
   },
   "source": [
    "### Dataset curation"
   ]
  },
  {
   "cell_type": "markdown",
   "metadata": {
    "colab_type": "text"
   },
   "source": [
    "### Feature engineering"
   ]
  },
  {
   "cell_type": "markdown",
   "metadata": {
    "colab_type": "text"
   },
   "source": [
    "### Using early stopping"
   ]
  },
  {
   "cell_type": "markdown",
   "metadata": {
    "colab_type": "text"
   },
   "source": [
    "### Regularizing your model"
   ]
  },
  {
   "cell_type": "markdown",
   "metadata": {
    "colab_type": "text"
   },
   "source": [
    "#### Reducing the network's size"
   ]
  },
  {
   "cell_type": "markdown",
   "metadata": {
    "colab_type": "text"
   },
   "source": [
    "**Original model**"
   ]
  },
  {
   "cell_type": "code",
   "execution_count": 18,
   "metadata": {
    "colab_type": "code"
   },
   "outputs": [
    {
     "name": "stdout",
     "output_type": "stream",
     "text": [
      "Downloading data from https://storage.googleapis.com/tensorflow/tf-keras-datasets/imdb.npz\n",
      "17464789/17464789 [==============================] - 1s 0us/step\n",
      "Epoch 1/20\n",
      "30/30 [==============================] - 3s 92ms/step - loss: 0.5157 - accuracy: 0.7791 - val_loss: 0.3847 - val_accuracy: 0.8689\n",
      "Epoch 2/20\n",
      "30/30 [==============================] - 1s 20ms/step - loss: 0.3160 - accuracy: 0.8947 - val_loss: 0.3170 - val_accuracy: 0.8786\n",
      "Epoch 3/20\n",
      "30/30 [==============================] - 0s 17ms/step - loss: 0.2355 - accuracy: 0.9215 - val_loss: 0.3161 - val_accuracy: 0.8723\n",
      "Epoch 4/20\n",
      "30/30 [==============================] - 1s 17ms/step - loss: 0.1928 - accuracy: 0.9345 - val_loss: 0.2760 - val_accuracy: 0.8894\n",
      "Epoch 5/20\n",
      "30/30 [==============================] - 1s 17ms/step - loss: 0.1619 - accuracy: 0.9461 - val_loss: 0.2858 - val_accuracy: 0.8851\n",
      "Epoch 6/20\n",
      "30/30 [==============================] - 1s 17ms/step - loss: 0.1363 - accuracy: 0.9551 - val_loss: 0.2922 - val_accuracy: 0.8841\n",
      "Epoch 7/20\n",
      "30/30 [==============================] - 1s 17ms/step - loss: 0.1162 - accuracy: 0.9642 - val_loss: 0.3393 - val_accuracy: 0.8736\n",
      "Epoch 8/20\n",
      "30/30 [==============================] - 1s 17ms/step - loss: 0.1029 - accuracy: 0.9680 - val_loss: 0.3176 - val_accuracy: 0.8830\n",
      "Epoch 9/20\n",
      "30/30 [==============================] - 1s 17ms/step - loss: 0.0854 - accuracy: 0.9769 - val_loss: 0.3349 - val_accuracy: 0.8813\n",
      "Epoch 10/20\n",
      "30/30 [==============================] - 1s 21ms/step - loss: 0.0751 - accuracy: 0.9793 - val_loss: 0.3540 - val_accuracy: 0.8810\n",
      "Epoch 11/20\n",
      "30/30 [==============================] - 1s 17ms/step - loss: 0.0678 - accuracy: 0.9824 - val_loss: 0.3787 - val_accuracy: 0.8781\n",
      "Epoch 12/20\n",
      "30/30 [==============================] - 0s 17ms/step - loss: 0.0602 - accuracy: 0.9843 - val_loss: 0.3980 - val_accuracy: 0.8740\n",
      "Epoch 13/20\n",
      "30/30 [==============================] - 0s 17ms/step - loss: 0.0518 - accuracy: 0.9873 - val_loss: 0.4186 - val_accuracy: 0.8751\n",
      "Epoch 14/20\n",
      "30/30 [==============================] - 0s 17ms/step - loss: 0.0422 - accuracy: 0.9903 - val_loss: 0.4431 - val_accuracy: 0.8727\n",
      "Epoch 15/20\n",
      "30/30 [==============================] - 1s 17ms/step - loss: 0.0370 - accuracy: 0.9923 - val_loss: 0.4666 - val_accuracy: 0.8726\n",
      "Epoch 16/20\n",
      "30/30 [==============================] - 0s 16ms/step - loss: 0.0330 - accuracy: 0.9926 - val_loss: 0.4875 - val_accuracy: 0.8725\n",
      "Epoch 17/20\n",
      "30/30 [==============================] - 1s 17ms/step - loss: 0.0298 - accuracy: 0.9937 - val_loss: 0.5189 - val_accuracy: 0.8697\n",
      "Epoch 18/20\n",
      "30/30 [==============================] - 0s 17ms/step - loss: 0.0229 - accuracy: 0.9962 - val_loss: 0.5361 - val_accuracy: 0.8694\n",
      "Epoch 19/20\n",
      "30/30 [==============================] - 0s 17ms/step - loss: 0.0187 - accuracy: 0.9975 - val_loss: 0.5590 - val_accuracy: 0.8691\n",
      "Epoch 20/20\n",
      "30/30 [==============================] - 0s 16ms/step - loss: 0.0195 - accuracy: 0.9967 - val_loss: 0.5846 - val_accuracy: 0.8681\n"
     ]
    }
   ],
   "source": [
    "from tensorflow.keras.datasets import imdb\n",
    "(train_data, train_labels), _ = imdb.load_data(num_words=10000)\n",
    "\n",
    "def vectorize_sequences(sequences, dimension=10000):\n",
    "    results = np.zeros((len(sequences), dimension))\n",
    "    for i, sequence in enumerate(sequences):\n",
    "        results[i, sequence] = 1.\n",
    "    return results\n",
    "train_data = vectorize_sequences(train_data)\n",
    "\n",
    "model = keras.Sequential([\n",
    "    layers.Dense(16, activation=\"relu\"),\n",
    "    layers.Dense(16, activation=\"relu\"),\n",
    "    layers.Dense(1, activation=\"sigmoid\")\n",
    "])\n",
    "model.compile(optimizer=\"rmsprop\",\n",
    "              loss=\"binary_crossentropy\",\n",
    "              metrics=[\"accuracy\"])\n",
    "history_original = model.fit(train_data, train_labels,\n",
    "                             epochs=20, batch_size=512, validation_split=0.4)"
   ]
  },
  {
   "cell_type": "markdown",
   "metadata": {
    "colab_type": "text"
   },
   "source": [
    "**Version of the model with lower capacity**"
   ]
  },
  {
   "cell_type": "code",
   "execution_count": 19,
   "metadata": {
    "colab_type": "code"
   },
   "outputs": [
    {
     "name": "stdout",
     "output_type": "stream",
     "text": [
      "Epoch 1/20\n",
      "30/30 [==============================] - 2s 51ms/step - loss: 0.6114 - accuracy: 0.7308 - val_loss: 0.5361 - val_accuracy: 0.7707\n",
      "Epoch 2/20\n",
      "30/30 [==============================] - 1s 18ms/step - loss: 0.4657 - accuracy: 0.8613 - val_loss: 0.4299 - val_accuracy: 0.8660\n",
      "Epoch 3/20\n",
      "30/30 [==============================] - 0s 16ms/step - loss: 0.3682 - accuracy: 0.8974 - val_loss: 0.3661 - val_accuracy: 0.8812\n",
      "Epoch 4/20\n",
      "30/30 [==============================] - 0s 16ms/step - loss: 0.3010 - accuracy: 0.9147 - val_loss: 0.3295 - val_accuracy: 0.8800\n",
      "Epoch 5/20\n",
      "30/30 [==============================] - 0s 16ms/step - loss: 0.2525 - accuracy: 0.9249 - val_loss: 0.2998 - val_accuracy: 0.8883\n",
      "Epoch 6/20\n",
      "30/30 [==============================] - 0s 15ms/step - loss: 0.2172 - accuracy: 0.9359 - val_loss: 0.2908 - val_accuracy: 0.8852\n",
      "Epoch 7/20\n",
      "30/30 [==============================] - 0s 15ms/step - loss: 0.1905 - accuracy: 0.9430 - val_loss: 0.2792 - val_accuracy: 0.8928\n",
      "Epoch 8/20\n",
      "30/30 [==============================] - 0s 16ms/step - loss: 0.1683 - accuracy: 0.9503 - val_loss: 0.2789 - val_accuracy: 0.8884\n",
      "Epoch 9/20\n",
      "30/30 [==============================] - 0s 16ms/step - loss: 0.1514 - accuracy: 0.9551 - val_loss: 0.2839 - val_accuracy: 0.8871\n",
      "Epoch 10/20\n",
      "30/30 [==============================] - 0s 16ms/step - loss: 0.1367 - accuracy: 0.9605 - val_loss: 0.2791 - val_accuracy: 0.8889\n",
      "Epoch 11/20\n",
      "30/30 [==============================] - 0s 14ms/step - loss: 0.1230 - accuracy: 0.9643 - val_loss: 0.2840 - val_accuracy: 0.8869\n",
      "Epoch 12/20\n",
      "30/30 [==============================] - 0s 14ms/step - loss: 0.1120 - accuracy: 0.9686 - val_loss: 0.2926 - val_accuracy: 0.8859\n",
      "Epoch 13/20\n",
      "30/30 [==============================] - 0s 14ms/step - loss: 0.1014 - accuracy: 0.9725 - val_loss: 0.2999 - val_accuracy: 0.8852\n",
      "Epoch 14/20\n",
      "30/30 [==============================] - 0s 14ms/step - loss: 0.0920 - accuracy: 0.9757 - val_loss: 0.3094 - val_accuracy: 0.8845\n",
      "Epoch 15/20\n",
      "30/30 [==============================] - 0s 14ms/step - loss: 0.0835 - accuracy: 0.9787 - val_loss: 0.3188 - val_accuracy: 0.8834\n",
      "Epoch 16/20\n",
      "30/30 [==============================] - 0s 14ms/step - loss: 0.0759 - accuracy: 0.9815 - val_loss: 0.3299 - val_accuracy: 0.8807\n",
      "Epoch 17/20\n",
      "30/30 [==============================] - 0s 14ms/step - loss: 0.0697 - accuracy: 0.9837 - val_loss: 0.3386 - val_accuracy: 0.8807\n",
      "Epoch 18/20\n",
      "30/30 [==============================] - 0s 16ms/step - loss: 0.0630 - accuracy: 0.9855 - val_loss: 0.3553 - val_accuracy: 0.8792\n",
      "Epoch 19/20\n",
      "30/30 [==============================] - 0s 14ms/step - loss: 0.0566 - accuracy: 0.9878 - val_loss: 0.3648 - val_accuracy: 0.8794\n",
      "Epoch 20/20\n",
      "30/30 [==============================] - 0s 14ms/step - loss: 0.0519 - accuracy: 0.9890 - val_loss: 0.3773 - val_accuracy: 0.8786\n"
     ]
    }
   ],
   "source": [
    "model = keras.Sequential([\n",
    "    layers.Dense(4, activation=\"relu\"),\n",
    "    layers.Dense(4, activation=\"relu\"),\n",
    "    layers.Dense(1, activation=\"sigmoid\")\n",
    "])\n",
    "model.compile(optimizer=\"rmsprop\",\n",
    "              loss=\"binary_crossentropy\",\n",
    "              metrics=[\"accuracy\"])\n",
    "history_smaller_model = model.fit(\n",
    "    train_data, train_labels,\n",
    "    epochs=20, batch_size=512, validation_split=0.4)"
   ]
  },
  {
   "cell_type": "markdown",
   "metadata": {
    "colab_type": "text"
   },
   "source": [
    "**Version of the model with higher capacity**"
   ]
  },
  {
   "cell_type": "code",
   "execution_count": 20,
   "metadata": {
    "colab_type": "code"
   },
   "outputs": [
    {
     "name": "stdout",
     "output_type": "stream",
     "text": [
      "Epoch 1/20\n",
      "30/30 [==============================] - 5s 152ms/step - loss: 0.5500 - accuracy: 0.7392 - val_loss: 0.4273 - val_accuracy: 0.8049\n",
      "Epoch 2/20\n",
      "30/30 [==============================] - 4s 117ms/step - loss: 0.3094 - accuracy: 0.8729 - val_loss: 0.3795 - val_accuracy: 0.8357\n",
      "Epoch 3/20\n",
      "30/30 [==============================] - 3s 114ms/step - loss: 0.2266 - accuracy: 0.9091 - val_loss: 0.2849 - val_accuracy: 0.8814\n",
      "Epoch 4/20\n",
      "30/30 [==============================] - 3s 111ms/step - loss: 0.1760 - accuracy: 0.9333 - val_loss: 0.3148 - val_accuracy: 0.8747\n",
      "Epoch 5/20\n",
      "30/30 [==============================] - 3s 94ms/step - loss: 0.1295 - accuracy: 0.9508 - val_loss: 0.3151 - val_accuracy: 0.8851\n",
      "Epoch 6/20\n",
      "30/30 [==============================] - 3s 91ms/step - loss: 0.1003 - accuracy: 0.9633 - val_loss: 0.3373 - val_accuracy: 0.8849\n",
      "Epoch 7/20\n",
      "30/30 [==============================] - 3s 94ms/step - loss: 0.0778 - accuracy: 0.9747 - val_loss: 0.3631 - val_accuracy: 0.8863\n",
      "Epoch 8/20\n",
      "30/30 [==============================] - 3s 93ms/step - loss: 0.0716 - accuracy: 0.9797 - val_loss: 0.3530 - val_accuracy: 0.8886\n",
      "Epoch 9/20\n",
      "30/30 [==============================] - 3s 92ms/step - loss: 0.0132 - accuracy: 0.9983 - val_loss: 0.4328 - val_accuracy: 0.8856\n",
      "Epoch 10/20\n",
      "30/30 [==============================] - 3s 95ms/step - loss: 0.0896 - accuracy: 0.9785 - val_loss: 0.3889 - val_accuracy: 0.8849\n",
      "Epoch 11/20\n",
      "30/30 [==============================] - 3s 94ms/step - loss: 0.0056 - accuracy: 0.9995 - val_loss: 0.4843 - val_accuracy: 0.8840\n",
      "Epoch 12/20\n",
      "30/30 [==============================] - 3s 107ms/step - loss: 0.0026 - accuracy: 0.9999 - val_loss: 0.5582 - val_accuracy: 0.8836\n",
      "Epoch 13/20\n",
      "30/30 [==============================] - 4s 118ms/step - loss: 0.1038 - accuracy: 0.9811 - val_loss: 0.4344 - val_accuracy: 0.8837\n",
      "Epoch 14/20\n",
      "30/30 [==============================] - 3s 104ms/step - loss: 0.0026 - accuracy: 1.0000 - val_loss: 0.5104 - val_accuracy: 0.8840\n",
      "Epoch 15/20\n",
      "30/30 [==============================] - 3s 103ms/step - loss: 0.0012 - accuracy: 1.0000 - val_loss: 0.5804 - val_accuracy: 0.8848\n",
      "Epoch 16/20\n",
      "30/30 [==============================] - 3s 103ms/step - loss: 7.2432e-04 - accuracy: 1.0000 - val_loss: 0.6468 - val_accuracy: 0.8782\n",
      "Epoch 17/20\n",
      "30/30 [==============================] - 3s 106ms/step - loss: 0.1000 - accuracy: 0.9811 - val_loss: 0.4869 - val_accuracy: 0.8836\n",
      "Epoch 18/20\n",
      "30/30 [==============================] - 3s 103ms/step - loss: 0.0012 - accuracy: 1.0000 - val_loss: 0.5652 - val_accuracy: 0.8845\n",
      "Epoch 19/20\n",
      "30/30 [==============================] - 3s 103ms/step - loss: 5.9637e-04 - accuracy: 1.0000 - val_loss: 0.6308 - val_accuracy: 0.8842\n",
      "Epoch 20/20\n",
      "30/30 [==============================] - 3s 104ms/step - loss: 3.8592e-04 - accuracy: 1.0000 - val_loss: 0.6670 - val_accuracy: 0.8843\n"
     ]
    }
   ],
   "source": [
    "model = keras.Sequential([\n",
    "    layers.Dense(512, activation=\"relu\"),\n",
    "    layers.Dense(512, activation=\"relu\"),\n",
    "    layers.Dense(1, activation=\"sigmoid\")\n",
    "])\n",
    "model.compile(optimizer=\"rmsprop\",\n",
    "              loss=\"binary_crossentropy\",\n",
    "              metrics=[\"accuracy\"])\n",
    "history_larger_model = model.fit(\n",
    "    train_data, train_labels,\n",
    "    epochs=20, batch_size=512, validation_split=0.4)"
   ]
  },
  {
   "cell_type": "markdown",
   "metadata": {
    "colab_type": "text"
   },
   "source": [
    "#### Adding weight regularization"
   ]
  },
  {
   "cell_type": "markdown",
   "metadata": {
    "colab_type": "text"
   },
   "source": [
    "**Adding L2 weight regularization to the model**"
   ]
  },
  {
   "cell_type": "code",
   "execution_count": 21,
   "metadata": {
    "colab_type": "code"
   },
   "outputs": [
    {
     "name": "stdout",
     "output_type": "stream",
     "text": [
      "Epoch 1/20\n",
      "30/30 [==============================] - 3s 65ms/step - loss: 0.5875 - accuracy: 0.7898 - val_loss: 0.4696 - val_accuracy: 0.8606\n",
      "Epoch 2/20\n",
      "30/30 [==============================] - 1s 21ms/step - loss: 0.3967 - accuracy: 0.8903 - val_loss: 0.3853 - val_accuracy: 0.8846\n",
      "Epoch 3/20\n",
      "30/30 [==============================] - 0s 16ms/step - loss: 0.3256 - accuracy: 0.9170 - val_loss: 0.3821 - val_accuracy: 0.8762\n",
      "Epoch 4/20\n",
      "30/30 [==============================] - 0s 16ms/step - loss: 0.2913 - accuracy: 0.9272 - val_loss: 0.3659 - val_accuracy: 0.8822\n",
      "Epoch 5/20\n",
      "30/30 [==============================] - 0s 16ms/step - loss: 0.2680 - accuracy: 0.9342 - val_loss: 0.3907 - val_accuracy: 0.8735\n",
      "Epoch 6/20\n",
      "30/30 [==============================] - 0s 16ms/step - loss: 0.2560 - accuracy: 0.9387 - val_loss: 0.4039 - val_accuracy: 0.8698\n",
      "Epoch 7/20\n",
      "30/30 [==============================] - 0s 16ms/step - loss: 0.2409 - accuracy: 0.9470 - val_loss: 0.3709 - val_accuracy: 0.8836\n",
      "Epoch 8/20\n",
      "30/30 [==============================] - 1s 18ms/step - loss: 0.2318 - accuracy: 0.9503 - val_loss: 0.4163 - val_accuracy: 0.8684\n",
      "Epoch 9/20\n",
      "30/30 [==============================] - 0s 16ms/step - loss: 0.2275 - accuracy: 0.9511 - val_loss: 0.3805 - val_accuracy: 0.8803\n",
      "Epoch 10/20\n",
      "30/30 [==============================] - 0s 16ms/step - loss: 0.2264 - accuracy: 0.9517 - val_loss: 0.3830 - val_accuracy: 0.8813\n",
      "Epoch 11/20\n",
      "30/30 [==============================] - 0s 16ms/step - loss: 0.2178 - accuracy: 0.9554 - val_loss: 0.3883 - val_accuracy: 0.8801\n",
      "Epoch 12/20\n",
      "30/30 [==============================] - 0s 16ms/step - loss: 0.2128 - accuracy: 0.9587 - val_loss: 0.3968 - val_accuracy: 0.8778\n",
      "Epoch 13/20\n",
      "30/30 [==============================] - 0s 16ms/step - loss: 0.2154 - accuracy: 0.9551 - val_loss: 0.3956 - val_accuracy: 0.8795\n",
      "Epoch 14/20\n",
      "30/30 [==============================] - 0s 16ms/step - loss: 0.2004 - accuracy: 0.9633 - val_loss: 0.4116 - val_accuracy: 0.8754\n",
      "Epoch 15/20\n",
      "30/30 [==============================] - 0s 16ms/step - loss: 0.2005 - accuracy: 0.9618 - val_loss: 0.4623 - val_accuracy: 0.8646\n",
      "Epoch 16/20\n",
      "30/30 [==============================] - 0s 16ms/step - loss: 0.1987 - accuracy: 0.9623 - val_loss: 0.4337 - val_accuracy: 0.8720\n",
      "Epoch 17/20\n",
      "30/30 [==============================] - 0s 16ms/step - loss: 0.2001 - accuracy: 0.9613 - val_loss: 0.4115 - val_accuracy: 0.8777\n",
      "Epoch 18/20\n",
      "30/30 [==============================] - 0s 16ms/step - loss: 0.2019 - accuracy: 0.9599 - val_loss: 0.4175 - val_accuracy: 0.8773\n",
      "Epoch 19/20\n",
      "30/30 [==============================] - 0s 16ms/step - loss: 0.1850 - accuracy: 0.9704 - val_loss: 0.4335 - val_accuracy: 0.8728\n",
      "Epoch 20/20\n",
      "30/30 [==============================] - 0s 16ms/step - loss: 0.1881 - accuracy: 0.9664 - val_loss: 0.4462 - val_accuracy: 0.8729\n"
     ]
    }
   ],
   "source": [
    "from tensorflow.keras import regularizers\n",
    "model = keras.Sequential([\n",
    "    layers.Dense(16,\n",
    "                 kernel_regularizer=regularizers.l2(0.002),\n",
    "                 activation=\"relu\"),\n",
    "    layers.Dense(16,\n",
    "                 kernel_regularizer=regularizers.l2(0.002),\n",
    "                 activation=\"relu\"),\n",
    "    layers.Dense(1, activation=\"sigmoid\")\n",
    "])\n",
    "model.compile(optimizer=\"rmsprop\",\n",
    "              loss=\"binary_crossentropy\",\n",
    "              metrics=[\"accuracy\"])\n",
    "history_l2_reg = model.fit(\n",
    "    train_data, train_labels,\n",
    "    epochs=20, batch_size=512, validation_split=0.4)"
   ]
  },
  {
   "cell_type": "markdown",
   "metadata": {
    "colab_type": "text"
   },
   "source": [
    "**Different weight regularizers available in Keras**"
   ]
  },
  {
   "cell_type": "code",
   "execution_count": 22,
   "metadata": {
    "colab_type": "code"
   },
   "outputs": [
    {
     "data": {
      "text/plain": [
       "<keras.regularizers.L1L2 at 0x13df69450>"
      ]
     },
     "execution_count": 22,
     "metadata": {},
     "output_type": "execute_result"
    }
   ],
   "source": [
    "from tensorflow.keras import regularizers\n",
    "regularizers.l1(0.001)\n",
    "regularizers.l1_l2(l1=0.001, l2=0.001)"
   ]
  },
  {
   "cell_type": "markdown",
   "metadata": {
    "colab_type": "text"
   },
   "source": [
    "#### Adding dropout"
   ]
  },
  {
   "cell_type": "markdown",
   "metadata": {
    "colab_type": "text"
   },
   "source": [
    "**Adding dropout to the IMDB model**"
   ]
  },
  {
   "cell_type": "code",
   "execution_count": 23,
   "metadata": {
    "colab_type": "code"
   },
   "outputs": [
    {
     "name": "stdout",
     "output_type": "stream",
     "text": [
      "Epoch 1/20\n",
      "30/30 [==============================] - 2s 52ms/step - loss: 0.6446 - accuracy: 0.6152 - val_loss: 0.5523 - val_accuracy: 0.8475\n",
      "Epoch 2/20\n",
      "30/30 [==============================] - 1s 18ms/step - loss: 0.5491 - accuracy: 0.7327 - val_loss: 0.4578 - val_accuracy: 0.8643\n",
      "Epoch 3/20\n",
      "30/30 [==============================] - 1s 18ms/step - loss: 0.4798 - accuracy: 0.7895 - val_loss: 0.3905 - val_accuracy: 0.8811\n",
      "Epoch 4/20\n",
      "30/30 [==============================] - 1s 20ms/step - loss: 0.4150 - accuracy: 0.8341 - val_loss: 0.3452 - val_accuracy: 0.8752\n",
      "Epoch 5/20\n",
      "30/30 [==============================] - 1s 18ms/step - loss: 0.3694 - accuracy: 0.8625 - val_loss: 0.3089 - val_accuracy: 0.8874\n",
      "Epoch 6/20\n",
      "30/30 [==============================] - 1s 17ms/step - loss: 0.3250 - accuracy: 0.8850 - val_loss: 0.2967 - val_accuracy: 0.8817\n",
      "Epoch 7/20\n",
      "30/30 [==============================] - 0s 16ms/step - loss: 0.2903 - accuracy: 0.9027 - val_loss: 0.2749 - val_accuracy: 0.8919\n",
      "Epoch 8/20\n",
      "30/30 [==============================] - 0s 16ms/step - loss: 0.2580 - accuracy: 0.9142 - val_loss: 0.2736 - val_accuracy: 0.8919\n",
      "Epoch 9/20\n",
      "30/30 [==============================] - 0s 16ms/step - loss: 0.2304 - accuracy: 0.9247 - val_loss: 0.2857 - val_accuracy: 0.8889\n",
      "Epoch 10/20\n",
      "30/30 [==============================] - 0s 16ms/step - loss: 0.2080 - accuracy: 0.9301 - val_loss: 0.2903 - val_accuracy: 0.8888\n",
      "Epoch 11/20\n",
      "30/30 [==============================] - 0s 16ms/step - loss: 0.1841 - accuracy: 0.9441 - val_loss: 0.2987 - val_accuracy: 0.8906\n",
      "Epoch 12/20\n",
      "30/30 [==============================] - 0s 16ms/step - loss: 0.1625 - accuracy: 0.9504 - val_loss: 0.3173 - val_accuracy: 0.8894\n",
      "Epoch 13/20\n",
      "30/30 [==============================] - 0s 16ms/step - loss: 0.1489 - accuracy: 0.9535 - val_loss: 0.3407 - val_accuracy: 0.8882\n",
      "Epoch 14/20\n",
      "30/30 [==============================] - 0s 16ms/step - loss: 0.1393 - accuracy: 0.9561 - val_loss: 0.3465 - val_accuracy: 0.8897\n",
      "Epoch 15/20\n",
      "30/30 [==============================] - 0s 16ms/step - loss: 0.1261 - accuracy: 0.9598 - val_loss: 0.3868 - val_accuracy: 0.8882\n",
      "Epoch 16/20\n",
      "30/30 [==============================] - 0s 17ms/step - loss: 0.1159 - accuracy: 0.9614 - val_loss: 0.4127 - val_accuracy: 0.8881\n",
      "Epoch 17/20\n",
      "30/30 [==============================] - 0s 16ms/step - loss: 0.1056 - accuracy: 0.9662 - val_loss: 0.4150 - val_accuracy: 0.8874\n",
      "Epoch 18/20\n",
      "30/30 [==============================] - 1s 18ms/step - loss: 0.0963 - accuracy: 0.9686 - val_loss: 0.4553 - val_accuracy: 0.8869\n",
      "Epoch 19/20\n",
      "30/30 [==============================] - 0s 16ms/step - loss: 0.0919 - accuracy: 0.9697 - val_loss: 0.4822 - val_accuracy: 0.8852\n",
      "Epoch 20/20\n",
      "30/30 [==============================] - 0s 16ms/step - loss: 0.0875 - accuracy: 0.9715 - val_loss: 0.4759 - val_accuracy: 0.8866\n"
     ]
    }
   ],
   "source": [
    "model = keras.Sequential([\n",
    "    layers.Dense(16, activation=\"relu\"),\n",
    "    layers.Dropout(0.5),\n",
    "    layers.Dense(16, activation=\"relu\"),\n",
    "    layers.Dropout(0.5),\n",
    "    layers.Dense(1, activation=\"sigmoid\")\n",
    "])\n",
    "model.compile(optimizer=\"rmsprop\",\n",
    "              loss=\"binary_crossentropy\",\n",
    "              metrics=[\"accuracy\"])\n",
    "history_dropout = model.fit(\n",
    "    train_data, train_labels,\n",
    "    epochs=20, batch_size=512, validation_split=0.4)"
   ]
  },
  {
   "cell_type": "markdown",
   "metadata": {
    "colab_type": "text"
   },
   "source": [
    "## Summary"
   ]
  }
 ],
 "metadata": {
  "colab": {
   "collapsed_sections": [],
   "name": "chapter05_fundamentals-of-ml.i",
   "private_outputs": false,
   "provenance": [],
   "toc_visible": true
  },
  "kernelspec": {
   "display_name": "Python 3",
   "language": "python",
   "name": "python3"
  },
  "language_info": {
   "codemirror_mode": {
    "name": "ipython",
    "version": 3
   },
   "file_extension": ".py",
   "mimetype": "text/x-python",
   "name": "python",
   "nbconvert_exporter": "python",
   "pygments_lexer": "ipython3",
   "version": "3.11.2"
  },
  "vscode": {
   "interpreter": {
    "hash": "2d4e9b9c84dab3e1662173f95b81bd7f8a551068d04f5f3c42d164db7312a928"
   }
  }
 },
 "nbformat": 4,
 "nbformat_minor": 0
}
