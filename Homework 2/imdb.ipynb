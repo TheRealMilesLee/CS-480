{
 "cells": [
  {
   "cell_type": "markdown",
   "metadata": {
    "colab_type": "text"
   },
   "source": [
    "# Fundamentals of machine learning"
   ]
  },
  {
   "cell_type": "markdown",
   "metadata": {
    "colab_type": "text"
   },
   "source": [
    "## Generalization: The goal of machine learning"
   ]
  },
  {
   "attachments": {},
   "cell_type": "markdown",
   "metadata": {},
   "source": [
    "## Import the library"
   ]
  },
  {
   "cell_type": "markdown",
   "metadata": {
    "colab_type": "text"
   },
   "source": [
    "### Underfitting and overfitting"
   ]
  },
  {
   "cell_type": "markdown",
   "metadata": {
    "colab_type": "text"
   },
   "source": [
    "#### Noisy training data"
   ]
  },
  {
   "cell_type": "markdown",
   "metadata": {
    "colab_type": "text"
   },
   "source": [
    "#### Ambiguous features"
   ]
  },
  {
   "cell_type": "markdown",
   "metadata": {
    "colab_type": "text"
   },
   "source": [
    "#### Rare features and spurious correlations"
   ]
  },
  {
   "cell_type": "markdown",
   "metadata": {
    "colab_type": "text"
   },
   "source": [
    "**Adding white-noise channels or all-zeros channels to MNIST**"
   ]
  },
  {
   "cell_type": "code",
   "execution_count": 1,
   "metadata": {
    "colab_type": "code"
   },
   "outputs": [],
   "source": [
    "from tensorflow.keras.datasets import mnist\n",
    "import numpy as np\n",
    "\n",
    "(train_images, train_labels), _ = mnist.load_data()\n",
    "train_images = train_images.reshape((60000, 28 * 28))\n",
    "train_images = train_images.astype(\"float32\") / 255\n",
    "\n",
    "train_images_with_noise_channels = np.concatenate(\n",
    "    [train_images, np.random.random((len(train_images), 784))], axis=1)\n",
    "\n",
    "train_images_with_zeros_channels = np.concatenate(\n",
    "    [train_images, np.zeros((len(train_images), 784))], axis=1)"
   ]
  },
  {
   "cell_type": "markdown",
   "metadata": {
    "colab_type": "text"
   },
   "source": [
    "**Training the same model on MNIST data with noise channels or all-zero channels**"
   ]
  },
  {
   "cell_type": "code",
   "execution_count": 2,
   "metadata": {
    "colab_type": "code"
   },
   "outputs": [
    {
     "name": "stdout",
     "output_type": "stream",
     "text": [
      "Epoch 1/10\n",
      "375/375 [==============================] - 5s 13ms/step - loss: 0.6211 - accuracy: 0.8100 - val_loss: 0.2587 - val_accuracy: 0.9240\n",
      "Epoch 2/10\n",
      "375/375 [==============================] - 5s 13ms/step - loss: 0.2592 - accuracy: 0.9211 - val_loss: 0.2024 - val_accuracy: 0.9394\n",
      "Epoch 3/10\n",
      "375/375 [==============================] - 5s 13ms/step - loss: 0.1697 - accuracy: 0.9479 - val_loss: 0.1578 - val_accuracy: 0.9522\n",
      "Epoch 4/10\n",
      "375/375 [==============================] - 5s 13ms/step - loss: 0.1211 - accuracy: 0.9623 - val_loss: 0.1281 - val_accuracy: 0.9629\n",
      "Epoch 5/10\n",
      "375/375 [==============================] - 5s 14ms/step - loss: 0.0894 - accuracy: 0.9725 - val_loss: 0.1361 - val_accuracy: 0.9598\n",
      "Epoch 6/10\n",
      "375/375 [==============================] - 7s 20ms/step - loss: 0.0656 - accuracy: 0.9793 - val_loss: 0.1162 - val_accuracy: 0.9657\n",
      "Epoch 7/10\n",
      "375/375 [==============================] - 6s 16ms/step - loss: 0.0483 - accuracy: 0.9847 - val_loss: 0.1198 - val_accuracy: 0.9660\n",
      "Epoch 8/10\n",
      "375/375 [==============================] - 8s 22ms/step - loss: 0.0354 - accuracy: 0.9889 - val_loss: 0.1299 - val_accuracy: 0.9664\n",
      "Epoch 9/10\n",
      "375/375 [==============================] - 8s 21ms/step - loss: 0.0265 - accuracy: 0.9915 - val_loss: 0.1485 - val_accuracy: 0.9624\n",
      "Epoch 10/10\n",
      "375/375 [==============================] - 5s 14ms/step - loss: 0.0188 - accuracy: 0.9943 - val_loss: 0.1320 - val_accuracy: 0.9673\n",
      "Epoch 1/10\n",
      "375/375 [==============================] - 6s 15ms/step - loss: 0.2964 - accuracy: 0.9148 - val_loss: 0.1476 - val_accuracy: 0.9582\n",
      "Epoch 2/10\n",
      "375/375 [==============================] - 5s 15ms/step - loss: 0.1236 - accuracy: 0.9630 - val_loss: 0.1019 - val_accuracy: 0.9697\n",
      "Epoch 3/10\n",
      "375/375 [==============================] - 6s 16ms/step - loss: 0.0807 - accuracy: 0.9766 - val_loss: 0.0962 - val_accuracy: 0.9720\n",
      "Epoch 4/10\n",
      "375/375 [==============================] - 6s 15ms/step - loss: 0.0580 - accuracy: 0.9825 - val_loss: 0.0807 - val_accuracy: 0.9753\n",
      "Epoch 5/10\n",
      "375/375 [==============================] - 6s 15ms/step - loss: 0.0430 - accuracy: 0.9874 - val_loss: 0.0793 - val_accuracy: 0.9761\n",
      "Epoch 6/10\n",
      "375/375 [==============================] - 5s 15ms/step - loss: 0.0339 - accuracy: 0.9900 - val_loss: 0.0768 - val_accuracy: 0.9768\n",
      "Epoch 7/10\n",
      "375/375 [==============================] - 6s 16ms/step - loss: 0.0245 - accuracy: 0.9932 - val_loss: 0.0740 - val_accuracy: 0.9800\n",
      "Epoch 8/10\n",
      "375/375 [==============================] - 5s 15ms/step - loss: 0.0185 - accuracy: 0.9947 - val_loss: 0.0696 - val_accuracy: 0.9802\n",
      "Epoch 9/10\n",
      "375/375 [==============================] - 5s 13ms/step - loss: 0.0135 - accuracy: 0.9966 - val_loss: 0.0752 - val_accuracy: 0.9803\n",
      "Epoch 10/10\n",
      "375/375 [==============================] - 5s 13ms/step - loss: 0.0108 - accuracy: 0.9973 - val_loss: 0.0708 - val_accuracy: 0.9818\n"
     ]
    }
   ],
   "source": [
    "from tensorflow import keras\n",
    "from tensorflow.keras import layers\n",
    "\n",
    "def get_model():\n",
    "    model = keras.Sequential([\n",
    "        layers.Dense(512, activation=\"relu\"),\n",
    "        layers.Dense(10, activation=\"softmax\")\n",
    "    ])\n",
    "    model.compile(optimizer=\"rmsprop\",\n",
    "                  loss=\"sparse_categorical_crossentropy\",\n",
    "                  metrics=[\"accuracy\"])\n",
    "    return model\n",
    "\n",
    "model = get_model()\n",
    "history_noise = model.fit(\n",
    "    train_images_with_noise_channels, train_labels,\n",
    "    epochs=10,\n",
    "    batch_size=128,\n",
    "    validation_split=0.2)\n",
    "\n",
    "model = get_model()\n",
    "history_zeros = model.fit(\n",
    "    train_images_with_zeros_channels, train_labels,\n",
    "    epochs=10,\n",
    "    batch_size=128,\n",
    "    validation_split=0.2)"
   ]
  },
  {
   "cell_type": "markdown",
   "metadata": {
    "colab_type": "text"
   },
   "source": [
    "**Plotting a validation accuracy comparison**"
   ]
  },
  {
   "cell_type": "code",
   "execution_count": 3,
   "metadata": {
    "colab_type": "code"
   },
   "outputs": [
    {
     "data": {
      "text/plain": [
       "<matplotlib.legend.Legend at 0x25b38a3b970>"
      ]
     },
     "execution_count": 3,
     "metadata": {},
     "output_type": "execute_result"
    },
    {
     "data": {
      "image/png": "[encoded data removed]",
      "text/plain": [
       "<Figure size 640x480 with 1 Axes>"
      ]
     },
     "metadata": {},
     "output_type": "display_data"
    }
   ],
   "source": [
    "import matplotlib.pyplot as plt\n",
    "val_acc_noise = history_noise.history[\"val_accuracy\"]\n",
    "val_acc_zeros = history_zeros.history[\"val_accuracy\"]\n",
    "epochs = range(1, 11)\n",
    "plt.plot(epochs, val_acc_noise, \"b-\",\n",
    "         label=\"Validation accuracy with noise channels\")\n",
    "plt.plot(epochs, val_acc_zeros, \"b--\",\n",
    "         label=\"Validation accuracy with zeros channels\")\n",
    "plt.title(\"Effect of noise channels on validation accuracy\")\n",
    "plt.xlabel(\"Epochs\")\n",
    "plt.ylabel(\"Accuracy\")\n",
    "plt.legend()"
   ]
  },
  {
   "cell_type": "markdown",
   "metadata": {
    "colab_type": "text"
   },
   "source": [
    "### The nature of generalization in deep learning"
   ]
  },
  {
   "cell_type": "markdown",
   "metadata": {
    "colab_type": "text"
   },
   "source": [
    "**Fitting a MNIST model with randomly shuffled labels**"
   ]
  },
  {
   "cell_type": "code",
   "execution_count": 4,
   "metadata": {
    "colab_type": "code"
   },
   "outputs": [
    {
     "name": "stdout",
     "output_type": "stream",
     "text": [
      "Epoch 1/100\n",
      "375/375 [==============================] - 4s 11ms/step - loss: 2.3142 - accuracy: 0.1037 - val_loss: 2.3058 - val_accuracy: 0.1032\n",
      "Epoch 2/100\n",
      "375/375 [==============================] - 4s 10ms/step - loss: 2.2977 - accuracy: 0.1208 - val_loss: 2.3110 - val_accuracy: 0.1028\n",
      "Epoch 3/100\n",
      "375/375 [==============================] - 4s 11ms/step - loss: 2.2898 - accuracy: 0.1299 - val_loss: 2.3157 - val_accuracy: 0.1017\n",
      "Epoch 4/100\n",
      "375/375 [==============================] - 4s 10ms/step - loss: 2.2772 - accuracy: 0.1411 - val_loss: 2.3292 - val_accuracy: 0.1053\n",
      "Epoch 5/100\n",
      "375/375 [==============================] - 4s 9ms/step - loss: 2.2607 - accuracy: 0.1546 - val_loss: 2.3361 - val_accuracy: 0.1049\n",
      "Epoch 6/100\n",
      "375/375 [==============================] - 4s 10ms/step - loss: 2.2410 - accuracy: 0.1672 - val_loss: 2.3499 - val_accuracy: 0.1012\n",
      "Epoch 7/100\n",
      "375/375 [==============================] - 4s 10ms/step - loss: 2.2182 - accuracy: 0.1831 - val_loss: 2.3586 - val_accuracy: 0.0983\n",
      "Epoch 8/100\n",
      "375/375 [==============================] - 4s 9ms/step - loss: 2.1904 - accuracy: 0.1983 - val_loss: 2.3820 - val_accuracy: 0.0977\n",
      "Epoch 9/100\n",
      "375/375 [==============================] - 3s 9ms/step - loss: 2.1610 - accuracy: 0.2159 - val_loss: 2.4053 - val_accuracy: 0.1023\n",
      "Epoch 10/100\n",
      "375/375 [==============================] - 4s 10ms/step - loss: 2.1285 - accuracy: 0.2318 - val_loss: 2.4276 - val_accuracy: 0.1016\n",
      "Epoch 11/100\n",
      "375/375 [==============================] - 4s 10ms/step - loss: 2.0924 - accuracy: 0.2492 - val_loss: 2.4473 - val_accuracy: 0.0961\n",
      "Epoch 12/100\n",
      "375/375 [==============================] - 4s 10ms/step - loss: 2.0567 - accuracy: 0.2652 - val_loss: 2.4743 - val_accuracy: 0.1002\n",
      "Epoch 13/100\n",
      "375/375 [==============================] - 4s 10ms/step - loss: 2.0190 - accuracy: 0.2817 - val_loss: 2.4873 - val_accuracy: 0.0972\n",
      "Epoch 14/100\n",
      "375/375 [==============================] - 4s 10ms/step - loss: 1.9802 - accuracy: 0.3010 - val_loss: 2.5363 - val_accuracy: 0.1006\n",
      "Epoch 15/100\n",
      "375/375 [==============================] - 4s 11ms/step - loss: 1.9404 - accuracy: 0.3151 - val_loss: 2.5632 - val_accuracy: 0.0967\n",
      "Epoch 16/100\n",
      "375/375 [==============================] - 4s 11ms/step - loss: 1.9002 - accuracy: 0.3328 - val_loss: 2.5935 - val_accuracy: 0.0979\n",
      "Epoch 17/100\n",
      "375/375 [==============================] - 5s 13ms/step - loss: 1.8621 - accuracy: 0.3494 - val_loss: 2.6405 - val_accuracy: 0.0961\n",
      "Epoch 18/100\n",
      "375/375 [==============================] - 5s 14ms/step - loss: 1.8233 - accuracy: 0.3647 - val_loss: 2.6790 - val_accuracy: 0.0934\n",
      "Epoch 19/100\n",
      "375/375 [==============================] - 4s 12ms/step - loss: 1.7830 - accuracy: 0.3819 - val_loss: 2.7246 - val_accuracy: 0.0969\n",
      "Epoch 20/100\n",
      "375/375 [==============================] - 4s 9ms/step - loss: 1.7451 - accuracy: 0.3946 - val_loss: 2.7511 - val_accuracy: 0.0996\n",
      "Epoch 21/100\n",
      "375/375 [==============================] - 4s 11ms/step - loss: 1.7060 - accuracy: 0.4106 - val_loss: 2.8113 - val_accuracy: 0.0961\n",
      "Epoch 22/100\n",
      "375/375 [==============================] - 4s 11ms/step - loss: 1.6709 - accuracy: 0.4279 - val_loss: 2.8456 - val_accuracy: 0.0991\n",
      "Epoch 23/100\n",
      "375/375 [==============================] - 4s 11ms/step - loss: 1.6337 - accuracy: 0.4396 - val_loss: 2.8837 - val_accuracy: 0.0978\n",
      "Epoch 24/100\n",
      "375/375 [==============================] - 3s 9ms/step - loss: 1.5972 - accuracy: 0.4539 - val_loss: 2.9293 - val_accuracy: 0.0948\n",
      "Epoch 25/100\n",
      "375/375 [==============================] - 5s 12ms/step - loss: 1.5627 - accuracy: 0.4639 - val_loss: 2.9816 - val_accuracy: 0.0975\n",
      "Epoch 26/100\n",
      "375/375 [==============================] - 4s 11ms/step - loss: 1.5282 - accuracy: 0.4791 - val_loss: 3.0281 - val_accuracy: 0.0983\n",
      "Epoch 27/100\n",
      "375/375 [==============================] - 3s 9ms/step - loss: 1.4941 - accuracy: 0.4902 - val_loss: 3.0652 - val_accuracy: 0.0953\n",
      "Epoch 28/100\n",
      "375/375 [==============================] - 4s 9ms/step - loss: 1.4634 - accuracy: 0.5021 - val_loss: 3.1148 - val_accuracy: 0.1013\n",
      "Epoch 29/100\n",
      "375/375 [==============================] - 4s 11ms/step - loss: 1.4337 - accuracy: 0.5135 - val_loss: 3.1831 - val_accuracy: 0.0967\n",
      "Epoch 30/100\n",
      "375/375 [==============================] - 5s 13ms/step - loss: 1.3996 - accuracy: 0.5260 - val_loss: 3.2082 - val_accuracy: 0.0980\n",
      "Epoch 31/100\n",
      "375/375 [==============================] - 4s 10ms/step - loss: 1.3701 - accuracy: 0.5361 - val_loss: 3.2792 - val_accuracy: 0.0960\n",
      "Epoch 32/100\n",
      "375/375 [==============================] - 4s 10ms/step - loss: 1.3415 - accuracy: 0.5471 - val_loss: 3.3261 - val_accuracy: 0.1009\n",
      "Epoch 33/100\n",
      "375/375 [==============================] - 4s 10ms/step - loss: 1.3108 - accuracy: 0.5587 - val_loss: 3.3896 - val_accuracy: 0.1000\n",
      "Epoch 34/100\n",
      "375/375 [==============================] - 4s 11ms/step - loss: 1.2856 - accuracy: 0.5684 - val_loss: 3.4216 - val_accuracy: 0.1002\n",
      "Epoch 35/100\n",
      "375/375 [==============================] - 4s 11ms/step - loss: 1.2576 - accuracy: 0.5773 - val_loss: 3.4899 - val_accuracy: 0.0998\n",
      "Epoch 36/100\n",
      "375/375 [==============================] - 4s 10ms/step - loss: 1.2298 - accuracy: 0.5887 - val_loss: 3.5874 - val_accuracy: 0.0983\n",
      "Epoch 37/100\n",
      "375/375 [==============================] - 4s 10ms/step - loss: 1.2041 - accuracy: 0.5955 - val_loss: 3.5953 - val_accuracy: 0.1024\n",
      "Epoch 38/100\n",
      "375/375 [==============================] - 4s 10ms/step - loss: 1.1769 - accuracy: 0.6063 - val_loss: 3.6644 - val_accuracy: 0.1035\n",
      "Epoch 39/100\n",
      "375/375 [==============================] - 5s 12ms/step - loss: 1.1547 - accuracy: 0.6145 - val_loss: 3.7390 - val_accuracy: 0.0988\n",
      "Epoch 40/100\n",
      "375/375 [==============================] - 4s 10ms/step - loss: 1.1299 - accuracy: 0.6204 - val_loss: 3.7857 - val_accuracy: 0.1032\n",
      "Epoch 41/100\n",
      "375/375 [==============================] - 4s 10ms/step - loss: 1.1040 - accuracy: 0.6314 - val_loss: 3.8515 - val_accuracy: 0.0979\n",
      "Epoch 42/100\n",
      "375/375 [==============================] - 4s 10ms/step - loss: 1.0833 - accuracy: 0.6400 - val_loss: 3.9033 - val_accuracy: 0.1019\n",
      "Epoch 43/100\n",
      "375/375 [==============================] - 4s 12ms/step - loss: 1.0598 - accuracy: 0.6451 - val_loss: 3.9619 - val_accuracy: 0.1030\n",
      "Epoch 44/100\n",
      "375/375 [==============================] - 5s 13ms/step - loss: 1.0393 - accuracy: 0.6546 - val_loss: 4.0449 - val_accuracy: 0.0995\n",
      "Epoch 45/100\n",
      "375/375 [==============================] - 4s 10ms/step - loss: 1.0149 - accuracy: 0.6641 - val_loss: 4.0928 - val_accuracy: 0.0992\n",
      "Epoch 46/100\n",
      "375/375 [==============================] - 5s 12ms/step - loss: 0.9957 - accuracy: 0.6665 - val_loss: 4.1255 - val_accuracy: 0.1013\n",
      "Epoch 47/100\n",
      "375/375 [==============================] - 4s 10ms/step - loss: 0.9752 - accuracy: 0.6765 - val_loss: 4.1931 - val_accuracy: 0.1005\n",
      "Epoch 48/100\n",
      "375/375 [==============================] - 4s 11ms/step - loss: 0.9543 - accuracy: 0.6851 - val_loss: 4.2568 - val_accuracy: 0.1009\n",
      "Epoch 49/100\n",
      "375/375 [==============================] - 3s 9ms/step - loss: 0.9338 - accuracy: 0.6918 - val_loss: 4.3069 - val_accuracy: 0.0978\n",
      "Epoch 50/100\n",
      "375/375 [==============================] - 3s 9ms/step - loss: 0.9129 - accuracy: 0.7010 - val_loss: 4.4106 - val_accuracy: 0.1013\n",
      "Epoch 51/100\n",
      "375/375 [==============================] - 4s 10ms/step - loss: 0.8977 - accuracy: 0.7050 - val_loss: 4.4415 - val_accuracy: 0.0994\n",
      "Epoch 52/100\n",
      "375/375 [==============================] - 4s 10ms/step - loss: 0.8784 - accuracy: 0.7102 - val_loss: 4.5438 - val_accuracy: 0.0999\n",
      "Epoch 53/100\n",
      "375/375 [==============================] - 4s 10ms/step - loss: 0.8610 - accuracy: 0.7166 - val_loss: 4.5687 - val_accuracy: 0.1030\n",
      "Epoch 54/100\n",
      "375/375 [==============================] - 4s 10ms/step - loss: 0.8412 - accuracy: 0.7221 - val_loss: 4.6544 - val_accuracy: 0.1005\n",
      "Epoch 55/100\n",
      "375/375 [==============================] - 4s 10ms/step - loss: 0.8271 - accuracy: 0.7289 - val_loss: 4.7109 - val_accuracy: 0.1004\n",
      "Epoch 56/100\n",
      "375/375 [==============================] - 4s 9ms/step - loss: 0.8065 - accuracy: 0.7355 - val_loss: 4.7602 - val_accuracy: 0.1026\n",
      "Epoch 57/100\n",
      "375/375 [==============================] - 4s 10ms/step - loss: 0.7915 - accuracy: 0.7416 - val_loss: 4.7902 - val_accuracy: 0.1025\n",
      "Epoch 58/100\n",
      "375/375 [==============================] - 4s 10ms/step - loss: 0.7754 - accuracy: 0.7473 - val_loss: 4.9106 - val_accuracy: 0.1040\n",
      "Epoch 59/100\n",
      "375/375 [==============================] - 5s 12ms/step - loss: 0.7608 - accuracy: 0.7526 - val_loss: 4.9786 - val_accuracy: 0.1006\n",
      "Epoch 60/100\n",
      "375/375 [==============================] - 4s 11ms/step - loss: 0.7462 - accuracy: 0.7588 - val_loss: 5.0410 - val_accuracy: 0.1020\n",
      "Epoch 61/100\n",
      "375/375 [==============================] - 5s 12ms/step - loss: 0.7297 - accuracy: 0.7641 - val_loss: 5.0871 - val_accuracy: 0.1063\n",
      "Epoch 62/100\n",
      "375/375 [==============================] - 4s 10ms/step - loss: 0.7172 - accuracy: 0.7683 - val_loss: 5.1666 - val_accuracy: 0.1034\n",
      "Epoch 63/100\n",
      "375/375 [==============================] - 12s 31ms/step - loss: 0.7012 - accuracy: 0.7723 - val_loss: 5.2510 - val_accuracy: 0.1021\n",
      "Epoch 64/100\n",
      "375/375 [==============================] - 5s 14ms/step - loss: 0.6864 - accuracy: 0.7768 - val_loss: 5.3316 - val_accuracy: 0.1058\n",
      "Epoch 65/100\n",
      "375/375 [==============================] - 4s 12ms/step - loss: 0.6728 - accuracy: 0.7831 - val_loss: 5.3956 - val_accuracy: 0.1003\n",
      "Epoch 66/100\n",
      "375/375 [==============================] - 4s 10ms/step - loss: 0.6602 - accuracy: 0.7861 - val_loss: 5.4873 - val_accuracy: 0.1036\n",
      "Epoch 67/100\n",
      "375/375 [==============================] - 4s 10ms/step - loss: 0.6468 - accuracy: 0.7924 - val_loss: 5.5453 - val_accuracy: 0.1018\n",
      "Epoch 68/100\n",
      "375/375 [==============================] - 4s 10ms/step - loss: 0.6331 - accuracy: 0.7970 - val_loss: 5.5949 - val_accuracy: 0.1013\n",
      "Epoch 69/100\n",
      "375/375 [==============================] - 4s 10ms/step - loss: 0.6216 - accuracy: 0.8004 - val_loss: 5.6519 - val_accuracy: 0.1029\n",
      "Epoch 70/100\n",
      "375/375 [==============================] - 4s 10ms/step - loss: 0.6078 - accuracy: 0.8043 - val_loss: 5.7590 - val_accuracy: 0.1032\n",
      "Epoch 71/100\n",
      "375/375 [==============================] - 4s 10ms/step - loss: 0.5981 - accuracy: 0.8088 - val_loss: 5.8381 - val_accuracy: 0.1069\n",
      "Epoch 72/100\n",
      "375/375 [==============================] - 4s 11ms/step - loss: 0.5850 - accuracy: 0.8141 - val_loss: 5.8823 - val_accuracy: 0.1035\n",
      "Epoch 73/100\n",
      "375/375 [==============================] - 4s 10ms/step - loss: 0.5743 - accuracy: 0.8154 - val_loss: 5.9509 - val_accuracy: 0.1023\n",
      "Epoch 74/100\n",
      "375/375 [==============================] - 4s 10ms/step - loss: 0.5642 - accuracy: 0.8172 - val_loss: 6.0519 - val_accuracy: 0.1007\n",
      "Epoch 75/100\n",
      "375/375 [==============================] - 4s 10ms/step - loss: 0.5520 - accuracy: 0.8244 - val_loss: 6.1406 - val_accuracy: 0.1039\n",
      "Epoch 76/100\n",
      "375/375 [==============================] - 4s 11ms/step - loss: 0.5404 - accuracy: 0.8284 - val_loss: 6.2116 - val_accuracy: 0.1037\n",
      "Epoch 77/100\n",
      "375/375 [==============================] - 3s 9ms/step - loss: 0.5324 - accuracy: 0.8310 - val_loss: 6.2933 - val_accuracy: 0.1046\n",
      "Epoch 78/100\n",
      "375/375 [==============================] - 4s 10ms/step - loss: 0.5200 - accuracy: 0.8341 - val_loss: 6.3085 - val_accuracy: 0.1055\n",
      "Epoch 79/100\n",
      "375/375 [==============================] - 4s 10ms/step - loss: 0.5090 - accuracy: 0.8372 - val_loss: 6.4066 - val_accuracy: 0.1050\n",
      "Epoch 80/100\n",
      "375/375 [==============================] - 4s 10ms/step - loss: 0.5008 - accuracy: 0.8423 - val_loss: 6.4797 - val_accuracy: 0.1017\n",
      "Epoch 81/100\n",
      "375/375 [==============================] - 4s 9ms/step - loss: 0.4899 - accuracy: 0.8449 - val_loss: 6.5615 - val_accuracy: 0.1049\n",
      "Epoch 82/100\n",
      "375/375 [==============================] - 3s 9ms/step - loss: 0.4808 - accuracy: 0.8488 - val_loss: 6.6331 - val_accuracy: 0.1004\n",
      "Epoch 83/100\n",
      "375/375 [==============================] - 3s 9ms/step - loss: 0.4730 - accuracy: 0.8501 - val_loss: 6.6666 - val_accuracy: 0.1018\n",
      "Epoch 84/100\n",
      "375/375 [==============================] - 3s 9ms/step - loss: 0.4650 - accuracy: 0.8533 - val_loss: 6.7518 - val_accuracy: 0.1032\n",
      "Epoch 85/100\n",
      "375/375 [==============================] - 4s 10ms/step - loss: 0.4549 - accuracy: 0.8572 - val_loss: 6.8656 - val_accuracy: 0.1018\n",
      "Epoch 86/100\n",
      "375/375 [==============================] - 3s 9ms/step - loss: 0.4468 - accuracy: 0.8608 - val_loss: 6.9699 - val_accuracy: 0.1032\n",
      "Epoch 87/100\n",
      "375/375 [==============================] - 3s 9ms/step - loss: 0.4392 - accuracy: 0.8615 - val_loss: 6.9573 - val_accuracy: 0.1025\n",
      "Epoch 88/100\n",
      "375/375 [==============================] - 4s 10ms/step - loss: 0.4304 - accuracy: 0.8647 - val_loss: 7.0618 - val_accuracy: 0.1042\n",
      "Epoch 89/100\n",
      "375/375 [==============================] - 4s 10ms/step - loss: 0.4225 - accuracy: 0.8682 - val_loss: 7.1416 - val_accuracy: 0.1039\n",
      "Epoch 90/100\n",
      "375/375 [==============================] - 4s 10ms/step - loss: 0.4142 - accuracy: 0.8700 - val_loss: 7.1905 - val_accuracy: 0.1054\n",
      "Epoch 91/100\n",
      "375/375 [==============================] - 5s 14ms/step - loss: 0.4064 - accuracy: 0.8725 - val_loss: 7.3109 - val_accuracy: 0.1015\n",
      "Epoch 92/100\n",
      "375/375 [==============================] - 4s 12ms/step - loss: 0.3977 - accuracy: 0.8773 - val_loss: 7.3873 - val_accuracy: 0.1010\n",
      "Epoch 93/100\n",
      "375/375 [==============================] - 3s 9ms/step - loss: 0.3918 - accuracy: 0.8759 - val_loss: 7.4485 - val_accuracy: 0.1056\n",
      "Epoch 94/100\n",
      "375/375 [==============================] - 3s 9ms/step - loss: 0.3848 - accuracy: 0.8798 - val_loss: 7.5355 - val_accuracy: 0.1043\n",
      "Epoch 95/100\n",
      "375/375 [==============================] - 4s 11ms/step - loss: 0.3779 - accuracy: 0.8829 - val_loss: 7.5807 - val_accuracy: 0.1024\n",
      "Epoch 96/100\n",
      "375/375 [==============================] - 4s 11ms/step - loss: 0.3705 - accuracy: 0.8858 - val_loss: 7.6820 - val_accuracy: 0.1025\n",
      "Epoch 97/100\n",
      "375/375 [==============================] - 4s 10ms/step - loss: 0.3634 - accuracy: 0.8879 - val_loss: 7.7326 - val_accuracy: 0.1039\n",
      "Epoch 98/100\n",
      "375/375 [==============================] - 4s 9ms/step - loss: 0.3581 - accuracy: 0.8883 - val_loss: 7.7855 - val_accuracy: 0.1043\n",
      "Epoch 99/100\n",
      "375/375 [==============================] - 4s 10ms/step - loss: 0.3516 - accuracy: 0.8913 - val_loss: 7.9229 - val_accuracy: 0.1040\n",
      "Epoch 100/100\n",
      "375/375 [==============================] - 4s 9ms/step - loss: 0.3447 - accuracy: 0.8947 - val_loss: 7.9139 - val_accuracy: 0.1023\n"
     ]
    },
    {
     "data": {
      "text/plain": [
       "<keras.callbacks.History at 0x25b3acf1b10>"
      ]
     },
     "execution_count": 4,
     "metadata": {},
     "output_type": "execute_result"
    }
   ],
   "source": [
    "(train_images, train_labels), _ = mnist.load_data()\n",
    "train_images = train_images.reshape((60000, 28 * 28))\n",
    "train_images = train_images.astype(\"float32\") / 255\n",
    "\n",
    "random_train_labels = train_labels[:]\n",
    "np.random.shuffle(random_train_labels)\n",
    "\n",
    "model = keras.Sequential([\n",
    "    layers.Dense(512, activation=\"relu\"),\n",
    "    layers.Dense(10, activation=\"softmax\")\n",
    "])\n",
    "model.compile(optimizer=\"rmsprop\",\n",
    "              loss=\"sparse_categorical_crossentropy\",\n",
    "              metrics=[\"accuracy\"])\n",
    "model.fit(train_images, random_train_labels,\n",
    "          epochs=100,\n",
    "          batch_size=128,\n",
    "          validation_split=0.2)"
   ]
  },
  {
   "cell_type": "markdown",
   "metadata": {
    "colab_type": "text"
   },
   "source": [
    "#### The manifold hypothesis"
   ]
  },
  {
   "cell_type": "markdown",
   "metadata": {
    "colab_type": "text"
   },
   "source": [
    "#### Interpolation as a source of generalization"
   ]
  },
  {
   "cell_type": "markdown",
   "metadata": {
    "colab_type": "text"
   },
   "source": [
    "#### Why deep learning works"
   ]
  },
  {
   "cell_type": "markdown",
   "metadata": {
    "colab_type": "text"
   },
   "source": [
    "#### Training data is paramount"
   ]
  },
  {
   "cell_type": "markdown",
   "metadata": {
    "colab_type": "text"
   },
   "source": [
    "## Evaluating machine-learning models"
   ]
  },
  {
   "cell_type": "markdown",
   "metadata": {
    "colab_type": "text"
   },
   "source": [
    "### Training, validation, and test sets"
   ]
  },
  {
   "cell_type": "markdown",
   "metadata": {
    "colab_type": "text"
   },
   "source": [
    "#### Simple hold-out validation"
   ]
  },
  {
   "cell_type": "markdown",
   "metadata": {
    "colab_type": "text"
   },
   "source": [
    "#### K-fold validation"
   ]
  },
  {
   "cell_type": "markdown",
   "metadata": {
    "colab_type": "text"
   },
   "source": [
    "#### Iterated K-fold validation with shuffling"
   ]
  },
  {
   "cell_type": "markdown",
   "metadata": {
    "colab_type": "text"
   },
   "source": [
    "### Beating a common-sense baseline"
   ]
  },
  {
   "cell_type": "markdown",
   "metadata": {
    "colab_type": "text"
   },
   "source": [
    "### Things to keep in mind about model evaluation"
   ]
  },
  {
   "cell_type": "markdown",
   "metadata": {
    "colab_type": "text"
   },
   "source": [
    "## Improving model fit"
   ]
  },
  {
   "cell_type": "markdown",
   "metadata": {
    "colab_type": "text"
   },
   "source": [
    "### Tuning key gradient descent parameters"
   ]
  },
  {
   "cell_type": "markdown",
   "metadata": {
    "colab_type": "text"
   },
   "source": [
    "**Training a MNIST model with an incorrectly high learning rate**"
   ]
  },
  {
   "cell_type": "code",
   "execution_count": 5,
   "metadata": {
    "colab_type": "code"
   },
   "outputs": [
    {
     "name": "stdout",
     "output_type": "stream",
     "text": [
      "Epoch 1/10\n",
      "375/375 [==============================] - 4s 10ms/step - loss: 741.9896 - accuracy: 0.3092 - val_loss: 2.0889 - val_accuracy: 0.2529\n",
      "Epoch 2/10\n",
      "375/375 [==============================] - 4s 10ms/step - loss: 2.7534 - accuracy: 0.1962 - val_loss: 2.1473 - val_accuracy: 0.1825\n",
      "Epoch 3/10\n",
      "375/375 [==============================] - 3s 9ms/step - loss: 2.5529 - accuracy: 0.1839 - val_loss: 2.5432 - val_accuracy: 0.2375\n",
      "Epoch 4/10\n",
      "375/375 [==============================] - 4s 10ms/step - loss: 2.6152 - accuracy: 0.2191 - val_loss: 2.2130 - val_accuracy: 0.2309\n",
      "Epoch 5/10\n",
      "375/375 [==============================] - 4s 10ms/step - loss: 2.6282 - accuracy: 0.1895 - val_loss: 2.3091 - val_accuracy: 0.1863\n",
      "Epoch 6/10\n",
      "375/375 [==============================] - 4s 10ms/step - loss: 2.3471 - accuracy: 0.1896 - val_loss: 2.1325 - val_accuracy: 0.2042\n",
      "Epoch 7/10\n",
      "375/375 [==============================] - 3s 9ms/step - loss: 2.6631 - accuracy: 0.2186 - val_loss: 2.2637 - val_accuracy: 0.2242\n",
      "Epoch 8/10\n",
      "375/375 [==============================] - 4s 9ms/step - loss: 2.3453 - accuracy: 0.1997 - val_loss: 2.3027 - val_accuracy: 0.2177\n",
      "Epoch 9/10\n",
      "375/375 [==============================] - 4s 10ms/step - loss: 2.4234 - accuracy: 0.2283 - val_loss: 2.1312 - val_accuracy: 0.1891\n",
      "Epoch 10/10\n",
      "375/375 [==============================] - 4s 10ms/step - loss: 2.4547 - accuracy: 0.2213 - val_loss: 2.0969 - val_accuracy: 0.2481\n"
     ]
    },
    {
     "data": {
      "text/plain": [
       "<keras.callbacks.History at 0x25b37317310>"
      ]
     },
     "execution_count": 5,
     "metadata": {},
     "output_type": "execute_result"
    }
   ],
   "source": [
    "(train_images, train_labels), _ = mnist.load_data()\n",
    "train_images = train_images.reshape((60000, 28 * 28))\n",
    "train_images = train_images.astype(\"float32\") / 255\n",
    "\n",
    "model = keras.Sequential([\n",
    "    layers.Dense(512, activation=\"relu\"),\n",
    "    layers.Dense(10, activation=\"softmax\")\n",
    "])\n",
    "model.compile(optimizer=keras.optimizers.RMSprop(1.),\n",
    "              loss=\"sparse_categorical_crossentropy\",\n",
    "              metrics=[\"accuracy\"])\n",
    "model.fit(train_images, train_labels,\n",
    "          epochs=10,\n",
    "          batch_size=128,\n",
    "          validation_split=0.2)"
   ]
  },
  {
   "cell_type": "markdown",
   "metadata": {
    "colab_type": "text"
   },
   "source": [
    "**The same model with a more appropriate learning rate**"
   ]
  },
  {
   "cell_type": "code",
   "execution_count": 6,
   "metadata": {
    "colab_type": "code"
   },
   "outputs": [
    {
     "name": "stdout",
     "output_type": "stream",
     "text": [
      "Epoch 1/10\n",
      "375/375 [==============================] - 4s 10ms/step - loss: 0.3570 - accuracy: 0.9114 - val_loss: 0.2042 - val_accuracy: 0.9437\n",
      "Epoch 2/10\n",
      "375/375 [==============================] - 3s 9ms/step - loss: 0.1276 - accuracy: 0.9643 - val_loss: 0.1215 - val_accuracy: 0.9688\n",
      "Epoch 3/10\n",
      "375/375 [==============================] - 4s 9ms/step - loss: 0.0991 - accuracy: 0.9736 - val_loss: 0.1391 - val_accuracy: 0.9706\n",
      "Epoch 4/10\n",
      "375/375 [==============================] - 4s 9ms/step - loss: 0.0789 - accuracy: 0.9794 - val_loss: 0.1556 - val_accuracy: 0.9694\n",
      "Epoch 5/10\n",
      "375/375 [==============================] - 4s 10ms/step - loss: 0.0680 - accuracy: 0.9831 - val_loss: 0.1850 - val_accuracy: 0.9688\n",
      "Epoch 6/10\n",
      "375/375 [==============================] - 4s 10ms/step - loss: 0.0584 - accuracy: 0.9859 - val_loss: 0.1917 - val_accuracy: 0.9679\n",
      "Epoch 7/10\n",
      "375/375 [==============================] - 3s 9ms/step - loss: 0.0548 - accuracy: 0.9872 - val_loss: 0.1942 - val_accuracy: 0.9713\n",
      "Epoch 8/10\n",
      "375/375 [==============================] - 3s 9ms/step - loss: 0.0471 - accuracy: 0.9885 - val_loss: 0.1750 - val_accuracy: 0.9737\n",
      "Epoch 9/10\n",
      "375/375 [==============================] - 3s 9ms/step - loss: 0.0433 - accuracy: 0.9899 - val_loss: 0.2366 - val_accuracy: 0.9712\n",
      "Epoch 10/10\n",
      "375/375 [==============================] - 3s 9ms/step - loss: 0.0358 - accuracy: 0.9916 - val_loss: 0.2032 - val_accuracy: 0.9744\n"
     ]
    },
    {
     "data": {
      "text/plain": [
       "<keras.callbacks.History at 0x25b374633d0>"
      ]
     },
     "execution_count": 6,
     "metadata": {},
     "output_type": "execute_result"
    }
   ],
   "source": [
    "model = keras.Sequential([\n",
    "    layers.Dense(512, activation=\"relu\"),\n",
    "    layers.Dense(10, activation=\"softmax\")\n",
    "])\n",
    "model.compile(optimizer=keras.optimizers.RMSprop(1e-2),\n",
    "              loss=\"sparse_categorical_crossentropy\",\n",
    "              metrics=[\"accuracy\"])\n",
    "model.fit(train_images, train_labels,\n",
    "          epochs=10,\n",
    "          batch_size=128,\n",
    "          validation_split=0.2)"
   ]
  },
  {
   "cell_type": "markdown",
   "metadata": {
    "colab_type": "text"
   },
   "source": [
    "### Leveraging better architecture priors"
   ]
  },
  {
   "cell_type": "markdown",
   "metadata": {
    "colab_type": "text"
   },
   "source": [
    "### Increasing model capacity"
   ]
  },
  {
   "cell_type": "markdown",
   "metadata": {
    "colab_type": "text"
   },
   "source": [
    "**A simple logistic regression on MNIST**"
   ]
  },
  {
   "cell_type": "code",
   "execution_count": 7,
   "metadata": {
    "colab_type": "code"
   },
   "outputs": [
    {
     "name": "stdout",
     "output_type": "stream",
     "text": [
      "Epoch 1/20\n",
      "375/375 [==============================] - 2s 3ms/step - loss: 0.6644 - accuracy: 0.8368 - val_loss: 0.3623 - val_accuracy: 0.9018\n",
      "Epoch 2/20\n",
      "375/375 [==============================] - 1s 3ms/step - loss: 0.3543 - accuracy: 0.9026 - val_loss: 0.3084 - val_accuracy: 0.9152\n",
      "Epoch 3/20\n",
      "375/375 [==============================] - 1s 3ms/step - loss: 0.3185 - accuracy: 0.9104 - val_loss: 0.2923 - val_accuracy: 0.9187\n",
      "Epoch 4/20\n",
      "375/375 [==============================] - 1s 3ms/step - loss: 0.3025 - accuracy: 0.9155 - val_loss: 0.2834 - val_accuracy: 0.9207\n",
      "Epoch 5/20\n",
      "375/375 [==============================] - 1s 3ms/step - loss: 0.2922 - accuracy: 0.9186 - val_loss: 0.2781 - val_accuracy: 0.9241\n",
      "Epoch 6/20\n",
      "375/375 [==============================] - 1s 3ms/step - loss: 0.2860 - accuracy: 0.9196 - val_loss: 0.2729 - val_accuracy: 0.9244\n",
      "Epoch 7/20\n",
      "375/375 [==============================] - 1s 3ms/step - loss: 0.2807 - accuracy: 0.9211 - val_loss: 0.2718 - val_accuracy: 0.9256\n",
      "Epoch 8/20\n",
      "375/375 [==============================] - 1s 3ms/step - loss: 0.2769 - accuracy: 0.9230 - val_loss: 0.2691 - val_accuracy: 0.9262\n",
      "Epoch 9/20\n",
      "375/375 [==============================] - 1s 3ms/step - loss: 0.2738 - accuracy: 0.9245 - val_loss: 0.2681 - val_accuracy: 0.9268\n",
      "Epoch 10/20\n",
      "375/375 [==============================] - 1s 3ms/step - loss: 0.2709 - accuracy: 0.9252 - val_loss: 0.2675 - val_accuracy: 0.9263\n",
      "Epoch 11/20\n",
      "375/375 [==============================] - 1s 3ms/step - loss: 0.2688 - accuracy: 0.9257 - val_loss: 0.2658 - val_accuracy: 0.9288\n",
      "Epoch 12/20\n",
      "375/375 [==============================] - 1s 3ms/step - loss: 0.2665 - accuracy: 0.9261 - val_loss: 0.2654 - val_accuracy: 0.9292\n",
      "Epoch 13/20\n",
      "375/375 [==============================] - 1s 4ms/step - loss: 0.2648 - accuracy: 0.9274 - val_loss: 0.2648 - val_accuracy: 0.9296\n",
      "Epoch 14/20\n",
      "375/375 [==============================] - 1s 3ms/step - loss: 0.2633 - accuracy: 0.9271 - val_loss: 0.2652 - val_accuracy: 0.9287\n",
      "Epoch 15/20\n",
      "375/375 [==============================] - 1s 3ms/step - loss: 0.2618 - accuracy: 0.9284 - val_loss: 0.2659 - val_accuracy: 0.9287\n",
      "Epoch 16/20\n",
      "375/375 [==============================] - 1s 3ms/step - loss: 0.2606 - accuracy: 0.9282 - val_loss: 0.2625 - val_accuracy: 0.9294\n",
      "Epoch 17/20\n",
      "375/375 [==============================] - 1s 3ms/step - loss: 0.2594 - accuracy: 0.9286 - val_loss: 0.2627 - val_accuracy: 0.9293\n",
      "Epoch 18/20\n",
      "375/375 [==============================] - 1s 3ms/step - loss: 0.2584 - accuracy: 0.9292 - val_loss: 0.2620 - val_accuracy: 0.9297\n",
      "Epoch 19/20\n",
      "375/375 [==============================] - 1s 3ms/step - loss: 0.2572 - accuracy: 0.9298 - val_loss: 0.2637 - val_accuracy: 0.9300\n",
      "Epoch 20/20\n",
      "375/375 [==============================] - 1s 3ms/step - loss: 0.2565 - accuracy: 0.9298 - val_loss: 0.2632 - val_accuracy: 0.9302\n"
     ]
    }
   ],
   "source": [
    "model = keras.Sequential([layers.Dense(10, activation=\"softmax\")])\n",
    "model.compile(optimizer=\"rmsprop\",\n",
    "              loss=\"sparse_categorical_crossentropy\",\n",
    "              metrics=[\"accuracy\"])\n",
    "history_small_model = model.fit(\n",
    "    train_images, train_labels,\n",
    "    epochs=20,\n",
    "    batch_size=128,\n",
    "    validation_split=0.2)"
   ]
  },
  {
   "cell_type": "code",
   "execution_count": 8,
   "metadata": {
    "colab_type": "code"
   },
   "outputs": [
    {
     "data": {
      "text/plain": [
       "<matplotlib.legend.Legend at 0x25b38afd8d0>"
      ]
     },
     "execution_count": 8,
     "metadata": {},
     "output_type": "execute_result"
    },
    {
     "data": {
      "image/png": "[encoded data removed]",
      "text/plain": [
       "<Figure size 640x480 with 1 Axes>"
      ]
     },
     "metadata": {},
     "output_type": "display_data"
    }
   ],
   "source": [
    "import matplotlib.pyplot as plt\n",
    "val_loss = history_small_model.history[\"val_loss\"]\n",
    "epochs = range(1, 21)\n",
    "plt.plot(epochs, val_loss, \"b--\",\n",
    "         label=\"Validation loss\")\n",
    "plt.title(\"Effect of insufficient model capacity on validation loss\")\n",
    "plt.xlabel(\"Epochs\")\n",
    "plt.ylabel(\"Loss\")\n",
    "plt.legend()"
   ]
  },
  {
   "cell_type": "code",
   "execution_count": 9,
   "metadata": {
    "colab_type": "code"
   },
   "outputs": [
    {
     "name": "stdout",
     "output_type": "stream",
     "text": [
      "Epoch 1/20\n",
      "375/375 [==============================] - 2s 5ms/step - loss: 0.3679 - accuracy: 0.8968 - val_loss: 0.1911 - val_accuracy: 0.9438\n",
      "Epoch 2/20\n",
      "375/375 [==============================] - 2s 4ms/step - loss: 0.1627 - accuracy: 0.9521 - val_loss: 0.1510 - val_accuracy: 0.9557\n",
      "Epoch 3/20\n",
      "375/375 [==============================] - 1s 4ms/step - loss: 0.1149 - accuracy: 0.9652 - val_loss: 0.1179 - val_accuracy: 0.9653\n",
      "Epoch 4/20\n",
      "375/375 [==============================] - 2s 4ms/step - loss: 0.0882 - accuracy: 0.9725 - val_loss: 0.1085 - val_accuracy: 0.9673\n",
      "Epoch 5/20\n",
      "375/375 [==============================] - 2s 4ms/step - loss: 0.0703 - accuracy: 0.9783 - val_loss: 0.0902 - val_accuracy: 0.9729\n",
      "Epoch 6/20\n",
      "375/375 [==============================] - 2s 5ms/step - loss: 0.0576 - accuracy: 0.9830 - val_loss: 0.1006 - val_accuracy: 0.9704\n",
      "Epoch 7/20\n",
      "375/375 [==============================] - 1s 4ms/step - loss: 0.0477 - accuracy: 0.9854 - val_loss: 0.0899 - val_accuracy: 0.9742\n",
      "Epoch 8/20\n",
      "375/375 [==============================] - 2s 5ms/step - loss: 0.0401 - accuracy: 0.9877 - val_loss: 0.1023 - val_accuracy: 0.9694\n",
      "Epoch 9/20\n",
      "375/375 [==============================] - 2s 4ms/step - loss: 0.0342 - accuracy: 0.9898 - val_loss: 0.0932 - val_accuracy: 0.9748\n",
      "Epoch 10/20\n",
      "375/375 [==============================] - 2s 4ms/step - loss: 0.0286 - accuracy: 0.9914 - val_loss: 0.1039 - val_accuracy: 0.9732\n",
      "Epoch 11/20\n",
      "375/375 [==============================] - 2s 4ms/step - loss: 0.0239 - accuracy: 0.9928 - val_loss: 0.1012 - val_accuracy: 0.9756\n",
      "Epoch 12/20\n",
      "375/375 [==============================] - 2s 4ms/step - loss: 0.0196 - accuracy: 0.9939 - val_loss: 0.1021 - val_accuracy: 0.9745\n",
      "Epoch 13/20\n",
      "375/375 [==============================] - 2s 4ms/step - loss: 0.0161 - accuracy: 0.9952 - val_loss: 0.1000 - val_accuracy: 0.9760\n",
      "Epoch 14/20\n",
      "375/375 [==============================] - 2s 4ms/step - loss: 0.0139 - accuracy: 0.9959 - val_loss: 0.1131 - val_accuracy: 0.9739\n",
      "Epoch 15/20\n",
      "375/375 [==============================] - 2s 4ms/step - loss: 0.0118 - accuracy: 0.9966 - val_loss: 0.1081 - val_accuracy: 0.9759\n",
      "Epoch 16/20\n",
      "375/375 [==============================] - 2s 4ms/step - loss: 0.0103 - accuracy: 0.9965 - val_loss: 0.1141 - val_accuracy: 0.9763\n",
      "Epoch 17/20\n",
      "375/375 [==============================] - 2s 4ms/step - loss: 0.0085 - accuracy: 0.9975 - val_loss: 0.1098 - val_accuracy: 0.9771\n",
      "Epoch 18/20\n",
      "375/375 [==============================] - 2s 4ms/step - loss: 0.0074 - accuracy: 0.9978 - val_loss: 0.1231 - val_accuracy: 0.9764\n",
      "Epoch 19/20\n",
      "375/375 [==============================] - 2s 4ms/step - loss: 0.0062 - accuracy: 0.9982 - val_loss: 0.1229 - val_accuracy: 0.9768\n",
      "Epoch 20/20\n",
      "375/375 [==============================] - 2s 4ms/step - loss: 0.0049 - accuracy: 0.9986 - val_loss: 0.1279 - val_accuracy: 0.9765\n"
     ]
    }
   ],
   "source": [
    "model = keras.Sequential([\n",
    "    layers.Dense(96, activation=\"relu\"),\n",
    "    layers.Dense(96, activation=\"relu\"),\n",
    "    layers.Dense(10, activation=\"softmax\"),\n",
    "])\n",
    "model.compile(optimizer=\"rmsprop\",\n",
    "              loss=\"sparse_categorical_crossentropy\",\n",
    "              metrics=[\"accuracy\"])\n",
    "history_large_model = model.fit(\n",
    "    train_images, train_labels,\n",
    "    epochs=20,\n",
    "    batch_size=128,\n",
    "    validation_split=0.2)"
   ]
  },
  {
   "cell_type": "markdown",
   "metadata": {
    "colab_type": "text"
   },
   "source": [
    "## Improving generalization"
   ]
  },
  {
   "cell_type": "markdown",
   "metadata": {
    "colab_type": "text"
   },
   "source": [
    "### Dataset curation"
   ]
  },
  {
   "cell_type": "markdown",
   "metadata": {
    "colab_type": "text"
   },
   "source": [
    "### Feature engineering"
   ]
  },
  {
   "cell_type": "markdown",
   "metadata": {
    "colab_type": "text"
   },
   "source": [
    "### Using early stopping"
   ]
  },
  {
   "cell_type": "markdown",
   "metadata": {
    "colab_type": "text"
   },
   "source": [
    "### Regularizing your model"
   ]
  },
  {
   "cell_type": "markdown",
   "metadata": {
    "colab_type": "text"
   },
   "source": [
    "#### Reducing the network's size"
   ]
  },
  {
   "cell_type": "markdown",
   "metadata": {
    "colab_type": "text"
   },
   "source": [
    "**Original model**"
   ]
  },
  {
   "cell_type": "code",
   "execution_count": 10,
   "metadata": {
    "colab_type": "code"
   },
   "outputs": [
    {
     "name": "stdout",
     "output_type": "stream",
     "text": [
      "Epoch 1/20\n",
      "30/30 [==============================] - 2s 37ms/step - loss: 0.5112 - accuracy: 0.7757 - val_loss: 0.3806 - val_accuracy: 0.8713\n",
      "Epoch 2/20\n",
      "30/30 [==============================] - 1s 18ms/step - loss: 0.3111 - accuracy: 0.8952 - val_loss: 0.3459 - val_accuracy: 0.8588\n",
      "Epoch 3/20\n",
      "30/30 [==============================] - 1s 18ms/step - loss: 0.2324 - accuracy: 0.9207 - val_loss: 0.2815 - val_accuracy: 0.8910\n",
      "Epoch 4/20\n",
      "30/30 [==============================] - 1s 18ms/step - loss: 0.1912 - accuracy: 0.9347 - val_loss: 0.2751 - val_accuracy: 0.8901\n",
      "Epoch 5/20\n",
      "30/30 [==============================] - 0s 17ms/step - loss: 0.1596 - accuracy: 0.9455 - val_loss: 0.2948 - val_accuracy: 0.8840\n",
      "Epoch 6/20\n",
      "30/30 [==============================] - 0s 16ms/step - loss: 0.1343 - accuracy: 0.9561 - val_loss: 0.2920 - val_accuracy: 0.8859\n",
      "Epoch 7/20\n",
      "30/30 [==============================] - 0s 16ms/step - loss: 0.1129 - accuracy: 0.9644 - val_loss: 0.3177 - val_accuracy: 0.8805\n",
      "Epoch 8/20\n",
      "30/30 [==============================] - 0s 16ms/step - loss: 0.1001 - accuracy: 0.9684 - val_loss: 0.3183 - val_accuracy: 0.8841\n",
      "Epoch 9/20\n",
      "30/30 [==============================] - 0s 16ms/step - loss: 0.0864 - accuracy: 0.9740 - val_loss: 0.3347 - val_accuracy: 0.8833\n",
      "Epoch 10/20\n",
      "30/30 [==============================] - 0s 16ms/step - loss: 0.0758 - accuracy: 0.9784 - val_loss: 0.3791 - val_accuracy: 0.8741\n",
      "Epoch 11/20\n",
      "30/30 [==============================] - 0s 16ms/step - loss: 0.0646 - accuracy: 0.9835 - val_loss: 0.3747 - val_accuracy: 0.8799\n",
      "Epoch 12/20\n",
      "30/30 [==============================] - 0s 17ms/step - loss: 0.0572 - accuracy: 0.9853 - val_loss: 0.3961 - val_accuracy: 0.8793\n",
      "Epoch 13/20\n",
      "30/30 [==============================] - 1s 18ms/step - loss: 0.0519 - accuracy: 0.9854 - val_loss: 0.4175 - val_accuracy: 0.8773\n",
      "Epoch 14/20\n",
      "30/30 [==============================] - 1s 19ms/step - loss: 0.0448 - accuracy: 0.9886 - val_loss: 0.4419 - val_accuracy: 0.8743\n",
      "Epoch 15/20\n",
      "30/30 [==============================] - 1s 17ms/step - loss: 0.0326 - accuracy: 0.9937 - val_loss: 0.4639 - val_accuracy: 0.8743\n",
      "Epoch 16/20\n",
      "30/30 [==============================] - 1s 18ms/step - loss: 0.0301 - accuracy: 0.9938 - val_loss: 0.5271 - val_accuracy: 0.8664\n",
      "Epoch 17/20\n",
      "30/30 [==============================] - 1s 21ms/step - loss: 0.0304 - accuracy: 0.9937 - val_loss: 0.5215 - val_accuracy: 0.8727\n",
      "Epoch 18/20\n",
      "30/30 [==============================] - 1s 18ms/step - loss: 0.0197 - accuracy: 0.9972 - val_loss: 0.5531 - val_accuracy: 0.8702\n",
      "Epoch 19/20\n",
      "30/30 [==============================] - 0s 16ms/step - loss: 0.0214 - accuracy: 0.9958 - val_loss: 0.5618 - val_accuracy: 0.8696\n",
      "Epoch 20/20\n",
      "30/30 [==============================] - 0s 15ms/step - loss: 0.0135 - accuracy: 0.9987 - val_loss: 0.5905 - val_accuracy: 0.8700\n"
     ]
    }
   ],
   "source": [
    "from tensorflow.keras.datasets import imdb\n",
    "(train_data, train_labels), _ = imdb.load_data(num_words=10000)\n",
    "\n",
    "def vectorize_sequences(sequences, dimension=10000):\n",
    "    results = np.zeros((len(sequences), dimension))\n",
    "    for i, sequence in enumerate(sequences):\n",
    "        results[i, sequence] = 1.\n",
    "    return results\n",
    "train_data = vectorize_sequences(train_data)\n",
    "\n",
    "model = keras.Sequential([\n",
    "    layers.Dense(16, activation=\"relu\"),\n",
    "    layers.Dense(16, activation=\"relu\"),\n",
    "    layers.Dense(1, activation=\"sigmoid\")\n",
    "])\n",
    "model.compile(optimizer=\"rmsprop\",\n",
    "              loss=\"binary_crossentropy\",\n",
    "              metrics=[\"accuracy\"])\n",
    "history_original = model.fit(train_data, train_labels,\n",
    "                             epochs=20, batch_size=512, validation_split=0.4)"
   ]
  },
  {
   "cell_type": "markdown",
   "metadata": {
    "colab_type": "text"
   },
   "source": [
    "**Version of the model with lower capacity**"
   ]
  },
  {
   "cell_type": "code",
   "execution_count": 11,
   "metadata": {
    "colab_type": "code"
   },
   "outputs": [
    {
     "name": "stdout",
     "output_type": "stream",
     "text": [
      "Epoch 1/20\n",
      "30/30 [==============================] - 2s 26ms/step - loss: 0.6187 - accuracy: 0.6311 - val_loss: 0.5664 - val_accuracy: 0.6993\n",
      "Epoch 2/20\n",
      "30/30 [==============================] - 0s 15ms/step - loss: 0.5321 - accuracy: 0.7799 - val_loss: 0.5228 - val_accuracy: 0.7701\n",
      "Epoch 3/20\n",
      "30/30 [==============================] - 1s 17ms/step - loss: 0.4862 - accuracy: 0.8471 - val_loss: 0.4948 - val_accuracy: 0.8231\n",
      "Epoch 4/20\n",
      "30/30 [==============================] - 0s 16ms/step - loss: 0.4534 - accuracy: 0.8832 - val_loss: 0.4735 - val_accuracy: 0.8617\n",
      "Epoch 5/20\n",
      "30/30 [==============================] - 1s 18ms/step - loss: 0.4252 - accuracy: 0.9083 - val_loss: 0.4621 - val_accuracy: 0.8526\n",
      "Epoch 6/20\n",
      "30/30 [==============================] - 0s 16ms/step - loss: 0.3995 - accuracy: 0.9242 - val_loss: 0.4430 - val_accuracy: 0.8882\n",
      "Epoch 7/20\n",
      "30/30 [==============================] - 0s 16ms/step - loss: 0.3764 - accuracy: 0.9379 - val_loss: 0.4310 - val_accuracy: 0.8765\n",
      "Epoch 8/20\n",
      "30/30 [==============================] - 0s 15ms/step - loss: 0.3512 - accuracy: 0.9469 - val_loss: 0.4179 - val_accuracy: 0.8800\n",
      "Epoch 9/20\n",
      "30/30 [==============================] - 0s 15ms/step - loss: 0.3246 - accuracy: 0.9575 - val_loss: 0.3923 - val_accuracy: 0.8878\n",
      "Epoch 10/20\n",
      "30/30 [==============================] - 0s 14ms/step - loss: 0.2954 - accuracy: 0.9638 - val_loss: 0.3721 - val_accuracy: 0.8879\n",
      "Epoch 11/20\n",
      "30/30 [==============================] - 0s 14ms/step - loss: 0.2613 - accuracy: 0.9681 - val_loss: 0.3465 - val_accuracy: 0.8883\n",
      "Epoch 12/20\n",
      "30/30 [==============================] - 1s 18ms/step - loss: 0.2237 - accuracy: 0.9701 - val_loss: 0.3388 - val_accuracy: 0.8848\n",
      "Epoch 13/20\n",
      "30/30 [==============================] - 1s 21ms/step - loss: 0.1843 - accuracy: 0.9721 - val_loss: 0.3117 - val_accuracy: 0.8862\n",
      "Epoch 14/20\n",
      "30/30 [==============================] - 0s 16ms/step - loss: 0.1523 - accuracy: 0.9745 - val_loss: 0.3020 - val_accuracy: 0.8862\n",
      "Epoch 15/20\n",
      "30/30 [==============================] - 1s 17ms/step - loss: 0.1303 - accuracy: 0.9763 - val_loss: 0.3026 - val_accuracy: 0.8858\n",
      "Epoch 16/20\n",
      "30/30 [==============================] - 0s 14ms/step - loss: 0.1140 - accuracy: 0.9783 - val_loss: 0.3058 - val_accuracy: 0.8854\n",
      "Epoch 17/20\n",
      "30/30 [==============================] - 0s 14ms/step - loss: 0.1015 - accuracy: 0.9802 - val_loss: 0.3138 - val_accuracy: 0.8834\n",
      "Epoch 18/20\n",
      "30/30 [==============================] - 0s 13ms/step - loss: 0.0923 - accuracy: 0.9817 - val_loss: 0.3356 - val_accuracy: 0.8789\n",
      "Epoch 19/20\n",
      "30/30 [==============================] - 0s 16ms/step - loss: 0.0850 - accuracy: 0.9831 - val_loss: 0.3315 - val_accuracy: 0.8803\n",
      "Epoch 20/20\n",
      "30/30 [==============================] - 0s 14ms/step - loss: 0.0776 - accuracy: 0.9849 - val_loss: 0.3412 - val_accuracy: 0.8801\n"
     ]
    }
   ],
   "source": [
    "model = keras.Sequential([\n",
    "    layers.Dense(4, activation=\"relu\"),\n",
    "    layers.Dense(4, activation=\"relu\"),\n",
    "    layers.Dense(1, activation=\"sigmoid\")\n",
    "])\n",
    "model.compile(optimizer=\"rmsprop\",\n",
    "              loss=\"binary_crossentropy\",\n",
    "              metrics=[\"accuracy\"])\n",
    "history_smaller_model = model.fit(\n",
    "    train_data, train_labels,\n",
    "    epochs=20, batch_size=512, validation_split=0.4)"
   ]
  },
  {
   "cell_type": "markdown",
   "metadata": {
    "colab_type": "text"
   },
   "source": [
    "**Version of the model with higher capacity**"
   ]
  },
  {
   "cell_type": "code",
   "execution_count": 12,
   "metadata": {
    "colab_type": "code"
   },
   "outputs": [
    {
     "name": "stdout",
     "output_type": "stream",
     "text": [
      "Epoch 1/20\n",
      "30/30 [==============================] - 5s 143ms/step - loss: 0.5765 - accuracy: 0.7089 - val_loss: 0.4068 - val_accuracy: 0.8232\n",
      "Epoch 2/20\n",
      "30/30 [==============================] - 4s 123ms/step - loss: 0.3303 - accuracy: 0.8620 - val_loss: 0.3141 - val_accuracy: 0.8725\n",
      "Epoch 3/20\n",
      "30/30 [==============================] - 4s 143ms/step - loss: 0.2289 - accuracy: 0.9096 - val_loss: 0.3821 - val_accuracy: 0.8287\n",
      "Epoch 4/20\n",
      "30/30 [==============================] - 5s 166ms/step - loss: 0.1836 - accuracy: 0.9280 - val_loss: 0.2891 - val_accuracy: 0.8799\n",
      "Epoch 5/20\n",
      "30/30 [==============================] - 4s 137ms/step - loss: 0.1353 - accuracy: 0.9486 - val_loss: 0.2902 - val_accuracy: 0.8886\n",
      "Epoch 6/20\n",
      "30/30 [==============================] - 4s 126ms/step - loss: 0.0989 - accuracy: 0.9687 - val_loss: 0.3277 - val_accuracy: 0.8850\n",
      "Epoch 7/20\n",
      "30/30 [==============================] - 4s 131ms/step - loss: 0.0736 - accuracy: 0.9776 - val_loss: 0.3537 - val_accuracy: 0.8859\n",
      "Epoch 8/20\n",
      "30/30 [==============================] - 11s 377ms/step - loss: 0.0814 - accuracy: 0.9769 - val_loss: 0.3681 - val_accuracy: 0.8861\n",
      "Epoch 9/20\n",
      "30/30 [==============================] - 7s 228ms/step - loss: 0.0768 - accuracy: 0.9793 - val_loss: 0.3206 - val_accuracy: 0.8847\n",
      "Epoch 10/20\n",
      "30/30 [==============================] - 4s 142ms/step - loss: 0.0120 - accuracy: 0.9989 - val_loss: 0.4643 - val_accuracy: 0.8807\n",
      "Epoch 11/20\n",
      "30/30 [==============================] - 5s 162ms/step - loss: 0.0786 - accuracy: 0.9807 - val_loss: 0.3612 - val_accuracy: 0.8842\n",
      "Epoch 12/20\n",
      "30/30 [==============================] - 4s 143ms/step - loss: 0.0064 - accuracy: 0.9999 - val_loss: 0.4675 - val_accuracy: 0.8845\n",
      "Epoch 13/20\n",
      "30/30 [==============================] - 4s 142ms/step - loss: 0.0025 - accuracy: 0.9999 - val_loss: 0.5347 - val_accuracy: 0.8842\n",
      "Epoch 14/20\n",
      "30/30 [==============================] - 5s 182ms/step - loss: 0.0041 - accuracy: 0.9990 - val_loss: 1.9137 - val_accuracy: 0.7337\n",
      "Epoch 15/20\n",
      "30/30 [==============================] - 5s 152ms/step - loss: 0.0662 - accuracy: 0.9850 - val_loss: 0.4857 - val_accuracy: 0.8841\n",
      "Epoch 16/20\n",
      "30/30 [==============================] - 4s 124ms/step - loss: 0.0014 - accuracy: 1.0000 - val_loss: 0.5679 - val_accuracy: 0.8849\n",
      "Epoch 17/20\n",
      "30/30 [==============================] - 4s 129ms/step - loss: 7.3639e-04 - accuracy: 1.0000 - val_loss: 0.6317 - val_accuracy: 0.8831\n",
      "Epoch 18/20\n",
      "30/30 [==============================] - 5s 155ms/step - loss: 4.7903e-04 - accuracy: 1.0000 - val_loss: 0.6583 - val_accuracy: 0.8843\n",
      "Epoch 19/20\n",
      "30/30 [==============================] - 4s 140ms/step - loss: 3.2426e-04 - accuracy: 1.0000 - val_loss: 0.6913 - val_accuracy: 0.8843\n",
      "Epoch 20/20\n",
      "30/30 [==============================] - 4s 141ms/step - loss: 2.4196e-04 - accuracy: 1.0000 - val_loss: 0.7051 - val_accuracy: 0.8832\n"
     ]
    }
   ],
   "source": [
    "model = keras.Sequential([\n",
    "    layers.Dense(512, activation=\"relu\"),\n",
    "    layers.Dense(512, activation=\"relu\"),\n",
    "    layers.Dense(1, activation=\"sigmoid\")\n",
    "])\n",
    "model.compile(optimizer=\"rmsprop\",\n",
    "              loss=\"binary_crossentropy\",\n",
    "              metrics=[\"accuracy\"])\n",
    "history_larger_model = model.fit(\n",
    "    train_data, train_labels,\n",
    "    epochs=20, batch_size=512, validation_split=0.4)"
   ]
  },
  {
   "cell_type": "markdown",
   "metadata": {
    "colab_type": "text"
   },
   "source": [
    "#### Adding weight regularization"
   ]
  },
  {
   "cell_type": "markdown",
   "metadata": {
    "colab_type": "text"
   },
   "source": [
    "**Adding L2 weight regularization to the model**"
   ]
  },
  {
   "cell_type": "code",
   "execution_count": 3,
   "metadata": {
    "colab_type": "code"
   },
   "outputs": [
    {
     "ename": "NameError",
     "evalue": "name 'train_data' is not defined",
     "output_type": "error",
     "traceback": [
      "\u001b[0;31m---------------------------------------------------------------------------\u001b[0m",
      "\u001b[0;31mNameError\u001b[0m                                 Traceback (most recent call last)",
      "Cell \u001b[0;32mIn[3], line 15\u001b[0m\n\u001b[1;32m      2\u001b[0m model \u001b[39m=\u001b[39m keras\u001b[39m.\u001b[39mSequential([\n\u001b[1;32m      3\u001b[0m     layers\u001b[39m.\u001b[39mDense(\u001b[39m16\u001b[39m,\n\u001b[1;32m      4\u001b[0m                  kernel_regularizer\u001b[39m=\u001b[39mregularizers\u001b[39m.\u001b[39ml2(\u001b[39m0.002\u001b[39m),\n\u001b[0;32m   (...)\u001b[0m\n\u001b[1;32m      9\u001b[0m     layers\u001b[39m.\u001b[39mDense(\u001b[39m1\u001b[39m, activation\u001b[39m=\u001b[39m\u001b[39m\"\u001b[39m\u001b[39msigmoid\u001b[39m\u001b[39m\"\u001b[39m)\n\u001b[1;32m     10\u001b[0m ])\n\u001b[1;32m     11\u001b[0m model\u001b[39m.\u001b[39mcompile(optimizer\u001b[39m=\u001b[39m\u001b[39m\"\u001b[39m\u001b[39mrmsprop\u001b[39m\u001b[39m\"\u001b[39m,\n\u001b[1;32m     12\u001b[0m               loss\u001b[39m=\u001b[39m\u001b[39m\"\u001b[39m\u001b[39mbinary_crossentropy\u001b[39m\u001b[39m\"\u001b[39m,\n\u001b[1;32m     13\u001b[0m               metrics\u001b[39m=\u001b[39m[\u001b[39m\"\u001b[39m\u001b[39maccuracy\u001b[39m\u001b[39m\"\u001b[39m])\n\u001b[1;32m     14\u001b[0m history_l2_reg \u001b[39m=\u001b[39m model\u001b[39m.\u001b[39mfit(\n\u001b[0;32m---> 15\u001b[0m     train_data, train_labels,\n\u001b[1;32m     16\u001b[0m     epochs\u001b[39m=\u001b[39m\u001b[39m20\u001b[39m, batch_size\u001b[39m=\u001b[39m\u001b[39m512\u001b[39m, validation_split\u001b[39m=\u001b[39m\u001b[39m0.4\u001b[39m)\n",
      "\u001b[0;31mNameError\u001b[0m: name 'train_data' is not defined"
     ]
    }
   ],
   "source": [
    "from tensorflow.keras import regularizers\n",
    "model = keras.Sequential([\n",
    "    layers.Dense(16,\n",
    "                 kernel_regularizer=regularizers.l2(0.002),\n",
    "                 activation=\"relu\"),\n",
    "    layers.Dense(16,\n",
    "                 kernel_regularizer=regularizers.l2(0.002),\n",
    "                 activation=\"relu\"),\n",
    "    layers.Dense(1, activation=\"sigmoid\")\n",
    "])\n",
    "model.compile(optimizer=\"rmsprop\",\n",
    "              loss=\"binary_crossentropy\",\n",
    "              metrics=[\"accuracy\"])\n",
    "history_l2_reg = model.fit(\n",
    "    train_data, train_labels,\n",
    "    epochs=20, batch_size=512, validation_split=0.4)"
   ]
  },
  {
   "cell_type": "markdown",
   "metadata": {
    "colab_type": "text"
   },
   "source": [
    "**Different weight regularizers available in Keras**"
   ]
  },
  {
   "cell_type": "code",
   "execution_count": 14,
   "metadata": {
    "colab_type": "code"
   },
   "outputs": [
    {
     "data": {
      "text/plain": [
       "<keras.regularizers.L1L2 at 0x25b5ab63130>"
      ]
     },
     "execution_count": 14,
     "metadata": {},
     "output_type": "execute_result"
    }
   ],
   "source": [
    "from tensorflow.keras import regularizers\n",
    "regularizers.l1(0.001)\n",
    "regularizers.l1_l2(l1=0.001, l2=0.001)"
   ]
  },
  {
   "cell_type": "markdown",
   "metadata": {
    "colab_type": "text"
   },
   "source": [
    "#### Adding dropout"
   ]
  },
  {
   "cell_type": "markdown",
   "metadata": {
    "colab_type": "text"
   },
   "source": [
    "**Adding dropout to the IMDB model**"
   ]
  },
  {
   "cell_type": "code",
   "execution_count": 15,
   "metadata": {
    "colab_type": "code"
   },
   "outputs": [
    {
     "name": "stdout",
     "output_type": "stream",
     "text": [
      "Epoch 1/20\n",
      "30/30 [==============================] - 1s 27ms/step - loss: 0.6340 - accuracy: 0.6359 - val_loss: 0.5270 - val_accuracy: 0.8255\n",
      "Epoch 2/20\n",
      "30/30 [==============================] - 0s 17ms/step - loss: 0.5141 - accuracy: 0.7668 - val_loss: 0.4140 - val_accuracy: 0.8680\n",
      "Epoch 3/20\n",
      "30/30 [==============================] - 0s 16ms/step - loss: 0.4385 - accuracy: 0.8180 - val_loss: 0.3569 - val_accuracy: 0.8706\n",
      "Epoch 4/20\n",
      "30/30 [==============================] - 0s 17ms/step - loss: 0.3688 - accuracy: 0.8553 - val_loss: 0.3130 - val_accuracy: 0.8803\n",
      "Epoch 5/20\n",
      "30/30 [==============================] - 0s 16ms/step - loss: 0.3199 - accuracy: 0.8852 - val_loss: 0.2873 - val_accuracy: 0.8849\n",
      "Epoch 6/20\n",
      "30/30 [==============================] - 1s 19ms/step - loss: 0.2752 - accuracy: 0.9033 - val_loss: 0.2745 - val_accuracy: 0.8922\n",
      "Epoch 7/20\n",
      "30/30 [==============================] - 0s 16ms/step - loss: 0.2462 - accuracy: 0.9179 - val_loss: 0.2759 - val_accuracy: 0.8926\n",
      "Epoch 8/20\n",
      "30/30 [==============================] - 1s 18ms/step - loss: 0.2162 - accuracy: 0.9279 - val_loss: 0.2861 - val_accuracy: 0.8916\n",
      "Epoch 9/20\n",
      "30/30 [==============================] - 0s 16ms/step - loss: 0.1953 - accuracy: 0.9347 - val_loss: 0.2908 - val_accuracy: 0.8886\n",
      "Epoch 10/20\n",
      "30/30 [==============================] - 1s 17ms/step - loss: 0.1706 - accuracy: 0.9435 - val_loss: 0.3079 - val_accuracy: 0.8909\n",
      "Epoch 11/20\n",
      "30/30 [==============================] - 0s 16ms/step - loss: 0.1535 - accuracy: 0.9507 - val_loss: 0.3227 - val_accuracy: 0.8899\n",
      "Epoch 12/20\n",
      "30/30 [==============================] - 0s 17ms/step - loss: 0.1457 - accuracy: 0.9541 - val_loss: 0.3361 - val_accuracy: 0.8894\n",
      "Epoch 13/20\n",
      "30/30 [==============================] - 0s 16ms/step - loss: 0.1301 - accuracy: 0.9579 - val_loss: 0.3865 - val_accuracy: 0.8873\n",
      "Epoch 14/20\n",
      "30/30 [==============================] - 0s 17ms/step - loss: 0.1164 - accuracy: 0.9605 - val_loss: 0.3929 - val_accuracy: 0.8870\n",
      "Epoch 15/20\n",
      "30/30 [==============================] - 0s 16ms/step - loss: 0.1097 - accuracy: 0.9622 - val_loss: 0.4132 - val_accuracy: 0.8879\n",
      "Epoch 16/20\n",
      "30/30 [==============================] - 0s 17ms/step - loss: 0.1035 - accuracy: 0.9651 - val_loss: 0.4374 - val_accuracy: 0.8861\n",
      "Epoch 17/20\n",
      "30/30 [==============================] - 0s 16ms/step - loss: 0.0899 - accuracy: 0.9695 - val_loss: 0.4581 - val_accuracy: 0.8865\n",
      "Epoch 18/20\n",
      "30/30 [==============================] - 0s 16ms/step - loss: 0.0867 - accuracy: 0.9712 - val_loss: 0.4934 - val_accuracy: 0.8852\n",
      "Epoch 19/20\n",
      "30/30 [==============================] - 0s 16ms/step - loss: 0.0834 - accuracy: 0.9705 - val_loss: 0.5034 - val_accuracy: 0.8848\n",
      "Epoch 20/20\n",
      "30/30 [==============================] - 0s 16ms/step - loss: 0.0801 - accuracy: 0.9722 - val_loss: 0.5111 - val_accuracy: 0.8822\n"
     ]
    }
   ],
   "source": [
    "model = keras.Sequential([\n",
    "    layers.Dense(16, activation=\"relu\"),\n",
    "    layers.Dropout(0.5),\n",
    "    layers.Dense(16, activation=\"relu\"),\n",
    "    layers.Dropout(0.5),\n",
    "    layers.Dense(1, activation=\"sigmoid\")\n",
    "])\n",
    "model.compile(optimizer=\"rmsprop\",\n",
    "              loss=\"binary_crossentropy\",\n",
    "              metrics=[\"accuracy\"])\n",
    "history_dropout = model.fit(\n",
    "    train_data, train_labels,\n",
    "    epochs=20, batch_size=512, validation_split=0.4)"
   ]
  },
  {
   "cell_type": "markdown",
   "metadata": {
    "colab_type": "text"
   },
   "source": [
    "## Summary"
   ]
  }
 ],
 "metadata": {
  "colab": {
   "collapsed_sections": [],
   "name": "chapter05_fundamentals-of-ml.i",
   "private_outputs": false,
   "provenance": [],
   "toc_visible": true
  },
  "kernelspec": {
   "display_name": "Python 3",
   "language": "python",
   "name": "python3"
  },
  "language_info": {
   "codemirror_mode": {
    "name": "ipython",
    "version": 3
   },
   "file_extension": ".py",
   "mimetype": "text/x-python",
   "name": "python",
   "nbconvert_exporter": "python",
   "pygments_lexer": "ipython3",
   "version": "3.11.2"
  },
  "vscode": {
   "interpreter": {
    "hash": "2d4e9b9c84dab3e1662173f95b81bd7f8a551068d04f5f3c42d164db7312a928"
   }
  }
 },
 "nbformat": 4,
 "nbformat_minor": 0
}
